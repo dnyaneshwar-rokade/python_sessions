{
 "cells": [
  {
   "cell_type": "markdown",
   "id": "143c5875-be10-4666-b8df-2b3ac9ef9d55",
   "metadata": {},
   "source": [
    "# Lecture 1\n",
    "#### While Loop"
   ]
  },
  {
   "cell_type": "code",
   "execution_count": null,
   "id": "1d9a3ffe-a144-4d7d-b654-6b821388ed9e",
   "metadata": {},
   "outputs": [],
   "source": [
    "# in any loop we need three things\n",
    "\n",
    "- Intialization\n",
    "- condition\n",
    "- increment/decrement"
   ]
  },
  {
   "cell_type": "code",
   "execution_count": 8,
   "id": "87bed8a9-c174-4bc2-8a87-01e1b5af1eb6",
   "metadata": {},
   "outputs": [],
   "source": [
    "# for i in range(1,10)  #in for loop we were writing above three things in a single line.. \n",
    "\n",
    "# in while loop we need to provide all three are individually"
   ]
  },
  {
   "cell_type": "code",
   "execution_count": null,
   "id": "d842453d-215c-47db-b4a0-c222587b3568",
   "metadata": {},
   "outputs": [],
   "source": [
    "# i want to print first 10 numbers 0 to 9\n",
    "\n",
    "# initial point = 0\n",
    "\n",
    "# increment/decrement = increment\n",
    "\n",
    "# condition : whenever i will see value 9 then i will stop my loop"
   ]
  },
  {
   "cell_type": "code",
   "execution_count": null,
   "id": "9a7be958-10e5-49c2-8090-ec3901e5de28",
   "metadata": {},
   "outputs": [],
   "source": [
    "# wrapper\n",
    "# remember one thing whenever you will need to use while loop always follow/create this below format first to avoid mistake.\n",
    "# cause 90% of the times below format is used for while loop.\n",
    "\n",
    "\n",
    "i=0        #initial point\n",
    "while <condition>:\n",
    "    #st1\n",
    "    #st2\n",
    "    #st3\n",
    "\n",
    "    i=i+1\n",
    "    "
   ]
  },
  {
   "cell_type": "code",
   "execution_count": 10,
   "id": "d90e6b40-a8ff-4aaa-abac-58ffeb006951",
   "metadata": {},
   "outputs": [
    {
     "name": "stdout",
     "output_type": "stream",
     "text": [
      "0 1 2 3 4 5 6 7 8 9 "
     ]
    }
   ],
   "source": [
    "# i want to print first 10 numbers 0 to 9.... first write the code in for loop\n",
    "for i in range(10):print(i,end=' ')"
   ]
  },
  {
   "cell_type": "code",
   "execution_count": 12,
   "id": "947ba77d-6207-4604-84ee-8ad02fae368b",
   "metadata": {},
   "outputs": [
    {
     "name": "stdout",
     "output_type": "stream",
     "text": [
      "0 1 2 3 4 5 6 7 8 9 "
     ]
    }
   ],
   "source": [
    "i=0\n",
    "while i<10:           #write any condition here but it must be true to enter in loop\n",
    "    print(i,end=' ')\n",
    "    i=i+1\n",
    "# tell some true conditions based on i=0\n",
    "# i<100\n",
    "# i>=0\n",
    "# i<10\n",
    "# i>-1\n",
    "# i!=1"
   ]
  },
  {
   "cell_type": "code",
   "execution_count": null,
   "id": "439b9b58-1109-447d-b6f9-db288bd317a7",
   "metadata": {},
   "outputs": [],
   "source": [
    "i=0\n",
    "while i>=0:           \n",
    "    print(i,end=' ')\n",
    "    i=i+1\n",
    "\n",
    "# step-1:   i=0   0>=0  True    print(0)   i=0+1=1\n",
    "# step-2:   i=1   1>=0   True   print(1)   i=1+1=2\n",
    "# step-3:   i=2   2>=0   True   print(2)   i=2+1=3\n",
    "# step-4:   i=3   3>=0   True   print(3)   i=3+1=4\n",
    "# step-5:   i=4   4>=0   True   print(4)   i=4+1=5\n",
    "#\n",
    "#\n",
    "#this is a infinite loop this loop will never ends..so be carefull while writing condition"
   ]
  },
  {
   "cell_type": "code",
   "execution_count": 16,
   "id": "88d1ade9-c353-4460-807c-18778985d960",
   "metadata": {},
   "outputs": [
    {
     "name": "stdout",
     "output_type": "stream",
     "text": [
      "0 1 2 3 4 5 6 7 8 9 "
     ]
    }
   ],
   "source": [
    "i=0\n",
    "while i<10:           \n",
    "    print(i,end=' ')\n",
    "    i=i+1"
   ]
  },
  {
   "cell_type": "markdown",
   "id": "1cb5d8c8-5eba-458a-b96d-3905bddc127b",
   "metadata": {},
   "source": [
    "- if you want to avoid infinite loop, give proper a condition\n",
    "- based on given question\n",
    "- even though the condition is valid, you can enter inside the loop\n",
    "- but you never come out of the loop"
   ]
  },
  {
   "cell_type": "code",
   "execution_count": 19,
   "id": "e1f586c5-8138-4378-9c61-89f51826f3c7",
   "metadata": {},
   "outputs": [
    {
     "name": "stdout",
     "output_type": "stream",
     "text": [
      "10 11 12 13 14 15 16 17 18 19 20 "
     ]
    }
   ],
   "source": [
    "# print 10 t0 20\n",
    "i=10\n",
    "while i<21:\n",
    "    print(i,end=' ')\n",
    "    i+=1"
   ]
  },
  {
   "cell_type": "code",
   "execution_count": 25,
   "id": "7a8f4b55-4a7b-4820-9672-7a48529b5fb9",
   "metadata": {},
   "outputs": [
    {
     "name": "stdout",
     "output_type": "stream",
     "text": [
      "-1 -2 -3 -4 -5 -6 -7 -8 -9 -10 "
     ]
    }
   ],
   "source": [
    "# print -1 to -10\n",
    "i=-1\n",
    "while i>-11:\n",
    "    print(i,end=' ')\n",
    "    i-=1"
   ]
  },
  {
   "cell_type": "code",
   "execution_count": 29,
   "id": "6f435196-fd98-421e-9866-33087f06e8d5",
   "metadata": {},
   "outputs": [
    {
     "name": "stdout",
     "output_type": "stream",
     "text": [
      "-1 -2 -3 -4 -5 -6 -7 -8 -9 -10 "
     ]
    }
   ],
   "source": [
    "# if you haven't understood the condition in a question then you can use True and break to enter in loop and exit from loop.\n",
    "\n",
    "i=-1\n",
    "while True:\n",
    "    print(i,end=' ')\n",
    "    i-=1\n",
    "    if i==-11:       #whenever you think you are going in infinite loop then provide a if condition after that use break to stop it.\n",
    "        break    "
   ]
  },
  {
   "cell_type": "code",
   "execution_count": null,
   "id": "ce26879b-4781-4bd0-b7e0-72e5f3826606",
   "metadata": {},
   "outputs": [],
   "source": [
    "# by mistake you provided not a valid condition\n",
    "# then your loop is going infinite\n",
    "# then provide a if condition inside the loop\n",
    "\n",
    "# suppose you are not goot at providing conditions\n",
    "# then apply while True === then provide the if condition\n",
    "# inside the loop"
   ]
  },
  {
   "cell_type": "code",
   "execution_count": 39,
   "id": "80ad8c42-e463-48a4-ba6d-a285d1776064",
   "metadata": {},
   "outputs": [
    {
     "name": "stdout",
     "output_type": "stream",
     "text": [
      "0 1 2 3 4 5 6 7 8 9 0 1 2 3 4 5 6 7 8 9 0 1 2 3 4 5 6 7 8 9 "
     ]
    }
   ],
   "source": [
    "########################## infinite loop apply break ###############################\n",
    "\n",
    "i=0\n",
    "while i>=0:           \n",
    "    print(i,end=' ')\n",
    "    i=i+1\n",
    "    if i==10:break\n",
    "\n",
    "########################## with True ###############################\n",
    "\n",
    "i=0\n",
    "while True:           \n",
    "    print(i,end=' ')\n",
    "    i=i+1\n",
    "    if i==10:break\n",
    "\n",
    "###################### if you know the condition ######################\n",
    "i=0\n",
    "while i<10:           \n",
    "    print(i,end=' ')\n",
    "    i=i+1"
   ]
  },
  {
   "cell_type": "code",
   "execution_count": 55,
   "id": "6d3f0e09-af88-4758-83ff-1afd0ef24d00",
   "metadata": {},
   "outputs": [
    {
     "name": "stdout",
     "output_type": "stream",
     "text": [
      "Enter a number:  1\n"
     ]
    },
    {
     "name": "stdout",
     "output_type": "stream",
     "text": [
      "The Square of 1 number is 1\n"
     ]
    },
    {
     "name": "stdout",
     "output_type": "stream",
     "text": [
      "Enter a number:  2\n"
     ]
    },
    {
     "name": "stdout",
     "output_type": "stream",
     "text": [
      "The Square of 2 number is 4\n"
     ]
    },
    {
     "name": "stdout",
     "output_type": "stream",
     "text": [
      "Enter a number:  3\n"
     ]
    },
    {
     "name": "stdout",
     "output_type": "stream",
     "text": [
      "The Square of 3 number is 9\n"
     ]
    },
    {
     "name": "stdout",
     "output_type": "stream",
     "text": [
      "Enter a number:  4\n"
     ]
    },
    {
     "name": "stdout",
     "output_type": "stream",
     "text": [
      "The Square of 4 number is 16\n"
     ]
    },
    {
     "name": "stdout",
     "output_type": "stream",
     "text": [
      "Enter a number:  5\n"
     ]
    },
    {
     "name": "stdout",
     "output_type": "stream",
     "text": [
      "The Square of 5 number is 25\n"
     ]
    }
   ],
   "source": [
    "# ask the user enter a number 5 times\n",
    "# print the square of the number\n",
    "# first do with for loop\n",
    "# then with while loop\n",
    "'''\n",
    "for i in range(5):\n",
    "    num=eval(input('Enter a number: '))\n",
    "    print('The Square of {} number is {}'.format(num,num*num))\n",
    "'''\n",
    "initial_point=0\n",
    "while initial_point<5:\n",
    "    num=eval(input('Enter a number: '))\n",
    "    print('The Square of {} number is {}'.format(num,num*num))\n",
    "    initial_point=initial_point+1"
   ]
  },
  {
   "cell_type": "code",
   "execution_count": 57,
   "id": "e65277c0-86a1-4634-ac38-db72c77f1e89",
   "metadata": {},
   "outputs": [
    {
     "name": "stdout",
     "output_type": "stream",
     "text": [
      "Enter a number:  2\n"
     ]
    },
    {
     "name": "stdout",
     "output_type": "stream",
     "text": [
      "The Square of 2 number is 4\n"
     ]
    },
    {
     "name": "stdout",
     "output_type": "stream",
     "text": [
      "Enter a number:  4\n"
     ]
    },
    {
     "name": "stdout",
     "output_type": "stream",
     "text": [
      "The Square of 4 number is 16\n"
     ]
    },
    {
     "name": "stdout",
     "output_type": "stream",
     "text": [
      "Enter a number:  3\n"
     ]
    },
    {
     "name": "stdout",
     "output_type": "stream",
     "text": [
      "The Square of 3 number is 9\n"
     ]
    },
    {
     "name": "stdout",
     "output_type": "stream",
     "text": [
      "Enter a number:  5\n"
     ]
    },
    {
     "name": "stdout",
     "output_type": "stream",
     "text": [
      "The Square of 5 number is 25\n"
     ]
    },
    {
     "name": "stdout",
     "output_type": "stream",
     "text": [
      "Enter a number:  9\n"
     ]
    },
    {
     "name": "stdout",
     "output_type": "stream",
     "text": [
      "The Square of 9 number is 81\n"
     ]
    }
   ],
   "source": [
    "i=0\n",
    "while True:\n",
    "    num=eval(input('Enter a number: '))\n",
    "    print('The Square of {} number is {}'.format(num,num*num))\n",
    "    i+=1\n",
    "    if i==5:break"
   ]
  },
  {
   "cell_type": "code",
   "execution_count": 67,
   "id": "dbe3bc39-cffc-4660-aca2-f40b693d151e",
   "metadata": {},
   "outputs": [
    {
     "name": "stdout",
     "output_type": "stream",
     "text": [
      "The Square of 12 number is 144\n",
      "The Square of 15 number is 225\n",
      "The Square of 19 number is 361\n",
      "The Square of 10 number is 100\n",
      "The Square of 17 number is 289\n"
     ]
    }
   ],
   "source": [
    "# wap take a random number btw 10 to 20, five times you need to take\n",
    "# and print the square of the number\n",
    "\n",
    "from random import randint\n",
    "\n",
    "i=0\n",
    "while i<=4:\n",
    "    r=randint(10,20)\n",
    "    print('The Square of {} number is {}'.format(r,r*r))\n",
    "    i+=1"
   ]
  },
  {
   "cell_type": "code",
   "execution_count": 71,
   "id": "94bad080-3fa2-4f96-87d2-4d6c3a51989f",
   "metadata": {},
   "outputs": [
    {
     "name": "stdout",
     "output_type": "stream",
     "text": [
      "10 is even number\n",
      "11 is odd number\n",
      "12 is even number\n",
      "13 is odd number\n",
      "14 is even number\n",
      "15 is odd number\n",
      "16 is even number\n",
      "17 is odd number\n",
      "18 is even number\n",
      "19 is odd number\n",
      "20 is even number\n"
     ]
    }
   ],
   "source": [
    "#wap ask the user print a number is an even or odd\n",
    "#consider number from 10 to 20\n",
    "# for loop\n",
    "# while loop\n",
    "\n",
    "######## for loop ###########\n",
    "'''\n",
    "for i in range(10,21):\n",
    "    if i%2==0:\n",
    "        print('{} is even number'.format(i))\n",
    "    else:\n",
    "        print('{} is odd number'.format(i))\n",
    "'''\n",
    "######## while loop ##########\n",
    "\n",
    "i=10\n",
    "while i<=20:\n",
    "    if i%2==0:\n",
    "        print('{} is even number'.format(i))\n",
    "    else:\n",
    "        print('{} is odd number'.format(i))\n",
    "    i+=1"
   ]
  },
  {
   "cell_type": "code",
   "execution_count": 79,
   "id": "57db0330-caf8-4cd0-9af5-9ef93e4b5231",
   "metadata": {},
   "outputs": [
    {
     "name": "stdout",
     "output_type": "stream",
     "text": [
      "11 is odd number\n",
      "12 is even number\n",
      "13 is odd number\n",
      "14 is even number\n",
      "15 is odd number\n",
      "16 is even number\n",
      "17 is odd number\n",
      "18 is even number\n",
      "19 is odd number\n",
      "20 is even number\n",
      "21 is odd number\n"
     ]
    }
   ],
   "source": [
    "i=10\n",
    "while i<21:\n",
    "    i=i+1                  # this code will fail to give correct output. cause python compiler uses step by step process remember it.\n",
    "    if i%2==0:\n",
    "        print('{} is even number'.format(i))\n",
    "    else:\n",
    "        print('{} is odd number'.format(i))\n",
    "# this code will start from 11 cause compiler is step by step process so it will start code from 11 till 21."
   ]
  },
  {
   "cell_type": "code",
   "execution_count": 81,
   "id": "168eebdd-f28b-4e5a-80fb-ffcdc9ef420d",
   "metadata": {},
   "outputs": [
    {
     "name": "stdout",
     "output_type": "stream",
     "text": [
      "sum is 55\n"
     ]
    }
   ],
   "source": [
    "# print sum of first 10 number.\n",
    "# ans=55\n",
    "\n",
    "# for \n",
    "# while\n",
    "\n",
    "########### for loop #############\n",
    "summ=0\n",
    "for i in range(1,11):\n",
    "    summ=summ+i\n",
    "print('sum is {}'.format(summ))"
   ]
  },
  {
   "cell_type": "code",
   "execution_count": 87,
   "id": "793e37c0-ca66-4ae6-aad5-8678e47f68a7",
   "metadata": {},
   "outputs": [
    {
     "name": "stdout",
     "output_type": "stream",
     "text": [
      "sum is 55\n"
     ]
    }
   ],
   "source": [
    "######### while loop ###############\n",
    "i=1\n",
    "summ=0\n",
    "while i<=10:\n",
    "    summ=summ+i\n",
    "    i+=1\n",
    "print('sum is {}'.format(summ))"
   ]
  },
  {
   "cell_type": "code",
   "execution_count": 97,
   "id": "bed0d92a-43d8-476e-94cd-91419b3d6110",
   "metadata": {},
   "outputs": [
    {
     "name": "stdout",
     "output_type": "stream",
     "text": [
      "589\n"
     ]
    }
   ],
   "source": [
    "# wap get 10 random numbers btw 1 to 100\n",
    "# and sum those numbers\n",
    "\n",
    "# using for loop\n",
    "import random\n",
    "summ=0\n",
    "for i in range(10):\n",
    "    r=random.randint(1,100)\n",
    "    summ=summ+r\n",
    "print(summ)"
   ]
  },
  {
   "cell_type": "code",
   "execution_count": 99,
   "id": "3c2c4dd5-f971-47fb-8203-53d291987898",
   "metadata": {},
   "outputs": [
    {
     "name": "stdout",
     "output_type": "stream",
     "text": [
      "465\n"
     ]
    }
   ],
   "source": [
    "import random\n",
    "i=0\n",
    "summ=0\n",
    "while i<=10:\n",
    "    r=random.randint(1,100)\n",
    "    summ=summ+r\n",
    "    i+=1\n",
    "print(summ)"
   ]
  },
  {
   "cell_type": "code",
   "execution_count": 123,
   "id": "f50d5a85-577a-4dc9-8268-733c5e963286",
   "metadata": {},
   "outputs": [
    {
     "name": "stdout",
     "output_type": "stream",
     "text": [
      "5\n"
     ]
    }
   ],
   "source": [
    "# wap ask the user get a 10 random number btw 10 to 100\n",
    "# count how many are greater than 50\n",
    "\n",
    "import random\n",
    "count=0\n",
    "\n",
    "for r in range(10):\n",
    "    r=random.randint(10,100)\n",
    "    if r>=50:\n",
    "        count=count+1\n",
    "print(count)"
   ]
  },
  {
   "cell_type": "code",
   "execution_count": 121,
   "id": "3f24d698-278d-4664-af70-9be7a7d54538",
   "metadata": {},
   "outputs": [
    {
     "name": "stdout",
     "output_type": "stream",
     "text": [
      "7\n"
     ]
    }
   ],
   "source": [
    "import random\n",
    "i=0\n",
    "count=0\n",
    "while i<10:\n",
    "    r=random.randint(10,100)\n",
    "    if r>=50:\n",
    "        count=count+1\n",
    "    i=i+1\n",
    "print(count)"
   ]
  },
  {
   "cell_type": "code",
   "execution_count": 136,
   "id": "e0348167-a897-4710-86f6-221688078845",
   "metadata": {},
   "outputs": [
    {
     "name": "stdout",
     "output_type": "stream",
     "text": [
      "10\n"
     ]
    }
   ],
   "source": [
    "# wap ask the user get a 10 random number btw 0 to 100\n",
    "# count how many are greater than 50 and equal=0\n",
    "\n",
    "import random\n",
    "count=0\n",
    "\n",
    "for r in range(10):\n",
    "    r=random.randint(0,100)\n",
    "    if r>=5 or r==0:\n",
    "        count=count+1\n",
    "print(count)"
   ]
  },
  {
   "cell_type": "code",
   "execution_count": 142,
   "id": "07dfdf8c-c157-47a3-a773-a651cc0b6fda",
   "metadata": {},
   "outputs": [
    {
     "name": "stdout",
     "output_type": "stream",
     "text": [
      "10\n"
     ]
    }
   ],
   "source": [
    "i=0\n",
    "count=0\n",
    "while i<10:\n",
    "    r=random.randint(0,100)\n",
    "    if r>=5 or r==0:\n",
    "        count=count+1\n",
    "    i=i+1\n",
    "print(count)"
   ]
  },
  {
   "cell_type": "code",
   "execution_count": 156,
   "id": "7ba43f1c-68ec-413b-8d28-64249de27ef0",
   "metadata": {},
   "outputs": [
    {
     "name": "stdout",
     "output_type": "stream",
     "text": [
      "4 4 4 /\n",
      "3\n",
      "/\n",
      "0\n"
     ]
    }
   ],
   "source": [
    "# wap ask the user get a 10 random number btw 0 to 10\n",
    "# count how many are greater than 5\n",
    "# how many are equal = 0\n",
    "\n",
    "i=count_5=count_0=0           #this is a new approch to initialize a value to a variable.\n",
    "while i<10:\n",
    "    r=random.randint(0,10)\n",
    "    if r>5:\n",
    "        print(num,end=' ')\n",
    "        count_5+=1\n",
    "    elif r==0:\n",
    "        print(num,end=' ')\n",
    "        count_0+=1\n",
    "    i=i+1\n",
    "print('/')\n",
    "print(count_5)\n",
    "print('/')\n",
    "print(count_0)"
   ]
  },
  {
   "cell_type": "code",
   "execution_count": null,
   "id": "2faa43f3-fb93-470f-8a7f-9d6857c53b89",
   "metadata": {},
   "outputs": [],
   "source": [
    "ini_bal=200\n",
    "e_wallet=5000\n",
    "try:\n",
    "  curr_bal=eval(input('enter your current balance: '))\n",
    "  print('-'*60)\n",
    "  ini_bal=ini_bal+curr_bal\n",
    "\n",
    "  if curr_bal<1000:\n",
    "    print('your account balance is: ',ini_bal)\n",
    "    print('+'*60)\n",
    "    print(\"You still do not have enough money to start playing.\")\n",
    "    print('+'*60)\n",
    "\n",
    "    while ini_bal<1000:\n",
    "      with_amt=eval(input(\"enter amount to withdraw: \"))\n",
    "      e_wallet=e_wallet-with_amt\n",
    "      ini_bal=ini_bal+with_amt\n",
    "      print('='*60)\n",
    "      print('your account balance is: ',ini_bal)\n",
    "      print('='*60)\n",
    "      print(\"You still do not have enough money to start playing withdraw more amount.\")\n",
    "      print('='*60)\n",
    "\n",
    "      if ini_bal>=1000:\n",
    "        print('your account balance is: ',ini_bal)\n",
    "        print('='*60)\n",
    "        print('your remaining e-wallet balance is: ',e_wallet)\n",
    "        print('='*60)\n",
    "        print(\"Now, you are ready to play the game.\")\n",
    "        print('-+-'*20)\n",
    "  else:\n",
    "    ini_bal=ini_bal+curr_bal\n",
    "    print('your account balance is: ',ini_bal)\n",
    "    print('+'*60)\n",
    "    print('your remaining e-wallet balance is: ',e_wallet)\n",
    "    print('+'*60)\n",
    "    print(\"Now, you are ready to play the game.\")\n",
    "    print('-+-'*20)\n",
    "except Exception as e:\n",
    "  print('please try again invalid input: ',e)"
   ]
  }
 ],
 "metadata": {
  "kernelspec": {
   "display_name": "Python 3 (ipykernel)",
   "language": "python",
   "name": "python3"
  },
  "language_info": {
   "codemirror_mode": {
    "name": "ipython",
    "version": 3
   },
   "file_extension": ".py",
   "mimetype": "text/x-python",
   "name": "python",
   "nbconvert_exporter": "python",
   "pygments_lexer": "ipython3",
   "version": "3.12.4"
  }
 },
 "nbformat": 4,
 "nbformat_minor": 5
}
