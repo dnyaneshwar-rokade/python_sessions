{
 "cells": [
  {
   "cell_type": "markdown",
   "id": "d79769a3-6cfd-4b75-9689-120bfcc053e0",
   "metadata": {},
   "source": [
    "### Data Types\n",
    "\n",
    "- integer\n",
    "      int\n",
    "\n",
    "- float\n",
    "      float\n",
    "\n",
    "- strings\n",
    "      str\n",
    "\n",
    "- boolean\n",
    "      bool\n",
    "\n",
    "- complex conjugate\n",
    "     complex"
   ]
  },
  {
   "cell_type": "code",
   "execution_count": null,
   "id": "70ba9464-fde5-43a3-a49e-fe0f55366818",
   "metadata": {},
   "outputs": [],
   "source": []
  },
  {
   "cell_type": "code",
   "execution_count": null,
   "id": "6d64cbad-7491-4f88-a497-64f306a41125",
   "metadata": {},
   "outputs": [],
   "source": []
  },
  {
   "cell_type": "markdown",
   "id": "7907d53a-65f1-4dc2-b319-cfb527f7626e",
   "metadata": {},
   "source": [
    "$integer$"
   ]
  },
  {
   "cell_type": "code",
   "execution_count": 8,
   "id": "87068aef-0092-48b7-bbd4-a19f7934f1ff",
   "metadata": {},
   "outputs": [
    {
     "name": "stdout",
     "output_type": "stream",
     "text": [
      "100\n"
     ]
    },
    {
     "data": {
      "text/plain": [
       "int"
      ]
     },
     "execution_count": 8,
     "metadata": {},
     "output_type": "execute_result"
    }
   ],
   "source": [
    "number=100\n",
    "print(number)\n",
    "type(number) #type of the variable : type"
   ]
  },
  {
   "cell_type": "markdown",
   "id": "e3e02234-ff16-4567-9d4d-701cdc0672ca",
   "metadata": {},
   "source": [
    "# In maths we have different number system \n",
    "- decimal\n",
    "- binary\n",
    "- octal\n",
    "- hexa\n"
   ]
  },
  {
   "cell_type": "markdown",
   "id": "478e025b-42f0-4bc3-927b-400a08158e59",
   "metadata": {},
   "source": [
    "**Binary**\n",
    "- Bi means 2\n",
    "- so the base is also 2\n",
    "- 0 1 2 3 4 5 6 7 8 9\n",
    "- here we will only use two digits: 0 and 1\n",
    "- representation is : 0b<combinations of 0 and 1>\n",
    "- ex 0b110 , 0B011101\n"
   ]
  },
  {
   "cell_type": "code",
   "execution_count": 12,
   "id": "d2a2823e-0f4a-43bd-9a38-6c67e472c7f1",
   "metadata": {},
   "outputs": [
    {
     "data": {
      "text/plain": [
       "7"
      ]
     },
     "execution_count": 12,
     "metadata": {},
     "output_type": "execute_result"
    }
   ],
   "source": [
    "0b111\n",
    "#python output will come as in decimal format only"
   ]
  },
  {
   "cell_type": "markdown",
   "id": "fba49cf7-75af-490e-a8cd-a1a0820b9028",
   "metadata": {},
   "source": [
    "## how binary works ?? ##\n",
    "\n",
    "ex. 111 ====> we have already seen that bi means 2 so.. \n",
    "\n",
    "        ==> 2*2(the power), 2*1, 2*0( to the 0s output will be 1) ==> multiply it with 111\n",
    "        ====> 4*1 + 2*1 + 1*1 = 7 \n",
    "        \n",
    "if you did not understood it.. then watch 19th oct lec n-it from 48minutes"
   ]
  },
  {
   "cell_type": "markdown",
   "id": "0471fd81-259d-495d-8c75-e05a20f6bc26",
   "metadata": {},
   "source": [
    "# 3 digits language is nothing but = 4 2 1\n",
    "# 4 digits = 8 4 2 1\n",
    "# 5 digits = 16 8 4 2 1\n",
    "****************************************\n",
    "4  2  1        decimal output\n",
    "****************************************\n",
    "0  0  0   0\n",
    "0  0  1   1\n",
    "0  1  0   2\n",
    "0  1  1   3\n",
    "1  0  0   4\n",
    "1  0  1   5\n",
    "1  1  0   6\n",
    "1  1  1   7\n",
    "\n",
    "4= 4 times 0 and 4 times 1 will come\n",
    "2= 2 times 0 and 2 time 1 will come\n",
    "1= 1 times 0 and 1 time 1 will come\n",
    "\n",
    "ON = 1\n",
    "OFF = 0\n",
    "\n",
    "Note = wherever there is on postion then do addition"
   ]
  },
  {
   "cell_type": "code",
   "execution_count": 17,
   "id": "140b616e-d08b-4f2e-92e8-84438eb1a9a8",
   "metadata": {},
   "outputs": [
    {
     "data": {
      "text/plain": [
       "14"
      ]
     },
     "execution_count": 17,
     "metadata": {},
     "output_type": "execute_result"
    }
   ],
   "source": [
    "0b1110"
   ]
  },
  {
   "cell_type": "code",
   "execution_count": 19,
   "id": "fc71aac2-adce-4a33-82eb-af652f612cf1",
   "metadata": {},
   "outputs": [
    {
     "data": {
      "text/plain": [
       "9"
      ]
     },
     "execution_count": 19,
     "metadata": {},
     "output_type": "execute_result"
    }
   ],
   "source": [
    "0b1001"
   ]
  },
  {
   "cell_type": "markdown",
   "id": "64c713c1-6412-4917-8488-de25ed3215ce",
   "metadata": {},
   "source": [
    "**octa**\n",
    "- octa means 8\n",
    "- so the base is 8\n",
    "- 0 1 2 3 4 5 6 7 8 9\n",
    "- here will use only first 8 digits: 0,1,2,3,4,5,6,7(0 to 7 means 8 digits)\n",
    "- representation is: 0o<combinations of 0o<combinations of 0 to 7>\n",
    "- 0o123 , 0o7564"
   ]
  },
  {
   "cell_type": "code",
   "execution_count": 22,
   "id": "b6dd972b-9107-4c73-99ea-04f6d34e2870",
   "metadata": {},
   "outputs": [
    {
     "data": {
      "text/plain": [
       "83"
      ]
     },
     "execution_count": 22,
     "metadata": {},
     "output_type": "execute_result"
    }
   ],
   "source": [
    "0o123"
   ]
  },
  {
   "cell_type": "markdown",
   "id": "461c2e16-914d-40d7-b559-51111464c302",
   "metadata": {},
   "source": [
    "## how octa works ?? ##\n",
    "\n",
    "123 ==> 8*8(power 2) , 8*1(power 1) , 8*0 ==> 64*1 + 8*2 + 1*3 ==> 83"
   ]
  },
  {
   "cell_type": "code",
   "execution_count": 26,
   "id": "83ba6922-3619-4e80-bf9c-673e8743997d",
   "metadata": {},
   "outputs": [
    {
     "data": {
      "text/plain": [
       "494"
      ]
     },
     "execution_count": 26,
     "metadata": {},
     "output_type": "execute_result"
    }
   ],
   "source": [
    "0O756"
   ]
  },
  {
   "cell_type": "markdown",
   "id": "322f8742-c3ba-4f92-a9da-a08ca8b08d71",
   "metadata": {},
   "source": [
    "**hexa**\n",
    "- octa means 16\n",
    "- so the base is 16\n",
    "- 0 1 2 3 4 5 6 7 8 9 A, B, C, D, E, F\n",
    "- here will use only 16 digits: (0 to 9 and A to F)\n",
    "- representation is: 0x<0 to 9 and A to F> \n",
    "- 0xabc , 0X9DF"
   ]
  },
  {
   "cell_type": "code",
   "execution_count": 29,
   "id": "40b47249-41c1-4c5f-af74-6a717c8828e3",
   "metadata": {},
   "outputs": [
    {
     "data": {
      "text/plain": [
       "2748"
      ]
     },
     "execution_count": 29,
     "metadata": {},
     "output_type": "execute_result"
    }
   ],
   "source": [
    "0xabc"
   ]
  },
  {
   "cell_type": "markdown",
   "id": "f397ea61-7b5c-4f5c-9aa7-0523dc625abf",
   "metadata": {},
   "source": [
    "$float$"
   ]
  },
  {
   "cell_type": "code",
   "execution_count": 34,
   "id": "b4280695-764b-4ec6-be5b-47925e960bb5",
   "metadata": {},
   "outputs": [
    {
     "data": {
      "text/plain": [
       "12.2"
      ]
     },
     "execution_count": 34,
     "metadata": {},
     "output_type": "execute_result"
    }
   ],
   "source": [
    "num=12.2\n",
    "num"
   ]
  },
  {
   "cell_type": "code",
   "execution_count": 36,
   "id": "ee4624db-b240-45fe-bbac-7b5d912e256a",
   "metadata": {},
   "outputs": [
    {
     "data": {
      "text/plain": [
       "float"
      ]
     },
     "execution_count": 36,
     "metadata": {},
     "output_type": "execute_result"
    }
   ],
   "source": [
    "type(num)"
   ]
  },
  {
   "cell_type": "markdown",
   "id": "25f8c229-b57c-4962-a038-8515dd3cf29f",
   "metadata": {},
   "source": [
    "$e$ $representation$"
   ]
  },
  {
   "cell_type": "code",
   "execution_count": 47,
   "id": "fcbc972c-9273-4828-83d8-33d65bdad443",
   "metadata": {},
   "outputs": [
    {
     "data": {
      "text/plain": [
       "10000.0"
      ]
     },
     "execution_count": 47,
     "metadata": {},
     "output_type": "execute_result"
    }
   ],
   "source": [
    "10e3  #means after e how many digits are there count it as thousands and mul with number before e ==> 10*1000 = 10000"
   ]
  },
  {
   "cell_type": "code",
   "execution_count": 49,
   "id": "dab99f34-939e-4a25-a827-72bc356e6651",
   "metadata": {},
   "outputs": [
    {
     "data": {
      "text/plain": [
       "110000.0"
      ]
     },
     "execution_count": 49,
     "metadata": {},
     "output_type": "execute_result"
    }
   ],
   "source": [
    "11e4"
   ]
  },
  {
   "cell_type": "code",
   "execution_count": 51,
   "id": "eb678bc1-ea86-4ca6-ba10-f0de55741e9f",
   "metadata": {},
   "outputs": [
    {
     "data": {
      "text/plain": [
       "10000.0"
      ]
     },
     "execution_count": 51,
     "metadata": {},
     "output_type": "execute_result"
    }
   ],
   "source": [
    "10e+3 #10e3 and 10e+3 both are same"
   ]
  },
  {
   "cell_type": "code",
   "execution_count": 55,
   "id": "f7c54f8e-6222-4104-bf29-81ba0e3a9e2b",
   "metadata": {},
   "outputs": [
    {
     "data": {
      "text/plain": [
       "100000.0"
      ]
     },
     "execution_count": 55,
     "metadata": {},
     "output_type": "execute_result"
    }
   ],
   "source": [
    "1e5  #1*100000"
   ]
  },
  {
   "cell_type": "code",
   "execution_count": 57,
   "id": "cda6fe80-0257-4b1b-a516-97e015f54b6e",
   "metadata": {},
   "outputs": [
    {
     "data": {
      "text/plain": [
       "0.01"
      ]
     },
     "execution_count": 57,
     "metadata": {},
     "output_type": "execute_result"
    }
   ],
   "source": [
    "10e-3 #10/1000= 1/100=0.01"
   ]
  },
  {
   "cell_type": "code",
   "execution_count": 59,
   "id": "17015344-6847-4cc8-b4e5-43658f92b0b8",
   "metadata": {},
   "outputs": [],
   "source": [
    "#ML === ouput as zero\n",
    "# 0.0000000000123\n",
    "# 123e-10=123/10000000000=0.0000000000123"
   ]
  },
  {
   "cell_type": "code",
   "execution_count": 61,
   "id": "cb345db9-4f95-4319-a249-fb5746472f2a",
   "metadata": {},
   "outputs": [
    {
     "data": {
      "text/plain": [
       "0.01"
      ]
     },
     "execution_count": 61,
     "metadata": {},
     "output_type": "execute_result"
    }
   ],
   "source": [
    "1000e-5  #1000/100000"
   ]
  },
  {
   "cell_type": "code",
   "execution_count": 63,
   "id": "5adcc13f-24c9-45f0-bb0a-8d1fc64f2f9e",
   "metadata": {},
   "outputs": [
    {
     "data": {
      "text/plain": [
       "1e-05"
      ]
     },
     "execution_count": 63,
     "metadata": {},
     "output_type": "execute_result"
    }
   ],
   "source": [
    "10e-6"
   ]
  },
  {
   "cell_type": "markdown",
   "id": "f459fb41-169f-4c5d-865d-41a7b9a96ac2",
   "metadata": {},
   "source": [
    "$Strings$"
   ]
  },
  {
   "cell_type": "code",
   "execution_count": 70,
   "id": "319efd4e-32c3-4d81-a5e4-ed5dca39f0c7",
   "metadata": {},
   "outputs": [
    {
     "data": {
      "text/plain": [
       "str"
      ]
     },
     "execution_count": 70,
     "metadata": {},
     "output_type": "execute_result"
    }
   ],
   "source": [
    "name=\"ram krushna hari\" #write any thing in quotes both single and double quotes works\n",
    "type(name)\n"
   ]
  },
  {
   "cell_type": "markdown",
   "id": "3d8f173d-5811-4026-8c05-031ea14c9117",
   "metadata": {},
   "source": [
    "hi\n",
    "how are you\n",
    "\n",
    "write above sentence in the one string\n",
    "when you call your output should line be line\n",
    "dont use /n /t "
   ]
  },
  {
   "cell_type": "code",
   "execution_count": 75,
   "id": "cb05b115-ae95-4e10-9bac-c0f392ada748",
   "metadata": {},
   "outputs": [
    {
     "data": {
      "text/plain": [
       "'hi\\n        how are you'"
      ]
     },
     "execution_count": 75,
     "metadata": {},
     "output_type": "execute_result"
    }
   ],
   "source": [
    "#whenever you want to write multi lines use triple quotes.\n",
    "\n",
    "name='''hi\n",
    "        how are you'''\n",
    "name\n",
    "# it is called docstring"
   ]
  },
  {
   "cell_type": "markdown",
   "id": "34bc9ceb-b721-4ae7-b03d-42afe61dfdda",
   "metadata": {},
   "source": [
    "#doc string is very important\n",
    "#jupyter notebook : markdown option\n",
    "#vs code and pycharm dont have it so : use docstring there\n",
    "\n",
    "## docstring also generally write some information to make others to understand ##"
   ]
  },
  {
   "cell_type": "code",
   "execution_count": null,
   "id": "aede1cb9-d9d5-46e9-811f-4c1de2f3b87d",
   "metadata": {},
   "outputs": [],
   "source": [
    "import random\n",
    "random.randint()"
   ]
  },
  {
   "cell_type": "code",
   "execution_count": null,
   "id": "7bf42eca-511e-41ef-bb2a-e93da0c9237d",
   "metadata": {},
   "outputs": [],
   "source": [
    "# Integer\n",
    "    # Binary\n",
    "    # Octal\n",
    "    # hexa\n",
    "# Float\n",
    "# String\n",
    "    # single quotes\n",
    "    # double quotes\n",
    "    # triple quotes # docstring\n"
   ]
  },
  {
   "cell_type": "markdown",
   "id": "b376f9ec-e88f-4afc-b059-5a5cf0ee48fd",
   "metadata": {},
   "source": [
    "**Boolean**"
   ]
  },
  {
   "cell_type": "code",
   "execution_count": null,
   "id": "ae428492-3ba9-40bb-8b8e-f8dfa9ce493c",
   "metadata": {},
   "outputs": [],
   "source": [
    "# whenever if you ask any question to the computer\n",
    "# what is its replay ? => True or False\n",
    "# True=1\n",
    "# False=0\n",
    "\n",
    "True #keyword\n",
    "False #keyword"
   ]
  },
  {
   "cell_type": "code",
   "execution_count": 2,
   "id": "d972037f-d9eb-4106-85d5-e409aafcf95b",
   "metadata": {},
   "outputs": [
    {
     "data": {
      "text/plain": [
       "False"
      ]
     },
     "execution_count": 2,
     "metadata": {},
     "output_type": "execute_result"
    }
   ],
   "source": [
    "value=False #we are assigning false in a variable value\n",
    "value"
   ]
  },
  {
   "cell_type": "code",
   "execution_count": 4,
   "id": "7b4a87af-038c-482f-987b-65a21ae4ff9b",
   "metadata": {},
   "outputs": [
    {
     "data": {
      "text/plain": [
       "bool"
      ]
     },
     "execution_count": 4,
     "metadata": {},
     "output_type": "execute_result"
    }
   ],
   "source": [
    "type(value)"
   ]
  },
  {
   "cell_type": "code",
   "execution_count": null,
   "id": "a9f00a9d-1046-41d8-87a8-5bb421dc8d4a",
   "metadata": {},
   "outputs": [],
   "source": [
    "name1=True #boolean\n",
    "name2=true #both are variables \n",
    "name3=\"True\" #string"
   ]
  },
  {
   "cell_type": "code",
   "execution_count": 10,
   "id": "c81e5873-c36e-4275-b46e-3e4bc5af347b",
   "metadata": {},
   "outputs": [
    {
     "ename": "NameError",
     "evalue": "name 'true' is not defined",
     "output_type": "error",
     "traceback": [
      "\u001b[1;31m---------------------------------------------------------------------------\u001b[0m",
      "\u001b[1;31mNameError\u001b[0m                                 Traceback (most recent call last)",
      "Cell \u001b[1;32mIn[10], line 1\u001b[0m\n\u001b[1;32m----> 1\u001b[0m name2\u001b[38;5;241m=\u001b[39mtrue\n",
      "\u001b[1;31mNameError\u001b[0m: name 'true' is not defined"
     ]
    }
   ],
   "source": [
    "name2=true\n",
    "#have you defined true before ?\n",
    "# i did not defined true, thats why im not able to use that"
   ]
  },
  {
   "cell_type": "code",
   "execution_count": 12,
   "id": "969a42e4-ec85-4334-9df2-dd64005ba3f2",
   "metadata": {},
   "outputs": [
    {
     "data": {
      "text/plain": [
       "100"
      ]
     },
     "execution_count": 12,
     "metadata": {},
     "output_type": "execute_result"
    }
   ],
   "source": [
    "true=100 #100 is saving in a variable true\n",
    "name2=true #true is saving in a variable name2\n",
    "name2 #so name2 =100"
   ]
  },
  {
   "cell_type": "markdown",
   "id": "d58a3b53-a2b7-46f1-82f0-93ca32fad806",
   "metadata": {},
   "source": [
    "**Complex-Conjugate**"
   ]
  },
  {
   "cell_type": "markdown",
   "id": "624e884d-61b3-4d52-b304-4462c2343870",
   "metadata": {},
   "source": [
    "- a+jb or a+ib\n",
    "- where a= real number\n",
    "- b= imaginary number\n",
    "- i=sqr root of (-1)"
   ]
  },
  {
   "cell_type": "code",
   "execution_count": 16,
   "id": "b88696db-0c21-416a-957d-6583ef00e1e2",
   "metadata": {},
   "outputs": [
    {
     "name": "stdout",
     "output_type": "stream",
     "text": [
      "(3+5j)\n"
     ]
    },
    {
     "data": {
      "text/plain": [
       "complex"
      ]
     },
     "execution_count": 16,
     "metadata": {},
     "output_type": "execute_result"
    }
   ],
   "source": [
    "number=3+5j\n",
    "print(number)\n",
    "type(number)"
   ]
  },
  {
   "cell_type": "code",
   "execution_count": null,
   "id": "07ab687d-1bb6-4566-94ab-0a3df25965ae",
   "metadata": {},
   "outputs": [],
   "source": [
    "#if i want to retrieve only real value seperately\n",
    "3+5j\n",
    "# 3 is the real value\n",
    "# 5 is the imaginary value"
   ]
  },
  {
   "cell_type": "code",
   "execution_count": 18,
   "id": "e362a68a-52f1-4b47-8274-9e30e618d0a4",
   "metadata": {},
   "outputs": [
    {
     "data": {
      "text/plain": [
       "(3+5j)"
      ]
     },
     "execution_count": 18,
     "metadata": {},
     "output_type": "execute_result"
    }
   ],
   "source": [
    "number=3+5j\n",
    "number"
   ]
  },
  {
   "cell_type": "code",
   "execution_count": 20,
   "id": "4e81a767-496f-4419-afbd-c59da91c06c1",
   "metadata": {},
   "outputs": [
    {
     "data": {
      "text/plain": [
       "['__abs__',\n",
       " '__add__',\n",
       " '__bool__',\n",
       " '__class__',\n",
       " '__complex__',\n",
       " '__delattr__',\n",
       " '__dir__',\n",
       " '__doc__',\n",
       " '__eq__',\n",
       " '__format__',\n",
       " '__ge__',\n",
       " '__getattribute__',\n",
       " '__getnewargs__',\n",
       " '__getstate__',\n",
       " '__gt__',\n",
       " '__hash__',\n",
       " '__init__',\n",
       " '__init_subclass__',\n",
       " '__le__',\n",
       " '__lt__',\n",
       " '__mul__',\n",
       " '__ne__',\n",
       " '__neg__',\n",
       " '__new__',\n",
       " '__pos__',\n",
       " '__pow__',\n",
       " '__radd__',\n",
       " '__reduce__',\n",
       " '__reduce_ex__',\n",
       " '__repr__',\n",
       " '__rmul__',\n",
       " '__rpow__',\n",
       " '__rsub__',\n",
       " '__rtruediv__',\n",
       " '__setattr__',\n",
       " '__sizeof__',\n",
       " '__str__',\n",
       " '__sub__',\n",
       " '__subclasshook__',\n",
       " '__truediv__',\n",
       " 'conjugate',\n",
       " 'imag',\n",
       " 'real']"
      ]
     },
     "execution_count": 20,
     "metadata": {},
     "output_type": "execute_result"
    }
   ],
   "source": [
    "dir(number)"
   ]
  },
  {
   "cell_type": "code",
   "execution_count": 22,
   "id": "d509be22-7226-44db-a13c-c1ac4c69b6b1",
   "metadata": {},
   "outputs": [
    {
     "data": {
      "text/plain": [
       "3.0"
      ]
     },
     "execution_count": 22,
     "metadata": {},
     "output_type": "execute_result"
    }
   ],
   "source": [
    "number.real # <pname>.<method>"
   ]
  },
  {
   "cell_type": "code",
   "execution_count": 24,
   "id": "de790323-18d0-49f2-8c2b-872f9093af43",
   "metadata": {},
   "outputs": [
    {
     "data": {
      "text/plain": [
       "5.0"
      ]
     },
     "execution_count": 24,
     "metadata": {},
     "output_type": "execute_result"
    }
   ],
   "source": [
    "number.imag"
   ]
  },
  {
   "cell_type": "code",
   "execution_count": 30,
   "id": "346d940c-bba9-4a8d-aedf-9338fb481f68",
   "metadata": {},
   "outputs": [
    {
     "data": {
      "text/plain": [
       "(3-5j)"
      ]
     },
     "execution_count": 30,
     "metadata": {},
     "output_type": "execute_result"
    }
   ],
   "source": [
    "number.conjugate()\n",
    "\n",
    "# + becomes -\n",
    "# - becomes +"
   ]
  },
  {
   "cell_type": "code",
   "execution_count": 32,
   "id": "5f495ba7-a5e4-4e90-b25f-cbaaf318efd3",
   "metadata": {},
   "outputs": [
    {
     "data": {
      "text/plain": [
       "(4+10j)"
      ]
     },
     "execution_count": 32,
     "metadata": {},
     "output_type": "execute_result"
    }
   ],
   "source": [
    "complex(4,10)\n",
    "#real=4\n",
    "#image=10\n",
    "#4+10j\n"
   ]
  },
  {
   "cell_type": "code",
   "execution_count": null,
   "id": "500f8d5c-5b0d-42bd-9fc8-e9b192a7de08",
   "metadata": {},
   "outputs": [],
   "source": [
    "complex() #if i did not provide anything inside\n"
   ]
  },
  {
   "cell_type": "code",
   "execution_count": null,
   "id": "de30bbc0-94f1-4950-a86a-16d3a2c0d77f",
   "metadata": {},
   "outputs": [],
   "source": [
    "- whenever if you see any brackets () , that is called function\n",
    "- another name of function is called method\n",
    "- inside brackets what you are seeing is called parameters\n",
    "- another name for parameter is arguments"
   ]
  },
  {
   "cell_type": "code",
   "execution_count": 34,
   "id": "894f3cf3-ae0c-4d89-bb4b-ab9efbfd1f37",
   "metadata": {},
   "outputs": [
    {
     "ename": "TypeError",
     "evalue": "math.sin() takes exactly one argument (0 given)",
     "output_type": "error",
     "traceback": [
      "\u001b[1;31m---------------------------------------------------------------------------\u001b[0m",
      "\u001b[1;31mTypeError\u001b[0m                                 Traceback (most recent call last)",
      "Cell \u001b[1;32mIn[34], line 2\u001b[0m\n\u001b[0;32m      1\u001b[0m \u001b[38;5;28;01mimport\u001b[39;00m \u001b[38;5;21;01mmath\u001b[39;00m\n\u001b[1;32m----> 2\u001b[0m math\u001b[38;5;241m.\u001b[39msin()\n",
      "\u001b[1;31mTypeError\u001b[0m: math.sin() takes exactly one argument (0 given)"
     ]
    }
   ],
   "source": [
    "import math\n",
    "math.sin()"
   ]
  },
  {
   "cell_type": "code",
   "execution_count": 37,
   "id": "e1154a15-7dc0-470b-a777-66dac5d2f034",
   "metadata": {},
   "outputs": [
    {
     "data": {
      "text/plain": [
       "0j"
      ]
     },
     "execution_count": 37,
     "metadata": {},
     "output_type": "execute_result"
    }
   ],
   "source": [
    "complex()\n",
    "\n",
    "#if you not provide anything inside bracket\n",
    "#I will use real value as 0\n",
    "#imaginary value also 0\n",
    "#0+0j ====> 0j\n",
    "# Interview Question IMP "
   ]
  },
  {
   "cell_type": "code",
   "execution_count": null,
   "id": "b1aa6e77-d0e6-4f2e-bdfc-d02fe7a1ba03",
   "metadata": {},
   "outputs": [],
   "source": [
    "a) 0+0j\n",
    "b) 0j\n",
    "c) 0-0j\n",
    "d) 0\n",
    "e) error\n",
    "ans= 0j"
   ]
  },
  {
   "cell_type": "code",
   "execution_count": null,
   "id": "1971f8aa-fc15-4a3e-8e55-f8c9d5412e5b",
   "metadata": {},
   "outputs": [],
   "source": [
    "a) random.randint() #error #is it necessary to provide arguments? ans= there is no default parameter for it thatswhy\n",
    "b) math.sin()       #error #is it necessary to provide arguments? ans= there is no default parameter just like complex one thats why\n",
    "c) complex()        #no error"
   ]
  },
  {
   "cell_type": "code",
   "execution_count": null,
   "id": "903242a9-bde2-407c-81b0-7da19cf448d2",
   "metadata": {},
   "outputs": [],
   "source": [
    "# packages\n",
    "# methods\n",
    "# parameters \n",
    "# we have understood all above three"
   ]
  },
  {
   "cell_type": "code",
   "execution_count": null,
   "id": "33a32900-e6d2-4032-91aa-360c237e3c84",
   "metadata": {},
   "outputs": [],
   "source": []
  },
  {
   "cell_type": "code",
   "execution_count": null,
   "id": "639d2de8-8dc1-4bf0-8d91-869c283531b5",
   "metadata": {},
   "outputs": [],
   "source": []
  },
  {
   "cell_type": "code",
   "execution_count": null,
   "id": "905771f0-c3ed-4d14-a227-c1d53c32406b",
   "metadata": {},
   "outputs": [],
   "source": []
  },
  {
   "cell_type": "code",
   "execution_count": null,
   "id": "b234115a-5ff9-4e28-befe-fc95d3a68f25",
   "metadata": {},
   "outputs": [],
   "source": []
  },
  {
   "cell_type": "code",
   "execution_count": null,
   "id": "86c382bb-4541-47bc-9d6a-9a6bb7c555b5",
   "metadata": {},
   "outputs": [],
   "source": []
  },
  {
   "cell_type": "code",
   "execution_count": null,
   "id": "5ba626ac-d835-46c4-83a7-de261cc68f0e",
   "metadata": {},
   "outputs": [],
   "source": []
  }
 ],
 "metadata": {
  "kernelspec": {
   "display_name": "Python 3 (ipykernel)",
   "language": "python",
   "name": "python3"
  },
  "language_info": {
   "codemirror_mode": {
    "name": "ipython",
    "version": 3
   },
   "file_extension": ".py",
   "mimetype": "text/x-python",
   "name": "python",
   "nbconvert_exporter": "python",
   "pygments_lexer": "ipython3",
   "version": "3.12.4"
  }
 },
 "nbformat": 4,
 "nbformat_minor": 5
}
