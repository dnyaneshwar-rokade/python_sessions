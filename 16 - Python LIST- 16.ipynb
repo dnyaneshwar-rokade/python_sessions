{
 "cells": [
  {
   "cell_type": "markdown",
   "id": "55a0a5b7-35f6-495c-8064-b037eefea8c6",
   "metadata": {},
   "source": [
    "### LIST\n",
    "\n",
    "##### Lecture-1"
   ]
  },
  {
   "cell_type": "markdown",
   "id": "5c86e7bf-bf50-4e28-9058-e101b7ea4edd",
   "metadata": {},
   "source": [
    "- list is nothing but a 'array of elements'."
   ]
  },
  {
   "cell_type": "markdown",
   "id": "5b39707a-9c07-42a4-bea4-4f2aa8868bc9",
   "metadata": {},
   "source": [
    "- list name is a keyword so give another name to your list"
   ]
  },
  {
   "cell_type": "code",
   "execution_count": 4,
   "id": "26d2755e-a695-4379-bfde-1bd4e995a261",
   "metadata": {},
   "outputs": [
    {
     "data": {
      "text/plain": [
       "[1, 2, 3, 4]"
      ]
     },
     "execution_count": 4,
     "metadata": {},
     "output_type": "execute_result"
    }
   ],
   "source": [
    "list1=[1,2,3,4]\n",
    "list1"
   ]
  },
  {
   "cell_type": "code",
   "execution_count": 6,
   "id": "afafda39-aa2a-47e9-9c93-04021caf8a13",
   "metadata": {},
   "outputs": [
    {
     "data": {
      "text/plain": [
       "['A', 'B', 'C']"
      ]
     },
     "execution_count": 6,
     "metadata": {},
     "output_type": "execute_result"
    }
   ],
   "source": [
    "list2=['A','B','C']  #you can write strings in list\n",
    "list2"
   ]
  },
  {
   "cell_type": "code",
   "execution_count": 8,
   "id": "d929de2d-9486-4291-ba8d-1beccf433746",
   "metadata": {},
   "outputs": [
    {
     "data": {
      "text/plain": [
       "['A', 'B', 'C', 1, 2, 3]"
      ]
     },
     "execution_count": 8,
     "metadata": {},
     "output_type": "execute_result"
    }
   ],
   "source": [
    "list3=['A','B','C',1,2,3]\n",
    "list3"
   ]
  },
  {
   "cell_type": "code",
   "execution_count": 14,
   "id": "5f5a2e40-d9b2-4f7f-a4b3-2c0043fe4b8b",
   "metadata": {},
   "outputs": [
    {
     "data": {
      "text/plain": [
       "[1, 'Apple', 10.5, (10+20j), True]"
      ]
     },
     "execution_count": 14,
     "metadata": {},
     "output_type": "execute_result"
    }
   ],
   "source": [
    "list4=[1,'Apple',10.5,(10+20j),True]\n",
    "list4"
   ]
  },
  {
   "cell_type": "code",
   "execution_count": 17,
   "id": "b620dca2-4005-47f3-865f-25076ecff3aa",
   "metadata": {},
   "outputs": [
    {
     "data": {
      "text/plain": [
       "[100, 100, 100]"
      ]
     },
     "execution_count": 17,
     "metadata": {},
     "output_type": "execute_result"
    }
   ],
   "source": [
    "list5=[100,100,100]\n",
    "list5"
   ]
  },
  {
   "cell_type": "code",
   "execution_count": 20,
   "id": "151673a5-d3a2-451a-ae6d-d101593f55da",
   "metadata": {},
   "outputs": [
    {
     "data": {
      "text/plain": [
       "['apple', [1, 2, 3]]"
      ]
     },
     "execution_count": 20,
     "metadata": {},
     "output_type": "execute_result"
    }
   ],
   "source": [
    "list6=['apple',[1,2,3]]\n",
    "list6"
   ]
  },
  {
   "cell_type": "markdown",
   "id": "ca3507fa-063c-496d-b349-26f9a4373e71",
   "metadata": {},
   "source": [
    "**list statements can be in any data types**"
   ]
  },
  {
   "cell_type": "markdown",
   "id": "0da84c3d-091e-4d50-988f-fdf0b328328c",
   "metadata": {},
   "source": [
    "- list is an array of elements\n",
    "- list elements are heterogeneous(different) data types are allowed\n",
    "- duplicates are allowed\n",
    "- list in list also works"
   ]
  },
  {
   "cell_type": "markdown",
   "id": "ee8e5fa7-1c0c-4757-827f-9ae48a05f7ad",
   "metadata": {},
   "source": [
    "$type$"
   ]
  },
  {
   "cell_type": "code",
   "execution_count": 24,
   "id": "76db1327-8ad6-4dd9-9b87-b5cb74d81e48",
   "metadata": {},
   "outputs": [
    {
     "name": "stdout",
     "output_type": "stream",
     "text": [
      "4\n"
     ]
    }
   ],
   "source": [
    "print(max(list1))"
   ]
  },
  {
   "cell_type": "code",
   "execution_count": 31,
   "id": "275d0162-ee61-4c91-a4ab-0c0cf3916ee1",
   "metadata": {},
   "outputs": [
    {
     "name": "stdout",
     "output_type": "stream",
     "text": [
      "C\n"
     ]
    }
   ],
   "source": [
    "print(max(list2))   # c ====> ascii value by ord"
   ]
  },
  {
   "cell_type": "code",
   "execution_count": 28,
   "id": "3b82a04b-5c0e-4e1f-b7b7-a988ecd81f29",
   "metadata": {},
   "outputs": [
    {
     "ename": "TypeError",
     "evalue": "'>' not supported between instances of 'int' and 'str'",
     "output_type": "error",
     "traceback": [
      "\u001b[1;31m---------------------------------------------------------------------------\u001b[0m",
      "\u001b[1;31mTypeError\u001b[0m                                 Traceback (most recent call last)",
      "Cell \u001b[1;32mIn[28], line 1\u001b[0m\n\u001b[1;32m----> 1\u001b[0m \u001b[38;5;28mprint\u001b[39m(\u001b[38;5;28mmax\u001b[39m(list3))\n",
      "\u001b[1;31mTypeError\u001b[0m: '>' not supported between instances of 'int' and 'str'"
     ]
    }
   ],
   "source": [
    "print(max(list3))"
   ]
  },
  {
   "cell_type": "markdown",
   "id": "cff15f6d-2a71-4b5b-947e-f35e4d8b1a97",
   "metadata": {},
   "source": [
    "$min$"
   ]
  },
  {
   "cell_type": "code",
   "execution_count": 34,
   "id": "48f64067-db91-410a-a2f9-1b983dbffac1",
   "metadata": {},
   "outputs": [
    {
     "name": "stdout",
     "output_type": "stream",
     "text": [
      "1\n",
      "A\n"
     ]
    },
    {
     "ename": "TypeError",
     "evalue": "'<' not supported between instances of 'int' and 'str'",
     "output_type": "error",
     "traceback": [
      "\u001b[1;31m---------------------------------------------------------------------------\u001b[0m",
      "\u001b[1;31mTypeError\u001b[0m                                 Traceback (most recent call last)",
      "Cell \u001b[1;32mIn[34], line 3\u001b[0m\n\u001b[0;32m      1\u001b[0m \u001b[38;5;28mprint\u001b[39m(\u001b[38;5;28mmin\u001b[39m(list1))\n\u001b[0;32m      2\u001b[0m \u001b[38;5;28mprint\u001b[39m(\u001b[38;5;28mmin\u001b[39m(list2))\n\u001b[1;32m----> 3\u001b[0m \u001b[38;5;28mprint\u001b[39m(\u001b[38;5;28mmin\u001b[39m(list3))\n",
      "\u001b[1;31mTypeError\u001b[0m: '<' not supported between instances of 'int' and 'str'"
     ]
    }
   ],
   "source": [
    "print(min(list1))\n",
    "print(min(list2))\n",
    "print(min(list3))"
   ]
  },
  {
   "cell_type": "markdown",
   "id": "8ac7292f-a2dd-4495-8812-9d8efbc7dd18",
   "metadata": {},
   "source": [
    "$len$"
   ]
  },
  {
   "cell_type": "code",
   "execution_count": 39,
   "id": "0880cae1-0bdb-435c-b430-adf82bc765d1",
   "metadata": {},
   "outputs": [
    {
     "name": "stdout",
     "output_type": "stream",
     "text": [
      "4\n",
      "3\n",
      "6\n"
     ]
    }
   ],
   "source": [
    "# len will give you how many elements are present in list\n",
    "print(len(list1))\n",
    "print(len(list2))\n",
    "print(len(list3))"
   ]
  },
  {
   "cell_type": "markdown",
   "id": "1717e9d2-bc7f-41f9-9926-87f8717eea39",
   "metadata": {},
   "source": [
    "$sum$"
   ]
  },
  {
   "cell_type": "code",
   "execution_count": 44,
   "id": "de8f75d3-3b41-49ae-bf5d-1b819b639984",
   "metadata": {},
   "outputs": [
    {
     "name": "stdout",
     "output_type": "stream",
     "text": [
      "[1, 2, 3, 4]\n",
      "10\n"
     ]
    }
   ],
   "source": [
    "print(list1)\n",
    "print(sum(list1))"
   ]
  },
  {
   "cell_type": "code",
   "execution_count": 46,
   "id": "5c85e1bd-7019-4494-b150-90821ce95014",
   "metadata": {},
   "outputs": [
    {
     "name": "stdout",
     "output_type": "stream",
     "text": [
      "['A', 'B', 'C']\n"
     ]
    },
    {
     "ename": "TypeError",
     "evalue": "unsupported operand type(s) for +: 'int' and 'str'",
     "output_type": "error",
     "traceback": [
      "\u001b[1;31m---------------------------------------------------------------------------\u001b[0m",
      "\u001b[1;31mTypeError\u001b[0m                                 Traceback (most recent call last)",
      "Cell \u001b[1;32mIn[46], line 2\u001b[0m\n\u001b[0;32m      1\u001b[0m \u001b[38;5;28mprint\u001b[39m(list2)\n\u001b[1;32m----> 2\u001b[0m \u001b[38;5;28mprint\u001b[39m(\u001b[38;5;28msum\u001b[39m(list2))\n",
      "\u001b[1;31mTypeError\u001b[0m: unsupported operand type(s) for +: 'int' and 'str'"
     ]
    }
   ],
   "source": [
    "print(list2)\n",
    "print(sum(list2))"
   ]
  },
  {
   "cell_type": "markdown",
   "id": "88867230-a953-4924-b235-a5b83dcec791",
   "metadata": {},
   "source": [
    "- sum\n",
    "- eval\n",
    "- range\n",
    "\n",
    "**this above all are mathematical category**"
   ]
  },
  {
   "cell_type": "markdown",
   "id": "130218a6-4a47-4910-ba57-c7691f753640",
   "metadata": {},
   "source": [
    "$in$"
   ]
  },
  {
   "cell_type": "code",
   "execution_count": 52,
   "id": "6e2cea14-2ee2-444b-856d-524d1622ca35",
   "metadata": {},
   "outputs": [],
   "source": [
    "list1=[1,2,3,4]"
   ]
  },
  {
   "cell_type": "code",
   "execution_count": 56,
   "id": "6a6fa646-d9f5-4e32-9d06-c56854fb206f",
   "metadata": {},
   "outputs": [
    {
     "data": {
      "text/plain": [
       "False"
      ]
     },
     "execution_count": 56,
     "metadata": {},
     "output_type": "execute_result"
    }
   ],
   "source": [
    "1 in list1\n",
    "2 in list1\n",
    "3 in list1\n",
    "4 in list1\n",
    "\n",
    "5 in list1\n",
    "\n",
    "# can i iterate through for loop ?\n",
    "# see what are the common things in this list. and write that as it is. and take changing value as generalised expression."
   ]
  },
  {
   "cell_type": "code",
   "execution_count": 58,
   "id": "32263cef-bece-44e4-8868-15d9bf60332d",
   "metadata": {},
   "outputs": [
    {
     "name": "stdout",
     "output_type": "stream",
     "text": [
      "1\n",
      "2\n",
      "3\n",
      "4\n"
     ]
    }
   ],
   "source": [
    "for i in list1:\n",
    "    print(i)"
   ]
  },
  {
   "cell_type": "markdown",
   "id": "6a858348-5ea4-46f2-b6bc-742a430f10af",
   "metadata": {},
   "source": [
    "$Concatenation$"
   ]
  },
  {
   "cell_type": "code",
   "execution_count": 66,
   "id": "ce092c10-6749-46b3-ae19-52e5e011d12d",
   "metadata": {},
   "outputs": [
    {
     "name": "stdout",
     "output_type": "stream",
     "text": [
      "[1, 2, 3, 4, 'A', 'B', 'C']\n",
      "['A', 'B', 'C', 1, 2, 3, 4]\n"
     ]
    }
   ],
   "source": [
    "print(list1+list2)  # if you want to save this output.. you need to save it in a new variable.\n",
    "print(list2+list1)"
   ]
  },
  {
   "cell_type": "code",
   "execution_count": 68,
   "id": "dc600193-a24d-4957-89d9-3876577d57cd",
   "metadata": {},
   "outputs": [
    {
     "data": {
      "text/plain": [
       "[1, 2, 3, 4, 'A', 'B', 'C']"
      ]
     },
     "execution_count": 68,
     "metadata": {},
     "output_type": "execute_result"
    }
   ],
   "source": [
    "new_lst=list1+list2\n",
    "new_lst"
   ]
  },
  {
   "cell_type": "code",
   "execution_count": 72,
   "id": "5d26ae5b-0a62-4c5d-aaa5-ee173ecb2417",
   "metadata": {},
   "outputs": [
    {
     "data": {
      "text/plain": [
       "[1, 2, 3, 4, 1, 2, 3, 4, 1, 2, 3, 4]"
      ]
     },
     "execution_count": 72,
     "metadata": {},
     "output_type": "execute_result"
    }
   ],
   "source": [
    "list1*3  # list1+list1+list1"
   ]
  },
  {
   "cell_type": "code",
   "execution_count": 74,
   "id": "bf6c2938-e411-4662-a3b3-ab1d52d458e8",
   "metadata": {},
   "outputs": [
    {
     "ename": "TypeError",
     "evalue": "unsupported operand type(s) for -: 'list' and 'list'",
     "output_type": "error",
     "traceback": [
      "\u001b[1;31m---------------------------------------------------------------------------\u001b[0m",
      "\u001b[1;31mTypeError\u001b[0m                                 Traceback (most recent call last)",
      "Cell \u001b[1;32mIn[74], line 1\u001b[0m\n\u001b[1;32m----> 1\u001b[0m list1\u001b[38;5;241m-\u001b[39mlist2\n\u001b[0;32m      2\u001b[0m list1\u001b[38;5;241m*\u001b[39mlist2\n\u001b[0;32m      3\u001b[0m list1\u001b[38;5;241m/\u001b[39mlist2\n",
      "\u001b[1;31mTypeError\u001b[0m: unsupported operand type(s) for -: 'list' and 'list'"
     ]
    }
   ],
   "source": [
    "list1-list2\n",
    "list1*list2\n",
    "list1/list2"
   ]
  },
  {
   "cell_type": "markdown",
   "id": "d284e48e-2f78-4d42-b03d-b8b2fa585193",
   "metadata": {},
   "source": [
    "$Index$"
   ]
  },
  {
   "cell_type": "code",
   "execution_count": 77,
   "id": "23fd9f1f-9680-4050-8433-324794893f68",
   "metadata": {},
   "outputs": [
    {
     "data": {
      "text/plain": [
       "['A', 'B', 'C', 1, 2, 3]"
      ]
     },
     "execution_count": 77,
     "metadata": {},
     "output_type": "execute_result"
    }
   ],
   "source": [
    "list3"
   ]
  },
  {
   "cell_type": "code",
   "execution_count": 85,
   "id": "a9c6e5b4-69f4-4e08-b405-d6a80da43a0c",
   "metadata": {},
   "outputs": [
    {
     "data": {
      "text/plain": [
       "('A', 'B', 'C')"
      ]
     },
     "execution_count": 85,
     "metadata": {},
     "output_type": "execute_result"
    }
   ],
   "source": [
    "# python index start with zero\n",
    "list3[0],list3[1],list3[2]\n",
    "\n",
    "# list3=[i]\n",
    "# i=0 1 2 3"
   ]
  },
  {
   "cell_type": "code",
   "execution_count": 87,
   "id": "e04bbe0c-00d7-46e6-a0ba-d5dcccdb7d87",
   "metadata": {},
   "outputs": [
    {
     "name": "stdout",
     "output_type": "stream",
     "text": [
      "0 A\n",
      "1 B\n",
      "2 C\n",
      "3 1\n",
      "4 2\n",
      "5 3\n"
     ]
    }
   ],
   "source": [
    "for i in range(len(list3)):\n",
    "    print(i,list3[i])"
   ]
  },
  {
   "cell_type": "code",
   "execution_count": 93,
   "id": "87fbf5f7-78ff-4332-a006-3409fb4d66d9",
   "metadata": {},
   "outputs": [
    {
     "data": {
      "text/plain": [
       "3"
      ]
     },
     "execution_count": 93,
     "metadata": {},
     "output_type": "execute_result"
    }
   ],
   "source": [
    "list3[-1]\n",
    "\n",
    "# -6 -5 -4 -3 -2 -1\n",
    "#  A  B  C  1  2  3\n",
    "#  0  1  2  3  4  5"
   ]
  },
  {
   "cell_type": "code",
   "execution_count": 97,
   "id": "15931a65-ddf3-4eae-97fa-d37ef0476718",
   "metadata": {},
   "outputs": [
    {
     "name": "stdout",
     "output_type": "stream",
     "text": [
      "positive index is: 0 and negative index is -6 for an element A\n",
      "positive index is: 1 and negative index is -5 for an element B\n",
      "positive index is: 2 and negative index is -4 for an element C\n",
      "positive index is: 3 and negative index is -3 for an element 1\n",
      "positive index is: 4 and negative index is -2 for an element 2\n",
      "positive index is: 5 and negative index is -1 for an element 3\n"
     ]
    }
   ],
   "source": [
    "for i in range(len(list3)):\n",
    "    print('positive index is: {} and negative index is {} for an element {}'.format(i,i-len(list3),list3[i]))"
   ]
  },
  {
   "cell_type": "code",
   "execution_count": 107,
   "id": "24e2ae3f-cd5e-4a7b-baff-08c94c9a1b1e",
   "metadata": {},
   "outputs": [
    {
     "name": "stdout",
     "output_type": "stream",
     "text": [
      "ab\n",
      "cd\n",
      "ef\n",
      "ab\n",
      "cd\n",
      "ef\n"
     ]
    }
   ],
   "source": [
    "# wap find the elements which are having len<3\n",
    "\n",
    "# step1: iterate the list using for loop\n",
    "# step2: apply the if condition len(<element>)<3:\n",
    "# step3:     print(element)\n",
    "\n",
    "lst=['apple','ball','cat','ab','cd','ef']\n",
    "\n",
    "for i in range(len(lst)):   # here i become number.. remember it. it is very important.... when you use 'range' operator i becomes number. \n",
    "    if len(lst[i])<3:\n",
    "        print(lst[i])\n",
    "\n",
    "for i in lst:           # now here i become an element... when you use 'in' operator i becomes element.\n",
    "    if len(i)<3:\n",
    "        print(i)"
   ]
  },
  {
   "cell_type": "code",
   "execution_count": 117,
   "id": "97c57b06-e547-4a6d-8a3f-e90e02377b53",
   "metadata": {},
   "outputs": [
    {
     "name": "stdout",
     "output_type": "stream",
     "text": [
      "app#e\n",
      "b#ll\n",
      "c#t\n"
     ]
    }
   ],
   "source": [
    "# wap find the elements which are having #\n",
    "\n",
    "lst=['app#e','b#ll','c#t','ab','cd','ef']\n",
    "\n",
    "for i in lst:\n",
    "    if '#' in i:        # <--- this is a new method...... '#' in 'app#e'.\n",
    "        print(i)\n",
    "        "
   ]
  },
  {
   "cell_type": "code",
   "execution_count": 119,
   "id": "7107b29a-07bc-4dd6-9eea-b1a585428d1e",
   "metadata": {},
   "outputs": [
    {
     "name": "stdout",
     "output_type": "stream",
     "text": [
      "3\n"
     ]
    }
   ],
   "source": [
    "lst=['app#e','b#ll','c#t','ab','cd','ef']\n",
    "count=0\n",
    "for i in lst:\n",
    "    if '#' in i:        # <--- this is a new method...... '#' in 'app#e'.\n",
    "        #print(i)\n",
    "        count+=1\n",
    "print(count)"
   ]
  },
  {
   "cell_type": "code",
   "execution_count": 141,
   "id": "09127a7f-505d-4e3f-8d96-1518f0ae1ffb",
   "metadata": {},
   "outputs": [
    {
     "data": {
      "text/plain": [
       "'Ball'"
      ]
     },
     "execution_count": 141,
     "metadata": {},
     "output_type": "execute_result"
    }
   ],
   "source": [
    "lst1=[1,2,3,['Apple','Ball']]  # there are 4 elements in this nested list.. 1 2 3 is an element and other entire list an element.\n",
    "\n",
    "# retrive the ball using index\n",
    "lst1[3][1]"
   ]
  },
  {
   "cell_type": "code",
   "execution_count": 155,
   "id": "9c7a5227-9743-44f1-ace3-3b9563005c34",
   "metadata": {},
   "outputs": [
    {
     "data": {
      "text/plain": [
       "'Cherry'"
      ]
     },
     "execution_count": 155,
     "metadata": {},
     "output_type": "execute_result"
    }
   ],
   "source": [
    "lst2=[[[[[[['Cherry']]]]]]]\n",
    "\n",
    "lst2[0][0][0][0][0][0][0]"
   ]
  },
  {
   "cell_type": "code",
   "execution_count": 161,
   "id": "5ccbd4ee-4806-4807-acc5-1ef39be9ff1a",
   "metadata": {},
   "outputs": [
    {
     "data": {
      "text/plain": [
       "'Car'"
      ]
     },
     "execution_count": 161,
     "metadata": {},
     "output_type": "execute_result"
    }
   ],
   "source": [
    "lst3=[[[['a','b',[[[1,2,3,['Car']]]]]]]]\n",
    "\n",
    "lst3[0][0][0][2][0][0][3][0]\n",
    "\n",
    "# Retrive the car"
   ]
  },
  {
   "cell_type": "markdown",
   "id": "5219cf4f-292c-4ecd-bfeb-09363f4145e6",
   "metadata": {},
   "source": [
    "$Mutable$"
   ]
  },
  {
   "cell_type": "code",
   "execution_count": 168,
   "id": "66b65fd0-0886-44a1-b9f6-2e23acf3530e",
   "metadata": {},
   "outputs": [
    {
     "data": {
      "text/plain": [
       "[1, 10000, 20]"
      ]
     },
     "execution_count": 168,
     "metadata": {},
     "output_type": "execute_result"
    }
   ],
   "source": [
    "ls=[1,10,20]\n",
    "ls[1]=10000\n",
    "ls"
   ]
  },
  {
   "cell_type": "code",
   "execution_count": 170,
   "id": "28bad1a4-48e0-4f56-8a39-93e877076edb",
   "metadata": {},
   "outputs": [
    {
     "name": "stdout",
     "output_type": "stream",
     "text": [
      "[30, 'P', 'H', 'a']\n",
      "[]\n",
      "[]\n",
      "[30]\n",
      "['c']\n",
      "[]\n",
      "['c', 'N', 'T', 50]\n",
      "[]\n"
     ]
    }
   ],
   "source": [
    "list1=[10,20,30,40,50,'P','Y','T','H','O','N','a','b','c','D']\n",
    "\n",
    "print(list1[2:14:3])   # p \n",
    "print(list1[2:14:-3])  # np\n",
    "print(list1[2:-14:3])  # np\n",
    "print(list1[2:-14:-3]) # p\n",
    "print(list1[-2:14:3])  # p\n",
    "print(list1[-2:-14:3])  # np\n",
    "print(list1[-2:-14:-3])  # p\n",
    "print(list1[-2:14:-3])  # np"
   ]
  },
  {
   "cell_type": "markdown",
   "id": "c86a4878-b8c6-4c17-91b6-1783a167e748",
   "metadata": {},
   "source": [
    "- Reading a list\n",
    "\n",
    "- Different ways to provide elements\n",
    "\n",
    "- type/min/max/sum/len\n",
    "\n",
    "- in\n",
    "\n",
    "- concatenation\n",
    "\n",
    "- index\n",
    "\n",
    "- mutable\n",
    "\n",
    "- slice"
   ]
  },
  {
   "cell_type": "markdown",
   "id": "99a4ca4e-04c5-4de1-895a-fd5713d49e4b",
   "metadata": {},
   "source": [
    "### List Methods"
   ]
  },
  {
   "cell_type": "code",
   "execution_count": 173,
   "id": "5819e99d-974a-43ae-ad2f-6cd6a8b38d76",
   "metadata": {},
   "outputs": [
    {
     "data": {
      "text/plain": [
       "['__add__',\n",
       " '__class__',\n",
       " '__class_getitem__',\n",
       " '__contains__',\n",
       " '__delattr__',\n",
       " '__delitem__',\n",
       " '__dir__',\n",
       " '__doc__',\n",
       " '__eq__',\n",
       " '__format__',\n",
       " '__ge__',\n",
       " '__getattribute__',\n",
       " '__getitem__',\n",
       " '__getstate__',\n",
       " '__gt__',\n",
       " '__hash__',\n",
       " '__iadd__',\n",
       " '__imul__',\n",
       " '__init__',\n",
       " '__init_subclass__',\n",
       " '__iter__',\n",
       " '__le__',\n",
       " '__len__',\n",
       " '__lt__',\n",
       " '__mul__',\n",
       " '__ne__',\n",
       " '__new__',\n",
       " '__reduce__',\n",
       " '__reduce_ex__',\n",
       " '__repr__',\n",
       " '__reversed__',\n",
       " '__rmul__',\n",
       " '__setattr__',\n",
       " '__setitem__',\n",
       " '__sizeof__',\n",
       " '__str__',\n",
       " '__subclasshook__',\n",
       " 'append',\n",
       " 'clear',\n",
       " 'copy',\n",
       " 'count',\n",
       " 'extend',\n",
       " 'index',\n",
       " 'insert',\n",
       " 'pop',\n",
       " 'remove',\n",
       " 'reverse',\n",
       " 'sort']"
      ]
     },
     "execution_count": 173,
     "metadata": {},
     "output_type": "execute_result"
    }
   ],
   "source": [
    "dir([])   # to see methods of list provide a empty list in dir(<[]>)."
   ]
  },
  {
   "cell_type": "markdown",
   "id": "1e634f96-65ea-412e-bc62-2eafafeeb5a6",
   "metadata": {},
   "source": [
    "$clear$-$copy$"
   ]
  },
  {
   "cell_type": "code",
   "execution_count": 186,
   "id": "1089166f-3e04-4f97-b097-28264bae8a40",
   "metadata": {},
   "outputs": [
    {
     "name": "stdout",
     "output_type": "stream",
     "text": [
      "list1: []\n",
      "list2: [1, 2, 3, 4]\n"
     ]
    }
   ],
   "source": [
    "lst1=[1,2,3,4]\n",
    "\n",
    "# i want to copy these elements in a list2\n",
    "\n",
    "list7=lst1.copy()   # shallow's normal meaning is copy all things present in a list\n",
    "list7\n",
    "\n",
    "lst1.clear()\n",
    "\n",
    "print('list1:',lst1)\n",
    "print('list2:',list7)"
   ]
  },
  {
   "cell_type": "markdown",
   "id": "22d56365-471a-43d1-a784-77eadf9c6fbf",
   "metadata": {},
   "source": [
    "$append$"
   ]
  },
  {
   "cell_type": "code",
   "execution_count": 4,
   "id": "5fcabda8-85f6-4c1f-a149-2cd16dca5f2d",
   "metadata": {},
   "outputs": [
    {
     "data": {
      "text/plain": [
       "[1000, 2000, 3000]"
      ]
     },
     "execution_count": 4,
     "metadata": {},
     "output_type": "execute_result"
    }
   ],
   "source": [
    "# add (something) to end of a written document.\n",
    "\n",
    "list1=[1000,2000]\n",
    "\n",
    "# [1000,2000,3000]\n",
    "\n",
    "list1.append(3000)\n",
    "list1"
   ]
  },
  {
   "cell_type": "code",
   "execution_count": 26,
   "id": "2f8384c0-4565-4721-867b-6283528d7dfc",
   "metadata": {},
   "outputs": [
    {
     "data": {
      "text/plain": [
       "[100, 200, 300]"
      ]
     },
     "execution_count": 26,
     "metadata": {},
     "output_type": "execute_result"
    }
   ],
   "source": [
    "list1=[]\n",
    "list1.append(100)\n",
    "list1.append(200)\n",
    "list1.append(300)\n",
    "list1"
   ]
  },
  {
   "cell_type": "code",
   "execution_count": 28,
   "id": "7838dd09-583e-40b4-a0db-2fcfa0c79d73",
   "metadata": {},
   "outputs": [
    {
     "ename": "TypeError",
     "evalue": "list.append() takes exactly one argument (2 given)",
     "output_type": "error",
     "traceback": [
      "\u001b[1;31m---------------------------------------------------------------------------\u001b[0m",
      "\u001b[1;31mTypeError\u001b[0m                                 Traceback (most recent call last)",
      "Cell \u001b[1;32mIn[28], line 3\u001b[0m\n\u001b[0;32m      1\u001b[0m \u001b[38;5;66;03m# can we add two values at a time in list using append ?\u001b[39;00m\n\u001b[1;32m----> 3\u001b[0m list1\u001b[38;5;241m.\u001b[39mappend(\u001b[38;5;241m10\u001b[39m,\u001b[38;5;241m20\u001b[39m)\n",
      "\u001b[1;31mTypeError\u001b[0m: list.append() takes exactly one argument (2 given)"
     ]
    }
   ],
   "source": [
    "# can we add two values at a time in list using append ?\n",
    "\n",
    "list1.append(10,20)  # no we can't add like that.. append method takes only one argument."
   ]
  },
  {
   "cell_type": "code",
   "execution_count": 30,
   "id": "721cd582-3d99-4ead-b434-ba2c3d033ee0",
   "metadata": {},
   "outputs": [
    {
     "data": {
      "text/plain": [
       "[100, 200, 300, [10, 20]]"
      ]
     },
     "execution_count": 30,
     "metadata": {},
     "output_type": "execute_result"
    }
   ],
   "source": [
    "list1.append([10,20])  # if give argument like this.. this will be treated as list. and it'll work as nested list.\n",
    "list1"
   ]
  },
  {
   "cell_type": "code",
   "execution_count": 32,
   "id": "bdb8efbf-0b7d-4b16-a99e-ae6d48a0699c",
   "metadata": {},
   "outputs": [
    {
     "data": {
      "text/plain": [
       "[100, 200, 300, [10, 20], 'mango']"
      ]
     },
     "execution_count": 32,
     "metadata": {},
     "output_type": "execute_result"
    }
   ],
   "source": [
    "list1.append('mango')\n",
    "list1"
   ]
  },
  {
   "cell_type": "markdown",
   "id": "eb658422-0627-4b9e-a282-4f61be57851a",
   "metadata": {},
   "source": [
    "#### This Below Method will be used in **Real time projects** most of time."
   ]
  },
  {
   "cell_type": "code",
   "execution_count": 36,
   "id": "6f6c8ee7-b4d0-4dfe-80e3-ab503a1f154e",
   "metadata": {},
   "outputs": [
    {
     "name": "stdout",
     "output_type": "stream",
     "text": [
      "1\n",
      "4\n",
      "9\n",
      "16\n",
      "25\n"
     ]
    }
   ],
   "source": [
    "# input list=[1,2,3,4,5]\n",
    "# create a new list=[1,4,9,16,25]\n",
    "\n",
    "# write normal python code\n",
    "list1=[1,2,3,4,5]\n",
    "for i in list1:\n",
    "    print(i*i)\n",
    "\n",
    "# i dont want print the values, i want save the output in a list."
   ]
  },
  {
   "cell_type": "code",
   "execution_count": 40,
   "id": "4238dc3d-c013-4dff-9033-f9941e85bfbd",
   "metadata": {},
   "outputs": [
    {
     "name": "stdout",
     "output_type": "stream",
     "text": [
      "[1, 4, 9, 16, 25]\n"
     ]
    }
   ],
   "source": [
    "list1=[1,2,3,4,5]\n",
    "output=[]\n",
    "for i in list1:\n",
    "    output.append(i*i)     # try to remember this method.. it will mostly be used in real time projetcs\n",
    "\n",
    "print(output)"
   ]
  },
  {
   "cell_type": "code",
   "execution_count": 102,
   "id": "cca80286-b759-4e89-a3e8-53b6e4b30b61",
   "metadata": {},
   "outputs": [
    {
     "name": "stdout",
     "output_type": "stream",
     "text": [
      "['Hyd', 'Bengaluru', 'Delhi']\n"
     ]
    }
   ],
   "source": [
    "list2=['hyd','bengaluru','delhi']\n",
    "# output=['Hyd','Bengaluru','Delhi']\n",
    "\n",
    "output2=[]\n",
    "for i in list2:\n",
    "    store=i.capitalize()\n",
    "    output2.append(store)\n",
    "print(output2)"
   ]
  },
  {
   "cell_type": "code",
   "execution_count": 106,
   "id": "0500a346-a5f5-498b-a4e8-6c6aca398ca8",
   "metadata": {},
   "outputs": [
    {
     "name": "stdout",
     "output_type": "stream",
     "text": [
      "['Hyd', 'Bengaluru', 'Delhi']\n"
     ]
    }
   ],
   "source": [
    "list2=['hyd','bengaluru','delhi']   # sir's method.\n",
    "output=[]\n",
    "for i in list2:\n",
    "    output.append(i.capitalize())\n",
    "\n",
    "print(output)"
   ]
  },
  {
   "cell_type": "code",
   "execution_count": 116,
   "id": "b083b011-5442-466d-a3ff-b38cac74cd89",
   "metadata": {},
   "outputs": [
    {
     "data": {
      "text/plain": [
       "['h#d', 'beng#luru']"
      ]
     },
     "execution_count": 116,
     "metadata": {},
     "output_type": "execute_result"
    }
   ],
   "source": [
    "list2=['h#d','beng#luru','delhi']\n",
    "\n",
    "# output=['h#d','beng#luru']\n",
    "output=[]\n",
    "for i in list2:\n",
    "    if '#' in i:\n",
    "        #print(i)\n",
    "        output.append(i)\n",
    "\n",
    "output"
   ]
  },
  {
   "cell_type": "markdown",
   "id": "823653df-ad3c-4e39-80ad-c59ba2e6eab6",
   "metadata": {},
   "source": [
    "**list comprehension**"
   ]
  },
  {
   "cell_type": "code",
   "execution_count": 119,
   "id": "715b92f9-f453-42ca-a2f7-417f9fb6c020",
   "metadata": {},
   "outputs": [
    {
     "data": {
      "text/plain": [
       "[1, 4, 9, 16, 25]"
      ]
     },
     "execution_count": 119,
     "metadata": {},
     "output_type": "execute_result"
    }
   ],
   "source": [
    "# (list comprehension means) code in single line ===== > speed up the process\n",
    "list1=[1,2,3,4,5]\n",
    "\n",
    "output=[]\n",
    "for i in list1:\n",
    "    output.append(i*i)\n",
    "output\n",
    "\n",
    "# what you have done in above code.\n",
    "# step-1: initialize the list --> output=[]\n",
    "# step-2: iterate the loop\n",
    "# step-3: you saved the output\n",
    "\n",
    "# in list comprehension you have no need of step1 and step3 lines.\n",
    "\n",
    "output1=[i*i for i in list1]\n",
    "output1\n"
   ]
  },
  {
   "cell_type": "markdown",
   "id": "c6ea1273-1149-409c-8d5e-e899b5c02e16",
   "metadata": {},
   "source": [
    "**Format for list comprehension**                    "
   ]
  },
  {
   "cell_type": "code",
   "execution_count": 127,
   "id": "964136e2-dc3e-4f76-8b18-9c1c693c44fe",
   "metadata": {},
   "outputs": [],
   "source": [
    "# [<output> <for loop>]"
   ]
  },
  {
   "cell_type": "code",
   "execution_count": 140,
   "id": "4854a08e-30cc-4f5a-9b4f-8c2bcaa34adf",
   "metadata": {},
   "outputs": [
    {
     "data": {
      "text/plain": [
       "['h#d', 'beng#luru']"
      ]
     },
     "execution_count": 140,
     "metadata": {},
     "output_type": "execute_result"
    }
   ],
   "source": [
    "list2=['h#d','beng#luru','delhi']\n",
    "'''\n",
    "# output=['h#d','beng#luru']\n",
    "output=[]\n",
    "for i in list2:\n",
    "    if '#' in i:\n",
    "        #print(i)\n",
    "        output.append(i)\n",
    "'''\n",
    "output3=[i for i in list2 if '#' in i]\n",
    "output3"
   ]
  },
  {
   "cell_type": "code",
   "execution_count": 142,
   "id": "ad1bd198-f78a-414d-b441-2dcdcaefd05e",
   "metadata": {},
   "outputs": [
    {
     "data": {
      "text/plain": [
       "['Hyd', 'Bengaluru', 'Delhi']"
      ]
     },
     "execution_count": 142,
     "metadata": {},
     "output_type": "execute_result"
    }
   ],
   "source": [
    "list2=['hyd','bengaluru','delhi']   # sir's method.\n",
    "'''\n",
    "output=[]\n",
    "for i in list2:\n",
    "    output.append(i.capitalize())\n",
    "'''\n",
    "output4=[i.capitalize() for i in list2]\n",
    "output4"
   ]
  },
  {
   "cell_type": "code",
   "execution_count": 146,
   "id": "dbba9038-11e3-4625-a94e-acb6d7c5725d",
   "metadata": {},
   "outputs": [
    {
     "data": {
      "text/plain": [
       "[1, 2, 3, 4, 5, 6, 7, 8, 9, 10, 11, 12, 13, 14, 15, 16, 17, 18, 19, 20]"
      ]
     },
     "execution_count": 146,
     "metadata": {},
     "output_type": "execute_result"
    }
   ],
   "source": [
    "# create the list of 20 numbers form 1 to 20\n",
    "\n",
    "############ Method-1 #############\n",
    "'''\n",
    "for i in range(1,21):\n",
    "    print(i)\n",
    "'''\n",
    "########### Method-2 ############\n",
    "'''\n",
    "numbers=[]\n",
    "for i in range(1,21):\n",
    "    numbers.append(i)\n",
    "numbers\n",
    "'''\n",
    "############ Method-3 ###########\n",
    "ls=[i for i in range(1,21)]\n",
    "ls"
   ]
  },
  {
   "cell_type": "code",
   "execution_count": null,
   "id": "23682a75-47a4-4862-b067-3f9a06cd8be2",
   "metadata": {},
   "outputs": [],
   "source": [
    "# list comprehension with if condition"
   ]
  },
  {
   "cell_type": "code",
   "execution_count": 150,
   "id": "5fc4454f-a27c-4482-a30a-c71a26f4c1ce",
   "metadata": {},
   "outputs": [
    {
     "data": {
      "text/plain": [
       "['h#d', 'beng#luru']"
      ]
     },
     "execution_count": 150,
     "metadata": {},
     "output_type": "execute_result"
    }
   ],
   "source": [
    "list2=['h#d','beng#luru','delhi']\n",
    "\n",
    "'''\n",
    "output=[]\n",
    "for i in list2:\n",
    "    if '#' in i:\n",
    "        #print(i)\n",
    "        output.append(i)\n",
    "'''\n",
    "# [<o/p> <forloop> <if_condition>]\n",
    "\n",
    "output3=[i for i in list2 if '#' in i]\n",
    "output3"
   ]
  },
  {
   "cell_type": "code",
   "execution_count": 162,
   "id": "13651c76-28bb-47c2-91e8-3269cd8928f6",
   "metadata": {},
   "outputs": [
    {
     "data": {
      "text/plain": [
       "['ac', 'a']"
      ]
     },
     "execution_count": 162,
     "metadata": {},
     "output_type": "execute_result"
    }
   ],
   "source": [
    "lst=['abcd','abc','ac','a']\n",
    "\n",
    "# elements less than 3\n",
    "'''\n",
    "for i in lst:\n",
    "    if len(i)<3:\n",
    "        print(i)\n",
    "'''\n",
    "op=[i for i in lst if len(i)<3]\n",
    "op"
   ]
  },
  {
   "cell_type": "code",
   "execution_count": 168,
   "id": "edeb6525-7098-4cf9-9507-c206d2e66f56",
   "metadata": {},
   "outputs": [
    {
     "data": {
      "text/plain": [
       "['odd: 1', 'even: 2', 'odd: 3', 'even: 4', 'odd: 5', 'even: 6']"
      ]
     },
     "execution_count": 168,
     "metadata": {},
     "output_type": "execute_result"
    }
   ],
   "source": [
    "lst2=[1,2,3,4,5,6]\n",
    "\n",
    "output=[]\n",
    "for i in lst2:\n",
    "    if i%2==0:\n",
    "        output.append('even: {}'.format(i))\n",
    "    else:\n",
    "        output.append('odd: {}'.format(i))\n",
    "output\n"
   ]
  },
  {
   "cell_type": "code",
   "execution_count": 170,
   "id": "6fb18bdf-1765-4a30-8c3f-bc23d1c609f2",
   "metadata": {},
   "outputs": [
    {
     "data": {
      "text/plain": [
       "['odd: 1', 'even: 2', 'odd: 3', 'even: 4', 'odd: 5', 'even: 6']"
      ]
     },
     "execution_count": 170,
     "metadata": {},
     "output_type": "execute_result"
    }
   ],
   "source": [
    "#[<if_output> <if_condition> else <else_output> <for loop>]\n",
    "\n",
    "\n",
    "output1=['even: {}'.format(i) if i%2==0 else 'odd: {}'.format(i) for i in lst2]\n",
    "output1"
   ]
  },
  {
   "cell_type": "markdown",
   "id": "0d5649d4-3f0f-4627-a62e-df971b5ba8be",
   "metadata": {},
   "source": [
    "**count**"
   ]
  },
  {
   "cell_type": "code",
   "execution_count": 25,
   "id": "358d39b4-35ad-49e2-9a68-f86985f8f36d",
   "metadata": {},
   "outputs": [
    {
     "data": {
      "text/plain": [
       "4"
      ]
     },
     "execution_count": 25,
     "metadata": {},
     "output_type": "execute_result"
    }
   ],
   "source": [
    "ls=[1,2,3,'A','B','C','D','B','B','D','D','D','C']\n",
    "ls.count('D')     #count(self, value, /) unbound builtins.list method.. Return number of occurrences of value.\n",
    "\n",
    "#help(list.count)"
   ]
  },
  {
   "cell_type": "code",
   "execution_count": 31,
   "id": "57a5a153-7c6b-42ea-bb1b-a64ddd129a9f",
   "metadata": {},
   "outputs": [
    {
     "name": "stdout",
     "output_type": "stream",
     "text": [
      "4\n"
     ]
    }
   ],
   "source": [
    "count=0\n",
    "for i in ls:          # <----- this is developer mode.. try to do question like this.\n",
    "    if i=='D':\n",
    "        count+=1\n",
    "print(count)"
   ]
  },
  {
   "cell_type": "markdown",
   "id": "30a26a63-4c04-46f4-b0a1-d7944270ed16",
   "metadata": {},
   "source": [
    "**Extend**"
   ]
  },
  {
   "cell_type": "code",
   "execution_count": 36,
   "id": "2ce13a52-6288-452d-a728-a0d0c0ed15bb",
   "metadata": {},
   "outputs": [
    {
     "name": "stdout",
     "output_type": "stream",
     "text": [
      "['a', 'b', 'c', 1, 2, 3]\n"
     ]
    }
   ],
   "source": [
    "ls1=[1,2,3]\n",
    "ls2=['a','b','c']\n",
    "\n",
    "# help(list.extend)\n",
    "\n",
    "ls2.extend(ls1)    # <------- means extending your list.\n",
    "print(ls2)\n",
    "\n",
    "# here the ls2 will be updated with ls1 values.\n",
    "\n",
    "# Normal English Meaning of iterable ? \n",
    "# while using for loop what you can print that data type is a iterable data type..\n",
    "# you can print each and every element while using for loop."
   ]
  },
  {
   "cell_type": "code",
   "execution_count": 40,
   "id": "669934a2-795b-4ed9-897f-e29182542e64",
   "metadata": {},
   "outputs": [
    {
     "name": "stdout",
     "output_type": "stream",
     "text": [
      "[1, 2, 3, 'a', 'b', 'c']\n"
     ]
    }
   ],
   "source": [
    "ls1=[1,2,3]\n",
    "ls2=['a','b','c']\n",
    "ls1=ls1+ls2\n",
    "\n",
    "print(ls1)          # you need explore questions like this."
   ]
  },
  {
   "cell_type": "markdown",
   "id": "c2daeb04-e6ae-4141-9902-3f9d712f8b64",
   "metadata": {},
   "source": [
    "**append** vs **extend** vs **concat**\n",
    "\n",
    "- append will add the element at last, that element can by any type.\n",
    "  - list1=[1,2,3]\n",
    "  - list2=['a','b']\n",
    "  - list1.append(list2)=[1,2,3,['a','b']]\n",
    "\n",
    "\n",
    "- extend will update the list by adding new elements, the result also save in a same list.\n",
    "  - list1=[1,2,3]\n",
    "  - list2=['a','b']\n",
    "  - list1.append(list2)=[1,2,3,'a','b']\n",
    "\n",
    " \n",
    "- concat will add two list, but the result will not update in a same list.\n",
    "  - list1=[1,2,3]\n",
    "  - list2=['a','b']\n",
    "  - list1+list2=[1,2,3,'a','b']"
   ]
  },
  {
   "cell_type": "markdown",
   "id": "3665a2b6-3f46-4607-a9e0-bb6d49178f20",
   "metadata": {},
   "source": [
    "## **iterator**"
   ]
  },
  {
   "cell_type": "markdown",
   "id": "879f317b-9784-42df-9c19-97a28e041a50",
   "metadata": {},
   "source": [
    "- whenever you'll listen iterator word then you need to recall loop \n",
    "  - iterator word ====== > loop\n",
    "  - the elements we can print using for loop\n",
    "  - string='python'    we can print each letter using for loop\n",
    "  - list1=[1,2,3]      we can print each element using for loop\n",
    "\n",
    "- second things will be come into your mind will be these data types.. strings, list, tuple, dictionary..\n",
    "- integer will not iterate. float will not iterate. complex will not iterate. "
   ]
  },
  {
   "cell_type": "code",
   "execution_count": 52,
   "id": "74888731-f630-444f-880c-ccf724834692",
   "metadata": {},
   "outputs": [
    {
     "data": {
      "text/plain": [
       "<reversed at 0x1c6adb03730>"
      ]
     },
     "execution_count": 52,
     "metadata": {},
     "output_type": "execute_result"
    }
   ],
   "source": [
    "val=reversed('python')  #Return a reverse iterator over the values of the given sequence.\n",
    "val\n",
    "#help(reversed)"
   ]
  },
  {
   "cell_type": "code",
   "execution_count": 48,
   "id": "5ae7734a-5ade-4ec6-ab1f-21b40aa1019a",
   "metadata": {},
   "outputs": [
    {
     "name": "stdout",
     "output_type": "stream",
     "text": [
      "n\n",
      "o\n",
      "h\n",
      "t\n",
      "y\n",
      "p\n"
     ]
    }
   ],
   "source": [
    "for i in val:\n",
    "    print(i)"
   ]
  },
  {
   "cell_type": "code",
   "execution_count": 74,
   "id": "9604d18c-dd68-4cbf-b11a-77ae51b10e13",
   "metadata": {},
   "outputs": [
    {
     "data": {
      "text/plain": [
       "[1, 2, 3, 'p', 'y', 't', 'h', 'o', 'n', 'python']"
      ]
     },
     "execution_count": 74,
     "metadata": {},
     "output_type": "execute_result"
    }
   ],
   "source": [
    "list1=[1,2,3]\n",
    "list1.extend('python')\n",
    "list1.append('python')\n",
    "list1"
   ]
  },
  {
   "cell_type": "markdown",
   "id": "7708f7a4-3ff8-4177-b1ce-f13f7dd3323f",
   "metadata": {},
   "source": [
    "**pop - remove - del**"
   ]
  },
  {
   "cell_type": "code",
   "execution_count": 76,
   "id": "bf98191a-50c4-4375-b692-af48e54b216b",
   "metadata": {},
   "outputs": [
    {
     "data": {
      "text/plain": [
       "[1, 2, 3, 'p', 'y', 't', 'h', 'o', 'n', 'python']"
      ]
     },
     "execution_count": 76,
     "metadata": {},
     "output_type": "execute_result"
    }
   ],
   "source": [
    "list1"
   ]
  },
  {
   "cell_type": "code",
   "execution_count": 78,
   "id": "fc2dac84-5a3b-4116-842b-a997ee60dcea",
   "metadata": {},
   "outputs": [
    {
     "data": {
      "text/plain": [
       "'python'"
      ]
     },
     "execution_count": 78,
     "metadata": {},
     "output_type": "execute_result"
    }
   ],
   "source": [
    "list1.pop()\n",
    "\n",
    "#help(list.pop)"
   ]
  },
  {
   "cell_type": "code",
   "execution_count": 80,
   "id": "7d25559f-4f11-4485-a05b-0532678567ff",
   "metadata": {},
   "outputs": [
    {
     "data": {
      "text/plain": [
       "[1, 2, 3, 'p', 'y', 't', 'h', 'o', 'n']"
      ]
     },
     "execution_count": 80,
     "metadata": {},
     "output_type": "execute_result"
    }
   ],
   "source": [
    "list1"
   ]
  },
  {
   "cell_type": "code",
   "execution_count": 111,
   "id": "e5c5ebc5-94be-44c2-b0c7-4fa6a937fc07",
   "metadata": {},
   "outputs": [
    {
     "data": {
      "text/plain": [
       "4"
      ]
     },
     "execution_count": 111,
     "metadata": {},
     "output_type": "execute_result"
    }
   ],
   "source": [
    "list1\n",
    "list1.pop(5)  # list1.pop(list1.index('t')) <---- this is soft coding practice.. you can also listcode like this.\n",
    "\n",
    "# apply shift + tab inside the pop bracket and read it.\n",
    "\n",
    "# inside bracket default argument is there -->  index=-1\n",
    "# -1 means last value.\n",
    "# if you not provide any value.\n",
    "# it will remove last value.\n",
    "# if i provide any index, it will remove that element.\n",
    "\n",
    "# it is also returning, which element it is removing."
   ]
  },
  {
   "cell_type": "code",
   "execution_count": 92,
   "id": "1e3c5228-87d5-4200-929c-c2adead59018",
   "metadata": {},
   "outputs": [
    {
     "data": {
      "text/plain": [
       "[200, 100, 300]"
      ]
     },
     "execution_count": 92,
     "metadata": {},
     "output_type": "execute_result"
    }
   ],
   "source": [
    "list1=[100,200,100,300]  # duplicates are allowed.\n",
    "list1.remove(100)        # first occurence will gone.\n",
    "list1                    # it will not return any value"
   ]
  },
  {
   "cell_type": "code",
   "execution_count": 94,
   "id": "f1af049f-ab5e-4faf-b233-267812f699dd",
   "metadata": {},
   "outputs": [],
   "source": [
    "del(list1)  # this will peremently deletes your list. AND DELETE IS KEYWORD NOT A METHOD.\n"
   ]
  },
  {
   "cell_type": "code",
   "execution_count": 88,
   "id": "c0252a5b-9fa3-4da7-8be9-a71b6441efe4",
   "metadata": {},
   "outputs": [
    {
     "ename": "NameError",
     "evalue": "name 'list1' is not defined",
     "output_type": "error",
     "traceback": [
      "\u001b[1;31m---------------------------------------------------------------------------\u001b[0m",
      "\u001b[1;31mNameError\u001b[0m                                 Traceback (most recent call last)",
      "Cell \u001b[1;32mIn[88], line 1\u001b[0m\n\u001b[1;32m----> 1\u001b[0m list1\n",
      "\u001b[1;31mNameError\u001b[0m: name 'list1' is not defined"
     ]
    }
   ],
   "source": [
    "list1"
   ]
  },
  {
   "cell_type": "code",
   "execution_count": 98,
   "id": "99ab2f62-bc90-4c66-80fd-80a207a051f6",
   "metadata": {},
   "outputs": [
    {
     "data": {
      "text/plain": [
       "[100, 200, 300]"
      ]
     },
     "execution_count": 98,
     "metadata": {},
     "output_type": "execute_result"
    }
   ],
   "source": [
    "list1=[100,200,100,300]\n",
    "del list1[2]              # this will delete 2nd index value from list.\n",
    "list1"
   ]
  },
  {
   "cell_type": "markdown",
   "id": "6c15fc2b-69d4-465b-a12e-7d114ade177e",
   "metadata": {},
   "source": [
    "- explore below methods..\n",
    "\n",
    "  \n",
    "   - index   vs   multiple values\n",
    "     \n",
    "   - insert  vs   append\n",
    "     \n",
    "   - reverse asending and desending ==== reversed\n",
    "     \n",
    "   - sort    ==== sorted\n",
    " \n",
    "   - difference between reverse and sort\n",
    " \n",
    "     \n",
    " \n",
    "#get all the differences all the information"
   ]
  },
  {
   "cell_type": "code",
   "execution_count": 103,
   "id": "cfdef4ff-e199-419e-ac53-6d83017ad43e",
   "metadata": {},
   "outputs": [
    {
     "data": {
      "text/plain": [
       "4"
      ]
     },
     "execution_count": 103,
     "metadata": {},
     "output_type": "execute_result"
    }
   ],
   "source": [
    "# try to avoid hard coding.. like this below\n",
    "ls1=[1,2,3,5,2,7,2,3,4,7]\n",
    "ls1.index(2,2,6)"
   ]
  },
  {
   "cell_type": "code",
   "execution_count": 109,
   "id": "0c32c7c6-1416-4ae9-93af-7f8dd27949f7",
   "metadata": {},
   "outputs": [
    {
     "data": {
      "text/plain": [
       "4"
      ]
     },
     "execution_count": 109,
     "metadata": {},
     "output_type": "execute_result"
    }
   ],
   "source": [
    "list1=[1,2,3,4,2,4,3]   # do coding like this.\n",
    "f_index=list1.index(2)\n",
    "list1.index(2,f_index+1)"
   ]
  },
  {
   "cell_type": "markdown",
   "id": "0fb54023-e237-4137-8294-9c8b0d27c031",
   "metadata": {},
   "source": [
    "**zip**\n",
    "\n",
    "- whenever you have 2 list is there you need to use the zip method to retrive the values."
   ]
  },
  {
   "cell_type": "code",
   "execution_count": 132,
   "id": "fe8827cc-3650-4288-9a09-ffca2e59e8d5",
   "metadata": {},
   "outputs": [
    {
     "name": "stdout",
     "output_type": "stream",
     "text": [
      "Ram age is 25\n",
      "Robert age is 30\n",
      "Raheem age is 35\n"
     ]
    }
   ],
   "source": [
    "list1=['Ram','Robert','Raheem']\n",
    "list2=[25,30,35]\n",
    "\n",
    "for i,j in zip(list1,list2):\n",
    "    print(\"{} age is {}\".format(i,j))\n",
    "        "
   ]
  },
  {
   "cell_type": "code",
   "execution_count": 144,
   "id": "22a43e76-5e53-44e0-acfb-e663987eaff7",
   "metadata": {},
   "outputs": [
    {
     "data": {
      "text/plain": [
       "[125, 230, 335]"
      ]
     },
     "execution_count": 144,
     "metadata": {},
     "output_type": "execute_result"
    }
   ],
   "source": [
    "list1=[100,200,300]\n",
    "list2=[25,30,35]\n",
    "'''\n",
    "list3=[]\n",
    "for i,j in zip(list1,list2):\n",
    "    list3.append(i+j)\n",
    "list3\n",
    "'''\n",
    "\n",
    "output=[i+j for i,j in zip(list1,list2)]\n",
    "output"
   ]
  },
  {
   "cell_type": "code",
   "execution_count": null,
   "id": "8b8db6f5-d883-4055-8e98-437c0b8e1b4a",
   "metadata": {},
   "outputs": [],
   "source": [
    "# take 5 questions in list1\n",
    "# take corresponding 5 answers in another list2\n",
    "# iterate through list1\n",
    "# every quetion should print\n",
    "# answer=input(\"tell the answer\")\n",
    "# answer will check in list2 \n",
    "# if it is there : marks=marks+1\n",
    "# else: No marks\n",
    "\n",
    "# how many write answers you made, how may answers you got\n",
    "\n",
    "######################################\n",
    "# list1=['Who is PM of india','What is the capital of india','Who is President of india']\n",
    "# list2=['Modi','Delhi','Draupadi']\n",
    "# marks=0\n",
    "# correct_answr=0\n",
    "# for i in range(len(list1)):\n",
    "#   print('Q1:'<>)\n",
    "#   answer=input(\"enter the answer\")\n",
    "#   if answer.lower()==list2.index(i):\n",
    "#          marks+=1\n",
    "#  "
   ]
  },
  {
   "cell_type": "code",
   "execution_count": null,
   "id": "f949637c-a9e5-4fac-9fd5-00446f68f30a",
   "metadata": {},
   "outputs": [],
   "source": []
  },
  {
   "cell_type": "code",
   "execution_count": null,
   "id": "bf2a0aa2-1756-40d0-b84b-3179d5cc2775",
   "metadata": {},
   "outputs": [],
   "source": []
  }
 ],
 "metadata": {
  "kernelspec": {
   "display_name": "Python 3 (ipykernel)",
   "language": "python",
   "name": "python3"
  },
  "language_info": {
   "codemirror_mode": {
    "name": "ipython",
    "version": 3
   },
   "file_extension": ".py",
   "mimetype": "text/x-python",
   "name": "python",
   "nbconvert_exporter": "python",
   "pygments_lexer": "ipython3",
   "version": "3.12.4"
  }
 },
 "nbformat": 4,
 "nbformat_minor": 5
}
