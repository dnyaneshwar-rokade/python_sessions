{
 "cells": [
  {
   "cell_type": "markdown",
   "id": "05e34a1f-6680-470c-a3fa-3a899160e181",
   "metadata": {},
   "source": [
    "## Common Errors in Code"
   ]
  },
  {
   "cell_type": "code",
   "execution_count": 4,
   "id": "71c83f39-3f72-4653-9981-134478eaa4ef",
   "metadata": {},
   "outputs": [
    {
     "name": "stdin",
     "output_type": "stream",
     "text": [
      "enter a number1:  5\n",
      "enter a number2:  2\n"
     ]
    },
    {
     "ename": "NameError",
     "evalue": "name 'num3' is not defined",
     "output_type": "error",
     "traceback": [
      "\u001b[1;31m---------------------------------------------------------------------------\u001b[0m",
      "\u001b[1;31mNameError\u001b[0m                                 Traceback (most recent call last)",
      "Cell \u001b[1;32mIn[4], line 4\u001b[0m\n\u001b[0;32m      2\u001b[0m num1\u001b[38;5;241m=\u001b[39m\u001b[38;5;28meval\u001b[39m(\u001b[38;5;28minput\u001b[39m(\u001b[38;5;124m'\u001b[39m\u001b[38;5;124menter a number1: \u001b[39m\u001b[38;5;124m'\u001b[39m))\n\u001b[0;32m      3\u001b[0m num2\u001b[38;5;241m=\u001b[39m\u001b[38;5;28meval\u001b[39m(\u001b[38;5;28minput\u001b[39m(\u001b[38;5;124m'\u001b[39m\u001b[38;5;124menter a number2: \u001b[39m\u001b[38;5;124m'\u001b[39m))\n\u001b[1;32m----> 4\u001b[0m add\u001b[38;5;241m=\u001b[39mnum1\u001b[38;5;241m+\u001b[39mnum3\n\u001b[0;32m      5\u001b[0m \u001b[38;5;28mprint\u001b[39m(add)\n",
      "\u001b[1;31mNameError\u001b[0m: name 'num3' is not defined"
     ]
    }
   ],
   "source": [
    "# error-1 : Name error : num3 is not defined # need to check variable are defined before or not\n",
    "\n",
    "num1=eval(input('enter a number1: '))\n",
    "num2=eval(input('enter a number2: '))\n",
    "add=num1+num3\n",
    "print(add)"
   ]
  },
  {
   "cell_type": "code",
   "execution_count": 6,
   "id": "2bb4005c-0b03-4e12-b834-e40f4c843b20",
   "metadata": {},
   "outputs": [
    {
     "ename": "SyntaxError",
     "evalue": "'(' was never closed (3811477893.py, line 2)",
     "output_type": "error",
     "traceback": [
      "\u001b[1;36m  Cell \u001b[1;32mIn[6], line 2\u001b[1;36m\u001b[0m\n\u001b[1;33m    num1=eval(input('enter a number1: ')\u001b[0m\n\u001b[1;37m             ^\u001b[0m\n\u001b[1;31mSyntaxError\u001b[0m\u001b[1;31m:\u001b[0m '(' was never closed\n"
     ]
    }
   ],
   "source": [
    "# error-2 : Syntax error : # need to check the brackets\n",
    "\n",
    "num1=eval(input('enter a number1: ')\n",
    "num2=eval(input('enter a number2: '))\n",
    "add=num1+num3\n",
    "print(add)"
   ]
  },
  {
   "cell_type": "code",
   "execution_count": 12,
   "id": "06e0307f-63a7-4026-961e-2f1a8f216032",
   "metadata": {},
   "outputs": [
    {
     "name": "stdin",
     "output_type": "stream",
     "text": [
      "enter a number1:  10\n",
      "enter a number2:  0\n"
     ]
    },
    {
     "ename": "ZeroDivisionError",
     "evalue": "division by zero",
     "output_type": "error",
     "traceback": [
      "\u001b[1;31m---------------------------------------------------------------------------\u001b[0m",
      "\u001b[1;31mZeroDivisionError\u001b[0m                         Traceback (most recent call last)",
      "Cell \u001b[1;32mIn[12], line 4\u001b[0m\n\u001b[0;32m      2\u001b[0m num1\u001b[38;5;241m=\u001b[39m\u001b[38;5;28meval\u001b[39m(\u001b[38;5;28minput\u001b[39m(\u001b[38;5;124m'\u001b[39m\u001b[38;5;124menter a number1: \u001b[39m\u001b[38;5;124m'\u001b[39m))\n\u001b[0;32m      3\u001b[0m num2\u001b[38;5;241m=\u001b[39m\u001b[38;5;28meval\u001b[39m(\u001b[38;5;28minput\u001b[39m(\u001b[38;5;124m'\u001b[39m\u001b[38;5;124menter a number2: \u001b[39m\u001b[38;5;124m'\u001b[39m))\n\u001b[1;32m----> 4\u001b[0m div\u001b[38;5;241m=\u001b[39mnum1\u001b[38;5;241m/\u001b[39mnum2\n\u001b[0;32m      5\u001b[0m \u001b[38;5;28mprint\u001b[39m(div)\n",
      "\u001b[1;31mZeroDivisionError\u001b[0m: division by zero"
     ]
    }
   ],
   "source": [
    "# error-3 : Zero Division Error: # need to check division by zero \n",
    "\n",
    "num1=eval(input('enter a number1: '))\n",
    "num2=eval(input('enter a number2: '))\n",
    "div=num1/num2\n",
    "print(div)"
   ]
  },
  {
   "cell_type": "code",
   "execution_count": 18,
   "id": "69d913f2-0141-4883-b457-8440acd49681",
   "metadata": {},
   "outputs": [
    {
     "name": "stdin",
     "output_type": "stream",
     "text": [
      "enter a number1:  10\n",
      "enter a number2:  20\n"
     ]
    },
    {
     "ename": "TypeError",
     "evalue": "unsupported operand type(s) for /: 'str' and 'int'",
     "output_type": "error",
     "traceback": [
      "\u001b[1;31m---------------------------------------------------------------------------\u001b[0m",
      "\u001b[1;31mTypeError\u001b[0m                                 Traceback (most recent call last)",
      "Cell \u001b[1;32mIn[18], line 4\u001b[0m\n\u001b[0;32m      2\u001b[0m num1\u001b[38;5;241m=\u001b[39m(\u001b[38;5;28minput\u001b[39m(\u001b[38;5;124m'\u001b[39m\u001b[38;5;124menter a number1: \u001b[39m\u001b[38;5;124m'\u001b[39m))\n\u001b[0;32m      3\u001b[0m num2\u001b[38;5;241m=\u001b[39m\u001b[38;5;28meval\u001b[39m(\u001b[38;5;28minput\u001b[39m(\u001b[38;5;124m'\u001b[39m\u001b[38;5;124menter a number2: \u001b[39m\u001b[38;5;124m'\u001b[39m))\n\u001b[1;32m----> 4\u001b[0m add\u001b[38;5;241m=\u001b[39mnum1\u001b[38;5;241m/\u001b[39mnum2\n\u001b[0;32m      5\u001b[0m \u001b[38;5;28mprint\u001b[39m(add)\n",
      "\u001b[1;31mTypeError\u001b[0m: unsupported operand type(s) for /: 'str' and 'int'"
     ]
    }
   ],
   "source": [
    "# error-4 : Type error # you'll need check the data types..\n",
    "\n",
    "num1=(input('enter a number1: '))\n",
    "num2=eval(input('enter a number2: '))\n",
    "add=num1/num2\n",
    "print(add)   "
   ]
  },
  {
   "cell_type": "code",
   "execution_count": 20,
   "id": "b3ead65e-f8a4-4cbc-91d2-e68aeba92944",
   "metadata": {},
   "outputs": [
    {
     "ename": "SyntaxError",
     "evalue": "Missing parentheses in call to 'print'. Did you mean print(...)? (1100585414.py, line 6)",
     "output_type": "error",
     "traceback": [
      "\u001b[1;36m  Cell \u001b[1;32mIn[20], line 6\u001b[1;36m\u001b[0m\n\u001b[1;33m    print add\u001b[0m\n\u001b[1;37m    ^\u001b[0m\n\u001b[1;31mSyntaxError\u001b[0m\u001b[1;31m:\u001b[0m Missing parentheses in call to 'print'. Did you mean print(...)?\n"
     ]
    }
   ],
   "source": [
    "# error-5 \n",
    "\n",
    "num1=(input('enter a number1: '))\n",
    "num2=eval(input('enter a number2: '))\n",
    "add=num1/num2\n",
    "print add"
   ]
  },
  {
   "cell_type": "code",
   "execution_count": 24,
   "id": "3ba187b1-e6bc-49bb-96ff-b5340353e8c8",
   "metadata": {},
   "outputs": [
    {
     "name": "stdin",
     "output_type": "stream",
     "text": [
      "enter a number1:  10\n",
      "enter a number2:  10\n"
     ]
    },
    {
     "ename": "NameError",
     "evalue": "name 'Print' is not defined",
     "output_type": "error",
     "traceback": [
      "\u001b[1;31m---------------------------------------------------------------------------\u001b[0m",
      "\u001b[1;31mNameError\u001b[0m                                 Traceback (most recent call last)",
      "Cell \u001b[1;32mIn[24], line 6\u001b[0m\n\u001b[0;32m      4\u001b[0m num2\u001b[38;5;241m=\u001b[39m\u001b[38;5;28meval\u001b[39m(\u001b[38;5;28minput\u001b[39m(\u001b[38;5;124m'\u001b[39m\u001b[38;5;124menter a number2: \u001b[39m\u001b[38;5;124m'\u001b[39m))\n\u001b[0;32m      5\u001b[0m add\u001b[38;5;241m=\u001b[39mnum1\u001b[38;5;241m/\u001b[39mnum2\n\u001b[1;32m----> 6\u001b[0m Print(add)\n",
      "\u001b[1;31mNameError\u001b[0m: name 'Print' is not defined"
     ]
    }
   ],
   "source": [
    "# error-6 \n",
    "\n",
    "num1=eval(input('enter a number1: '))\n",
    "num2=eval(input('enter a number2: '))\n",
    "add=num1/num2\n",
    "Print(add)"
   ]
  },
  {
   "cell_type": "code",
   "execution_count": 48,
   "id": "374a0953-aa03-400c-96c4-27285ffb31ad",
   "metadata": {},
   "outputs": [
    {
     "name": "stdin",
     "output_type": "stream",
     "text": [
      "enter number1:  10\n",
      "enter number2:  12\n",
      "enter number3:  13\n"
     ]
    },
    {
     "ename": "IndexError",
     "evalue": "Replacement index 3 out of range for positional args tuple",
     "output_type": "error",
     "traceback": [
      "\u001b[1;31m---------------------------------------------------------------------------\u001b[0m",
      "\u001b[1;31mIndexError\u001b[0m                                Traceback (most recent call last)",
      "Cell \u001b[1;32mIn[48], line 6\u001b[0m\n\u001b[0;32m      4\u001b[0m num3\u001b[38;5;241m=\u001b[39m\u001b[38;5;28meval\u001b[39m(\u001b[38;5;28minput\u001b[39m(\u001b[38;5;124m'\u001b[39m\u001b[38;5;124menter number3: \u001b[39m\u001b[38;5;124m'\u001b[39m))\n\u001b[0;32m      5\u001b[0m avg\u001b[38;5;241m=\u001b[39m(num1\u001b[38;5;241m+\u001b[39mnum2\u001b[38;5;241m+\u001b[39mnum3)\u001b[38;5;241m/\u001b[39m\u001b[38;5;241m3\u001b[39m\n\u001b[1;32m----> 6\u001b[0m \u001b[38;5;28mprint\u001b[39m(\u001b[38;5;124m\"\u001b[39m\u001b[38;5;124mthe average of \u001b[39m\u001b[38;5;132;01m{}\u001b[39;00m\u001b[38;5;124m,\u001b[39m\u001b[38;5;132;01m{}\u001b[39;00m\u001b[38;5;124m and \u001b[39m\u001b[38;5;132;01m{}\u001b[39;00m\u001b[38;5;124m is \u001b[39m\u001b[38;5;132;01m{}\u001b[39;00m\u001b[38;5;124m\"\u001b[39m\u001b[38;5;241m.\u001b[39mformat(num1,num2,num3))\n",
      "\u001b[1;31mIndexError\u001b[0m: Replacement index 3 out of range for positional args tuple"
     ]
    }
   ],
   "source": [
    "# error -7 Index error :\n",
    "num1=eval(input('enter number1: '))\n",
    "num2=eval(input('enter number2: '))\n",
    "num3=eval(input('enter number3: '))\n",
    "avg=(num1+num2+num3)/3\n",
    "print(\"the average of {},{} and {} is {}\".format(num1,num2,num3))"
   ]
  },
  {
   "cell_type": "markdown",
   "id": "43245a2f-8ca4-4ed0-9e5d-c7fb67f4164f",
   "metadata": {},
   "source": [
    "## Exception Handling\n",
    "\n",
    "- exception handling nothing but a error capturing.. whenever error is there immediately code will go to exception block.\n",
    "- suppose you have written 500 lines of code\n",
    "at 200 line you got an error\n",
    "this error is might not impact your code\n",
    "so you want to execute after 200 line also."
   ]
  },
  {
   "cell_type": "markdown",
   "id": "cc24c69f-d4e6-40f7-acfa-baf1dce34ff7",
   "metadata": {},
   "source": [
    "$try$--$except$\n",
    "\n",
    "- there are two blocks\n",
    "- one try block\n",
    "- another is exception block\n",
    "- your code will be there in try block\n",
    "- error capture will happens in except block\n",
    "- indentation : maintain space\n",
    "- red : space/indentation not maintained properly\n",
    "- indentation has minimum 4 charaters : imp for interviw."
   ]
  },
  {
   "cell_type": "code",
   "execution_count": 40,
   "id": "5c3c9c75-3408-49e8-8dd3-7daf5f154934",
   "metadata": {},
   "outputs": [
    {
     "name": "stdout",
     "output_type": "stream",
     "text": [
      "60\n"
     ]
    }
   ],
   "source": [
    "try:\n",
    "    num1=10\n",
    "    num2=20\n",
    "    num3=30\n",
    "    add=num1+num2+num3\n",
    "    print(add)\n",
    "except:\n",
    "    print('error in code, check code')"
   ]
  },
  {
   "cell_type": "code",
   "execution_count": 42,
   "id": "e4ad44ac-81b7-4e66-b4d1-28af29c606d7",
   "metadata": {},
   "outputs": [
    {
     "name": "stdout",
     "output_type": "stream",
     "text": [
      "error in code, check code\n"
     ]
    }
   ],
   "source": [
    "try:\n",
    "    num1=10\n",
    "    num2=0\n",
    "    num3=30\n",
    "    add=num1/num2  #10/0 ===> Zero Div Error\n",
    "    print(add)\n",
    "except:\n",
    "    print('error in code, check code')"
   ]
  },
  {
   "cell_type": "code",
   "execution_count": 46,
   "id": "f26644a5-29a3-45b7-a171-4850a899f124",
   "metadata": {},
   "outputs": [
    {
     "name": "stdin",
     "output_type": "stream",
     "text": [
      "enter number1:  20\n",
      "enter number2:  45\n",
      "enter number3:  62\n",
      "enter number4:  19\n",
      "enter number5:  57\n",
      "enter number6:  36\n"
     ]
    },
    {
     "name": "stdout",
     "output_type": "stream",
     "text": [
      "the average of 20,45,62,19,57 and 36 is 39.833333333333336\n"
     ]
    }
   ],
   "source": [
    "#wap ask the user enter 6 numbers and find the average\n",
    "num1=eval(input('enter number1: '))\n",
    "num2=eval(input('enter number2: '))\n",
    "num3=eval(input('enter number3: '))\n",
    "num4=eval(input('enter number4: '))\n",
    "num5=eval(input('enter number5: '))\n",
    "num6=eval(input('enter number6: '))\n",
    "avg=(num1+num2+num3+num4+num5+num6)/6\n",
    "print(\"the average of {},{},{},{},{} and {} is {}\".format(num1,num2,num3,num4,num5,num6,avg))"
   ]
  },
  {
   "cell_type": "code",
   "execution_count": 58,
   "id": "e58c606a-66b4-47cb-9d2d-e7447464c001",
   "metadata": {},
   "outputs": [
    {
     "name": "stdin",
     "output_type": "stream",
     "text": [
      "enter number1:  10\n",
      "enter number2:  11\n",
      "enter number3:  12\n",
      "enter number4:  13\n",
      "enter number5:  14\n",
      "enter number6:  15\n"
     ]
    },
    {
     "name": "stdout",
     "output_type": "stream",
     "text": [
      "name 'num5555' is not defined\n"
     ]
    }
   ],
   "source": [
    "\"\"\"if you copy paste a long code then you need to maintain indentation and\n",
    "you'll see that only first line of code is indentate so remove it's identation and\n",
    "align your code in straight line and select the all code and hit tab button your code gets indented.\"\"\"\n",
    "try:\n",
    "    num1=eval(input('enter number1: '))   \n",
    "    num2=eval(input('enter number2: '))\n",
    "    num3=eval(input('enter number3: '))\n",
    "    num4=eval(input('enter number4: '))\n",
    "    num5=eval(input('enter number5: '))\n",
    "    num6=eval(input('enter number6: '))\n",
    "    avg=(num1+num2+num3+num4+num5555+num6)/6\n",
    "    print(\"the average of {},{},{},{},{} and {} is {}\".format(num1,num2,num3,num4,num5,num6,avg))\n",
    "except Exception as e:\n",
    "    print(e)   \n",
    "\n",
    "#if you'll see print msg it wont going to help, so with it, print the error also for better understanding so use Exception as e to print it.\n",
    "    "
   ]
  },
  {
   "cell_type": "code",
   "execution_count": 68,
   "id": "3c3ace50-490b-4b66-a141-cd305cf7d7a9",
   "metadata": {},
   "outputs": [
    {
     "ename": "SyntaxError",
     "evalue": "expected 'except' or 'finally' block (1533010504.py, line 8)",
     "output_type": "error",
     "traceback": [
      "\u001b[1;36m  Cell \u001b[1;32mIn[68], line 8\u001b[1;36m\u001b[0m\n\u001b[1;33m    print('out')\u001b[0m\n\u001b[1;37m    ^\u001b[0m\n\u001b[1;31mSyntaxError\u001b[0m\u001b[1;31m:\u001b[0m expected 'except' or 'finally' block\n"
     ]
    }
   ],
   "source": [
    "print('=========')\n",
    "print(3+9)\n",
    "print('**********')\n",
    "try:\n",
    "    n=eval(input('enter a num: '))\n",
    "    print(\"the square of {} is {}\".format(n,n22*n))\n",
    "    \n",
    "print('out')\n",
    "\n",
    "except Exception as e:\n",
    "    print('hii')\n",
    "    print(e)\n",
    "    print('hello')\n",
    "\n",
    "print('python')\n",
    "print(1)\n",
    "print(2)\n",
    "\n",
    "#n=100\n",
    "#error ===== exception\n",
    "            # hii\n",
    "            # error\n",
    "            # hello\n",
    "# python\n",
    "# 1\n",
    "# 2"
   ]
  },
  {
   "cell_type": "markdown",
   "id": "45986740-fbcd-4beb-af08-bd23872ba862",
   "metadata": {},
   "source": [
    "only try block content is printed"
   ]
  },
  {
   "cell_type": "markdown",
   "id": "0a8e120e-b884-4bf1-8771-43aed68d1248",
   "metadata": {},
   "source": [
    "- if your code is with out error , try block will execute\n",
    "- if your code has errors, it will redirect to except block\n",
    "- what ever you written inside except block that will run\n",
    "- try and exception is together\n",
    "- ones try and execptions code are complete, it try to look any other lines of code are there\n",
    "- do not add code outside of block in between try and except block. it will give you error ex:print('out')"
   ]
  },
  {
   "cell_type": "code",
   "execution_count": 72,
   "id": "87052743-b7b1-4629-9612-3978d5ea93e4",
   "metadata": {},
   "outputs": [
    {
     "ename": "IndentationError",
     "evalue": "unindent does not match any outer indentation level (<string>, line 5)",
     "output_type": "error",
     "traceback": [
      "\u001b[1;36m  File \u001b[1;32m<string>:5\u001b[1;36m\u001b[0m\n\u001b[1;33m    print('hello')\u001b[0m\n\u001b[1;37m                  ^\u001b[0m\n\u001b[1;31mIndentationError\u001b[0m\u001b[1;31m:\u001b[0m unindent does not match any outer indentation level\n"
     ]
    }
   ],
   "source": [
    "#error - 8 : Indentation Error\n",
    "\n",
    "try:\n",
    "    print('hi')\n",
    "  print('hello')\n",
    "except Exception as e:\n",
    "    print(e)\n"
   ]
  },
  {
   "cell_type": "code",
   "execution_count": null,
   "id": "4573eb0f-d711-4aba-8718-64d63cda7cf3",
   "metadata": {},
   "outputs": [],
   "source": []
  }
 ],
 "metadata": {
  "kernelspec": {
   "display_name": "Python 3 (ipykernel)",
   "language": "python",
   "name": "python3"
  },
  "language_info": {
   "codemirror_mode": {
    "name": "ipython",
    "version": 3
   },
   "file_extension": ".py",
   "mimetype": "text/x-python",
   "name": "python",
   "nbconvert_exporter": "python",
   "pygments_lexer": "ipython3",
   "version": "3.12.4"
  }
 },
 "nbformat": 4,
 "nbformat_minor": 5
}
