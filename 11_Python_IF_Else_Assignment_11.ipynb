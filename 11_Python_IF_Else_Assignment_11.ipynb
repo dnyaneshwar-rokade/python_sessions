{
 "cells": [
  {
   "cell_type": "markdown",
   "metadata": {
    "id": "EcGuwpIHuZXL"
   },
   "source": [
    "# Class- Assignment - General and On Conditional statements\n",
    "\n",
    "**Below questions are included on Basic Python as well as on if-elif-else statement**"
   ]
  },
  {
   "cell_type": "code",
   "execution_count": null,
   "metadata": {
    "colab": {
     "base_uri": "https://localhost:8080/"
    },
    "id": "O-Ail8KztkWl",
    "outputId": "945801b1-e68a-4e7e-a59a-f185431b2bea"
   },
   "outputs": [
    {
     "name": "stdout",
     "output_type": "stream",
     "text": [
      "The Firm Need to Pay 444$ For Working 37 hours.\n"
     ]
    }
   ],
   "source": [
    "\"\"\"\n",
    "Suppose that a Firm pays its employee at the rate of $12 per hour. An employee has worked for 37hours.\n",
    "How much should the firm pay the employee? (Do normal way directly takes the input)\n",
    "\"\"\"\n",
    "\n",
    "try:\n",
    "  rate=12\n",
    "  workhour=37\n",
    "  firm_pay=rate*workhour\n",
    "  print(\"The Firm Need to Pay {}$ For Working {} hours.\".format(firm_pay,workhour))\n",
    "except Exception as e:\n",
    "  print(e)\n"
   ]
  },
  {
   "cell_type": "code",
   "execution_count": null,
   "metadata": {
    "colab": {
     "base_uri": "https://localhost:8080/"
    },
    "id": "6f6M-jypwxaY",
    "outputId": "bdd455da-1bec-45e5-c77a-6a200ba77bf9"
   },
   "outputs": [
    {
     "name": "stdout",
     "output_type": "stream",
     "text": [
      "Please enter your working hour here: 40\n",
      "The Firm Need to Pay 480$ For Working 40 hours.\n"
     ]
    }
   ],
   "source": [
    "\"\"\"\n",
    "How about prompting the user for the number of hours and using the input value to compute\n",
    "thetotal pay? (Above problem use eval concept and sep concept)\n",
    "\"\"\"\n",
    "\n",
    "try:\n",
    "  rate=12\n",
    "  workhour=eval(input('Please enter your working hour here: '))\n",
    "  firm_pay=rate*workhour\n",
    "  print(\"The Firm Need to Pay {}$ For Working {} hours.\".format(firm_pay,workhour))\n",
    "except Exception as e:\n",
    "  print(e)"
   ]
  },
  {
   "cell_type": "code",
   "execution_count": null,
   "metadata": {
    "colab": {
     "base_uri": "https://localhost:8080/"
    },
    "id": "3PrJfTwbw6Il",
    "outputId": "e8c728e5-71c7-4be3-9871-961f84f04cc1"
   },
   "outputs": [
    {
     "name": "stdout",
     "output_type": "stream",
     "text": [
      "Enter marks for quiz 1 out of 20: 19\n",
      "Enter marks for quiz 2 out of 20: 19\n",
      "Enter marks for Class test out of 50: 49\n",
      "Enter marks for assignment out of 100: 99\n",
      "Enter marks for project out of 200: 199\n",
      "The Overall Marks You Got : 98.1\n"
     ]
    }
   ],
   "source": [
    "\"\"\"\n",
    "For a certain academic subject the students are evaluated based on five tests - * Quiz 1 (20\n",
    "marks - 10% Weight),\n",
    "* Quiz 2 (20 marks - 10% Weight),\n",
    "* Class test (50 marks - 25% Weight),\n",
    "* Assignment (100 marks - 25% weight) and\n",
    "* Project (200 marks - 30% weight).\n",
    "Design a program that will prompt the user for marks for each of the tests and calculate the overall marks\n",
    "(out of 100).\n",
    "\"\"\"\n",
    "try:\n",
    "  quiz1=float(input('Enter marks for quiz 1 out of 20: '))\n",
    "  quiz2=float(input('Enter marks for quiz 2 out of 20: '))\n",
    "  class_test=float(input('Enter marks for Class test out of 50: '))\n",
    "  assignment=float(input('Enter marks for assignment out of 100: '))\n",
    "  project=float(input('Enter marks for project out of 200: '))\n",
    "\n",
    "  quiz1_weight=0.10\n",
    "  quiz2_weight=0.10\n",
    "  quiz3_weight=0.25\n",
    "  quiz4_weight=0.25\n",
    "  quiz5_weight=0.30\n",
    "\n",
    "  cal_quiz1=(quiz1/20)*quiz1_weight*100\n",
    "  cal_quiz2=(quiz2/20)*quiz2_weight*100\n",
    "  cal_quiz3=(class_test/50)*quiz3_weight*100\n",
    "  cal_quiz4=(assignment/100)*quiz4_weight*100\n",
    "  cal_quiz5=(project/200)*quiz5_weight*100\n",
    "\n",
    "  overall_marks=(cal_quiz1+cal_quiz2+cal_quiz3+cal_quiz4+cal_quiz5)\n",
    "  print(\"The Overall Marks You Got : {}\".format(overall_marks))\n",
    "except Exception as e:\n",
    "  print(e)\n",
    "\n"
   ]
  },
  {
   "cell_type": "code",
   "execution_count": null,
   "metadata": {
    "colab": {
     "base_uri": "https://localhost:8080/"
    },
    "id": "cwoAWSApw6SU",
    "outputId": "5596dc26-a780-4455-d609-93c822ea6823"
   },
   "outputs": [
    {
     "name": "stdout",
     "output_type": "stream",
     "text": [
      "Enter a Five Digit Number : 22222\n",
      "Sum of Digits is: 10\n"
     ]
    }
   ],
   "source": [
    "\"\"\"\n",
    "If a five-digit number is input through the keyboard,\n",
    "write a program to calculate the sum of its digits.\n",
    "\"\"\"\n",
    "try:\n",
    "  num=input('Enter a Five Digit Number : ')\n",
    "  if len(num)==5:\n",
    "    number=int(num)\n",
    "\n",
    "    fifth=number%10\n",
    "    a1=number//10\n",
    "    fourth=a1%10\n",
    "    a2=a1//10\n",
    "    third=a2%10\n",
    "    a3=a2//10\n",
    "    second=a3%10\n",
    "    a4=a3//10\n",
    "    first=a4%10\n",
    "\n",
    "    add=(fifth+fourth+third+second+first)\n",
    "    print('Sum of Digits is:',add)\n",
    "\n",
    "  else:\n",
    "    print('error')\n",
    "\n",
    "except Exception as e:\n",
    "  print(e)"
   ]
  },
  {
   "cell_type": "code",
   "execution_count": null,
   "metadata": {
    "colab": {
     "base_uri": "https://localhost:8080/"
    },
    "id": "IUVHBeBow6VU",
    "outputId": "53174154-bdba-40f3-a984-4fafe8999748"
   },
   "outputs": [
    {
     "name": "stdout",
     "output_type": "stream",
     "text": [
      "Enter a Five Digit Number : 12345\n",
      "+1 output is : 2 3 4 5 6 "
     ]
    }
   ],
   "source": [
    "\"\"\"\n",
    "If a five-digit number is input through the keyboard, write a program to print a new number by adding one to each\n",
    "of its digits. For example if the number that is input is 12371 then the output should be displayed as 23482.\n",
    "\"\"\"\n",
    "try:\n",
    "  num=input('Enter a Five Digit Number : ')\n",
    "  if len(num)==5:\n",
    "    number=int(num)\n",
    "\n",
    "    fifth=(number%10)+1\n",
    "    a1=number//10\n",
    "    fourth=(a1%10)+1\n",
    "    a2=a1//10\n",
    "    third=(a2%10)+1\n",
    "    a3=a2//10\n",
    "    second=(a3%10)+1\n",
    "    a4=a3//10\n",
    "    first=(a4%10)+1\n",
    "\n",
    "    d1=(first)\n",
    "    d2=(second)\n",
    "    d3=(third)\n",
    "    d4=(fourth)\n",
    "    d5=(fifth)\n",
    "    print('+1 output is :',d1,d2,d3,d4,d5, end=' ')\n",
    "\n",
    "  else:\n",
    "    print('error')\n",
    "\n",
    "except Exception as e:\n",
    "  print(e)\n"
   ]
  },
  {
   "cell_type": "code",
   "execution_count": null,
   "metadata": {
    "id": "NR6iB-Hfw6YM",
    "outputId": "d5f2f6ae-9b64-48d4-e0ad-a8fa69e1d3a9"
   },
   "outputs": [
    {
     "name": "stdin",
     "output_type": "stream",
     "text": [
      "Enter marks for quiz 1 out of 20:  15\n",
      "Enter marks for quiz 2 out of 20:  15\n",
      "Enter marks for Class test out of 50:  40\n",
      "Enter marks for assignment out of 100:  50\n",
      "Enter marks for project out of 200:  100\n"
     ]
    },
    {
     "name": "stdout",
     "output_type": "stream",
     "text": [
      "The Overall Marks You Got : 62.5\n",
      "First Class\n"
     ]
    }
   ],
   "source": [
    "\n",
    "'''\n",
    "#### Add an extension to the problem to display grades:\n",
    "Display the grades of students using the following table:\n",
    "Score Grade\n",
    ">= 60 First Class\n",
    ">= 40 Second Class\n",
    "< 40 Fail\n",
    "'''\n",
    "\n",
    "\n",
    "try:\n",
    "  quiz1=float(input('Enter marks for quiz 1 out of 20: '))\n",
    "  quiz2=float(input('Enter marks for quiz 2 out of 20: '))\n",
    "  class_test=float(input('Enter marks for Class test out of 50: '))\n",
    "  assignment=float(input('Enter marks for assignment out of 100: '))\n",
    "  project=float(input('Enter marks for project out of 200: '))\n",
    "\n",
    "  quiz1_weight=0.10\n",
    "  quiz2_weight=0.10\n",
    "  quiz3_weight=0.25\n",
    "  quiz4_weight=0.25\n",
    "  quiz5_weight=0.30\n",
    "\n",
    "  cal_quiz1=(quiz1/20)*quiz1_weight*100\n",
    "  cal_quiz2=(quiz2/20)*quiz2_weight*100\n",
    "  cal_quiz3=(class_test/50)*quiz3_weight*100\n",
    "  cal_quiz4=(assignment/100)*quiz4_weight*100\n",
    "  cal_quiz5=(project/200)*quiz5_weight*100\n",
    "\n",
    "  overall_marks=(cal_quiz1+cal_quiz2+cal_quiz3+cal_quiz4+cal_quiz5)\n",
    "  print(\"The Overall Marks You Got : {}\".format(overall_marks))\n",
    "\n",
    "  if overall_marks>=60:\n",
    "      print(\"First Class\")\n",
    "  elif overall_marks>=40:\n",
    "      print(\"Second Class\")\n",
    "  else:\n",
    "      print(\"Fail\")\n",
    "\n",
    "except Exception as e:\n",
    "  print(e)"
   ]
  },
  {
   "cell_type": "code",
   "execution_count": null,
   "metadata": {
    "id": "V5p39L94w6aU",
    "outputId": "751d75d1-f6aa-4dd5-bd99-e682609ac406"
   },
   "outputs": [
    {
     "name": "stdin",
     "output_type": "stream",
     "text": [
      "Please enter your working hour here:  20\n",
      "Please enter working Rate here:  nine\n"
     ]
    },
    {
     "name": "stdout",
     "output_type": "stream",
     "text": [
      "Error, Please Enter Numeric input\n"
     ]
    }
   ],
   "source": [
    "'''\n",
    "#### Problem-8\n",
    "** try & except **\n",
    "Rewrite the pay program (refer problem 2) using try and expect so that the program handles non\n",
    "numeric input gracefully by printing a message and exiting the program. The following shows\n",
    "twoexecutions of the program:\n",
    "Enter hours: 20\n",
    "Enter rate: nine\n",
    "Error, please enter numeric input\n",
    "'''\n",
    "\n",
    "try:\n",
    "  workhour=eval(input('Please enter your working hour here: '))\n",
    "  rate=eval(input('Please enter working Rate here: '))\n",
    "  firm_pay=rate*workhour\n",
    "  print(\"The Firm Need to Pay {}$ For Working {} hours.\".format(firm_pay,workhour))\n",
    "except:\n",
    "  print(\"Error, Please Enter Numeric input\")"
   ]
  },
  {
   "cell_type": "code",
   "execution_count": null,
   "metadata": {
    "id": "ZEHvdvABL_Tu",
    "outputId": "37249af3-1f56-4d74-eeb7-4730daa1f339"
   },
   "outputs": [
    {
     "name": "stdin",
     "output_type": "stream",
     "text": [
      "enter a length in centimeters:  40\n"
     ]
    },
    {
     "name": "stdout",
     "output_type": "stream",
     "text": [
      "The Conversion of 40 centimeter to Inches is : 15.748031496062993 inch\n"
     ]
    }
   ],
   "source": [
    "'''\n",
    "Write a program that asks the user to enter a length in centimeters. If the user enters a negativelength,\n",
    "the program should tell the user that the entry is invalid. Otherwise, the program shouldconvert the\n",
    "length to inches and print out the result. There are 2.54 centimeters in an inch.\n",
    "'''\n",
    "try:\n",
    "    inch=2.54\n",
    "    centi=eval(input('enter a length in centimeters: '))\n",
    "    if centi>=0:\n",
    "        length=(centi/inch)\n",
    "        print('The Conversion of {} centimeter to Inches is : {} inch'.format(centi,length))\n",
    "    else:\n",
    "        print('It is a Negative Length..Enter a valid length')\n",
    "except Exception as e:\n",
    "    print(e)"
   ]
  },
  {
   "cell_type": "code",
   "execution_count": null,
   "metadata": {
    "id": "tTq_pB4FL_Tv",
    "outputId": "7a939bd8-006a-4640-f8c9-b1b7e3afe83f"
   },
   "outputs": [
    {
     "name": "stdin",
     "output_type": "stream",
     "text": [
      "Enter Temperature Here:  40\n",
      "Please Mention your Entered Temperature Unit Here (Celsius/Fahrenheit) or (C/F):  c\n"
     ]
    },
    {
     "name": "stdout",
     "output_type": "stream",
     "text": [
      "The Conversion of 40 Celsius to Fahrenheit is : 104°F \n"
     ]
    }
   ],
   "source": [
    "'''\n",
    "Ask the user for a temperature. Then ask them what units, Celsius or Fahrenheit,\n",
    "the temperatureisin.\n",
    "Your program should convert the temperature to the other unit.\n",
    "The conversions are F = 9 5 C +32 and C = 5 9 (F− 32).\n",
    "'''\n",
    "try:\n",
    "    temp=eval(input('Enter Temperature Here: '))\n",
    "    unit=input('Please Mention your Entered Temperature Unit Here (Celsius/Fahrenheit) or (C/F): ')\n",
    "    if unit=='Celsius' or unit=='celsius' or unit=='C' or unit=='c':\n",
    "        convert=(temp*9/5)+32\n",
    "        print('The Conversion of {} Celsius to Fahrenheit is : {}°F '.format(temp,round(convert)))\n",
    "    elif unit=='Fahrenheit' or unit=='fahrenheit' or unit=='F' or unit=='f':\n",
    "        convert=(temp-32)*5/9\n",
    "        print('The Conversion of {} Fahrenheit to Celsius is : {}°C '.format(temp,round(convert)))\n",
    "    else:\n",
    "        print ('invalid input please try again')\n",
    "except Exception as e:\n",
    "    print(e)"
   ]
  },
  {
   "cell_type": "code",
   "execution_count": null,
   "metadata": {
    "id": "DnFU2Y3gL_Tv",
    "outputId": "a0f4527d-682d-413a-eb8b-feda2f967d87"
   },
   "outputs": [
    {
     "name": "stdin",
     "output_type": "stream",
     "text": [
      "please enter a temperature in celsius:  101\n"
     ]
    },
    {
     "name": "stdout",
     "output_type": "stream",
     "text": [
      "temperature is above the boiling point.\n"
     ]
    }
   ],
   "source": [
    "'''\n",
    "Ask the user to enter a temperature in Celsius. The program should print a message based on\n",
    "the temperature:\n",
    "• If the temperature is less than -273.15, print that the temperature is invalid because it is below absolute\n",
    "zero.\n",
    "• If it is exactly -273.15, print that the temperature is absolute 0.\n",
    "• If the temperature is between -273.15 and 0, print that the temperature is below freezing.\n",
    "• If it is 0, print that the temperature is at the freezing point.\n",
    "• If it is between 0 and 100, print that the temperature is in the normal range.\n",
    "• If it is 100, print that the temperature is at the boiling point.\n",
    "• If it is above 100, print that the temperature is above the boiling point.\n",
    "'''\n",
    "try:\n",
    "    temp=eval(input('please enter a temperature in celsius: '))\n",
    "    if temp<-273.15:\n",
    "        print('the temperature is invalid because it is below absolute zero.')\n",
    "    elif temp==-273.15:\n",
    "        print('the temperature is at the freezing point.')\n",
    "    elif 100>temp>0:\n",
    "        print('the temperature is in the normal range.')\n",
    "    elif temp==100:\n",
    "        print('the temperature is at the boiling point.')\n",
    "    elif temp>100:\n",
    "        print('temperature is above the boiling point.')\n",
    "    else:\n",
    "        print('invalid input please try again')\n",
    "except Exception as e:\n",
    "    print(e)"
   ]
  },
  {
   "cell_type": "code",
   "execution_count": null,
   "metadata": {
    "id": "gCJQ1O1oL_Tw",
    "outputId": "85418011-b491-4024-bcad-218b712f568f"
   },
   "outputs": [
    {
     "name": "stdin",
     "output_type": "stream",
     "text": [
      "enter how many credits you have taken here:  23\n"
     ]
    },
    {
     "name": "stdout",
     "output_type": "stream",
     "text": [
      "you are a freshman\n"
     ]
    }
   ],
   "source": [
    "'''\n",
    "Write a program that asks the user how many credits they have taken.\n",
    "If they have taken 23 or less, print that the student is a freshman.\n",
    "If they have taken between 24 and 53, print that they are asophomore.\n",
    "The range for juniors is 54 to 83, and for seniors it is 84 and over.\n",
    "'''\n",
    "try:\n",
    "    credit=eval(input('enter how many credits you have taken here: '))\n",
    "    if credit<=23:\n",
    "        print('you are a freshman')\n",
    "    elif 53>=credit>=24:\n",
    "        print('you are a sophomore')\n",
    "    elif 83>=credit>=54:\n",
    "        print('you are a junior')\n",
    "    else:\n",
    "        print('you are a senior')\n",
    "except Exception as e:\n",
    "    print(e)"
   ]
  },
  {
   "cell_type": "code",
   "execution_count": null,
   "metadata": {
    "id": "3M14HXECL_Tw",
    "outputId": "863eea7b-e77c-441a-c820-f168385a4acf"
   },
   "outputs": [
    {
     "name": "stdin",
     "output_type": "stream",
     "text": [
      "guess the random number by enter a number here:  8\n"
     ]
    },
    {
     "name": "stdout",
     "output_type": "stream",
     "text": [
      "you guessed it WRONG, random number is 2 and your number is 8\n"
     ]
    }
   ],
   "source": [
    "'''\n",
    "Generate a random number between 1 and 10. Ask the user to guess the number and print a message based on\n",
    "whether they get it right or not.\n",
    "'''\n",
    "from random import randint\n",
    "try:\n",
    "    number=randint(1,10)\n",
    "    guess=eval(input('guess the random number by enter a number here: '))\n",
    "    if guess==number:\n",
    "        print('you guessed it RIGHT number is : {}'.format(number))\n",
    "    else:\n",
    "        print('you guessed it WRONG, random number is {} and your number is {}'.format(number,guess))\n",
    "except Exception as e:\n",
    "    print(e)"
   ]
  },
  {
   "cell_type": "code",
   "execution_count": null,
   "metadata": {
    "id": "KNQ4mOI8L_Tx",
    "outputId": "7ca91061-7fca-4b3d-f137-a75c39035013"
   },
   "outputs": [
    {
     "name": "stdin",
     "output_type": "stream",
     "text": [
      "Enter How Many Items You are Buying Here:  9\n"
     ]
    },
    {
     "name": "stdout",
     "output_type": "stream",
     "text": [
      "Your Total Cost for 9 items is 108$\n"
     ]
    }
   ],
   "source": [
    "'''\n",
    "A store charges $12 per item if you buy less than 10 items. If you buy between 10 and 99 items,\n",
    "thecost is $10 per item. If you buy 100 or more items, the cost is $7 per item.\n",
    "Write a program that asks the user how many items they are buying and prints the total cost.\n",
    "'''\n",
    "try:\n",
    "    item=eval(input('Enter How Many Items You are Buying Here: '))\n",
    "    if item<10:\n",
    "        cost=item*12\n",
    "        print('Your Total Cost for {} items is {}$'.format(item,cost))\n",
    "    elif 99>=item>=10:\n",
    "        cost=item*10\n",
    "        print('Your Total Cost for {} items is {}$'.format(item,cost))\n",
    "    else:\n",
    "        cost=item*7\n",
    "        print('Your Total Cost for {} items is {}$'.format(item,cost))\n",
    "except Exception as e:\n",
    "    print(e)"
   ]
  },
  {
   "cell_type": "code",
   "execution_count": null,
   "metadata": {
    "id": "G_Oh42aNL_Tx",
    "outputId": "b74cab26-0bd6-4a56-bf81-7f4d4b1abd51"
   },
   "outputs": [
    {
     "name": "stdin",
     "output_type": "stream",
     "text": [
      "enter a number 1:  0.1\n",
      "enter a number 2:  0.999\n"
     ]
    },
    {
     "name": "stdout",
     "output_type": "stream",
     "text": [
      "not close\n"
     ]
    }
   ],
   "source": [
    "'''\n",
    "Write a program that asks the user for two numbers and prints Close if the numbers are within\n",
    ".001of each other and Not close otherwise.\n",
    "'''\n",
    "try:\n",
    "    num1=eval(input('enter a number 1: '))\n",
    "    num2=eval(input('enter a number 2: '))\n",
    "\n",
    "    diff=abs(num1-num2)      #The absolute difference between the two numbers is calculated using abs()\n",
    "\n",
    "    if diff<=0.001:\n",
    "        print('close')\n",
    "    else:\n",
    "        print('not close')\n",
    "except Exception as e:\n",
    "    print(e)"
   ]
  },
  {
   "cell_type": "code",
   "execution_count": null,
   "metadata": {
    "id": "QguDvqxkL_Tx",
    "outputId": "e59c7fc3-e68c-4a54-d766-dd745fa99bf3"
   },
   "outputs": [
    {
     "name": "stdin",
     "output_type": "stream",
     "text": [
      "enter a year to check weather it's leap year or not :  2028\n"
     ]
    },
    {
     "name": "stdout",
     "output_type": "stream",
     "text": [
      "Year 2028 is a Leap Year\n"
     ]
    }
   ],
   "source": [
    "'''\n",
    "A year is a leap year if it is divisible by 4,\n",
    "except that years divisible by 100 are not leap years unless they are also divisible by 400.\n",
    "Write a program that asks the user for a year and prints out whether it is a leap year or not.\n",
    "'''\n",
    "try:\n",
    "    year=eval(input(\"enter a year to check weather it's leap year or not : \"))\n",
    "    if (year%4)==0 or (year%400)==0:\n",
    "        print(\"Year {} is a Leap Year\".format(year))\n",
    "    else:\n",
    "        print(\"Year {} is NOT a Leap Year\".format(year))\n",
    "except Exception as e:\n",
    "    print(e)"
   ]
  },
  {
   "cell_type": "code",
   "execution_count": null,
   "metadata": {
    "id": "uE4okCzbL_Tx",
    "outputId": "18a79640-dde6-4456-b19e-7729c5146213"
   },
   "outputs": [
    {
     "name": "stdin",
     "output_type": "stream",
     "text": [
      "Enter a number:  10\n"
     ]
    },
    {
     "name": "stdout",
     "output_type": "stream",
     "text": [
      "Divisors of 10 are:\n",
      "1\n",
      "2\n",
      "5\n",
      "10\n"
     ]
    }
   ],
   "source": [
    "'''\n",
    "Write a program that asks the user to enter a number and\n",
    "prints out all the divisors of that number.\n",
    "[Hint: the % operator is used to tell if a number is divisible by something.\n",
    "'''\n",
    "def find_divisors(number, i=1):\n",
    "    if i>number:\n",
    "        return\n",
    "    if number%i==0:\n",
    "        print(i)\n",
    "    find_divisors(number,i+1)\n",
    "\n",
    "num=int(input(\"Enter a number: \"))\n",
    "print(f\"Divisors of {number} are:\")\n",
    "find_divisors(num)"
   ]
  },
  {
   "cell_type": "code",
   "execution_count": 27,
   "metadata": {
    "colab": {
     "base_uri": "https://localhost:8080/"
    },
    "id": "B845O0Bsw6fV",
    "outputId": "6ca34df5-e7ed-4343-d793-5aa29085f033"
   },
   "outputs": [
    {
     "name": "stdout",
     "output_type": "stream",
     "text": [
      "enter an hour between 1 and 12: 11\n",
      "enter am or pm : am\n",
      "how many hours ahead future you want to go ? : 11\n",
      "new time is 10 pm\n"
     ]
    }
   ],
   "source": [
    "\n",
    "'''\n",
    "Write a program that asks the user for an hour between 1 and 12, asks them to enter am or pm,\n",
    "and asks them how many hours into the future they want to go.\n",
    "Print out what the hour will be that many hours into the future, printing am or pm as appropriate.\n",
    "An example is shown below.\n",
    "\n",
    "Enter hour: 8\n",
    "am (1) or pm (2)? 1\n",
    "How many hours ahead? 5\n",
    "New hour: 1 pm\n",
    "'''\n",
    "try:\n",
    "  hour=eval(input('enter an hour between 1 and 12: '))\n",
    "  noon=str(input('enter am or pm : '))\n",
    "  ahead=eval(input('how many hours ahead future you want to go ? : '))\n",
    "  am='am'\n",
    "  pm='pm'\n",
    "  new=hour+ahead\n",
    "  if new>=12 and noon=='am':\n",
    "    print('new time is {} {}'.format((new%12),pm))\n",
    "  elif new<12 and noon=='pm':\n",
    "    print('new time is {} {}'.format((new%12),pm))\n",
    "  elif new<12 and noon=='am':\n",
    "    print('new time is {} {}'.format((new%12),am))\n",
    "  else:\n",
    "    print('invalid input.. please enter hours between 1 to 12')\n",
    "except Exception as e:\n",
    "  print(e)"
   ]
  },
  {
   "cell_type": "code",
   "execution_count": null,
   "metadata": {},
   "outputs": [],
   "source": []
  },
  {
   "cell_type": "code",
   "execution_count": null,
   "metadata": {},
   "outputs": [],
   "source": []
  },
  {
   "cell_type": "code",
   "execution_count": null,
   "metadata": {},
   "outputs": [],
   "source": []
  },
  {
   "cell_type": "code",
   "execution_count": null,
   "metadata": {},
   "outputs": [],
   "source": []
  }
 ],
 "metadata": {
  "colab": {
   "provenance": []
  },
  "kernelspec": {
   "display_name": "Python 3 (ipykernel)",
   "language": "python",
   "name": "python3"
  },
  "language_info": {
   "codemirror_mode": {
    "name": "ipython",
    "version": 3
   },
   "file_extension": ".py",
   "mimetype": "text/x-python",
   "name": "python",
   "nbconvert_exporter": "python",
   "pygments_lexer": "ipython3",
   "version": "3.12.4"
  }
 },
 "nbformat": 4,
 "nbformat_minor": 4
}
