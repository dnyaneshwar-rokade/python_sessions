{
  "cells": [
    {
      "cell_type": "markdown",
      "metadata": {
        "id": "hP81MXtHwXVc"
      },
      "source": [
        "# Python Assignment-02"
      ]
    },
    {
      "cell_type": "code",
      "execution_count": null,
      "metadata": {
        "colab": {
          "base_uri": "https://localhost:8080/"
        },
        "id": "eFl0HmZTv07_",
        "outputId": "b68bb49a-849b-4528-80a6-14adcabd26fd"
      },
      "outputs": [
        {
          "name": "stdout",
          "output_type": "stream",
          "text": [
            "Please Enter Your Basic Salary : 50000\n",
            "Dear User Your Gross Salary is :  60000.0\n"
          ]
        }
      ],
      "source": [
        "'''\n",
        "1) Ramesh's basic salary is input through the keyboard. his dearness allowance\n",
        "   is 40% of basic salary, and house rent allowance is 20% of basic salary.\n",
        "   Write a program to calculate his gross salary.\n",
        "'''\n",
        "\n",
        "try:\n",
        "  salary=eval(input(\"Please Enter Your Basic Salary : \"))\n",
        "  dear_allow=salary*40/100\n",
        "  rent=salary*20/100\n",
        "  gross_salary=salary+dear_allow-rent\n",
        "  print('Dear User Your Gross Salary is : ',gross_salary)\n",
        "except Exception as e:\n",
        "  print(e)"
      ]
    },
    {
      "cell_type": "code",
      "execution_count": null,
      "metadata": {
        "colab": {
          "base_uri": "https://localhost:8080/"
        },
        "id": "4VVtTY2hy1IA",
        "outputId": "1f99b983-720b-43f6-8dc8-0ba8d268dfaf"
      },
      "outputs": [
        {
          "name": "stdout",
          "output_type": "stream",
          "text": [
            "Please Enter Distance Between Two Cities in Km : 13\n",
            "Distance Between two cities is : 13.00 Km \n",
            "Conversion of 13.00 Km in Meters is : 13000.00\n",
            "Conversion of 13.00 Km in Feet is : 42650.92\n",
            "Conversion of 13.00 Km in Centimeters : 1300000.00\n"
          ]
        }
      ],
      "source": [
        "'''\n",
        "The distance between two cities (in km) is input the keyboard. write a program\n",
        "to convert and print this distance in meters, feet, inches and centimeters.\n",
        "'''\n",
        "#1km=3280.84 foot\n",
        "#1km=1000 meters\n",
        "#1km=100000 centimeters\n",
        "\n",
        "try:\n",
        "  distance=eval(input('Please Enter Distance Between Two Cities in Km : '))\n",
        "  meters=distance*1000\n",
        "  feet=distance*3280.84\n",
        "  centi=distance*100000\n",
        "  print(\"Distance Between two cities is : %.2f Km \" %distance)\n",
        "  print(\"Conversion of %.2f Km in Meters is : %.2f\" %(distance,meters))\n",
        "  print(\"Conversion of %.2f Km in Feet is : %.2f\" %(distance,feet))\n",
        "  print(\"Conversion of %.2f Km in Centimeters : %.2f\" %(distance,centi))\n",
        "except Exception as e:\n",
        "  print(e)"
      ]
    },
    {
      "cell_type": "code",
      "execution_count": null,
      "metadata": {
        "colab": {
          "base_uri": "https://localhost:8080/"
        },
        "id": "vjh-8CD230nj",
        "outputId": "0b400cda-feee-4715-be38-6d7001627ef0"
      },
      "outputs": [
        {
          "name": "stdout",
          "output_type": "stream",
          "text": [
            "enter marks of subject 1 : 102\n",
            "enter marks of subject 2 : 156\n",
            "enter marks of subject 3 : 174\n",
            "enter marks of subject 4 : 156\n",
            "enter marks of subject 5 : 123\n",
            "Please Enter Correct Marks.. Enter Between 1 to 100 : \n"
          ]
        }
      ],
      "source": [
        "\"\"\"\n",
        "if the marks obtained by a student in five different subjects are input through\n",
        "the keyboard. find out the aggregate marks and percentage marks obtained by the\n",
        "student. assume that the maximum marks that can be obtained by a student in each\n",
        "subject is 100.\n",
        "\"\"\"\n",
        "try:\n",
        "  sub1=eval(input('enter marks of subject 1 : '))\n",
        "  sub2=eval(input('enter marks of subject 2 : '))\n",
        "  sub3=eval(input('enter marks of subject 3 : '))\n",
        "  sub4=eval(input('enter marks of subject 4 : '))\n",
        "  sub5=eval(input('enter marks of subject 5 : '))\n",
        "  if (sub1<100) and (sub2<100) and (sub3<100) and (sub4<100) and (sub5<100):\n",
        "    aggr_marks=(sub1+sub2+sub3+sub4+sub5)\n",
        "    prcnt=(aggr_marks/500)*100\n",
        "    print(\"Your Aggregate Marks are %.2f out of 500\" %aggr_marks)\n",
        "    print(\"Your Percentage Marks are %.2f\" %prcnt)\n",
        "  else:\n",
        "    print(\"Please Enter Correct Marks.. Enter Between 1 to 100 : \")\n",
        "except Exception as e:\n",
        "  print(e)\n",
        "\n"
      ]
    },
    {
      "cell_type": "code",
      "execution_count": null,
      "metadata": {
        "colab": {
          "base_uri": "https://localhost:8080/"
        },
        "id": "fs8faKzh9d3h",
        "outputId": "2b532800-6c1c-4a0b-e924-e2774b6c446e"
      },
      "outputs": [
        {
          "name": "stdout",
          "output_type": "stream",
          "text": [
            "Please enter temprature of your city : 105\n",
            "Conversion of 105.00 °F Fehrenheit into Centigrade degrees is 40.56 °C\n"
          ]
        }
      ],
      "source": [
        "\"\"\"\n",
        "Temprature of a city in Fahrenheit degrees is input through the keyboard.\n",
        "write a program to convert this temprature into centigrade degrees.\n",
        "\"\"\"\n",
        "#°C = (°F - 32) × 5/9\n",
        "\n",
        "try:\n",
        "  fehren=eval(input(\"Please enter temprature of your city : \"))\n",
        "  conv=(fehren-32)*5/9\n",
        "  print(\"Conversion of %.2f °F Fehrenheit into Centigrade degrees is %.2f °C\" %(fehren,conv))\n",
        "except Exception as e:\n",
        "  print(e)"
      ]
    },
    {
      "cell_type": "code",
      "execution_count": null,
      "metadata": {
        "colab": {
          "base_uri": "https://localhost:8080/"
        },
        "id": "ISduJbK_D4F-",
        "outputId": "9a66c6cb-3d9b-4368-a04b-566ccbadc5f8"
      },
      "outputs": [
        {
          "name": "stdout",
          "output_type": "stream",
          "text": [
            "enter length of rectangle : 5\n",
            "enter breadth of rectangle : 7\n",
            "enter radius of circle : 1.8\n",
            "Area of Rectangle is 35.00 and Perimeter of Rectangle is 24.00\n",
            "Area of Circle is 10.18 and Circumference of Circle is 11.31\n"
          ]
        }
      ],
      "source": [
        "\"\"\"\n",
        "The length & breadth of a rectangle and radius of a circle are input through the\n",
        "keyboard. write a program to calculate the area & perimeter of the rectangle,\n",
        "and the area & circumference of the circle.\n",
        "\"\"\"\n",
        "# Formula: Area = Length * Width\n",
        "# Formula: Perimeter = 2 * (Length + Width)\n",
        "# circumference = 2 * pi * r\n",
        "# area = pi * r * r\n",
        "# pi=3.14159\n",
        "\n",
        "try:\n",
        "  pi=3.14159\n",
        "  len=eval(input(\"enter length of rectangle : \"))\n",
        "  bred=eval(input(\"enter breadth of rectangle : \"))\n",
        "  rad=eval(input(\"enter radius of circle : \"))\n",
        "\n",
        "  #Calculations for rectangle\n",
        "  area_rec=len*bred\n",
        "  peri=2*(len+bred)\n",
        "\n",
        "  #Calculations for circle\n",
        "  circum=2*pi*rad\n",
        "  area_cir=pi*rad*rad\n",
        "\n",
        "  #Output results\n",
        "  print(\"Area of Rectangle is %.2f and Perimeter of Rectangle is %.2f\" %(area_rec,peri))\n",
        "  print(\"Area of Circle is %.2f and Circumference of Circle is %.2f\" %(area_cir,circum))\n",
        "except Exception as e:\n",
        "  print(e)"
      ]
    },
    {
      "cell_type": "code",
      "execution_count": null,
      "metadata": {
        "colab": {
          "base_uri": "https://localhost:8080/"
        },
        "id": "-lUzF2cqGMfo",
        "outputId": "7928212f-7ecc-4f88-fbd6-bb29c4a40b25"
      },
      "outputs": [
        {
          "name": "stdout",
          "output_type": "stream",
          "text": [
            "Enter a number for location C : 10\n",
            "Enter a number for location D : 20\n",
            "The interchange contents of C is 20 and D is 10\n"
          ]
        }
      ],
      "source": [
        "\"\"\"\n",
        "Two numbers are input through the keyboard into two locations C and D. Write a\n",
        "program to interchange the contents of C and D\n",
        "\"\"\"\n",
        "\n",
        "try:\n",
        "  c=eval(input(\"Enter a number for location C : \"))\n",
        "  d=eval(input(\"Enter a number for location D : \"))\n",
        "\n",
        "  temp=c   #temp is a temporary storage used to hold the value of one of the variables.\n",
        "  c=d\n",
        "  d=temp\n",
        "  print(\"The interchange contents of C is {} and D is {}\".format(c,d))\n",
        "except Exception as e:\n",
        "  print(e)"
      ]
    },
    {
      "cell_type": "code",
      "execution_count": null,
      "metadata": {
        "colab": {
          "base_uri": "https://localhost:8080/"
        },
        "id": "PDDFdfO19WaN",
        "outputId": "c20c7521-24c9-4e09-dc81-4df5de12532f"
      },
      "outputs": [
        {
          "name": "stdout",
          "output_type": "stream",
          "text": [
            "enter a number here : 45612\n",
            "The Reversed Number is :  21654\n"
          ]
        }
      ],
      "source": [
        "\"\"\"\n",
        "if a five-digit number is input through the keyboard, write a program to reverse\n",
        "the number\n",
        "\"\"\"\n",
        "\n",
        "try:\n",
        "  num=input('Enter a Four Digit Number : ')\n",
        "  if len(num)==4:\n",
        "    number=int(num)\n",
        "  \n",
        "    fourth=number%10\n",
        "    a1=number//10\n",
        "    third=a1%10\n",
        "    a2=a1//10\n",
        "    second=a2%10\n",
        "    a3=a2//10\n",
        "    first=a3%10\n",
        "\n",
        "    reverse=(fourth,third,second,first)\n",
        "    print(reverse,end=\" \")\n",
        "\n",
        "  else:\n",
        "    print('error')\n",
        "\n",
        "except Exception as e:\n",
        "  print(e)\n",
        "\n",
        "\n",
        "'''\n",
        "try:\n",
        "  num=input(\"enter a number here : \")\n",
        "  if len(num)==5 and num.isdigit():\n",
        "    rev_num=num[::-1]\n",
        "    print(\"The Reversed Number is : \",rev_num)\n",
        "  else:\n",
        "    print(\"Cannot Reversed the number only 5 digit number is allowed : \",num)\n",
        "except Exception as e:\n",
        "  print(e)\n",
        "'''\n"
      ]
    },
    {
      "cell_type": "code",
      "execution_count": null,
      "metadata": {
        "colab": {
          "base_uri": "https://localhost:8080/"
        },
        "id": "IARl9lUtEAQx",
        "outputId": "a64467fd-c43e-44d1-9367-b9f5ad7bf92e"
      },
      "outputs": [
        {
          "name": "stdout",
          "output_type": "stream",
          "text": [
            "enter a 4 digit number here: 123\n",
            "The Entered Number is not four digit number..\n"
          ]
        }
      ],
      "source": [
        "\"\"\"\n",
        "if a four-digit number is input through the keyboard. write a program to obtain\n",
        "the sum of the first and last digit of this number.\n",
        "\"\"\"\n",
        "try:\n",
        "  num=input(\"enter a 4 digit number here: \")\n",
        "  if len(num)==4 and num.isdigit():\n",
        "    num1=int(num[0])\n",
        "    num4=int(num[-1])\n",
        "    ad=num1+num4\n",
        "    print(\"Sum of First digit {} and last digit {} is : {}\".format(num1,num4,ad))\n",
        "  else:\n",
        "    print(\"The Entered Number is not four digit number..\")\n",
        "except Exception as e:\n",
        "  print(e)"
      ]
    },
    {
      "cell_type": "code",
      "execution_count": null,
      "metadata": {
        "colab": {
          "base_uri": "https://localhost:8080/"
        },
        "id": "-walnHQKKMzr",
        "outputId": "dcdbcc9a-032b-4835-b4e9-5a196c4a0abd"
      },
      "outputs": [
        {
          "name": "stdout",
          "output_type": "stream",
          "text": [
            "Total Number of illiterate men:  13600.0\n",
            "Total Number of illiterate women:  28000.0\n"
          ]
        }
      ],
      "source": [
        "\"\"\"\n",
        "in a town, the percentage of men in 52. The percentage of total literacy is 48.\n",
        "if total percentage of literate men is 35 of the total population.\n",
        "write a program to find the total number of illierate men and women if the\n",
        "populatin of town is 80000.\n",
        "\"\"\"\n",
        "try:\n",
        "  tot_pop=80000\n",
        "  men_per=52\n",
        "  tot_lit_per=48\n",
        "  lit_men_per=35\n",
        "\n",
        "  tot_men=(men_per/100)*tot_pop\n",
        "  tot_wmen=tot_pop-tot_men\n",
        "\n",
        "  tot_lit_pop=(tot_lit_per/100)*tot_pop\n",
        "  lit_men=(lit_men_per/100)*tot_pop\n",
        "  lit_wmen=tot_lit_pop-lit_men\n",
        "\n",
        "  ilit_men=tot_men-lit_men\n",
        "  ilit_wmen=tot_wmen-lit_wmen\n",
        "\n",
        "  print(\"Total Number of illiterate men: \",ilit_men)\n",
        "  print(\"Total Number of illiterate women: \",ilit_wmen)\n",
        "except Exception as e:\n",
        "  print(e)"
      ]
    },
    {
      "cell_type": "code",
      "execution_count": null,
      "metadata": {
        "colab": {
          "base_uri": "https://localhost:8080/"
        },
        "id": "DYedzbgHA7fB",
        "outputId": "007381a8-fa0b-4c7f-9661-418ce111b9f8"
      },
      "outputs": [
        {
          "name": "stdout",
          "output_type": "stream",
          "text": [
            "Please Enter A Amount to be Withdrawn : 910\n",
            "100 denomination notes: 9\n",
            "50 denomination notes: 18\n",
            "10 denomination notes: 91\n"
          ]
        }
      ],
      "source": [
        "\"\"\"\n",
        "A cashier has currency notes of denominations 10, 50 and 100. if the\n",
        "amount to be withdrawn is input through the keyboard in hundreds, find\n",
        "the total number of currency notes of each denomination the cashier will\n",
        "have to give to the withdrawer.\n",
        "\"\"\"\n",
        "try:\n",
        "  amt=eval(input(\"Please Enter A Amount to be Withdrawn : \"))\n",
        "\n",
        "  num_100=0\n",
        "  num_50=0\n",
        "  num_10=0\n",
        "\n",
        "  if amt>=100:\n",
        "    num_100=amt//100\n",
        "    #amt=amt%100\n",
        "\n",
        "  if amt>=50:\n",
        "    num_50=amt//50\n",
        "    #amt=amt%50\n",
        "\n",
        "  if amt>=10:\n",
        "    num_10=amt//10\n",
        "    #amt=amt%10\n",
        "\n",
        "  print(f\"100 denomination notes: {num_100}\")\n",
        "  print(f\"50 denomination notes: {num_50}\")\n",
        "  print(f\"10 denomination notes: {num_10}\")\n",
        "except Exception as e:\n",
        "  print(e)\n"
      ]
    },
    {
      "cell_type": "code",
      "execution_count": null,
      "metadata": {
        "colab": {
          "base_uri": "https://localhost:8080/"
        },
        "id": "eakk1Rw_PhXx",
        "outputId": "aa6464ca-f301-482c-e920-645da0ab1cf9"
      },
      "outputs": [
        {
          "name": "stdout",
          "output_type": "stream",
          "text": [
            "10\n",
            "50\n"
          ]
        }
      ],
      "source": [
        "print(1050//100)\n",
        "print(1050%100)"
      ]
    }
  ],
  "metadata": {
    "colab": {
      "provenance": []
    },
    "kernelspec": {
      "display_name": "Python 3",
      "name": "python3"
    },
    "language_info": {
      "name": "python"
    }
  },
  "nbformat": 4,
  "nbformat_minor": 0
}
