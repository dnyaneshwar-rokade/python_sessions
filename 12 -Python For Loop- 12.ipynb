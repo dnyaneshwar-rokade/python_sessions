{
 "cells": [
  {
   "cell_type": "markdown",
   "id": "453cdfa7-42c9-404d-af95-828ff796bfa7",
   "metadata": {},
   "source": [
    "- Basic Syntax\n",
    "- Conditional Statements\n",
    "- try-except\n",
    "- Functions \n",
    "- loop\n",
    "    - for\n",
    "    - while"
   ]
  },
  {
   "cell_type": "markdown",
   "id": "3c474756-0f1f-4bf4-80c0-c749d730de5b",
   "metadata": {},
   "source": [
    "$For$ $loop$"
   ]
  },
  {
   "cell_type": "markdown",
   "id": "40960c18-3936-418d-8919-bc9af4f0ebf2",
   "metadata": {},
   "source": [
    "##### for loop is generally used to iterate the codes \n"
   ]
  },
  {
   "cell_type": "markdown",
   "id": "4e057f3e-db4d-4510-8bd6-4bba5882ce6c",
   "metadata": {},
   "source": [
    "- you will be in the loop\n",
    "- when you will enter into the loop\n",
    "- how much time you will stay in the loop\n",
    "- how you will come out of the from the loop"
   ]
  },
  {
   "cell_type": "markdown",
   "id": "c3a5fd69-cab0-45bd-9472-8cace059d5f7",
   "metadata": {},
   "source": [
    "- intialization\n",
    "- increment / decrement\n",
    "- condition to stop the loop"
   ]
  },
  {
   "cell_type": "code",
   "execution_count": null,
   "id": "ed72ad41-f0a5-4a36-a99a-e1cb2b173d16",
   "metadata": {},
   "outputs": [],
   "source": [
    "# I want to print first 10 numbers\n",
    "# intial poin : 5\n",
    "# increment\n",
    "# cond=10"
   ]
  },
  {
   "cell_type": "code",
   "execution_count": null,
   "id": "065065f7-8ad0-4f19-92e5-eabffa291eff",
   "metadata": {},
   "outputs": [],
   "source": [
    "i=1\n",
    "i=2\n",
    "i=3\n",
    "i=4\n",
    "i=5"
   ]
  },
  {
   "cell_type": "markdown",
   "id": "6f44c4ac-e845-4194-b2c3-edfc5c40e8b1",
   "metadata": {},
   "source": [
    "$pattern-1$"
   ]
  },
  {
   "cell_type": "markdown",
   "id": "01ad11ab-4204-4c63-b333-960d35983cba",
   "metadata": {},
   "source": [
    "for i in range(stop):\n",
    "\n",
    "- whenever you'll see any single value in bracket that is nothing but a stop value.\n",
    "- in the bracket if we have only single value that is consider as stop value\n",
    "- the default start value is =0\n",
    "- python index always start with : 0\n",
    "- if direction sign(+ or -) is not mentioned : increment (+) sign\n",
    "- if direction is positive side then end=stop-1"
   ]
  },
  {
   "cell_type": "code",
   "execution_count": 16,
   "id": "eddb9bb1-734f-47f8-96ed-94e2552f872a",
   "metadata": {},
   "outputs": [
    {
     "name": "stdout",
     "output_type": "stream",
     "text": [
      "0\n",
      "1\n",
      "2\n",
      "3\n",
      "4\n",
      "5\n",
      "6\n",
      "7\n",
      "8\n",
      "9\n"
     ]
    }
   ],
   "source": [
    "for i in range(10):\n",
    "    print(i)\n",
    "\n",
    "# start=0\n",
    "# direc=+\n",
    "# end=stop-1=10-1=9"
   ]
  },
  {
   "cell_type": "code",
   "execution_count": 18,
   "id": "be0c6494-5e01-4fe4-aef7-ef40ea258a74",
   "metadata": {},
   "outputs": [
    {
     "name": "stdout",
     "output_type": "stream",
     "text": [
      "0\n",
      "1\n",
      "2\n"
     ]
    }
   ],
   "source": [
    "print(0)\n",
    "print(1)\n",
    "print(2)\n",
    "\n",
    "#generalised: print(i)"
   ]
  },
  {
   "cell_type": "code",
   "execution_count": null,
   "id": "626da5af-e8f3-44e2-8ded-f0bd18cd8a53",
   "metadata": {},
   "outputs": [],
   "source": [
    "- intial\n",
    "- increment/decrement\n",
    "- condition\n",
    "\n",
    "for i in range(20)"
   ]
  },
  {
   "cell_type": "code",
   "execution_count": null,
   "id": "f8abab1e-1ee3-4480-845b-3497943b45fa",
   "metadata": {},
   "outputs": [],
   "source": [
    "print(0,end=' ')\n",
    "print(1,end=' ')\n",
    "print(2,end=' ')\n",
    "\n",
    "#print(i,end=' ')"
   ]
  },
  {
   "cell_type": "code",
   "execution_count": 20,
   "id": "028d8732-ee15-4760-87cc-1f8199f51099",
   "metadata": {},
   "outputs": [
    {
     "name": "stdout",
     "output_type": "stream",
     "text": [
      "0 1 2 3 4 5 6 7 8 9 10 11 12 13 14 15 16 17 18 19 "
     ]
    }
   ],
   "source": [
    "for i in range(20):\n",
    "    print(i,end=' ')"
   ]
  },
  {
   "cell_type": "markdown",
   "id": "510a2b15-b90d-4311-9a94-c182b3f0a6ee",
   "metadata": {},
   "source": [
    "$pattern-2$"
   ]
  },
  {
   "cell_type": "markdown",
   "id": "d7480a80-8072-4aa0-8242-7683d52211d8",
   "metadata": {},
   "source": [
    "for i in range(start,stop)\n",
    "\n",
    "- start: start of the loop, intial point\n",
    "- direction sign not mentioned: +ve direction i.e. increment (i.e. == that means)\n",
    "- end= stop-1"
   ]
  },
  {
   "cell_type": "code",
   "execution_count": 24,
   "id": "908db4d4-4d49-4e94-bd98-7872caeb6451",
   "metadata": {},
   "outputs": [
    {
     "name": "stdout",
     "output_type": "stream",
     "text": [
      "10 11 12 13 14 15 16 17 18 19 "
     ]
    }
   ],
   "source": [
    "for i in range(10,20):\n",
    "    print(i,end=' ')\n",
    "\n",
    "#start=10 ---> positive direction ----> end=20-1=19"
   ]
  },
  {
   "cell_type": "markdown",
   "id": "3627ad9f-0e72-4657-9935-0f84f3780e8d",
   "metadata": {},
   "source": [
    "$pattern -3$\n",
    "\n",
    "for i in range(start,stop,step)\n",
    "\n",
    "- start: start of the loop, intial point\n",
    "  \n",
    "- direction: what is sign of step value, that is the direction\n",
    "  \n",
    "        - direction will not decide by start and stop value\n",
    "\n",
    "        - direction will provided by step value\n",
    "\n",
    "- if step size is positive direction\n",
    "\n",
    "        end= stop-1\n",
    "\n",
    "- if step size is negative direction\n",
    "\n",
    "        end= stop+1"
   ]
  },
  {
   "cell_type": "code",
   "execution_count": 28,
   "id": "e8ebf864-2ace-4e3c-8c36-54b0169237e5",
   "metadata": {},
   "outputs": [
    {
     "name": "stdout",
     "output_type": "stream",
     "text": [
      "2 4 6 8 10 12 14 16 18 "
     ]
    }
   ],
   "source": [
    "for i in range(2,20,2):  # (start,stop,step)\n",
    "    print(i,end=' ')\n",
    "\n",
    "# start=2\n",
    "# direction: step size=+2\n",
    "# end=stop-1=20-1=19\n",
    "\n",
    "# 2 4 6 8 10 12 14 16 18 <20>"
   ]
  },
  {
   "cell_type": "code",
   "execution_count": 30,
   "id": "2597379e-5ff4-4dd9-a6a4-2558ebf607d7",
   "metadata": {},
   "outputs": [
    {
     "name": "stdout",
     "output_type": "stream",
     "text": [
      "-1 -2 -3 -4 -5 -6 -7 -8 -9 "
     ]
    }
   ],
   "source": [
    "for i in range(-1,-10,-1):\n",
    "    print(i,end=' ')\n",
    "\n",
    "# start= -1\n",
    "# direction: step=-1  negative\n",
    "# end= stop+1 = -10+1=-9\n",
    "# is this possible or not ?"
   ]
  },
  {
   "cell_type": "code",
   "execution_count": 34,
   "id": "4c2adec7-0f71-448b-895f-1b8192d592db",
   "metadata": {},
   "outputs": [],
   "source": [
    "for i in range(-1,-10,1):       #for this type of questions.. always visualize the question in graph form like on x axis and y axis.\n",
    "    print(i,end=' ')\n",
    "\n",
    "# start=-1\n",
    "# direc = step=+1\n",
    "# end=stop-1= -10-1=-11\n",
    "# possible/not possible\n",
    "# empty answer will come."
   ]
  },
  {
   "cell_type": "code",
   "execution_count": 36,
   "id": "f119ccae-4c81-450f-b558-f9a825b01341",
   "metadata": {},
   "outputs": [],
   "source": [
    "for i in range(8,20,-2):\n",
    "    print(i)\n",
    "\n",
    "# start=8\n",
    "# direc=step=-2 : -neg\n",
    "# end=stop+1=20+1=21"
   ]
  },
  {
   "cell_type": "code",
   "execution_count": null,
   "id": "b1f21cde-93a2-4625-8f93-259322384ba9",
   "metadata": {},
   "outputs": [],
   "source": [
    "range(3,25,3)     #start=3 ---> positive direction ---> end =25-1=24 possible.\n",
    "range(3,25,-3)    #start=3 ---> negative direction ---> end =25+1=26 not possible\n",
    "range(3,-25,3)    #start=3 ---> positive direction ---> end =-25-1=-26 not possible\n",
    "range(3,-25,-3)   #start=3 ---> negative direction ---> end =-25+1=-24 possible\n",
    "range(-3,25,3)    #possible\n",
    "range(-3,-25,3)   #not possible\n",
    "range(-3,25,-3)   #not possible\n",
    "range(-3,-25,-3)  #possible"
   ]
  },
  {
   "cell_type": "markdown",
   "id": "262aefaf-605d-435b-b540-b2a84ceb22aa",
   "metadata": {},
   "source": [
    "### Seperate operator"
   ]
  },
  {
   "cell_type": "code",
   "execution_count": 39,
   "id": "e054d272-dc0d-44e7-979c-0823bca6ad4b",
   "metadata": {},
   "outputs": [
    {
     "name": "stdout",
     "output_type": "stream",
     "text": [
      "10 20\n"
     ]
    }
   ],
   "source": [
    "print(10,end=' ')\n",
    "print(20)"
   ]
  },
  {
   "cell_type": "code",
   "execution_count": 41,
   "id": "fbf7016b-fc7f-435f-a373-896b8d775624",
   "metadata": {},
   "outputs": [
    {
     "name": "stdout",
     "output_type": "stream",
     "text": [
      "10&20\n"
     ]
    }
   ],
   "source": [
    "print(10,20,sep='&')"
   ]
  },
  {
   "cell_type": "code",
   "execution_count": 43,
   "id": "14665179-ee52-4b15-9500-dd681eb76a51",
   "metadata": {},
   "outputs": [
    {
     "name": "stdout",
     "output_type": "stream",
     "text": [
      "name:python\n"
     ]
    }
   ],
   "source": [
    "print('name','python',sep=':')"
   ]
  },
  {
   "cell_type": "code",
   "execution_count": 2,
   "id": "afc3df31-d96b-45d4-be97-43ceeb4c5668",
   "metadata": {},
   "outputs": [
    {
     "name": "stdout",
     "output_type": "stream",
     "text": [
      "hello\n",
      "hello\n",
      "hello\n"
     ]
    }
   ],
   "source": [
    "#wap print: hello 3 times/iteration ===> loop\n",
    "\n",
    "for i in range(3):print('hello')"
   ]
  },
  {
   "cell_type": "code",
   "execution_count": 4,
   "id": "323cc81f-32d6-4f5a-9d3d-e53a3c618338",
   "metadata": {},
   "outputs": [
    {
     "name": "stdout",
     "output_type": "stream",
     "text": [
      "hii\n",
      "hello\n",
      "hello\n",
      "hello\n",
      "how do you do\n"
     ]
    }
   ],
   "source": [
    "print('hii')\n",
    "for i in range(3):print('hello')\n",
    "print('how do you do')"
   ]
  },
  {
   "cell_type": "code",
   "execution_count": 10,
   "id": "5eff02fe-5e80-43c0-a159-34701f5e13cc",
   "metadata": {},
   "outputs": [
    {
     "name": "stdout",
     "output_type": "stream",
     "text": [
      "A\n",
      "A\n",
      "A\n",
      "B\n",
      "B\n",
      "C\n",
      "C\n",
      "C\n"
     ]
    }
   ],
   "source": [
    "for i in range(3):\n",
    "    print('A')\n",
    "for i in range(2):\n",
    "    print('B')\n",
    "for i in range(3):\n",
    "    print('C')"
   ]
  },
  {
   "cell_type": "code",
   "execution_count": 12,
   "id": "eefbf7d1-dd2b-4c75-ad88-ad7f417bb25b",
   "metadata": {},
   "outputs": [
    {
     "name": "stdout",
     "output_type": "stream",
     "text": [
      "A\n",
      "B\n",
      "A\n",
      "B\n",
      "A\n",
      "B\n",
      "C\n",
      "C\n",
      "C\n"
     ]
    }
   ],
   "source": [
    "for i in range(3):\n",
    "    print('A')\n",
    "    print('B')\n",
    "for i in range(3):\n",
    "    print('C')"
   ]
  },
  {
   "cell_type": "code",
   "execution_count": 14,
   "id": "6259b1d8-c4fe-4fdc-b734-9444919fd301",
   "metadata": {},
   "outputs": [
    {
     "name": "stdout",
     "output_type": "stream",
     "text": [
      "The Square of 10 is 100\n",
      "The Square of 11 is 121\n",
      "The Square of 12 is 144\n",
      "The Square of 13 is 169\n",
      "The Square of 14 is 196\n",
      "The Square of 15 is 225\n"
     ]
    }
   ],
   "source": [
    "#wap ask the user to get the square of the numbers\n",
    "#between 10 to 15\n",
    "# square of 10 is 100\n",
    "# square of 11 is 121\n",
    "\n",
    "for i in range(10,16):\n",
    "    print(\"The Square of {} is {}\".format(i,i*i))"
   ]
  },
  {
   "cell_type": "code",
   "execution_count": 16,
   "id": "6f4b284c-0362-4938-80ce-5c5c11111900",
   "metadata": {},
   "outputs": [
    {
     "name": "stdin",
     "output_type": "stream",
     "text": [
      "Please Enter a Number1:  10\n",
      "Please Enter a Number2:  16\n"
     ]
    },
    {
     "name": "stdout",
     "output_type": "stream",
     "text": [
      "The Square of 10 is 100\n",
      "The Square of 11 is 121\n",
      "The Square of 12 is 144\n",
      "The Square of 13 is 169\n",
      "The Square of 14 is 196\n",
      "The Square of 15 is 225\n"
     ]
    }
   ],
   "source": [
    "num1=eval(input('Please Enter a Number1: '))\n",
    "num2=eval(input('Please Enter a Number2: '))\n",
    "for i in range(num1,num2):\n",
    "    print(\"The Square of {} is {}\".format(i,i*i))"
   ]
  },
  {
   "cell_type": "code",
   "execution_count": 18,
   "id": "dc8df13c-9c24-4d59-841b-f4f07f0da9ca",
   "metadata": {},
   "outputs": [
    {
     "name": "stdin",
     "output_type": "stream",
     "text": [
      "Please Enter a Number1:  10\n",
      "Please Enter a Number2:  16\n"
     ]
    },
    {
     "name": "stdout",
     "output_type": "stream",
     "text": [
      "The Square of 10 is 100\n",
      "The Square of 11 is 121\n",
      "The Square of 12 is 144\n",
      "The Square of 13 is 169\n",
      "The Square of 14 is 196\n",
      "The Square of 15 is 225\n"
     ]
    }
   ],
   "source": [
    "def square():\n",
    "    num1=eval(input('Please Enter a Number1: '))\n",
    "    num2=eval(input('Please Enter a Number2: '))\n",
    "    for i in range(num1,num2):\n",
    "        print(\"The Square of {} is {}\".format(i,i*i))\n",
    "\n",
    "square()"
   ]
  },
  {
   "cell_type": "code",
   "execution_count": 20,
   "id": "f80c31bb-ba46-46c9-8320-063901f85fef",
   "metadata": {},
   "outputs": [
    {
     "name": "stdin",
     "output_type": "stream",
     "text": [
      "Please Enter a Number1:  10\n",
      "Please Enter a Number2:  16\n"
     ]
    },
    {
     "name": "stdout",
     "output_type": "stream",
     "text": [
      "The Square of 10 is 100\n",
      "The Square of 11 is 121\n",
      "The Square of 12 is 144\n",
      "The Square of 13 is 169\n",
      "The Square of 14 is 196\n",
      "The Square of 15 is 225\n"
     ]
    }
   ],
   "source": [
    "def square1(num1,num2):\n",
    "    for i in range(num1,num2):\n",
    "        print(\"The Square of {} is {}\".format(i,i*i))\n",
    "\n",
    "n1=eval(input('Please Enter a Number1: '))\n",
    "n2=eval(input('Please Enter a Number2: '))\n",
    "square1(n1,n2)"
   ]
  },
  {
   "cell_type": "markdown",
   "id": "b5b778a3-8ae0-49f2-ac61-40b2c896e955",
   "metadata": {},
   "source": [
    "#### Remember any code you can implement using function"
   ]
  },
  {
   "cell_type": "code",
   "execution_count": 33,
   "id": "44384fd9-1c8f-4060-adc7-f0c1807188a5",
   "metadata": {},
   "outputs": [
    {
     "name": "stdin",
     "output_type": "stream",
     "text": [
      "enter a number:  10\n"
     ]
    },
    {
     "name": "stdout",
     "output_type": "stream",
     "text": [
      "The Square of 10 is 100\n"
     ]
    },
    {
     "name": "stdin",
     "output_type": "stream",
     "text": [
      "enter a number:  11\n"
     ]
    },
    {
     "name": "stdout",
     "output_type": "stream",
     "text": [
      "The Square of 11 is 121\n"
     ]
    },
    {
     "name": "stdin",
     "output_type": "stream",
     "text": [
      "enter a number:  12\n"
     ]
    },
    {
     "name": "stdout",
     "output_type": "stream",
     "text": [
      "The Square of 12 is 144\n"
     ]
    },
    {
     "name": "stdin",
     "output_type": "stream",
     "text": [
      "enter a number:  13\n"
     ]
    },
    {
     "name": "stdout",
     "output_type": "stream",
     "text": [
      "The Square of 13 is 169\n"
     ]
    },
    {
     "name": "stdin",
     "output_type": "stream",
     "text": [
      "enter a number:  14\n"
     ]
    },
    {
     "name": "stdout",
     "output_type": "stream",
     "text": [
      "The Square of 14 is 196\n"
     ]
    }
   ],
   "source": [
    "#wap ask the user to print square of the five numbers\n",
    "# and these five numbers you need to ask user every time\n",
    "\n",
    "for i in range(5):\n",
    "    n1=eval(input('enter a number: '))\n",
    "    print(\"The Square of {} is {}\".format(n1,n1*n1))"
   ]
  },
  {
   "cell_type": "code",
   "execution_count": 1,
   "id": "b0f95312-f4aa-4fcd-8e07-df4f33a89ffd",
   "metadata": {},
   "outputs": [
    {
     "name": "stdout",
     "output_type": "stream",
     "text": [
      "13\n",
      "18\n",
      "8\n",
      "20\n",
      "16\n"
     ]
    }
   ],
   "source": [
    "#wap ask the user to print five times square of a number\n",
    "# this time you need to take every time a random number between 1 to 20\n",
    "\n",
    "import random \n",
    "\n",
    "for i in range(5):\n",
    "    print(random.randint(1,20))"
   ]
  },
  {
   "cell_type": "code",
   "execution_count": 9,
   "id": "931ae2ad-fcaf-4c00-ae2e-ba37c4ed6c1e",
   "metadata": {},
   "outputs": [
    {
     "name": "stdout",
     "output_type": "stream",
     "text": [
      "10 is even number\n",
      "11 is odd number\n",
      "12 is even number\n",
      "13 is odd number\n",
      "14 is even number\n",
      "15 is odd number\n",
      "16 is even number\n",
      "17 is odd number\n",
      "18 is even number\n",
      "19 is odd number\n",
      "20 is even number\n",
      "21 is odd number\n",
      "22 is even number\n",
      "23 is odd number\n",
      "24 is even number\n",
      "25 is odd number\n",
      "26 is even number\n",
      "27 is odd number\n",
      "28 is even number\n",
      "29 is odd number\n",
      "30 is even number\n"
     ]
    }
   ],
   "source": [
    "#wap ask the user print the given number is even or odd \n",
    "#you need to take the number btween 10 to 30\n",
    "\n",
    "#iterate the loop btween 10 to 30\n",
    "# every time apply if i%2==0: print even\n",
    "#            else: print odd\n",
    "\n",
    "for i in range(10,31):\n",
    "    if i%2==0:\n",
    "        print('{} is even number'.format(i))\n",
    "    else:\n",
    "        print('{} is odd number'.format(i))"
   ]
  },
  {
   "cell_type": "code",
   "execution_count": 13,
   "id": "8231a9c8-e40d-4c9c-a2c6-683b88227c49",
   "metadata": {},
   "outputs": [
    {
     "name": "stdout",
     "output_type": "stream",
     "text": [
      "29 is odd number\n",
      "10 is even number\n",
      "12 is even number\n",
      "11 is odd number\n",
      "20 is even number\n"
     ]
    }
   ],
   "source": [
    "from random import randint\n",
    "for i in range(5):\n",
    "    num=randint(10,31)\n",
    "    if num%2==0:\n",
    "        print('{} is even number'.format(num))\n",
    "    else:\n",
    "        print('{} is odd number'.format(num))"
   ]
  },
  {
   "cell_type": "code",
   "execution_count": 19,
   "id": "b219aae1-446c-47a2-996a-4d7eaef049c3",
   "metadata": {},
   "outputs": [
    {
     "name": "stdout",
     "output_type": "stream",
     "text": [
      "27 is odd number\n",
      "10 is even number\n",
      "19 is odd number\n",
      "30 is even number\n",
      "29 is odd number\n"
     ]
    }
   ],
   "source": [
    "def even_odd(num):\n",
    "    if num%2==0:\n",
    "        print('{} is even number'.format(num))\n",
    "    else:\n",
    "        print('{} is odd number'.format(num))\n",
    "import random\n",
    "for i in range(5):\n",
    "    num=randint(10,31)\n",
    "    even_odd(num)"
   ]
  },
  {
   "cell_type": "code",
   "execution_count": 33,
   "id": "d6190c79-3c06-499e-b2f8-8e7a92b400e3",
   "metadata": {},
   "outputs": [
    {
     "name": "stdin",
     "output_type": "stream",
     "text": [
      "enter a number between 1 to 10:  1\n"
     ]
    },
    {
     "name": "stdout",
     "output_type": "stream",
     "text": [
      "you lost\n"
     ]
    },
    {
     "name": "stdin",
     "output_type": "stream",
     "text": [
      "enter a number between 1 to 10:  5\n"
     ]
    },
    {
     "name": "stdout",
     "output_type": "stream",
     "text": [
      "you won number is 5\n"
     ]
    }
   ],
   "source": [
    "import random\n",
    "rand_num=random.randint(1,10)\n",
    "for num in range(3):\n",
    "    number=eval(input('enter a number between 1 to 10: '))\n",
    "    if number==rand_num:\n",
    "        print('you won number is {}'.format(rand_num))\n",
    "        break                                                 #break is used to break the code if we dont want to proceed further.\n",
    "    else:\n",
    "        print('you lost')"
   ]
  },
  {
   "cell_type": "code",
   "execution_count": 59,
   "id": "8d23f34f-4e26-4e9c-8124-77e41d4df556",
   "metadata": {},
   "outputs": [
    {
     "name": "stdin",
     "output_type": "stream",
     "text": [
      "enter how many chances you want:  2\n",
      "enter a number between 1 to 10:  1\n"
     ]
    },
    {
     "name": "stdout",
     "output_type": "stream",
     "text": [
      "you lost\n",
      "1 number of chances left\n"
     ]
    },
    {
     "name": "stdin",
     "output_type": "stream",
     "text": [
      "enter a number between 1 to 10:  2\n"
     ]
    },
    {
     "name": "stdout",
     "output_type": "stream",
     "text": [
      "you lost\n",
      "0 number of chances left\n"
     ]
    }
   ],
   "source": [
    "#improvise above code\n",
    "#you need to mention number of chances left\n",
    "#the user whenever he fail/lose\n",
    "\n",
    "import random\n",
    "rand_num=random.randint(1,10)\n",
    "chances=eval(input('enter how many chances you want: '))\n",
    "for num in range(chances):\n",
    "    number=eval(input('enter a number between 1 to 10: '))\n",
    "    if number==rand_num:\n",
    "        print('you won number is {}'.format(rand_num))\n",
    "        break                                                 #break is used to break the code if we dont want to proceed further.\n",
    "    else:\n",
    "        print('you lost')\n",
    "        print('{} number of chances left'.format(chances-1-num))"
   ]
  },
  {
   "cell_type": "code",
   "execution_count": null,
   "id": "76f3a4f5-58b0-4dff-ad22-fc907d800d24",
   "metadata": {},
   "outputs": [],
   "source": [
    "# do not write hard code means do not use numbers etc like that use generalised expressions"
   ]
  },
  {
   "cell_type": "code",
   "execution_count": 81,
   "id": "67342e5d-ab0b-4347-b86d-358bcf7b6391",
   "metadata": {},
   "outputs": [
    {
     "name": "stdin",
     "output_type": "stream",
     "text": [
      "enter how many chances you want:  3\n",
      "enter a number between 1 to 10:  9\n"
     ]
    },
    {
     "name": "stdout",
     "output_type": "stream",
     "text": [
      "you lost\n",
      "2 number of chances left\n"
     ]
    },
    {
     "name": "stdin",
     "output_type": "stream",
     "text": [
      "enter a number between 1 to 10:  9\n"
     ]
    },
    {
     "name": "stdout",
     "output_type": "stream",
     "text": [
      "you lost\n",
      "1 number of chances left\n"
     ]
    },
    {
     "name": "stdin",
     "output_type": "stream",
     "text": [
      "enter a number between 1 to 10:  9\n"
     ]
    },
    {
     "name": "stdout",
     "output_type": "stream",
     "text": [
      "No Chances is left game over\n"
     ]
    }
   ],
   "source": [
    "import random\n",
    "rand_num=random.randint(1,10)\n",
    "chances=eval(input('enter how many chances you want: '))\n",
    "for num in range(chances):\n",
    "    number=eval(input('enter a number between 1 to 10: '))\n",
    "    if number==rand_num:\n",
    "        print('you won number is {}'.format(rand_num))\n",
    "        break                                                 #break is used to break the code if we dont want to proceed further.\n",
    "    elif chances-1-num==0:\n",
    "        print('No Chances is left game over')\n",
    "    else:\n",
    "        print('you lost')\n",
    "        print('{} number of chances left'.format(chances-1-num))\n",
    "\n",
    "# chances=3\n",
    "# i=0  2  10 if 2==10  F ===> elif 3-1-0: 2==0  F ====> else: 2\n",
    "# i=1  2  10 if 2==10  F ===> elif 3-1-1: 1==0  F ====> else: 1\n",
    "# i=2  2  10 if 2==10  F ===> elif 3-1-2: 0==0  T\n",
    "        "
   ]
  },
  {
   "cell_type": "code",
   "execution_count": 22,
   "id": "ae92f25a-2593-4702-9bdc-7a27a6dfbd20",
   "metadata": {},
   "outputs": [
    {
     "name": "stdout",
     "output_type": "stream",
     "text": [
      "0+1 is:\n",
      "1+2 is:\n",
      "3+3 is:\n",
      "6+4 is:\n",
      "10+5 is:\n",
      "15+6 is:\n",
      "21+7 is:\n",
      "28+8 is:\n",
      "36+9 is:\n",
      "45+10 is:\n",
      "sum of first 10 natural number is:  55\n"
     ]
    }
   ],
   "source": [
    "#wap ask the user get the sum of 10 natural numbers\n",
    "ssum=0\n",
    "for i in range(1,11):\n",
    "     print(\"{}+{} is:\".format(ssum,i))\n",
    "     ssum=ssum+i\n",
    "print('sum of first 10 natural number is: ',ssum)        #it is a very important interview question\n",
    "\n",
    "#whenever you want to print last value then print it outside of loop\n",
    "#0+1=1\n",
    "#1+2=3\n",
    "#3+3=6\n",
    "#6+4=10\n",
    "#10+5=15\n",
    "#(15)+(6)=21\n",
    "#(sum)+(i)"
   ]
  },
  {
   "cell_type": "markdown",
   "id": "74616ede-d6dc-43b3-9d28-19bfb0e88693",
   "metadata": {},
   "source": [
    "- whenever if you want implement counter program\n",
    "- summ program\n",
    "- intialize the variable with zero\n",
    "- like: summ=0 or count=0\n",
    "- inside the loop based on the problem update the variable\n",
    "- like: summ+summ+i or count=count+i\n",
    "-     : summ+=i     or count+=i"
   ]
  },
  {
   "cell_type": "code",
   "execution_count": 47,
   "id": "0807a2ca-d9ba-4f85-86bc-09897ce457c4",
   "metadata": {},
   "outputs": [
    {
     "name": "stdout",
     "output_type": "stream",
     "text": [
      "29 is odd number\n",
      "19 is odd number\n",
      "20 is even number\n",
      "19 is odd number\n",
      "21 is odd number\n",
      "The total even number is:  1\n",
      "The total odd number is:  4\n"
     ]
    }
   ],
   "source": [
    "#improvise this problem\n",
    "#by count the number of even and number of odds you are getting\n",
    "\n",
    "from random import randint\n",
    "count=0\n",
    "count1=0\n",
    "for i in range(5):\n",
    "    num=randint(10,30)\n",
    "    if num%2==0:\n",
    "        count=count+1\n",
    "        print('{} is even number'.format(num))\n",
    "    else:\n",
    "        count1=count1+1\n",
    "        print('{} is odd number'.format(num))\n",
    "\n",
    "print('The total even number is: ',count)\n",
    "print('The total odd number is: ',count1)"
   ]
  },
  {
   "cell_type": "code",
   "execution_count": 65,
   "id": "4b384b15-3b5f-4616-9af3-007e296b6734",
   "metadata": {},
   "outputs": [
    {
     "name": "stdout",
     "output_type": "stream",
     "text": [
      "3 times number is coming greater than 50\n"
     ]
    }
   ],
   "source": [
    "#wap ask the user take a random number between 1 to 99\n",
    "#iterate the loop 10 times\n",
    "#count how many times a number is coming and greater than 50\n",
    "\n",
    "count=0\n",
    "import random\n",
    "for i in range(10):\n",
    "    rand_num=random.randint(1,99)\n",
    "    if rand_num>50:\n",
    "        count=count+1\n",
    "print(\"{} times number is coming greater than 50\".format(count))"
   ]
  },
  {
   "cell_type": "code",
   "execution_count": 93,
   "id": "9fbba956-9204-4c30-a908-237e02e95f33",
   "metadata": {},
   "outputs": [
    {
     "name": "stdin",
     "output_type": "stream",
     "text": [
      "enter which number divisiors want to know: 17\n"
     ]
    },
    {
     "name": "stdout",
     "output_type": "stream",
     "text": [
      "17 is divisible by 1\n",
      "17 is divisible by 17\n",
      "the number of divisiors are:  2\n",
      "the number of non divisiors are:  15\n"
     ]
    }
   ],
   "source": [
    "# number of divisiors program\n",
    "# 10 is divisible by what numbers\n",
    "\n",
    "d_count=0\n",
    "non_d_count=0\n",
    "num=eval(input(\"enter which number divisiors want to know:\"))\n",
    "for i in range(1,num+1):\n",
    "    if num%i==0:\n",
    "        print(\"{} is divisible by {}\".format(num,i))\n",
    "        d_count=d_count+1\n",
    "    else:\n",
    "        #print(\"{} is non divisible by {}\".format(num,i))\n",
    "        non_d_count=non_d_count+1\n",
    "        \n",
    "print('the number of divisiors are: ',d_count)\n",
    "print('the number of non divisiors are: ',non_d_count)"
   ]
  },
  {
   "cell_type": "code",
   "execution_count": 109,
   "id": "58684828-e39f-45eb-9604-ebf3bc0688ee",
   "metadata": {},
   "outputs": [
    {
     "name": "stdin",
     "output_type": "stream",
     "text": [
      "enter which number divisiors want to know: 10\n"
     ]
    },
    {
     "name": "stdout",
     "output_type": "stream",
     "text": [
      "10 is divisible by 1\n",
      "10 is divisible by 2\n",
      "10 is divisible by 5\n",
      "10 is divisible by 10\n",
      "4 6\n"
     ]
    }
   ],
   "source": [
    "def divi_count():\n",
    "    dd_count=0\n",
    "    non_dd_count=0\n",
    "    num=eval(input(\"enter which number divisiors want to know:\"))\n",
    "    for i in range(1,num+1):\n",
    "        if num%i==0:\n",
    "            print(\"{} is divisible by {}\".format(num,i))\n",
    "            dd_count=dd_count+1\n",
    "        else:\n",
    "            #print(\"{} is non divisible by {}\".format(num,i))\n",
    "            non_dd_count=non_dd_count+1\n",
    "    return(dd_count,non_dd_count)\n",
    "\n",
    "v1,v2=divi_count()\n",
    "print(v1,v2)"
   ]
  },
  {
   "cell_type": "markdown",
   "id": "517c1f29-40bd-469e-a253-56fbf1d1e862",
   "metadata": {},
   "source": [
    "- whenever if you want implement counter program\n",
    "- intialise counter inside the function only"
   ]
  },
  {
   "cell_type": "code",
   "execution_count": null,
   "id": "9d9e5b01-2572-44fb-abcf-45061f2c3bf6",
   "metadata": {},
   "outputs": [],
   "source": [
    "#def counter2():\n",
    "    #==========\n",
    "    #==========\n",
    "    #returm()"
   ]
  },
  {
   "cell_type": "code",
   "execution_count": 114,
   "id": "11a50c23-f3d6-4472-be21-76e1b31ad81b",
   "metadata": {},
   "outputs": [
    {
     "name": "stdout",
     "output_type": "stream",
     "text": [
      "10 is divisible by 1\n"
     ]
    },
    {
     "data": {
      "text/plain": [
       "(1, 0)"
      ]
     },
     "execution_count": 114,
     "metadata": {},
     "output_type": "execute_result"
    }
   ],
   "source": [
    "def condition(num,i,dd_count,non_dd_count):\n",
    "    for i in range(1,num+1):\n",
    "        if num%i==0:\n",
    "            print(\"{} is divisible by {}\".format(num,i))\n",
    "            dd_count=dd_count+1\n",
    "        else:\n",
    "            #print(\"{} is non divisible by {}\".format(num,i))\n",
    "            non_dd_count=non_dd_count+1\n",
    "        return(dd_count,non_dd_count)\n",
    "\n",
    "condition(10,5,0,0)"
   ]
  },
  {
   "cell_type": "code",
   "execution_count": null,
   "id": "39f20b54-9050-4a1b-9086-6eb976bb39c0",
   "metadata": {},
   "outputs": [],
   "source": [
    "def condition(num,i,dd_count,non_dd_count):\n",
    "    for i in range(1,num+1):\n",
    "        if num%i==0:\n",
    "            print(\"{} is divisible by {}\".format(num,i))\n",
    "            dd_count=dd_count+1\n",
    "        else:\n",
    "            #print(\"{} is non divisible by {}\".format(num,i))\n",
    "            non_dd_count=non_dd_count+1\n",
    "        return(dd_count,non_dd_count)\n",
    "\n",
    "def counter2():\n",
    "    dd_count=0\n",
    "    non_dd_count=0\n",
    "    num=eval(input(\"enter which number divisiors want to know:\"))\n",
    "    for i in range(1,num+1):\n",
    "        dd_count,non_dd_count=condition(num,i,dd_count,non_dd_count)\n",
    "        \n",
    "    return(dd_count,non_dd_count)\n",
    "    "
   ]
  },
  {
   "cell_type": "markdown",
   "id": "9cd2a0e4-37e7-4dc5-b362-6da41f58ac98",
   "metadata": {},
   "source": [
    "$Remember$\n",
    "- how sir is teaching ?\n",
    "  - whenever you want write any piece of code as a function\n",
    "  - 1st step to focus : how many variables are there in that piece\n",
    "  - and that variables you need to write in () brackets as argument\n",
    "  - and whenever you are calling this function again you need to check\n",
    "  - am i passing this variable above or not ?\n",
    "  - if you not pass again you'll get error."
   ]
  },
  {
   "cell_type": "code",
   "execution_count": null,
   "id": "dafc6594-053b-4652-b3bb-da96050bbdbb",
   "metadata": {},
   "outputs": [],
   "source": []
  }
 ],
 "metadata": {
  "kernelspec": {
   "display_name": "Python 3 (ipykernel)",
   "language": "python",
   "name": "python3"
  },
  "language_info": {
   "codemirror_mode": {
    "name": "ipython",
    "version": 3
   },
   "file_extension": ".py",
   "mimetype": "text/x-python",
   "name": "python",
   "nbconvert_exporter": "python",
   "pygments_lexer": "ipython3",
   "version": "3.12.4"
  }
 },
 "nbformat": 4,
 "nbformat_minor": 5
}
