{
 "cells": [
  {
   "cell_type": "markdown",
   "id": "88aada67-e996-4dc5-9a82-7d97e4babeb9",
   "metadata": {},
   "source": [
    "## Python Input Output Practice Excercise with eval and data types\n",
    "### eval() ======> eval keyword is used for only numbers.. remember it.. dont use this with strings. you'll get error"
   ]
  },
  {
   "cell_type": "code",
   "execution_count": 5,
   "id": "3158637d-406a-48a2-90b9-69ab7dfb0792",
   "metadata": {},
   "outputs": [
    {
     "name": "stdin",
     "output_type": "stream",
     "text": [
      "Please Enter Your Basic Pay Salary Here :  60000\n",
      "Please Enter Dearness Allowance Amount :  8500\n",
      "Please Enter HRA Amount Here :  8700\n"
     ]
    },
    {
     "name": "stdout",
     "output_type": "stream",
     "text": [
      "Your In Hand Salary is :  77200\n"
     ]
    }
   ],
   "source": [
    "# Write a program to ask the user enter a basic_salary.\n",
    "# ask the user to enter DA amount\n",
    "# ask the user to enter HRA amount.\n",
    "# Calculate total_pay = basic_salary + DA + HRA\n",
    "\n",
    "base_sal=eval(input(\"Please Enter Your Basic Pay Salary Here : \"))\n",
    "dear_allow=eval(input(\"Please Enter Dearness Allowance Amount : \"))\n",
    "hra=eval(input(\"Please Enter HRA Amount Here : \"))\n",
    "total_pay=base_sal + dear_allow + hra\n",
    "print(\"Your In Hand Salary is : \",total_pay)"
   ]
  },
  {
   "cell_type": "code",
   "execution_count": 11,
   "id": "3996b0b7-1341-4d57-b4a7-b8b34f1ab037",
   "metadata": {},
   "outputs": [
    {
     "name": "stdin",
     "output_type": "stream",
     "text": [
      "Enter your salary here :  105000\n",
      "Enter your tax in percentage in digit here :  12\n"
     ]
    },
    {
     "name": "stdout",
     "output_type": "stream",
     "text": [
      "You need to pay 12600.00 Rs. as tax amount\n"
     ]
    }
   ],
   "source": [
    "# WAP ask the user enter salary\n",
    "# ask the user enter tax percentage\n",
    "# calculate how much tax user need to pay\n",
    "\n",
    "salary=eval(input('Enter your salary here : '))\n",
    "tax=eval(input('Enter your tax in percentage in digit here : '))\n",
    "cal_tax=(salary*tax)/100\n",
    "print('You need to pay %.2f Rs. as tax amount' %cal_tax) "
   ]
  },
  {
   "cell_type": "code",
   "execution_count": 15,
   "id": "f86974f7-4faa-4500-acf9-118df94289aa",
   "metadata": {},
   "outputs": [
    {
     "name": "stdin",
     "output_type": "stream",
     "text": [
      "Enter a Number Here:  25\n"
     ]
    },
    {
     "name": "stdout",
     "output_type": "stream",
     "text": [
      "The Square of 25 is 625\n"
     ]
    }
   ],
   "source": [
    "#WAP ask the usr get arandom value between 1 and 100\n",
    "#perform the square of the number\n",
    "\n",
    "num=eval(input('Enter a Number Here: '))\n",
    "sqr=num*num\n",
    "print(f'The Square of {num} is {sqr}')"
   ]
  },
  {
   "cell_type": "code",
   "execution_count": 19,
   "id": "89b34404-46df-4677-a454-c8c72a51decf",
   "metadata": {},
   "outputs": [
    {
     "name": "stdout",
     "output_type": "stream",
     "text": [
      "Square of Random Number 12 is 144\n"
     ]
    }
   ],
   "source": [
    "#WAP get a random number using random package \n",
    "#perform square of that random number\n",
    "#package name: random\n",
    "#method name: randint\n",
    "\n",
    "import random\n",
    "rand_num=random.randint(1,100)\n",
    "sqr=rand_num*rand_num\n",
    "print('Square of Random Number {} is {}'.format(rand_num,sqr))"
   ]
  },
  {
   "cell_type": "code",
   "execution_count": 29,
   "id": "59752a5f-27df-4203-8b33-2ccadd5af878",
   "metadata": {},
   "outputs": [
    {
     "name": "stdin",
     "output_type": "stream",
     "text": [
      "Please Enter Your Distance in Kilo Meters Here :  30\n",
      "Please Enter Fare/Rate Per Kilo Meters Here :  10\n"
     ]
    },
    {
     "name": "stdout",
     "output_type": "stream",
     "text": [
      "Your Total Charge For 30.00 Km Distance is 300.00 Rs.\n"
     ]
    }
   ],
   "source": [
    "# WAP ask the user the distance in km\n",
    "# ask the usr the rate/charge per km distance\n",
    "# calculate total charge\n",
    "\n",
    "dist=eval(input('Please Enter Your Distance in Kilo Meters Here : '))\n",
    "charge=eval(input('Please Enter Fare/Rate Per Kilo Meters Here : '))\n",
    "total=dist*charge\n",
    "print('Your Total Charge For %.2f Km Distance is %.2f Rs.' %(dist,total))"
   ]
  },
  {
   "cell_type": "code",
   "execution_count": 47,
   "id": "e673a0ab-7021-428c-aaf5-663c52cde861",
   "metadata": {},
   "outputs": [
    {
     "name": "stdin",
     "output_type": "stream",
     "text": [
      "please enter your total bill in dollors :  25\n"
     ]
    },
    {
     "name": "stdout",
     "output_type": "stream",
     "text": [
      "manager: the dollors are not accepted here..\n",
      "customer: then what will be accepted ?\n",
      "manager: only indian currency\n"
     ]
    },
    {
     "name": "stdin",
     "output_type": "stream",
     "text": [
      "The current dollor rate is :  81\n"
     ]
    },
    {
     "name": "stdout",
     "output_type": "stream",
     "text": [
      "Your Total Bill is 2025.00 Rs.\n",
      "manager: Thank you ! visit again.. :)\n"
     ]
    }
   ],
   "source": [
    "#ask the user enter total bill in dollors\n",
    "#manager: the dollors are not accepted here\n",
    "#user: what will be accepted \n",
    "#manager: only indian currency\n",
    "#ask the user enter one dollor is equal to how many rupees\n",
    "#total bill=\n",
    "#manager: thank you !\n",
    "#use time package to add some delay in code\n",
    "\n",
    "import time\n",
    "#dir(time)\n",
    "#help(time)\n",
    "bill=eval(input('please enter your total bill in dollors : '))\n",
    "time.sleep(1)\n",
    "print('manager: the dollors are not accepted here..')\n",
    "time.sleep(1)\n",
    "print('customer: then what will be accepted ?')\n",
    "time.sleep(1)\n",
    "print('manager: only indian currency')\n",
    "time.sleep(1)\n",
    "conv=eval(input('The current dollor rate is : '))\n",
    "total=bill*conv\n",
    "time.sleep(1)\n",
    "print('Your Total Bill is %.2f Rs.'%total)\n",
    "time.sleep(1)\n",
    "print('manager: Thank you ! visit again.. :)')"
   ]
  },
  {
   "cell_type": "code",
   "execution_count": 57,
   "id": "82c90710-d345-464c-be3d-90e890467c52",
   "metadata": {},
   "outputs": [
    {
     "name": "stdout",
     "output_type": "stream",
     "text": [
      "son: father\n",
      "father: hmmmm\n",
      "son: i want to enroll in a course\n",
      "father: which course you want to do\n",
      "son: i want to pursue Data Science course\n",
      "father: may i know your JEE rank\n"
     ]
    },
    {
     "name": "stdin",
     "output_type": "stream",
     "text": [
      "son: my jee rank is :  195125\n"
     ]
    },
    {
     "name": "stdout",
     "output_type": "stream",
     "text": [
      "father: then how can you purue\n",
      "son: with paying for my seat\n",
      "father: which institute is offering\n"
     ]
    },
    {
     "name": "stdin",
     "output_type": "stream",
     "text": [
      "son :  dnyan global\n"
     ]
    },
    {
     "name": "stdout",
     "output_type": "stream",
     "text": [
      "father: how much is fee\n"
     ]
    },
    {
     "name": "stdin",
     "output_type": "stream",
     "text": [
      "son: Rupees :  2500\n"
     ]
    },
    {
     "name": "stdout",
     "output_type": "stream",
     "text": [
      "father: how many sems\n"
     ]
    },
    {
     "name": "stdin",
     "output_type": "stream",
     "text": [
      "son:  4\n"
     ]
    },
    {
     "name": "stdout",
     "output_type": "stream",
     "text": [
      "father: how much is total cost\n",
      "son: total cost is 10000.00 rupees\n"
     ]
    }
   ],
   "source": [
    "#Write a conversation between father and son\n",
    "\n",
    "import time\n",
    "print('son: father')\n",
    "time.sleep(1)\n",
    "print('father: hmmmm')\n",
    "time.sleep(1)\n",
    "print('son: i want to enroll in a course')\n",
    "time.sleep(1)\n",
    "print('father: which course you want to do')\n",
    "time.sleep(1)\n",
    "print('son: i want to pursue Data Science course')\n",
    "time.sleep(1)\n",
    "print('father: may i know your JEE rank')\n",
    "time.sleep(1)\n",
    "rank=eval(input('son: my jee rank is : '))\n",
    "print('father: then how can you purue')\n",
    "time.sleep(1)\n",
    "print('son: with paying for my seat')\n",
    "time.sleep(1)\n",
    "print('father: which institute is offering')\n",
    "time.sleep(1)\n",
    "insti=(input(\"son : \"))\n",
    "print('father: how much is fee')\n",
    "time.sleep(1)\n",
    "fee=eval(input('son: Rupees : '))\n",
    "print('father: how many sems')\n",
    "time.sleep(1)\n",
    "sem=eval(input('son: '))\n",
    "print('father: how much is total cost')\n",
    "total=fee*sem\n",
    "print('son: total cost is %.2f rupees' %total)"
   ]
  },
  {
   "cell_type": "code",
   "execution_count": null,
   "id": "3c121dc6-95cc-459e-b81f-45eca99d4629",
   "metadata": {},
   "outputs": [],
   "source": []
  },
  {
   "cell_type": "code",
   "execution_count": null,
   "id": "7a138c65-32d0-4c76-a848-0a2976126f05",
   "metadata": {},
   "outputs": [],
   "source": []
  }
 ],
 "metadata": {
  "kernelspec": {
   "display_name": "Python 3 (ipykernel)",
   "language": "python",
   "name": "python3"
  },
  "language_info": {
   "codemirror_mode": {
    "name": "ipython",
    "version": 3
   },
   "file_extension": ".py",
   "mimetype": "text/x-python",
   "name": "python",
   "nbconvert_exporter": "python",
   "pygments_lexer": "ipython3",
   "version": "3.12.4"
  }
 },
 "nbformat": 4,
 "nbformat_minor": 5
}
