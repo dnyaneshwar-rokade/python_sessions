{
 "cells": [
  {
   "cell_type": "markdown",
   "id": "6e75c126-b604-44f6-a869-50aa2be87e49",
   "metadata": {
    "id": "6e75c126-b604-44f6-a869-50aa2be87e49"
   },
   "source": [
    "## Conditional Statements\n",
    "\n",
    "### if - elif - else"
   ]
  },
  {
   "cell_type": "code",
   "execution_count": null,
   "id": "fbd320b0-2ccd-42c4-91a5-496a5db4bb60",
   "metadata": {
    "id": "fbd320b0-2ccd-42c4-91a5-496a5db4bb60"
   },
   "outputs": [],
   "source": [
    "name='python'\n",
    "# i want to make some condition\n",
    "# whenever the name == python  =======> success\n",
    "# otherwise =============> fail"
   ]
  },
  {
   "cell_type": "code",
   "execution_count": null,
   "id": "2024f6de-dbdf-4b39-8c5d-0eae3eb26d88",
   "metadata": {
    "id": "2024f6de-dbdf-4b39-8c5d-0eae3eb26d88"
   },
   "outputs": [],
   "source": [
    "name='python'\n",
    "if <condition>:\n",
    "    #statement -1\n",
    "    #code\n",
    "else:\n",
    "    #code"
   ]
  },
  {
   "cell_type": "code",
   "execution_count": null,
   "id": "83494b10-c25a-4865-a678-ef9c56b89113",
   "metadata": {
    "id": "83494b10-c25a-4865-a678-ef9c56b89113"
   },
   "outputs": [],
   "source": [
    "name='python' #name\n",
    "if name=='python':  # it is the name really equal to python\n",
    "    print('won')"
   ]
  },
  {
   "cell_type": "code",
   "execution_count": null,
   "id": "dcd818fe-f580-4a74-ad2e-b20bd9a4e8c1",
   "metadata": {
    "id": "dcd818fe-f580-4a74-ad2e-b20bd9a4e8c1"
   },
   "outputs": [],
   "source": [
    "a=10 #value 10 stored in a variable 'a'\n",
    "a==10 #the value of a really equal to 10"
   ]
  },
  {
   "cell_type": "code",
   "execution_count": null,
   "id": "787d0684-5805-4350-bc8a-6b07c52c6bf8",
   "metadata": {
    "id": "787d0684-5805-4350-bc8a-6b07c52c6bf8"
   },
   "outputs": [],
   "source": [
    "= assign\n",
    "== condition"
   ]
  },
  {
   "cell_type": "code",
   "execution_count": null,
   "id": "50c54d0f-7c11-4a4f-949d-f28fd932c95f",
   "metadata": {
    "id": "50c54d0f-7c11-4a4f-949d-f28fd932c95f"
   },
   "outputs": [],
   "source": [
    "name='python' #assign\n",
    "name=='python' # condtion   # 'python'=='python'"
   ]
  },
  {
   "cell_type": "code",
   "execution_count": null,
   "id": "785fd3ba-af47-4dcb-b2cc-071969271327",
   "metadata": {
    "id": "785fd3ba-af47-4dcb-b2cc-071969271327"
   },
   "outputs": [],
   "source": [
    "if <condtion>:\n",
    "    if True/False:\n",
    "        inside the block"
   ]
  },
  {
   "cell_type": "code",
   "execution_count": null,
   "id": "2904551d-95d3-4cea-857b-f444d476aaa1",
   "metadata": {
    "id": "2904551d-95d3-4cea-857b-f444d476aaa1",
    "outputId": "f21d76fe-f0f5-408c-d746-5c9c15bf4f51"
   },
   "outputs": [
    {
     "name": "stdout",
     "output_type": "stream",
     "text": [
      "won\n"
     ]
    }
   ],
   "source": [
    "# True Case\n",
    "name='python' # 'python' is saved in a variable 'name'\n",
    "if name=='python':  # is the name really equal to python if True/False\n",
    "    print('won')"
   ]
  },
  {
   "cell_type": "code",
   "execution_count": null,
   "id": "3be22ad7-c7c1-4932-9308-47d2c82eb175",
   "metadata": {
    "id": "3be22ad7-c7c1-4932-9308-47d2c82eb175"
   },
   "outputs": [],
   "source": [
    "# False Case\n",
    "name='python'\n",
    "if name=='py': #if <False>: no permision to enter in block\n",
    "    a=10\n",
    "    b=20\n",
    "    print(a+b)"
   ]
  },
  {
   "cell_type": "code",
   "execution_count": null,
   "id": "c6e736cb-9412-4df1-9a54-8c33fdae217a",
   "metadata": {
    "id": "c6e736cb-9412-4df1-9a54-8c33fdae217a",
    "outputId": "b4b1da1e-620f-49bf-cf56-f58ffcac0436"
   },
   "outputs": [
    {
     "name": "stdout",
     "output_type": "stream",
     "text": [
      "lost\n"
     ]
    }
   ],
   "source": [
    "name='python'\n",
    "if name=='py':\n",
    "    print('won')\n",
    "else:\n",
    "    print('lost')"
   ]
  },
  {
   "cell_type": "code",
   "execution_count": null,
   "id": "acae88de-1532-4612-bb74-f61c061167e5",
   "metadata": {
    "id": "acae88de-1532-4612-bb74-f61c061167e5",
    "outputId": "6f0e0732-7eb3-4b5b-cca5-8df6937f4b88"
   },
   "outputs": [
    {
     "name": "stdout",
     "output_type": "stream",
     "text": [
      "hello\n",
      "10\n"
     ]
    },
    {
     "name": "stdout",
     "output_type": "stream",
     "text": [
      "enter a num1:  50\n",
      "enter a num2:  60\n"
     ]
    },
    {
     "name": "stdout",
     "output_type": "stream",
     "text": [
      "this is false case\n",
      "we are doing multiplication\n",
      "the multiplication of 50 and 60 is: 3000\n",
      "subtraction: -10\n",
      "great!\n"
     ]
    }
   ],
   "source": [
    "print('hello')\n",
    "print(10)\n",
    "num1=eval(input('enter a num1: '))\n",
    "num2=eval(input('enter a num2: '))\n",
    "if num1==num2:\n",
    "    print('this is true case')\n",
    "    print('we are doing addtion operation')\n",
    "    print(\"the addition of {} and {} is: {}\".format(num1,num2,num1+num2))\n",
    "    print('happy ending')\n",
    "else:\n",
    "    print('this is false case')\n",
    "    print('we are doing multiplication')\n",
    "    print('the multiplication of {} and {} is: {}'.format(num1,num2,num1*num2))\n",
    "subtraction=num1-num2\n",
    "print('subtraction:',subtraction)\n",
    "print('great!')\n",
    "\n",
    "#hello\n",
    "#10\n",
    "#num1=enter the num1:50\n",
    "#num2=enter the num2:60\n",
    "#if 50==60 False no permission to enter inside the if block\n",
    "#else block\n",
    "#      this false\n",
    "#      we are doing multiplication\n",
    "#      the multiplication 50 60 is 3000\n",
    "#subtraction: -10\n",
    "#great"
   ]
  },
  {
   "cell_type": "code",
   "execution_count": null,
   "id": "146e59cf-5fec-4113-acd0-ea0c55b10549",
   "metadata": {
    "id": "146e59cf-5fec-4113-acd0-ea0c55b10549",
    "outputId": "6eb7f6a1-bb55-4a13-b737-51bbb0f63545"
   },
   "outputs": [
    {
     "name": "stdout",
     "output_type": "stream",
     "text": [
      "please enter a number :  250\n"
     ]
    },
    {
     "name": "stdout",
     "output_type": "stream",
     "text": [
      "Number is Even\n"
     ]
    }
   ],
   "source": [
    "#write a program to find even or odd number\n",
    "num=eval(input('please enter a number : '))\n",
    "if (num<=0):\n",
    "    print('Number is Zero')\n",
    "elif (num%2==1):\n",
    "    print('Number is Odd')\n",
    "else:\n",
    "    print('Number is Even')"
   ]
  },
  {
   "cell_type": "code",
   "execution_count": null,
   "id": "6b538308-505e-460f-8bbb-62b4c2f13d1f",
   "metadata": {
    "id": "6b538308-505e-460f-8bbb-62b4c2f13d1f",
    "outputId": "3422ab8b-e23f-4922-853b-506074a9857c"
   },
   "outputs": [
    {
     "name": "stdout",
     "output_type": "stream",
     "text": [
      "please enter a number :  python\n"
     ]
    },
    {
     "name": "stdout",
     "output_type": "stream",
     "text": [
      "name 'python' is not defined\n"
     ]
    }
   ],
   "source": [
    "# put your code in try except block\n",
    "try:\n",
    "    num=eval(input('please enter a number : '))\n",
    "    if (num<=0):\n",
    "        print('Number is Zero')\n",
    "    elif (num%2==1):\n",
    "        print('Number is Odd')\n",
    "    else:\n",
    "        print('Number is Even')\n",
    "except Exception as e:\n",
    "    print(e)"
   ]
  },
  {
   "cell_type": "code",
   "execution_count": null,
   "id": "b3c20086-167b-48fc-b3c6-f7bd95968d69",
   "metadata": {
    "id": "b3c20086-167b-48fc-b3c6-f7bd95968d69",
    "outputId": "098951d0-6a22-4472-efbf-5a2bf835d7c7"
   },
   "outputs": [
    {
     "name": "stdout",
     "output_type": "stream",
     "text": [
      "please enter a number :  201\n"
     ]
    },
    {
     "name": "stdout",
     "output_type": "stream",
     "text": [
      "Number is Odd\n"
     ]
    }
   ],
   "source": [
    "num=eval(input('please enter a number : '))\n",
    "if (num<=0):\n",
    "    print('Number is Zero')\n",
    "elif (num%2!=0):  # not eual to use case\n",
    "    print('Number is Odd')\n",
    "else:\n",
    "    print('Number is Even')"
   ]
  },
  {
   "cell_type": "code",
   "execution_count": null,
   "id": "f05fd35e-6b7d-4794-97f5-c9d5066b8a13",
   "metadata": {
    "id": "f05fd35e-6b7d-4794-97f5-c9d5066b8a13",
    "outputId": "a923739c-7792-478c-a617-6bd5c6f34757"
   },
   "outputs": [
    {
     "name": "stdout",
     "output_type": "stream",
     "text": [
      "number 15 is a odd number\n"
     ]
    }
   ],
   "source": [
    "#WAP get a random number between 1 to 50\n",
    "#and check it is a even number or odd number\n",
    "\n",
    "import random\n",
    "num=random.randint(1,50)\n",
    "try:\n",
    "    if (num%2==0):\n",
    "        print('number {} is a even number'.format(num))\n",
    "    else:\n",
    "        print('number {} is a odd number'.format(num))\n",
    "except Exception as e:\n",
    "    print(e)"
   ]
  },
  {
   "cell_type": "code",
   "execution_count": null,
   "id": "d258feba-6efe-4aac-ab76-b84d9b64d27b",
   "metadata": {
    "id": "d258feba-6efe-4aac-ab76-b84d9b64d27b",
    "outputId": "a70deabe-15ea-43c9-ec0b-6883fa2d041c"
   },
   "outputs": [
    {
     "name": "stdout",
     "output_type": "stream",
     "text": [
      "you won.. number is 30\n"
     ]
    }
   ],
   "source": [
    "#WAP get a random number between 1 to 200\n",
    "# print you won, if number between 10 to 99\n",
    "# otherwise print you lost\n",
    "\n",
    "import random\n",
    "num=random.randint(1,200)\n",
    "if (num>=10) and (num<=99):\n",
    "    print('you won.. number is {}'.format(num))\n",
    "else:\n",
    "    print('you lost.. number is {}'.format(num))"
   ]
  },
  {
   "cell_type": "code",
   "execution_count": null,
   "id": "6b519f62-4e68-4c09-b1d6-0539d98e39c3",
   "metadata": {
    "id": "6b519f62-4e68-4c09-b1d6-0539d98e39c3",
    "outputId": "8c77cc1a-3387-4f86-e344-138d10a96e26"
   },
   "outputs": [
    {
     "name": "stdout",
     "output_type": "stream",
     "text": [
      "you lost.. number is 154\n"
     ]
    }
   ],
   "source": [
    "try:\n",
    "    import random\n",
    "    num=random.randint(1,200)\n",
    "    if (num>=10) and (num<=99):\n",
    "        print('you won.. number is {}'.format(num))\n",
    "    else:\n",
    "        print('you lost.. number is {}'.format(num))\n",
    "except Exception as e:\n",
    "    print(e)"
   ]
  },
  {
   "cell_type": "code",
   "execution_count": null,
   "id": "39c57138-06dc-4ec6-ae3a-c1294107ff14",
   "metadata": {
    "id": "39c57138-06dc-4ec6-ae3a-c1294107ff14",
    "outputId": "df9ab3e8-b466-4d5a-b560-90d20a371057"
   },
   "outputs": [
    {
     "name": "stdout",
     "output_type": "stream",
     "text": [
      "you won.. number is 65\n"
     ]
    }
   ],
   "source": [
    "import random\n",
    "num=random.randint(1,200)\n",
    "if (10<=num<=99):    #new method\n",
    "    print('you won.. number is {}'.format(num))\n",
    "else:\n",
    "    print('you lost.. number is {}'.format(num))"
   ]
  },
  {
   "cell_type": "code",
   "execution_count": null,
   "id": "28b4689e-a1b4-4677-ae3d-bb42801ea9af",
   "metadata": {
    "id": "28b4689e-a1b4-4677-ae3d-bb42801ea9af",
    "outputId": "92316981-74e7-4b62-b966-a5a5b88d2e7d"
   },
   "outputs": [
    {
     "data": {
      "text/plain": [
       "False"
      ]
     },
     "execution_count": 102,
     "metadata": {},
     "output_type": "execute_result"
    }
   ],
   "source": [
    "10<190<90"
   ]
  },
  {
   "cell_type": "code",
   "execution_count": null,
   "id": "29213c90-ae6e-4e27-8204-3ba7448a017a",
   "metadata": {
    "id": "29213c90-ae6e-4e27-8204-3ba7448a017a",
    "outputId": "01f1d760-3e58-41e6-b76c-30885860d0d1"
   },
   "outputs": [
    {
     "name": "stdout",
     "output_type": "stream",
     "text": [
      "enter a number :  0\n"
     ]
    },
    {
     "name": "stdout",
     "output_type": "stream",
     "text": [
      "number is zero\n"
     ]
    }
   ],
   "source": [
    "#wap ask the user enter a number\n",
    "#if the num >=0 print it's a positive number\n",
    "#otherwise print it is a negative number\n",
    "\n",
    "try:\n",
    "    num=eval(input('enter a number : '))\n",
    "    if (num==0):\n",
    "        print('number is zero')\n",
    "    elif (num>0):\n",
    "        print('number is postive %d' %num)\n",
    "    else:\n",
    "        print('number is negative %d' %num)\n",
    "except Exception as e:\n",
    "    print(e)"
   ]
  },
  {
   "cell_type": "code",
   "execution_count": null,
   "id": "220cdbd1-74ba-4236-b09e-c2144a71796c",
   "metadata": {
    "id": "220cdbd1-74ba-4236-b09e-c2144a71796c"
   },
   "outputs": [],
   "source": [
    "# if you have two conditions : if-else\n",
    "# if you have more than two condtions : if-elif-else"
   ]
  },
  {
   "cell_type": "code",
   "execution_count": null,
   "id": "a80b22c4-fd88-44ef-817c-98171f584827",
   "metadata": {
    "id": "a80b22c4-fd88-44ef-817c-98171f584827",
    "outputId": "4ace46d3-623b-4f2c-968b-5582cf0a256a"
   },
   "outputs": [
    {
     "name": "stdout",
     "output_type": "stream",
     "text": [
      "enter your percentage marks here:  89\n"
     ]
    },
    {
     "name": "stdout",
     "output_type": "stream",
     "text": [
      "B grade\n"
     ]
    }
   ],
   "source": [
    "#wap ask the user enter percentage of marks\n",
    "#if per>90 print A\n",
    "#if per btw 70 to 90 print B\n",
    "#if per btw 50 to 70 print C\n",
    "#otherwise print D\n",
    "try:\n",
    "    per=eval(input('enter your percentage marks here: '))\n",
    "    if (per>=90):\n",
    "        print('A grade')\n",
    "    elif (70<=per<90):\n",
    "        print('B grade')\n",
    "    elif (50<=per<70):\n",
    "        print('C grade')\n",
    "    else:\n",
    "        print('D grade')\n",
    "except Exception as e:\n",
    "    print(e)"
   ]
  },
  {
   "cell_type": "code",
   "execution_count": null,
   "id": "494dfb57-dc55-403a-ace6-64afd916a728",
   "metadata": {
    "id": "494dfb57-dc55-403a-ace6-64afd916a728",
    "outputId": "3aa1c371-b583-4a05-fc7c-a71b4a1a7d4b"
   },
   "outputs": [
    {
     "name": "stdout",
     "output_type": "stream",
     "text": [
      "please enter your age :  301\n"
     ]
    },
    {
     "name": "stdout",
     "output_type": "stream",
     "text": [
      "God\n"
     ]
    }
   ],
   "source": [
    "#wap ask the user enter age\n",
    "#if age>60 print senior citizen\n",
    "#if age btw 45 to 60 aged\n",
    "#if age btw 30 to 45 middle aged\n",
    "#if age btw 20 to 30 young\n",
    "#if age btw 13 to 20 teenage\n",
    "#otherwise child\n",
    "\n",
    "try:\n",
    "    age=eval(input('please enter your age : '))\n",
    "    if (age>300):\n",
    "        print('God')\n",
    "    elif (age>150):\n",
    "        print('Not Possible')\n",
    "    elif (age>100):\n",
    "        print('Bapre')\n",
    "    elif (age>=60):                                 #this is good aprroch to minimize your code length cause when cond. is true then code stops.\n",
    "        print('senior citizen')                   # so no need to add extra code to satisfy condtion\n",
    "    elif (age>=45):\n",
    "        print('middle aged person')\n",
    "    elif (age>=30):\n",
    "        print('aged person')\n",
    "    elif (age>=20):\n",
    "        print('young person')\n",
    "    elif (age>=13):\n",
    "        print('teenager')\n",
    "    else:\n",
    "        print('child')\n",
    "except Exception as e:\n",
    "    print(e)"
   ]
  },
  {
   "cell_type": "code",
   "execution_count": null,
   "id": "2983fdd9-b441-47f3-aa9a-4e517e203220",
   "metadata": {
    "id": "2983fdd9-b441-47f3-aa9a-4e517e203220",
    "outputId": "04ce79f1-3041-4fef-e6a7-78c55e6f4cae"
   },
   "outputs": [
    {
     "name": "stdout",
     "output_type": "stream",
     "text": [
      "Enter distance in km:  3\n"
     ]
    },
    {
     "name": "stdout",
     "output_type": "stream",
     "text": [
      "charge is 30rs\n"
     ]
    }
   ],
   "source": [
    "#WAP ask the user enter distance in km.\n",
    "# if distance is more than 10km : print charge is 100rs\n",
    "# if distance is btween 7 to 10km: print charge is 70rs\n",
    "# if distance is btween 4 to 7km: print charge is 40rs\n",
    "# otherwise print charge is 30rs.\n",
    "\n",
    "try:\n",
    "    dist=eval(input(\"Enter distance in km: \"))\n",
    "    if dist>=10:\n",
    "        print(\"charge is 100rs\")     # 11>=10 True   #as we know that python code will stop after the condition gets true. so use this kind of methods.\n",
    "    elif dist>=7:\n",
    "        print(\"charge is 70rs\")\n",
    "    elif dist>=4:\n",
    "        print(\"charge is 40rs\")\n",
    "    else:\n",
    "        print(\"charge is 30rs\")\n",
    "except Exception as e:\n",
    "    print(e)\n"
   ]
  },
  {
   "cell_type": "code",
   "execution_count": null,
   "id": "c25e4f02-f008-46dc-a8c6-d2b3a8c8c4d2",
   "metadata": {
    "id": "c25e4f02-f008-46dc-a8c6-d2b3a8c8c4d2",
    "outputId": "755474c5-a196-4921-aa3c-ceb314e98519"
   },
   "outputs": [
    {
     "name": "stdout",
     "output_type": "stream",
     "text": [
      "Enter Your Salary Amount:  750000\n",
      "Enter Tax Percentage Here:  10\n"
     ]
    },
    {
     "name": "stdout",
     "output_type": "stream",
     "text": [
      "Your Tax Paid Amount is : 75000.0\n"
     ]
    }
   ],
   "source": [
    "#wap ask the user enter salary\n",
    "# if sal >10laks :\n",
    "    # enter the tax percentage : 15%\n",
    "    # print: the amount of tax paid : (sal*tax_per)/100\n",
    "# if sal btw 7 to 10l\n",
    "    #enter the user tax per : 10%\n",
    "    # print the amount tax paid\n",
    "# if sal btw 4 to 7l\n",
    "    #enter the user tax per : 5%\n",
    "    #print the amount of tax paid.\n",
    "# otherwise: print ('No tax required')\n",
    "\n",
    "try:\n",
    "    sal=eval(input(\"Enter Your Annual Salary Amount: \"))\n",
    "    if sal>=1000000:\n",
    "        tax=eval(input(\"Enter Tax Percentage Here: \"))\n",
    "        print(\"Your Tax Paid Amount is : {}\".format((sal*tax)/100))  #tax percentage is for above 10lacks is 15%\n",
    "    elif sal>=700000:\n",
    "        tax=eval(input(\"Enter Tax Percentage Here: \"))\n",
    "        print(\"Your Tax Paid Amount is : {}\".format((sal*tax)/100))  #tax percentage is for above 7lacks is 10%\n",
    "    elif sal>=400000:\n",
    "        tax=eval(input(\"Enter Tax Percentage Here: \"))\n",
    "        print(\"Your Tax Paid Amount is : {}\".format((sal*tax)/100))  #tax percentage is for above 4lacks is 5%\n",
    "    else:\n",
    "        print(\"No Tax is Required\")\n",
    "except Exception as e:\n",
    "    print(e)\n"
   ]
  },
  {
   "cell_type": "code",
   "execution_count": null,
   "id": "d58b6434-6890-46ae-a6ff-54dbbab67c9b",
   "metadata": {
    "id": "d58b6434-6890-46ae-a6ff-54dbbab67c9b",
    "outputId": "6ee3cbfb-0afb-4809-ee04-7150b316a3cb"
   },
   "outputs": [
    {
     "name": "stdout",
     "output_type": "stream",
     "text": [
      "============================================================\n",
      "This is a Python Calculator\n",
      "============================================================\n",
      "Please Select Any One of Below Operations to Get Started..\n",
      "============================================================\n",
      "A) Addition\n",
      "B) Multiplication\n",
      "C) Subtraction\n",
      "D) Division\n"
     ]
    },
    {
     "name": "stdout",
     "output_type": "stream",
     "text": [
      "Please enter the operation you need to perform (A/B/C/D):  b\n",
      "Please Enter a Number1 Here:  15\n",
      "Please Enter a Number2 Here:  16\n"
     ]
    },
    {
     "name": "stdout",
     "output_type": "stream",
     "text": [
      "============================================================\n",
      "we are doing multipication operation\n",
      "============================================================\n",
      "The multiplication of number1 15 and number2 16 is: 240 \n"
     ]
    }
   ],
   "source": [
    "#wap ask the user enter which operation you need to perform\n",
    "                # operation are : addition/mul/sub/div\n",
    "#ask the user a num1\n",
    "#ask the user a num2\n",
    "# if the operation equal to addition\n",
    "                #print('we are doing add operation')\n",
    "                #print'the addtion of num1 and num2 is')\n",
    "# if the operation equal to multiplication\n",
    "                #print('we are doing mul operation')\n",
    "                #print'the multiplication of num1 and num2 is')\n",
    "# if the operation equal to subtraction\n",
    "                #print('we are doing sub operation')\n",
    "                #print'the subtraction of num1 and num2 is')\n",
    "# if the operation equal to division\n",
    "                #print('we are doing div operation')\n",
    "                #print'the division of num1 and num2 is')\n",
    "#else:\n",
    "    #print('provide suitable operation')\n",
    "\n",
    "try:\n",
    "    print(\"=\"*60)\n",
    "    print(\"This is a Python Calculator\")\n",
    "    print(\"=\"*60)\n",
    "    print(\"Please Select Any One of Below Operations to Get Started..\")\n",
    "    print(\"=\"*60)\n",
    "    print(\"A) Addition\")\n",
    "    print(\"B) Multiplication\")\n",
    "    print(\"C) Subtraction\")\n",
    "    print(\"D) Division\")\n",
    "\n",
    "    ops=input(\"Please enter the operation you need to perform (A/B/C/D): \")\n",
    "\n",
    "    if (ops==\"A\") or (ops==\"a\") or (ops==\"Addition\") or (ops==\"addition\"):\n",
    "        num1=eval(input(\"Please Enter a Number1 Here: \"))\n",
    "        num2=eval(input(\"Please Enter a Number2 Here: \"))\n",
    "        print(\"=\"*60)\n",
    "        print(\"we are doing addition operation\")\n",
    "        print(\"=\"*60)\n",
    "        print(\"The addition of number1 {} and number2 {} is: {}\".format(num1,num2,num1+num2))\n",
    "    elif (ops=='B') or (ops=='b') or (ops=='Multiplication') or (ops=='multiplication'):\n",
    "        num1=eval(input(\"Please Enter a Number1 Here: \"))\n",
    "        num2=eval(input(\"Please Enter a Number2 Here: \"))\n",
    "        print(\"=\"*60)\n",
    "        print(\"we are doing multipication operation\")\n",
    "        print(\"=\"*60)\n",
    "        print(\"The multiplication of number1 {} and number2 {} is: {} \".format(num1,num2,num1*num2))\n",
    "    elif (ops=='C') or (ops=='c') or (ops=='Subtraction') or (ops=='subtraction'):\n",
    "        num1=eval(input(\"Please Enter a Number1 Here: \"))\n",
    "        num2=eval(input(\"Please Enter a Number2 Here: \"))\n",
    "        print(\"=\"*60)\n",
    "        print(\"we are doing subtraction operation\")\n",
    "        print(\"=\"*60)\n",
    "        print(\"The subtraction of number1 {} and number2 {} is: {}\".format(num1,num2,num1-num2))\n",
    "    elif (ops=='D') or (ops=='d') or (ops=='Division') or (ops=='division'):\n",
    "        num1=eval(input(\"Please Enter a Number1 Here: \"))\n",
    "        num2=eval(input(\"Please Enter a Number2 Here: \"))\n",
    "        print(\"=\"*60)\n",
    "        print(\"we are doing divison operation\")\n",
    "        print(\"=\"*60)\n",
    "        print(\"The division of number1 {} and number2 {} is: {}\".format(num1,num2,num1/num2))\n",
    "    else:\n",
    "        print(\"Please Provide a Suitable Operation\")\n",
    "except Exception as e:\n",
    "    print(e)"
   ]
  },
  {
   "cell_type": "markdown",
   "id": "d71b72d2-ea1f-42e3-904b-3e1b59b28065",
   "metadata": {
    "id": "d71b72d2-ea1f-42e3-904b-3e1b59b28065"
   },
   "source": [
    "## Nested if else"
   ]
  },
  {
   "cell_type": "code",
   "execution_count": null,
   "id": "edaac8dc-f9f0-4c7e-acd2-2f8357c7b692",
   "metadata": {
    "id": "edaac8dc-f9f0-4c7e-acd2-2f8357c7b692",
    "outputId": "733ce350-df45-46c0-d922-2a4dc6111b8b"
   },
   "outputs": [
    {
     "name": "stdout",
     "output_type": "stream",
     "text": [
      "enter a number here:  0\n"
     ]
    },
    {
     "name": "stdout",
     "output_type": "stream",
     "text": [
      "it is a zero number\n"
     ]
    }
   ],
   "source": [
    "#wap ask the user enter a number\n",
    "#if the number greater than zero:\n",
    "            #if the number==0:\n",
    "                #print('it is a zero number')\n",
    "            #else:\n",
    "                #print('it is pos number')\n",
    "#else:\n",
    "    #print('it is a negative number')\n",
    "\n",
    "try:\n",
    "    num=eval(input(\"enter a number here: \"))\n",
    "    if num>=0:\n",
    "        if num==0:\n",
    "            print('it is a zero number')\n",
    "        else:\n",
    "            print('it is a positive number')\n",
    "    else:\n",
    "        print('it is a negative number')\n",
    "except Exception as e:\n",
    "    print(e)\n"
   ]
  },
  {
   "cell_type": "code",
   "execution_count": null,
   "id": "540ea506-3d95-43ac-81ae-65ce65e142c6",
   "metadata": {
    "id": "540ea506-3d95-43ac-81ae-65ce65e142c6",
    "outputId": "a1255735-730e-48f3-d4ba-d3e68a8baa62"
   },
   "outputs": [
    {
     "name": "stdout",
     "output_type": "stream",
     "text": [
      "please enter your gender (male/female) :  male\n",
      "please enter your age :  152\n"
     ]
    },
    {
     "name": "stdout",
     "output_type": "stream",
     "text": [
      "senior citizen\n",
      "gunnis book\n"
     ]
    }
   ],
   "source": [
    "#wap ask the user enter gender eithe male or female\n",
    "#if gender equal to male\n",
    "        #ask the user enter age\n",
    "        #if age>60 print(cs)\n",
    "        #if age btw 30 to 60 print(middle aged man)\n",
    "        #if age btw 20 to 30 print(young boy)\n",
    "        #if age btw 13 to 20 print(teenage boy)\n",
    "        #otherwise print('boy')\n",
    "#else:\n",
    "        #ask the user enter age\n",
    "        #if age>60 print(cs)\n",
    "        #if age btw 30 to 60 print(middle aged women)\n",
    "        #if age btw 20 to 30 print(young girl)\n",
    "        #if age btw 13 to 20 print(teenage girl)\n",
    "        #otherwise print('girl')\n",
    "try:\n",
    "    gender=(input(\"please enter your gender (male/female) : \"))\n",
    "    if gender=='male':\n",
    "        age=eval(input(\"please enter your age : \"))\n",
    "        if age>=60:\n",
    "            print('senior citizen')\n",
    "            if age>150:\n",
    "                print('gunnis book')\n",
    "        elif age>=30:\n",
    "            print('middle aged man')\n",
    "        elif age>=20:\n",
    "            print('young boy')\n",
    "        elif age>=13:\n",
    "            print('teenage boy')\n",
    "        else:\n",
    "            print('boy')\n",
    "    elif gender=='female':\n",
    "        age=eval(input(\"please enter your age : \"))\n",
    "        if age>=60:\n",
    "            print('senior citizen')\n",
    "        elif age>=30:\n",
    "            print('middle aged women')\n",
    "        elif age>=20:\n",
    "            print('young girl')\n",
    "        elif age>=13:\n",
    "            print('teenage girl')\n",
    "        else:\n",
    "            print('girl')\n",
    "    else:\n",
    "        print('please provide proper gender')\n",
    "except Exception as e:\n",
    "    print(e)"
   ]
  },
  {
   "cell_type": "code",
   "execution_count": 18,
   "id": "f95647e8-8ef7-4757-a987-dd995c121411",
   "metadata": {
    "colab": {
     "base_uri": "https://localhost:8080/"
    },
    "id": "f95647e8-8ef7-4757-a987-dd995c121411",
    "outputId": "d5b7b2a4-c326-44b1-e6f4-f2b4dbc8ec1c"
   },
   "outputs": [
    {
     "name": "stdout",
     "output_type": "stream",
     "text": [
      "enter a num1: kl\n",
      "please enter a valid input\n",
      "num 2 is greater 12\n"
     ]
    }
   ],
   "source": [
    "#wap ask the user enter 3 numbers\n",
    "# find the biggest number\n",
    "\n",
    "try:\n",
    "  try:\n",
    "    num1=int(input('enter a num1: '))\n",
    "    num2=int(input('enter a num2: '))\n",
    "    num3=int(input('enter a num3: '))\n",
    "  except:\n",
    "    print('please enter a valid input')\n",
    "\n",
    "  if num1>=num2 and num1>=num3:\n",
    "      print('num 1 is greater',num1)\n",
    "      #if num1>=num3>=num2:\n",
    "          #print('num 1 is greater',num1)\n",
    "          #if num1>=num2<=num3:\n",
    "            #print('num 1 is greater',num1)\n",
    "  elif num2>=num1 and num2>=num3:\n",
    "      print('num 2 is greater',num2)\n",
    "      #if num2>=num3>=num1:\n",
    "          #print('num 2 is greater',num2)\n",
    "  elif num3>=num2 and num3>=num1:\n",
    "      print('num 3 is greater',num3)\n",
    "      #if num3>=num2>=num1:\n",
    "          #print('num 3 is greater',num2)\n",
    "  else:\n",
    "      print('enter a valid number')\n",
    "except Exception as e:\n",
    "  print(e)"
   ]
  },
  {
   "cell_type": "code",
   "execution_count": null,
   "id": "a4b0515d-4227-4522-a02a-99fbfc388198",
   "metadata": {
    "id": "a4b0515d-4227-4522-a02a-99fbfc388198"
   },
   "outputs": [],
   "source": []
  },
  {
   "cell_type": "code",
   "execution_count": null,
   "id": "9409e8f5-b661-4f8b-8406-855110e1e812",
   "metadata": {
    "id": "9409e8f5-b661-4f8b-8406-855110e1e812"
   },
   "outputs": [],
   "source": []
  },
  {
   "cell_type": "code",
   "execution_count": null,
   "id": "8d731cd3-0eeb-49e1-9576-78afb1e74501",
   "metadata": {
    "id": "8d731cd3-0eeb-49e1-9576-78afb1e74501"
   },
   "outputs": [],
   "source": []
  },
  {
   "cell_type": "code",
   "execution_count": null,
   "id": "2b7d23c0-b3c7-4645-8c7e-748f84cb1582",
   "metadata": {
    "id": "2b7d23c0-b3c7-4645-8c7e-748f84cb1582"
   },
   "outputs": [],
   "source": []
  }
 ],
 "metadata": {
  "colab": {
   "provenance": []
  },
  "kernelspec": {
   "display_name": "Python 3 (ipykernel)",
   "language": "python",
   "name": "python3"
  },
  "language_info": {
   "codemirror_mode": {
    "name": "ipython",
    "version": 3
   },
   "file_extension": ".py",
   "mimetype": "text/x-python",
   "name": "python",
   "nbconvert_exporter": "python",
   "pygments_lexer": "ipython3",
   "version": "3.12.4"
  }
 },
 "nbformat": 4,
 "nbformat_minor": 5
}
