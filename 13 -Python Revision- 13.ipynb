{
 "cells": [
  {
   "cell_type": "markdown",
   "id": "226fa8a7-f27e-4712-8e40-af3f0836de8a",
   "metadata": {},
   "source": [
    "## 1) Type Casting Revision.\n",
    "#### Practicing questions for changing data types"
   ]
  },
  {
   "cell_type": "code",
   "execution_count": 2,
   "id": "f136dbc9-e178-47e0-9c74-adbb7a7aeeb0",
   "metadata": {},
   "outputs": [
    {
     "data": {
      "text/plain": [
       "123"
      ]
     },
     "execution_count": 2,
     "metadata": {},
     "output_type": "execute_result"
    }
   ],
   "source": [
    "s=\"123\"\n",
    "i=int(s)\n",
    "i"
   ]
  },
  {
   "cell_type": "code",
   "execution_count": 13,
   "id": "83a7b42b-edc7-474c-bf8b-37bf0b8be582",
   "metadata": {},
   "outputs": [
    {
     "data": {
      "text/plain": [
       "45"
      ]
     },
     "execution_count": 13,
     "metadata": {},
     "output_type": "execute_result"
    }
   ],
   "source": [
    "f=45.67\n",
    "i=int(f)\n",
    "i"
   ]
  },
  {
   "cell_type": "code",
   "execution_count": 14,
   "id": "25ab1717-ebe7-49f2-84b1-cb09a68c0666",
   "metadata": {},
   "outputs": [
    {
     "data": {
      "text/plain": [
       "1"
      ]
     },
     "execution_count": 14,
     "metadata": {},
     "output_type": "execute_result"
    }
   ],
   "source": [
    "b=True\n",
    "i=int(b)\n",
    "i"
   ]
  },
  {
   "cell_type": "code",
   "execution_count": 10,
   "id": "28777468-2aa6-4c51-bd8a-b4ef79e06396",
   "metadata": {},
   "outputs": [
    {
     "ename": "TypeError",
     "evalue": "int() argument must be a string, a bytes-like object or a real number, not 'complex'",
     "output_type": "error",
     "traceback": [
      "\u001b[0;31m---------------------------------------------------------------------------\u001b[0m",
      "\u001b[0;31mTypeError\u001b[0m                                 Traceback (most recent call last)",
      "Cell \u001b[0;32mIn[10], line 2\u001b[0m\n\u001b[1;32m      1\u001b[0m c\u001b[38;5;241m=\u001b[39m\u001b[38;5;241m4\u001b[39m\u001b[38;5;241m+\u001b[39m\u001b[38;5;241m3\u001b[39mj\n\u001b[0;32m----> 2\u001b[0m cc\u001b[38;5;241m=\u001b[39m\u001b[38;5;28;43mint\u001b[39;49m\u001b[43m(\u001b[49m\u001b[43mc\u001b[49m\u001b[43m)\u001b[49m\n\u001b[1;32m      3\u001b[0m \u001b[38;5;28mprint\u001b[39m(cc)\n",
      "\u001b[0;31mTypeError\u001b[0m: int() argument must be a string, a bytes-like object or a real number, not 'complex'"
     ]
    }
   ],
   "source": [
    "c=4+3j\n",
    "cc=int(c)\n",
    "print(cc)"
   ]
  },
  {
   "cell_type": "code",
   "execution_count": 15,
   "id": "cf9a5dcb-5d75-4f18-9f69-31cb68ff3cbd",
   "metadata": {},
   "outputs": [
    {
     "ename": "ValueError",
     "evalue": "invalid literal for int() with base 10: '10.5'",
     "output_type": "error",
     "traceback": [
      "\u001b[0;31m---------------------------------------------------------------------------\u001b[0m",
      "\u001b[0;31mValueError\u001b[0m                                Traceback (most recent call last)",
      "Cell \u001b[0;32mIn[15], line 2\u001b[0m\n\u001b[1;32m      1\u001b[0m s\u001b[38;5;241m=\u001b[39m\u001b[38;5;124m\"\u001b[39m\u001b[38;5;124m10.5\u001b[39m\u001b[38;5;124m\"\u001b[39m\n\u001b[0;32m----> 2\u001b[0m i\u001b[38;5;241m=\u001b[39m\u001b[38;5;28;43mint\u001b[39;49m\u001b[43m(\u001b[49m\u001b[43ms\u001b[49m\u001b[43m)\u001b[49m\n\u001b[1;32m      3\u001b[0m i\n",
      "\u001b[0;31mValueError\u001b[0m: invalid literal for int() with base 10: '10.5'"
     ]
    }
   ],
   "source": [
    "s=\"10.5\"\n",
    "i=int(s)\n",
    "i"
   ]
  },
  {
   "cell_type": "code",
   "execution_count": 16,
   "id": "e497c30d-2b41-4d93-afab-a93c9b494ccb",
   "metadata": {},
   "outputs": [
    {
     "data": {
      "text/plain": [
       "56.0"
      ]
     },
     "execution_count": 16,
     "metadata": {},
     "output_type": "execute_result"
    }
   ],
   "source": [
    "i=56\n",
    "f=float(i)\n",
    "f"
   ]
  },
  {
   "cell_type": "code",
   "execution_count": 17,
   "id": "2e6acba0-2f40-435c-90c7-d27609e0b47a",
   "metadata": {},
   "outputs": [
    {
     "data": {
      "text/plain": [
       "78.9"
      ]
     },
     "execution_count": 17,
     "metadata": {},
     "output_type": "execute_result"
    }
   ],
   "source": [
    "s=\"78.9\"\n",
    "f=float(s)\n",
    "f"
   ]
  },
  {
   "cell_type": "code",
   "execution_count": 18,
   "id": "5656b5dc-0e73-4634-a5f2-64ec278c4027",
   "metadata": {},
   "outputs": [
    {
     "data": {
      "text/plain": [
       "False"
      ]
     },
     "execution_count": 18,
     "metadata": {},
     "output_type": "execute_result"
    }
   ],
   "source": [
    "b=False\n",
    "f=float(b)\n",
    "b"
   ]
  },
  {
   "cell_type": "code",
   "execution_count": 19,
   "id": "a5ec33fc-fb12-471a-997b-4ffc00405688",
   "metadata": {},
   "outputs": [
    {
     "ename": "ValueError",
     "evalue": "could not convert string to float: 'abcd'",
     "output_type": "error",
     "traceback": [
      "\u001b[0;31m---------------------------------------------------------------------------\u001b[0m",
      "\u001b[0;31mValueError\u001b[0m                                Traceback (most recent call last)",
      "Cell \u001b[0;32mIn[19], line 2\u001b[0m\n\u001b[1;32m      1\u001b[0m s\u001b[38;5;241m=\u001b[39m\u001b[38;5;124m\"\u001b[39m\u001b[38;5;124mabcd\u001b[39m\u001b[38;5;124m\"\u001b[39m\n\u001b[0;32m----> 2\u001b[0m f\u001b[38;5;241m=\u001b[39m\u001b[38;5;28;43mfloat\u001b[39;49m\u001b[43m(\u001b[49m\u001b[43ms\u001b[49m\u001b[43m)\u001b[49m\n\u001b[1;32m      3\u001b[0m f\n",
      "\u001b[0;31mValueError\u001b[0m: could not convert string to float: 'abcd'"
     ]
    }
   ],
   "source": [
    "s=\"abcd\"\n",
    "f=float(s)\n",
    "f"
   ]
  },
  {
   "cell_type": "code",
   "execution_count": 20,
   "id": "b1d262db-1940-4c5a-9fc0-888483359af7",
   "metadata": {},
   "outputs": [
    {
     "ename": "TypeError",
     "evalue": "float() argument must be a string or a real number, not 'complex'",
     "output_type": "error",
     "traceback": [
      "\u001b[0;31m---------------------------------------------------------------------------\u001b[0m",
      "\u001b[0;31mTypeError\u001b[0m                                 Traceback (most recent call last)",
      "Cell \u001b[0;32mIn[20], line 2\u001b[0m\n\u001b[1;32m      1\u001b[0m c\u001b[38;5;241m=\u001b[39m\u001b[38;5;241m3\u001b[39m\u001b[38;5;241m+\u001b[39m\u001b[38;5;241m4\u001b[39mj\n\u001b[0;32m----> 2\u001b[0m f\u001b[38;5;241m=\u001b[39m\u001b[38;5;28;43mfloat\u001b[39;49m\u001b[43m(\u001b[49m\u001b[43mc\u001b[49m\u001b[43m)\u001b[49m\n\u001b[1;32m      3\u001b[0m f\n",
      "\u001b[0;31mTypeError\u001b[0m: float() argument must be a string or a real number, not 'complex'"
     ]
    }
   ],
   "source": [
    "c=3+4j\n",
    "f=float(c)\n",
    "f"
   ]
  },
  {
   "cell_type": "code",
   "execution_count": 22,
   "id": "4040da48-e0be-4f6e-b93a-e6c4ec019e01",
   "metadata": {},
   "outputs": [
    {
     "data": {
      "text/plain": [
       "False"
      ]
     },
     "execution_count": 22,
     "metadata": {},
     "output_type": "execute_result"
    }
   ],
   "source": [
    "i=0\n",
    "b=bool(i)\n",
    "b"
   ]
  },
  {
   "cell_type": "code",
   "execution_count": 23,
   "id": "a0ef07fe-11ab-4dd3-a550-a189abc2b0dd",
   "metadata": {},
   "outputs": [
    {
     "data": {
      "text/plain": [
       "False"
      ]
     },
     "execution_count": 23,
     "metadata": {},
     "output_type": "execute_result"
    }
   ],
   "source": [
    "f=0.0\n",
    "b=bool(f)\n",
    "b"
   ]
  },
  {
   "cell_type": "code",
   "execution_count": 24,
   "id": "e9b16e03-7087-485d-8eb1-05307e72afb9",
   "metadata": {},
   "outputs": [
    {
     "data": {
      "text/plain": [
       "True"
      ]
     },
     "execution_count": 24,
     "metadata": {},
     "output_type": "execute_result"
    }
   ],
   "source": [
    "s=\"False\"\n",
    "b=bool(s)\n",
    "b"
   ]
  },
  {
   "cell_type": "code",
   "execution_count": 25,
   "id": "72b8fe16-f95c-43c3-80f4-794249fc5355",
   "metadata": {},
   "outputs": [
    {
     "data": {
      "text/plain": [
       "False"
      ]
     },
     "execution_count": 25,
     "metadata": {},
     "output_type": "execute_result"
    }
   ],
   "source": [
    "c=0+0j\n",
    "b=bool(c)\n",
    "b"
   ]
  },
  {
   "cell_type": "code",
   "execution_count": 26,
   "id": "7f84dbe4-7475-4b77-bd18-682c8b797f4d",
   "metadata": {},
   "outputs": [
    {
     "data": {
      "text/plain": [
       "'12345'"
      ]
     },
     "execution_count": 26,
     "metadata": {},
     "output_type": "execute_result"
    }
   ],
   "source": [
    "i=12345\n",
    "s=str(i)\n",
    "s"
   ]
  },
  {
   "cell_type": "code",
   "execution_count": 27,
   "id": "cde49bc5-c175-4768-b229-bf2bdd108ffa",
   "metadata": {},
   "outputs": [
    {
     "data": {
      "text/plain": [
       "'890.78'"
      ]
     },
     "execution_count": 27,
     "metadata": {},
     "output_type": "execute_result"
    }
   ],
   "source": [
    "f=890.78\n",
    "s=str(f)\n",
    "s"
   ]
  },
  {
   "cell_type": "code",
   "execution_count": 28,
   "id": "63995ab6-027c-4d8e-ad1f-6b1ebc487aee",
   "metadata": {},
   "outputs": [
    {
     "data": {
      "text/plain": [
       "'True'"
      ]
     },
     "execution_count": 28,
     "metadata": {},
     "output_type": "execute_result"
    }
   ],
   "source": [
    "b=True\n",
    "s=str(b)\n",
    "s"
   ]
  },
  {
   "cell_type": "code",
   "execution_count": 29,
   "id": "300b8a18-7679-4153-979f-42cf737ad9f3",
   "metadata": {},
   "outputs": [
    {
     "data": {
      "text/plain": [
       "'(5+6j)'"
      ]
     },
     "execution_count": 29,
     "metadata": {},
     "output_type": "execute_result"
    }
   ],
   "source": [
    "c=5+6j\n",
    "s=str(c)\n",
    "s"
   ]
  },
  {
   "cell_type": "code",
   "execution_count": 30,
   "id": "f0105006-95f7-4e94-846e-f5ca4c559a1c",
   "metadata": {},
   "outputs": [
    {
     "data": {
      "text/plain": [
       "'[1, 2, 3]'"
      ]
     },
     "execution_count": 30,
     "metadata": {},
     "output_type": "execute_result"
    }
   ],
   "source": [
    "l=[1,2,3]\n",
    "s=str(l)\n",
    "s"
   ]
  },
  {
   "cell_type": "markdown",
   "id": "80f2213d-8f5c-421a-a142-5ce7d4db41da",
   "metadata": {},
   "source": [
    "Convert the string \"00123\" to an integer. What happens to the leading zeros?\n",
    "Convert the boolean expression (3 > 2) to an integer.\n",
    "Convert the float 123.456 to an integer and then back to a float. What do you observe?\n",
    "Convert the string \" 456 \" (with spaces) to an integer. Does Python handle the spaces?\n",
    "Convert the string \"-789\" to an integer and then to a float. Compare the outputs."
   ]
  },
  {
   "cell_type": "code",
   "execution_count": 31,
   "id": "c9e8ccee-3e09-40e6-895a-73f8262979e4",
   "metadata": {},
   "outputs": [
    {
     "data": {
      "text/plain": [
       "123"
      ]
     },
     "execution_count": 31,
     "metadata": {},
     "output_type": "execute_result"
    }
   ],
   "source": [
    "s=\"00123\"\n",
    "i=int(s)\n",
    "i"
   ]
  },
  {
   "cell_type": "code",
   "execution_count": 32,
   "id": "ae24fd9e-06db-4c2f-a56c-47b07287dd9e",
   "metadata": {},
   "outputs": [
    {
     "data": {
      "text/plain": [
       "1"
      ]
     },
     "execution_count": 32,
     "metadata": {},
     "output_type": "execute_result"
    }
   ],
   "source": [
    "b=(3>2)\n",
    "i=int(b)\n",
    "i"
   ]
  },
  {
   "cell_type": "code",
   "execution_count": 33,
   "id": "9ac11534-b457-4247-813b-448cef31158f",
   "metadata": {},
   "outputs": [
    {
     "data": {
      "text/plain": [
       "123.0"
      ]
     },
     "execution_count": 33,
     "metadata": {},
     "output_type": "execute_result"
    }
   ],
   "source": [
    "ff=123.456\n",
    "i=int(ff)\n",
    "f=float(i)\n",
    "f"
   ]
  },
  {
   "cell_type": "code",
   "execution_count": 34,
   "id": "f9bfd521-b231-4bd8-9ad3-67887c11f811",
   "metadata": {},
   "outputs": [
    {
     "data": {
      "text/plain": [
       "456"
      ]
     },
     "execution_count": 34,
     "metadata": {},
     "output_type": "execute_result"
    }
   ],
   "source": [
    "s=\" 456 \"\n",
    "i=int(s)\n",
    "i"
   ]
  },
  {
   "cell_type": "code",
   "execution_count": 35,
   "id": "f9d892c6-f5fc-432e-992e-ad1ddceca202",
   "metadata": {},
   "outputs": [
    {
     "name": "stdout",
     "output_type": "stream",
     "text": [
      "-789\n",
      "-789.0\n"
     ]
    }
   ],
   "source": [
    "s=\"-789\"\n",
    "i=int(s)\n",
    "print(i)\n",
    "f=float(i)\n",
    "print(f)"
   ]
  },
  {
   "cell_type": "markdown",
   "id": "88d68793-08e3-4551-be65-8bf0cc74e3a2",
   "metadata": {},
   "source": [
    "Convert the hexadecimal string \"0x1A\" to a float. What error do you encounter?\n",
    "Convert the boolean expression (5 == 5) to a float.\n",
    "Convert the integer 255 to a float and then to a hexadecimal string. What do you observe?\n",
    "Convert the string \"+12.34\" to a float and then to an integer. What happens to the sign?\n",
    "Convert the string \"123e-2\" to a float. What does this notation mean"
   ]
  },
  {
   "cell_type": "code",
   "execution_count": 36,
   "id": "48412166-c8a0-478d-b8cf-cfaa3a83e3c9",
   "metadata": {},
   "outputs": [
    {
     "ename": "ValueError",
     "evalue": "could not convert string to float: '0x1a'",
     "output_type": "error",
     "traceback": [
      "\u001b[0;31m---------------------------------------------------------------------------\u001b[0m",
      "\u001b[0;31mValueError\u001b[0m                                Traceback (most recent call last)",
      "Cell \u001b[0;32mIn[36], line 2\u001b[0m\n\u001b[1;32m      1\u001b[0m s\u001b[38;5;241m=\u001b[39m\u001b[38;5;124m\"\u001b[39m\u001b[38;5;124m0x1a\u001b[39m\u001b[38;5;124m\"\u001b[39m\n\u001b[0;32m----> 2\u001b[0m f\u001b[38;5;241m=\u001b[39m\u001b[38;5;28;43mfloat\u001b[39;49m\u001b[43m(\u001b[49m\u001b[43ms\u001b[49m\u001b[43m)\u001b[49m\n\u001b[1;32m      3\u001b[0m f\n",
      "\u001b[0;31mValueError\u001b[0m: could not convert string to float: '0x1a'"
     ]
    }
   ],
   "source": [
    "s=\"0x1a\"\n",
    "f=float(s)\n",
    "f"
   ]
  },
  {
   "cell_type": "code",
   "execution_count": 37,
   "id": "2e2494fc-741c-49ad-9a64-dc20835a71a1",
   "metadata": {},
   "outputs": [
    {
     "data": {
      "text/plain": [
       "1.0"
      ]
     },
     "execution_count": 37,
     "metadata": {},
     "output_type": "execute_result"
    }
   ],
   "source": [
    "b=(5==5)\n",
    "f=float(b)\n",
    "f"
   ]
  },
  {
   "cell_type": "code",
   "execution_count": 38,
   "id": "9c64301b-7d06-464f-94dc-e3db87acb07c",
   "metadata": {},
   "outputs": [
    {
     "name": "stdout",
     "output_type": "stream",
     "text": [
      "12.67\n",
      "12\n"
     ]
    }
   ],
   "source": [
    "s=\"+12.67\"\n",
    "f=float(s)\n",
    "print(f)\n",
    "i=int(f)\n",
    "print(i)"
   ]
  },
  {
   "cell_type": "code",
   "execution_count": 39,
   "id": "d83f4121-2750-449f-8bef-307b215d44ef",
   "metadata": {},
   "outputs": [
    {
     "data": {
      "text/plain": [
       "1.23"
      ]
     },
     "execution_count": 39,
     "metadata": {},
     "output_type": "execute_result"
    }
   ],
   "source": [
    "s=\"123e-2\"\n",
    "f=float(s)\n",
    "f"
   ]
  },
  {
   "cell_type": "markdown",
   "id": "dd91b71b-c80a-49d6-b57c-f1c6836115ee",
   "metadata": {},
   "source": [
    "Convert the string \"None\" to a boolean. Is it True or False?\n",
    "Convert the integer -1 to a boolean.\n",
    "Convert the expression \"\" == False to a boolean. What does it return?\n",
    "Convert the expression (4 > 5) or (10 < 20) to a boolean. Break down the steps.\n",
    "Convert the string \"0.0\" to a boolean. Does it return False?"
   ]
  },
  {
   "cell_type": "code",
   "execution_count": 41,
   "id": "75c3b29f-0019-4d15-8bd1-852f22126610",
   "metadata": {},
   "outputs": [
    {
     "data": {
      "text/plain": [
       "True"
      ]
     },
     "execution_count": 41,
     "metadata": {},
     "output_type": "execute_result"
    }
   ],
   "source": [
    "s=\"None\"\n",
    "b=bool(s)\n",
    "b"
   ]
  },
  {
   "cell_type": "code",
   "execution_count": 42,
   "id": "07d5a1b0-672d-49bf-a77c-b6b28903d17a",
   "metadata": {},
   "outputs": [
    {
     "data": {
      "text/plain": [
       "True"
      ]
     },
     "execution_count": 42,
     "metadata": {},
     "output_type": "execute_result"
    }
   ],
   "source": [
    "i=-1\n",
    "b=bool(i)\n",
    "b"
   ]
  },
  {
   "cell_type": "code",
   "execution_count": 44,
   "id": "8bf413ba-d536-471c-8347-832bbcd6a98b",
   "metadata": {},
   "outputs": [
    {
     "data": {
      "text/plain": [
       "False"
      ]
     },
     "execution_count": 44,
     "metadata": {},
     "output_type": "execute_result"
    }
   ],
   "source": [
    "e=\"\" == False\n",
    "b=bool(e)\n",
    "b"
   ]
  },
  {
   "cell_type": "code",
   "execution_count": 46,
   "id": "86ac3c3c-b183-4c69-9c9c-25358bd9ccbb",
   "metadata": {},
   "outputs": [
    {
     "data": {
      "text/plain": [
       "True"
      ]
     },
     "execution_count": 46,
     "metadata": {},
     "output_type": "execute_result"
    }
   ],
   "source": [
    "e=(4>5)or(10<20)\n",
    "b=bool(e)\n",
    "b"
   ]
  },
  {
   "cell_type": "code",
   "execution_count": 48,
   "id": "f31a036e-abdc-42a1-88a2-78ff2b3cf27a",
   "metadata": {},
   "outputs": [
    {
     "data": {
      "text/plain": [
       "True"
      ]
     },
     "execution_count": 48,
     "metadata": {},
     "output_type": "execute_result"
    }
   ],
   "source": [
    "s=\"0.0\"\n",
    "b=bool(s)\n",
    "b"
   ]
  },
  {
   "cell_type": "markdown",
   "id": "3489d8cc-cb0d-4714-b2fb-ee71ec122e36",
   "metadata": {},
   "source": [
    "Convert the integer -98765 to a string, then reverse the string. What is the result?\n",
    "Convert the float 123.456789 to a string with only two decimal places. How do you do it?\n",
    "Convert the boolean False to a string and concatenate it with \" is a boolean\".\n",
    "Convert the complex number 7 + 8j to a string and extract the real part as a string.\n",
    "Convert the list [\"apple\", \"banana\", \"cherry\"] to a single comma-separated string."
   ]
  },
  {
   "cell_type": "code",
   "execution_count": 54,
   "id": "089d78df-900d-4d5f-afdb-1a9b8781de2a",
   "metadata": {},
   "outputs": [
    {
     "data": {
      "text/plain": [
       "'56789-'"
      ]
     },
     "execution_count": 54,
     "metadata": {},
     "output_type": "execute_result"
    }
   ],
   "source": [
    "i=-98765\n",
    "s=str(i)\n",
    "r=(s[::-1])\n",
    "r\n"
   ]
  },
  {
   "cell_type": "code",
   "execution_count": 62,
   "id": "e40a66a3-278a-401f-99bf-b106cc77b782",
   "metadata": {},
   "outputs": [
    {
     "data": {
      "text/plain": [
       "'123.46'"
      ]
     },
     "execution_count": 62,
     "metadata": {},
     "output_type": "execute_result"
    }
   ],
   "source": [
    "ff=123.456789\n",
    "s=\"{:.2f}\".format(ff)\n",
    "s"
   ]
  },
  {
   "cell_type": "code",
   "execution_count": 64,
   "id": "cedac3ab-c377-4934-9c99-d7c94756ad50",
   "metadata": {},
   "outputs": [
    {
     "data": {
      "text/plain": [
       "'False is a boolean'"
      ]
     },
     "execution_count": 64,
     "metadata": {},
     "output_type": "execute_result"
    }
   ],
   "source": [
    "b=False\n",
    "s=str(b)\n",
    "c=s+ \" is a boolean\"\n",
    "c"
   ]
  },
  {
   "cell_type": "code",
   "execution_count": 65,
   "id": "08ffa30a-0951-4dc7-97c3-09dad06cd5ac",
   "metadata": {},
   "outputs": [
    {
     "data": {
      "text/plain": [
       "'7.0'"
      ]
     },
     "execution_count": 65,
     "metadata": {},
     "output_type": "execute_result"
    }
   ],
   "source": [
    "c=7+8j\n",
    "s=str(c.real)\n",
    "s"
   ]
  },
  {
   "cell_type": "code",
   "execution_count": 69,
   "id": "7d2f24bb-7747-4dfc-9848-8f1014b5ddfc",
   "metadata": {},
   "outputs": [
    {
     "data": {
      "text/plain": [
       "\"['apple', 'mango', 'banana']\""
      ]
     },
     "execution_count": 69,
     "metadata": {},
     "output_type": "execute_result"
    }
   ],
   "source": [
    "ls=[\"apple\",\"mango\",\"banana\"]\n",
    "st=str(ls)\n",
    "st"
   ]
  },
  {
   "cell_type": "code",
   "execution_count": null,
   "id": "936e1676-3a5a-40e8-a879-b7bbbf331ebb",
   "metadata": {},
   "outputs": [],
   "source": []
  },
  {
   "cell_type": "code",
   "execution_count": null,
   "id": "0e74d7de-4355-4c0f-b60b-a598f1bf03b9",
   "metadata": {},
   "outputs": [],
   "source": []
  }
 ],
 "metadata": {
  "kernelspec": {
   "display_name": "Python 3 (ipykernel)",
   "language": "python",
   "name": "python3"
  },
  "language_info": {
   "codemirror_mode": {
    "name": "ipython",
    "version": 3
   },
   "file_extension": ".py",
   "mimetype": "text/x-python",
   "name": "python",
   "nbconvert_exporter": "python",
   "pygments_lexer": "ipython3",
   "version": "3.11.4"
  }
 },
 "nbformat": 4,
 "nbformat_minor": 5
}
