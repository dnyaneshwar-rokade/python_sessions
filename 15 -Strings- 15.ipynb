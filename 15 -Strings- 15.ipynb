{
 "cells": [
  {
   "cell_type": "markdown",
   "id": "76a4ce2e-ae01-4402-b45c-838c3f80997b",
   "metadata": {},
   "source": [
    "### Lecture 1\n",
    "#### Strings"
   ]
  },
  {
   "cell_type": "code",
   "execution_count": null,
   "id": "588e8c12-0069-4a99-ad0d-4bb8282064a5",
   "metadata": {},
   "outputs": [],
   "source": [
    "#strings\n",
    "#list\n",
    "#dictionary\n",
    "#tuple\n",
    "#set"
   ]
  },
  {
   "cell_type": "markdown",
   "id": "0ee1116c-abcd-4bbe-b426-876628ff4e08",
   "metadata": {},
   "source": [
    "**how to read the strings**"
   ]
  },
  {
   "cell_type": "code",
   "execution_count": 2,
   "id": "5f760ca6-370e-48d4-8c90-c7e177c8496a",
   "metadata": {},
   "outputs": [
    {
     "data": {
      "text/plain": [
       "'python'"
      ]
     },
     "execution_count": 2,
     "metadata": {},
     "output_type": "execute_result"
    }
   ],
   "source": [
    "string1='python'  #single quote\n",
    "string1"
   ]
  },
  {
   "cell_type": "code",
   "execution_count": 4,
   "id": "0c261226-702f-4c76-b59d-6eddf6a738ee",
   "metadata": {},
   "outputs": [
    {
     "data": {
      "text/plain": [
       "'python'"
      ]
     },
     "execution_count": 4,
     "metadata": {},
     "output_type": "execute_result"
    }
   ],
   "source": [
    "string2=\"python\" # double quote\n",
    "string2"
   ]
  },
  {
   "cell_type": "code",
   "execution_count": null,
   "id": "f5b9859d-4c07-4c56-b3a3-2074d4ab1762",
   "metadata": {},
   "outputs": [],
   "source": [
    "## Triple quotes aka doc string\n",
    "\n",
    "# Doc string is used to say some information about your code"
   ]
  },
  {
   "cell_type": "code",
   "execution_count": 3,
   "id": "04e98930-9b1e-4e70-8ab1-3051f15b6ddf",
   "metadata": {},
   "outputs": [],
   "source": [
    "'''\n",
    "im creating a hello world function\n",
    "argument: None\n",
    "return: None\n",
    "'''\n",
    "def hello():\n",
    "    print(\"good morning\")"
   ]
  },
  {
   "cell_type": "code",
   "execution_count": 1,
   "id": "700e8458-799e-4b44-bf8d-46abe6923280",
   "metadata": {},
   "outputs": [
    {
     "data": {
      "text/plain": [
       "0j"
      ]
     },
     "execution_count": 1,
     "metadata": {},
     "output_type": "execute_result"
    }
   ],
   "source": [
    "complex()"
   ]
  },
  {
   "cell_type": "code",
   "execution_count": null,
   "id": "15c41d1e-0f4a-497f-b53d-de339bcd3c14",
   "metadata": {},
   "outputs": [],
   "source": [
    "'hello python' # I want to highlite the python code"
   ]
  },
  {
   "cell_type": "code",
   "execution_count": 6,
   "id": "ebe2f3a9-5a0f-4555-8fe1-d0b4ce6852f4",
   "metadata": {},
   "outputs": [
    {
     "name": "stdout",
     "output_type": "stream",
     "text": [
      "hello \"python\"\n"
     ]
    }
   ],
   "source": [
    "string3='hello \"python\"'   #if you are using single quote then the text you need to highlite must be in double quotes. and you can do vise versa.\n",
    "print(string3)"
   ]
  },
  {
   "cell_type": "code",
   "execution_count": 8,
   "id": "bc87c22b-e453-4fd8-85c4-16abcf208b70",
   "metadata": {},
   "outputs": [
    {
     "name": "stdout",
     "output_type": "stream",
     "text": [
      "hello 'python'\n"
     ]
    }
   ],
   "source": [
    "string4=\"hello 'python'\"\n",
    "print(string4)"
   ]
  },
  {
   "cell_type": "markdown",
   "id": "2485c874-a3b2-4ca3-abca-a660f9d46800",
   "metadata": {},
   "source": [
    "- You'll need to this below types of operations\n",
    "    - type\n",
    "    - len\n",
    "    - max\n",
    "    - min"
   ]
  },
  {
   "cell_type": "markdown",
   "id": "4d5b9c93-496d-4765-82d8-c301ae66483e",
   "metadata": {},
   "source": [
    "$type:$"
   ]
  },
  {
   "cell_type": "code",
   "execution_count": 16,
   "id": "9fe7a08f-f8fe-4246-bb6d-938be065b859",
   "metadata": {},
   "outputs": [
    {
     "data": {
      "text/plain": [
       "'python'"
      ]
     },
     "execution_count": 16,
     "metadata": {},
     "output_type": "execute_result"
    }
   ],
   "source": [
    "string1"
   ]
  },
  {
   "cell_type": "code",
   "execution_count": 18,
   "id": "e99aefc2-cc5e-428e-9c5e-3cfed67bae99",
   "metadata": {},
   "outputs": [
    {
     "data": {
      "text/plain": [
       "str"
      ]
     },
     "execution_count": 18,
     "metadata": {},
     "output_type": "execute_result"
    }
   ],
   "source": [
    "type(string1)"
   ]
  },
  {
   "cell_type": "markdown",
   "id": "22e29d7d-760d-43ca-9b82-80d773d74537",
   "metadata": {},
   "source": [
    "$len:$"
   ]
  },
  {
   "cell_type": "code",
   "execution_count": 21,
   "id": "63064885-362c-41a4-af85-2a0d57b771a6",
   "metadata": {},
   "outputs": [
    {
     "data": {
      "text/plain": [
       "6"
      ]
     },
     "execution_count": 21,
     "metadata": {},
     "output_type": "execute_result"
    }
   ],
   "source": [
    "len(string1)"
   ]
  },
  {
   "cell_type": "markdown",
   "id": "cca1d141-6031-4c19-b858-818727a0b85f",
   "metadata": {},
   "source": [
    "$max-min:$"
   ]
  },
  {
   "cell_type": "code",
   "execution_count": 30,
   "id": "ff6bca08-7a05-46be-8cbe-2367b0ca6501",
   "metadata": {},
   "outputs": [
    {
     "data": {
      "text/plain": [
       "'p'"
      ]
     },
     "execution_count": 30,
     "metadata": {},
     "output_type": "execute_result"
    }
   ],
   "source": [
    "string1='pP'\n",
    "max(string1)  \n",
    "# ASCII : American Standard Code Information Interchange.\n",
    "# 'A' : 65  'a':97"
   ]
  },
  {
   "cell_type": "markdown",
   "id": "1eb05e88-b60d-4562-be57-a2a17369cdf2",
   "metadata": {},
   "source": [
    "$ord-chr$"
   ]
  },
  {
   "cell_type": "code",
   "execution_count": 32,
   "id": "bb4b0826-c91d-4be6-9a50-a99bda3b1b35",
   "metadata": {},
   "outputs": [
    {
     "data": {
      "text/plain": [
       "112"
      ]
     },
     "execution_count": 32,
     "metadata": {},
     "output_type": "execute_result"
    }
   ],
   "source": [
    "ord('p')  # it will provide ascii value of character"
   ]
  },
  {
   "cell_type": "code",
   "execution_count": 34,
   "id": "782ee7dd-7647-4a2f-b2e2-120ccca5ac97",
   "metadata": {},
   "outputs": [
    {
     "data": {
      "text/plain": [
       "80"
      ]
     },
     "execution_count": 34,
     "metadata": {},
     "output_type": "execute_result"
    }
   ],
   "source": [
    "ord('P')"
   ]
  },
  {
   "cell_type": "code",
   "execution_count": 38,
   "id": "4e596ce6-6220-423b-b0d3-4d3f91e1e442",
   "metadata": {},
   "outputs": [
    {
     "data": {
      "text/plain": [
       "('y', 'h')"
      ]
     },
     "execution_count": 38,
     "metadata": {},
     "output_type": "execute_result"
    }
   ],
   "source": [
    "string1='python'\n",
    "max(string1),min(string1)"
   ]
  },
  {
   "cell_type": "code",
   "execution_count": 40,
   "id": "078f55cf-864f-4676-9675-e8a54de9c965",
   "metadata": {},
   "outputs": [
    {
     "data": {
      "text/plain": [
       "(112, 121, 116, 104, 111, 110)"
      ]
     },
     "execution_count": 40,
     "metadata": {},
     "output_type": "execute_result"
    }
   ],
   "source": [
    "ord('p'),ord('y'),ord('t'),ord('h'),ord('o'),ord('n')"
   ]
  },
  {
   "cell_type": "code",
   "execution_count": 42,
   "id": "acb43d80-304f-4676-b868-edf6eac6ce5b",
   "metadata": {},
   "outputs": [
    {
     "data": {
      "text/plain": [
       "('p', 'y', 't', 'h', 'o', 'n')"
      ]
     },
     "execution_count": 42,
     "metadata": {},
     "output_type": "execute_result"
    }
   ],
   "source": [
    "chr(112),chr(121),chr(116),chr(104),chr(111),chr(110)"
   ]
  },
  {
   "cell_type": "markdown",
   "id": "240ad3bf-9ea0-4e5c-ad75-47e5197e4c56",
   "metadata": {},
   "source": [
    "#### how can we implement loop on the string"
   ]
  },
  {
   "cell_type": "markdown",
   "id": "295bb455-c16e-4a93-95d9-91748e4d4141",
   "metadata": {},
   "source": [
    "- range is function related to mathematical operations. so if you try loop a string it will give you an error."
   ]
  },
  {
   "cell_type": "code",
   "execution_count": 46,
   "id": "7e78955d-b016-4a81-be15-ab378a8d78e8",
   "metadata": {},
   "outputs": [
    {
     "name": "stdout",
     "output_type": "stream",
     "text": [
      "0\n",
      "1\n",
      "2\n",
      "3\n",
      "4\n",
      "5\n"
     ]
    }
   ],
   "source": [
    "for i in range(len('python')):\n",
    "    print(i)"
   ]
  },
  {
   "cell_type": "code",
   "execution_count": null,
   "id": "99fa5f2f-b95c-41ae-aeb0-5ff04c170b71",
   "metadata": {},
   "outputs": [],
   "source": [
    "# i want ot print p y t h o n   <-- to print like that we need to use in operator"
   ]
  },
  {
   "cell_type": "markdown",
   "id": "5b0c4aec-08cd-4a54-9c55-81bac0082a7c",
   "metadata": {},
   "source": [
    "$in$"
   ]
  },
  {
   "cell_type": "code",
   "execution_count": 49,
   "id": "2fcfaabe-d93f-4bf4-8653-da52202f33fc",
   "metadata": {},
   "outputs": [
    {
     "data": {
      "text/plain": [
       "True"
      ]
     },
     "execution_count": 49,
     "metadata": {},
     "output_type": "execute_result"
    }
   ],
   "source": [
    "string1='python'\n",
    "\n",
    "'p' in string1\n",
    "'y' in string1\n",
    "'t' in string1\n",
    "'h' in string1\n",
    "'o' in string1\n",
    "'n' in string1\n",
    "\n",
    "# i in string1           # <--- this we call genralised expression.. look at the above example we have streched it. but we can do it in this way."
   ]
  },
  {
   "cell_type": "code",
   "execution_count": 51,
   "id": "4088a109-ae26-4ae8-8cfc-87af000b26be",
   "metadata": {},
   "outputs": [
    {
     "name": "stdout",
     "output_type": "stream",
     "text": [
      "p\n",
      "y\n",
      "t\n",
      "h\n",
      "o\n",
      "n\n"
     ]
    }
   ],
   "source": [
    "for i in string1:   # this is the in operator implementation using for loop\n",
    "    print(i)\n",
    "\n",
    "'''\n",
    "how to read the above code ?\n",
    "\n",
    "ans- i means each and every letter inside the string1 that we are printing using loop.\n",
    "'''"
   ]
  },
  {
   "cell_type": "markdown",
   "id": "df813684-66dd-4684-a006-ea3afc59d573",
   "metadata": {},
   "source": [
    "- range() : you need to provide number inside the range\n",
    "- in      : is used only for strings\n",
    "    - in operator is nothing but a condition you can use it anywhere with condition.\n",
    " \n",
    "if you want to print the letters using for loop go for in operator"
   ]
  },
  {
   "cell_type": "code",
   "execution_count": 56,
   "id": "852146b9-bc11-4087-8f86-54285217c017",
   "metadata": {},
   "outputs": [
    {
     "name": "stdout",
     "output_type": "stream",
     "text": [
      "112\n",
      "121\n",
      "116\n",
      "104\n",
      "111\n",
      "110\n",
      "110\n"
     ]
    }
   ],
   "source": [
    "print(ord('p'))\n",
    "print(ord('y'))\n",
    "print(ord('t'))\n",
    "print(ord('h'))\n",
    "print(ord('o'))\n",
    "print(ord('n'))\n",
    "\n",
    "print(ord(i))"
   ]
  },
  {
   "cell_type": "code",
   "execution_count": 62,
   "id": "88f4ab48-6295-4765-954f-953534155926",
   "metadata": {},
   "outputs": [
    {
     "name": "stdout",
     "output_type": "stream",
     "text": [
      "The ascii of value of p is 112\n",
      "The ascii of value of y is 121\n",
      "The ascii of value of t is 116\n",
      "The ascii of value of h is 104\n",
      "The ascii of value of o is 111\n",
      "The ascii of value of n is 110\n"
     ]
    }
   ],
   "source": [
    "for i in string1:\n",
    "    print('The ascii of value of {} is {}'.format(i,ord(i)))"
   ]
  },
  {
   "cell_type": "code",
   "execution_count": 66,
   "id": "89ab3a10-9bd8-49be-98ca-963d81293025",
   "metadata": {},
   "outputs": [
    {
     "name": "stdout",
     "output_type": "stream",
     "text": [
      "The ascii of value of A is 65\n",
      "The ascii of value of B is 66\n",
      "The ascii of value of C is 67\n",
      "The ascii of value of D is 68\n",
      "The ascii of value of E is 69\n",
      "The ascii of value of F is 70\n",
      "The ascii of value of G is 71\n",
      "The ascii of value of H is 72\n",
      "The ascii of value of I is 73\n",
      "The ascii of value of J is 74\n",
      "The ascii of value of K is 75\n",
      "The ascii of value of L is 76\n",
      "The ascii of value of M is 77\n",
      "The ascii of value of N is 78\n",
      "The ascii of value of O is 79\n",
      "The ascii of value of P is 80\n",
      "The ascii of value of Q is 81\n",
      "The ascii of value of R is 82\n",
      "The ascii of value of S is 83\n",
      "The ascii of value of T is 84\n",
      "The ascii of value of U is 85\n",
      "The ascii of value of V is 86\n",
      "The ascii of value of W is 87\n",
      "The ascii of value of X is 88\n",
      "The ascii of value of Y is 89\n",
      "The ascii of value of Z is 90\n"
     ]
    }
   ],
   "source": [
    "# Ascii value of A to Z\n",
    "\n",
    "st='ABCDEFGHIJKLMNOPQRSTUVWXYZ'\n",
    "for i in st:\n",
    "    print('The ascii of value of {} is {}'.format(i,ord(i)))"
   ]
  },
  {
   "cell_type": "code",
   "execution_count": null,
   "id": "9186bd4e-335f-42b8-8683-002f232d36b7",
   "metadata": {},
   "outputs": [],
   "source": [
    "# package_name: string\n",
    "import string"
   ]
  },
  {
   "cell_type": "code",
   "execution_count": 78,
   "id": "d0bed949-0cf6-448b-b24c-3df9aa44ba51",
   "metadata": {},
   "outputs": [
    {
     "data": {
      "text/plain": [
       "['Formatter',\n",
       " 'Template',\n",
       " '_ChainMap',\n",
       " '__all__',\n",
       " '__builtins__',\n",
       " '__cached__',\n",
       " '__doc__',\n",
       " '__file__',\n",
       " '__loader__',\n",
       " '__name__',\n",
       " '__package__',\n",
       " '__spec__',\n",
       " '_re',\n",
       " '_sentinel_dict',\n",
       " '_string',\n",
       " 'ascii_letters',\n",
       " 'ascii_lowercase',\n",
       " 'ascii_uppercase',\n",
       " 'capwords',\n",
       " 'digits',\n",
       " 'hexdigits',\n",
       " 'octdigits',\n",
       " 'printable',\n",
       " 'punctuation',\n",
       " 'whitespace']"
      ]
     },
     "execution_count": 78,
     "metadata": {},
     "output_type": "execute_result"
    }
   ],
   "source": [
    "dir(string)"
   ]
  },
  {
   "cell_type": "code",
   "execution_count": 72,
   "id": "48d38575-7d8c-47a2-9276-30c68f4a75aa",
   "metadata": {},
   "outputs": [
    {
     "data": {
      "text/plain": [
       "'ABCDEFGHIJKLMNOPQRSTUVWXYZ'"
      ]
     },
     "execution_count": 72,
     "metadata": {},
     "output_type": "execute_result"
    }
   ],
   "source": [
    "# see the output of : ascii_uppercase\n",
    "string.ascii_uppercase"
   ]
  },
  {
   "cell_type": "code",
   "execution_count": 76,
   "id": "26658d35-760b-4e4b-839e-6771a1a58a53",
   "metadata": {},
   "outputs": [
    {
     "name": "stdout",
     "output_type": "stream",
     "text": [
      "The ascii of value of A is 65\n",
      "The ascii of value of B is 66\n",
      "The ascii of value of C is 67\n",
      "The ascii of value of D is 68\n",
      "The ascii of value of E is 69\n",
      "The ascii of value of F is 70\n",
      "The ascii of value of G is 71\n",
      "The ascii of value of H is 72\n",
      "The ascii of value of I is 73\n",
      "The ascii of value of J is 74\n",
      "The ascii of value of K is 75\n",
      "The ascii of value of L is 76\n",
      "The ascii of value of M is 77\n",
      "The ascii of value of N is 78\n",
      "The ascii of value of O is 79\n",
      "The ascii of value of P is 80\n",
      "The ascii of value of Q is 81\n",
      "The ascii of value of R is 82\n",
      "The ascii of value of S is 83\n",
      "The ascii of value of T is 84\n",
      "The ascii of value of U is 85\n",
      "The ascii of value of V is 86\n",
      "The ascii of value of W is 87\n",
      "The ascii of value of X is 88\n",
      "The ascii of value of Y is 89\n",
      "The ascii of value of Z is 90\n"
     ]
    }
   ],
   "source": [
    "import string\n",
    "for i in string.ascii_uppercase:\n",
    "    print('The ascii of value of {} is {}'.format(i,ord(i)))"
   ]
  },
  {
   "cell_type": "code",
   "execution_count": 80,
   "id": "573fab2a-8db7-461c-a44f-36b8c3e1af19",
   "metadata": {},
   "outputs": [
    {
     "name": "stdout",
     "output_type": "stream",
     "text": [
      "The ascii of value of a is 97\n",
      "The ascii of value of b is 98\n",
      "The ascii of value of c is 99\n",
      "The ascii of value of d is 100\n",
      "The ascii of value of e is 101\n",
      "The ascii of value of f is 102\n",
      "The ascii of value of g is 103\n",
      "The ascii of value of h is 104\n",
      "The ascii of value of i is 105\n",
      "The ascii of value of j is 106\n",
      "The ascii of value of k is 107\n",
      "The ascii of value of l is 108\n",
      "The ascii of value of m is 109\n",
      "The ascii of value of n is 110\n",
      "The ascii of value of o is 111\n",
      "The ascii of value of p is 112\n",
      "The ascii of value of q is 113\n",
      "The ascii of value of r is 114\n",
      "The ascii of value of s is 115\n",
      "The ascii of value of t is 116\n",
      "The ascii of value of u is 117\n",
      "The ascii of value of v is 118\n",
      "The ascii of value of w is 119\n",
      "The ascii of value of x is 120\n",
      "The ascii of value of y is 121\n",
      "The ascii of value of z is 122\n"
     ]
    }
   ],
   "source": [
    "for i in string.ascii_lowercase:\n",
    "    print('The ascii of value of {} is {}'.format(i,ord(i)))"
   ]
  },
  {
   "cell_type": "code",
   "execution_count": 82,
   "id": "6b1ad2c1-01c4-419a-8ef6-51d266266254",
   "metadata": {},
   "outputs": [
    {
     "name": "stdout",
     "output_type": "stream",
     "text": [
      "The ascii of value of ! is 33\n",
      "The ascii of value of \" is 34\n",
      "The ascii of value of # is 35\n",
      "The ascii of value of $ is 36\n",
      "The ascii of value of % is 37\n",
      "The ascii of value of & is 38\n",
      "The ascii of value of ' is 39\n",
      "The ascii of value of ( is 40\n",
      "The ascii of value of ) is 41\n",
      "The ascii of value of * is 42\n",
      "The ascii of value of + is 43\n",
      "The ascii of value of , is 44\n",
      "The ascii of value of - is 45\n",
      "The ascii of value of . is 46\n",
      "The ascii of value of / is 47\n",
      "The ascii of value of : is 58\n",
      "The ascii of value of ; is 59\n",
      "The ascii of value of < is 60\n",
      "The ascii of value of = is 61\n",
      "The ascii of value of > is 62\n",
      "The ascii of value of ? is 63\n",
      "The ascii of value of @ is 64\n",
      "The ascii of value of [ is 91\n",
      "The ascii of value of \\ is 92\n",
      "The ascii of value of ] is 93\n",
      "The ascii of value of ^ is 94\n",
      "The ascii of value of _ is 95\n",
      "The ascii of value of ` is 96\n",
      "The ascii of value of { is 123\n",
      "The ascii of value of | is 124\n",
      "The ascii of value of } is 125\n",
      "The ascii of value of ~ is 126\n"
     ]
    }
   ],
   "source": [
    "for i in string.punctuation:\n",
    "    print('The ascii of value of {} is {}'.format(i,ord(i)))"
   ]
  },
  {
   "cell_type": "code",
   "execution_count": 84,
   "id": "02a87a5a-88b7-4618-93ab-255a1dff959b",
   "metadata": {},
   "outputs": [
    {
     "data": {
      "text/plain": [
       "97"
      ]
     },
     "execution_count": 84,
     "metadata": {},
     "output_type": "execute_result"
    }
   ],
   "source": [
    "# what is the start and end of ascii numbers ?\n",
    "\n",
    "ord('a')"
   ]
  },
  {
   "cell_type": "code",
   "execution_count": 86,
   "id": "f1b21e8e-55c8-4826-901e-27fc890e96f7",
   "metadata": {},
   "outputs": [
    {
     "data": {
      "text/plain": [
       "'Ϩ'"
      ]
     },
     "execution_count": 86,
     "metadata": {},
     "output_type": "execute_result"
    }
   ],
   "source": [
    "chr(1000)"
   ]
  },
  {
   "cell_type": "code",
   "execution_count": 96,
   "id": "3b70145e-9362-4773-92f0-59280ebc61ac",
   "metadata": {},
   "outputs": [
    {
     "name": "stdout",
     "output_type": "stream",
     "text": [
      "33 !\n",
      "34 \"\n",
      "35 #\n",
      "36 $\n",
      "37 %\n",
      "38 &\n",
      "39 '\n",
      "40 (\n",
      "41 )\n",
      "42 *\n",
      "43 +\n",
      "44 ,\n",
      "45 -\n",
      "46 .\n",
      "47 /\n",
      "48 0\n",
      "49 1\n",
      "50 2\n",
      "51 3\n",
      "52 4\n",
      "53 5\n",
      "54 6\n",
      "55 7\n",
      "56 8\n",
      "57 9\n",
      "58 :\n",
      "59 ;\n",
      "60 <\n",
      "61 =\n",
      "62 >\n",
      "63 ?\n",
      "64 @\n",
      "65 A\n",
      "66 B\n",
      "67 C\n",
      "68 D\n",
      "69 E\n",
      "70 F\n",
      "71 G\n",
      "72 H\n",
      "73 I\n",
      "74 J\n",
      "75 K\n",
      "76 L\n",
      "77 M\n",
      "78 N\n",
      "79 O\n",
      "80 P\n",
      "81 Q\n",
      "82 R\n",
      "83 S\n",
      "84 T\n",
      "85 U\n",
      "86 V\n",
      "87 W\n",
      "88 X\n",
      "89 Y\n",
      "90 Z\n",
      "91 [\n",
      "92 \\\n",
      "93 ]\n",
      "94 ^\n",
      "95 _\n",
      "96 `\n",
      "97 a\n",
      "98 b\n",
      "99 c\n",
      "100 d\n",
      "101 e\n",
      "102 f\n",
      "103 g\n",
      "104 h\n",
      "105 i\n",
      "106 j\n",
      "107 k\n",
      "108 l\n",
      "109 m\n",
      "110 n\n",
      "111 o\n",
      "112 p\n",
      "113 q\n",
      "114 r\n",
      "115 s\n",
      "116 t\n",
      "117 u\n",
      "118 v\n",
      "119 w\n",
      "120 x\n",
      "121 y\n",
      "122 z\n",
      "123 {\n",
      "124 |\n",
      "125 }\n",
      "126 ~\n"
     ]
    }
   ],
   "source": [
    "#chr(1)  # iterate some numbers to find the chr. then if you find see valid thing then that's the starting point.\n",
    "\n",
    "for i in range(33,127):\n",
    "    print(i,chr(i))\n",
    "\n",
    "# ascii number start with 33\n",
    "# end with 126\n",
    "# total 93"
   ]
  },
  {
   "cell_type": "code",
   "execution_count": 100,
   "id": "1258bc1c-e88f-4547-8b80-288388851d76",
   "metadata": {},
   "outputs": [
    {
     "data": {
      "text/plain": [
       "'0123456789abcdefghijklmnopqrstuvwxyzABCDEFGHIJKLMNOPQRSTUVWXYZ!\"#$%&\\'()*+,-./:;<=>?@[\\\\]^_`{|}~ \\t\\n\\r\\x0b\\x0c'"
      ]
     },
     "execution_count": 100,
     "metadata": {},
     "output_type": "execute_result"
    }
   ],
   "source": [
    "string.printable\n",
    "\n",
    "# digits\n",
    "# lower\n",
    "# upper\n",
    "# puncutation\n",
    "# these are only for english language"
   ]
  },
  {
   "cell_type": "markdown",
   "id": "c4950e53-dbda-476c-8c50-ef8bbe0f8173",
   "metadata": {},
   "source": [
    "### Interview IMP Question.\n",
    "#### Example : Count how many 'a' is there in given string ?\n",
    "##### whenever you want to count something always initialize count=0 first.. then at the last of your code write count+=1\n",
    "##### this is the way to count things.. and it's very important for interview purpose. so remeber the wrapper/format."
   ]
  },
  {
   "cell_type": "code",
   "execution_count": 123,
   "id": "1b906dcc-9537-43c6-8f98-63371c2d6bc9",
   "metadata": {},
   "outputs": [
    {
     "name": "stdout",
     "output_type": "stream",
     "text": [
      "3\n"
     ]
    }
   ],
   "source": [
    "# wap ask the user find number of 'a' letters in a given string\n",
    "# string='hai how are you and how do you do'\n",
    "# ans:3\n",
    "\n",
    "# count=0\n",
    "# first iterate the string using in and for loop\n",
    "# print each letter === > i\n",
    "# apply the if condition i=='a'\n",
    "#               count+=1\n",
    "\n",
    "st='hai how are you and how do you do'\n",
    "count=0\n",
    "for i in st:\n",
    "    #print(i)\n",
    "    if i=='a':\n",
    "        count+=1\n",
    "print(count)\n",
    "\n",
    "#step-1:  i='h'  'h'=='a'  False\n",
    "#step-2:  i='a'  'a'=='a'  True  ====> count=1"
   ]
  },
  {
   "cell_type": "code",
   "execution_count": 141,
   "id": "1657b141-7234-486f-a80a-14759e589c88",
   "metadata": {},
   "outputs": [
    {
     "name": "stdout",
     "output_type": "stream",
     "text": [
      "7\n"
     ]
    }
   ],
   "source": [
    "# wap count the number of vowels in a given string\n",
    "# string='hai how are you'\n",
    "# 7\n",
    "\n",
    "count=0\n",
    "string='hai how are you'\n",
    "for i in string:\n",
    "    if i in 'aeiou':     # this line of code will check. if there is h in aeiou, if a is in aeiou.. like that.\n",
    "        count+=1\n",
    "print(count)"
   ]
  },
  {
   "cell_type": "code",
   "execution_count": 159,
   "id": "f79bfc83-c92e-4c5b-ab1f-76d2210907db",
   "metadata": {},
   "outputs": [
    {
     "name": "stdout",
     "output_type": "stream",
     "text": [
      "5\n"
     ]
    }
   ],
   "source": [
    "# wap count the number of unique vowels in a given string\n",
    "# ans: 5\n",
    "# this is the type of question interviewer asks.\n",
    "\n",
    "s=''\n",
    "count=0\n",
    "string='hai how are you'\n",
    "for i in string:\n",
    "    if i in 'aeiou' and i not in s:\n",
    "        s+=i\n",
    "        count=(len(s))\n",
    "print(count) "
   ]
  },
  {
   "cell_type": "markdown",
   "id": "a8bb7473-08f1-42c3-b839-8d195070249e",
   "metadata": {},
   "source": [
    "$concatenation$"
   ]
  },
  {
   "cell_type": "code",
   "execution_count": 162,
   "id": "0971bf39-4f8a-4d89-bac8-a85a0500af73",
   "metadata": {},
   "outputs": [
    {
     "data": {
      "text/plain": [
       "'haihow'"
      ]
     },
     "execution_count": 162,
     "metadata": {},
     "output_type": "execute_result"
    }
   ],
   "source": [
    "str1='hai'\n",
    "str2='how'\n",
    "str1+str2"
   ]
  },
  {
   "cell_type": "code",
   "execution_count": 176,
   "id": "8ff44fcb-d09e-4c30-b117-2ccdabaca316",
   "metadata": {},
   "outputs": [
    {
     "ename": "TypeError",
     "evalue": "unsupported operand type(s) for -: 'str' and 'str'",
     "output_type": "error",
     "traceback": [
      "\u001b[1;31m---------------------------------------------------------------------------\u001b[0m",
      "\u001b[1;31mTypeError\u001b[0m                                 Traceback (most recent call last)",
      "Cell \u001b[1;32mIn[176], line 1\u001b[0m\n\u001b[1;32m----> 1\u001b[0m str1\u001b[38;5;241m-\u001b[39mstr2\n",
      "\u001b[1;31mTypeError\u001b[0m: unsupported operand type(s) for -: 'str' and 'str'"
     ]
    }
   ],
   "source": [
    "str1-str2    # unsupported operand type(s) for -: 'str' and 'str'\n",
    "#str1*str2    # can't multiply sequence by non-int of type 'str'\n",
    "#str1/str2    # unsupported operand type(s) for /: 'str' and 'str'"
   ]
  },
  {
   "cell_type": "code",
   "execution_count": 178,
   "id": "cb422ef3-cb20-4268-bd75-5969e2f47d4b",
   "metadata": {},
   "outputs": [
    {
     "data": {
      "text/plain": [
       "'haihaihai'"
      ]
     },
     "execution_count": 178,
     "metadata": {},
     "output_type": "execute_result"
    }
   ],
   "source": [
    "# can't multiply sequence by non-int of type 'str'\n",
    "\n",
    "3*str1        #multiplication will works with str.. but you need to implement it this way."
   ]
  },
  {
   "cell_type": "code",
   "execution_count": null,
   "id": "8c82b0c2-05ce-4579-bcd8-fadaebb417b7",
   "metadata": {},
   "outputs": [],
   "source": [
    "- how to read\n",
    "- single/double/triple quote\n",
    "- type\n",
    "- len\n",
    "- in (how to iterate through for loop)\n",
    "- max\n",
    "- min\n",
    "- concatenation"
   ]
  },
  {
   "cell_type": "markdown",
   "id": "035771ae-ec78-40ec-8291-6fc8e6036f50",
   "metadata": {},
   "source": [
    "$index$"
   ]
  },
  {
   "cell_type": "code",
   "execution_count": 181,
   "id": "a7bdc819-9503-4cce-82e9-2cd02d062982",
   "metadata": {},
   "outputs": [],
   "source": [
    "str1='python'  # 6 letters"
   ]
  },
  {
   "cell_type": "code",
   "execution_count": null,
   "id": "c393ff7c-6a6e-4cf9-a858-5e2a65558a16",
   "metadata": {},
   "outputs": [],
   "source": [
    "p  y  t  h  o  n\n",
    "0  1  2  3  4  5"
   ]
  },
  {
   "cell_type": "code",
   "execution_count": 191,
   "id": "04cc71eb-3026-473a-b6e7-9ad8befcf87d",
   "metadata": {},
   "outputs": [
    {
     "data": {
      "text/plain": [
       "('p', 'y', 't', 'h', 'o', 'n')"
      ]
     },
     "execution_count": 191,
     "metadata": {},
     "output_type": "execute_result"
    }
   ],
   "source": [
    "str1[0],str1[1],str1[2],str1[3],str1[4],str1[5]"
   ]
  },
  {
   "cell_type": "code",
   "execution_count": 193,
   "id": "8d7230ac-2cc3-4a03-be9f-6e267e8a1837",
   "metadata": {},
   "outputs": [
    {
     "name": "stdout",
     "output_type": "stream",
     "text": [
      "p\n",
      "y\n",
      "t\n",
      "h\n",
      "o\n"
     ]
    }
   ],
   "source": [
    "for i in range(5):\n",
    "    print(str1[i])\n",
    "\n",
    "# i=0 ===== str1[0] ==== 'p'\n",
    "# i=1 ====- str1[1] ==== 'y'\n",
    "\n",
    "# i ===== will give index\n",
    "# string[i] ==== letters"
   ]
  },
  {
   "cell_type": "code",
   "execution_count": 195,
   "id": "8f0680af-3fdd-4e44-bd71-2ef30075963d",
   "metadata": {},
   "outputs": [
    {
     "name": "stdout",
     "output_type": "stream",
     "text": [
      "p\n",
      "y\n",
      "t\n",
      "h\n",
      "o\n",
      "n\n",
      "p\n",
      "y\n",
      "t\n",
      "h\n",
      "o\n",
      "n\n"
     ]
    }
   ],
   "source": [
    "string1='python'\n",
    "\n",
    "# i want to print letters using in operator\n",
    "# i want to print letters using range operator\n",
    "\n",
    "for i in string1:\n",
    "    print(i)\n",
    "\n",
    "for i in range(len(string1)):\n",
    "    print(string1[i])"
   ]
  },
  {
   "cell_type": "code",
   "execution_count": 1,
   "id": "9f61c1dd-0a0f-4658-9ce5-9e16856173d5",
   "metadata": {},
   "outputs": [],
   "source": [
    "# if you want print only letter : in\n",
    "# if you want print index: range\n",
    "# if you want print index as well as letter: range"
   ]
  },
  {
   "cell_type": "markdown",
   "id": "827e656b-ca6b-45e3-966f-f874a8705ac7",
   "metadata": {},
   "source": [
    "### Lecture 2\n",
    "#### String"
   ]
  },
  {
   "cell_type": "markdown",
   "id": "19f7a109-f33e-48bd-a30f-3ba21cf8764d",
   "metadata": {},
   "source": [
    "- what we have learned till now.\n",
    "    - how to read strings\n",
    "    - doc string\n",
    "    - type/len/max/min\n",
    "    - concatenation\n",
    "    - index"
   ]
  },
  {
   "cell_type": "code",
   "execution_count": 7,
   "id": "cc72d368-1327-4b5f-b735-693b551e80fe",
   "metadata": {},
   "outputs": [],
   "source": [
    "string1='python'\n",
    "\n",
    "# i want to print the letters using for loop\n",
    "# "
   ]
  },
  {
   "cell_type": "code",
   "execution_count": 27,
   "id": "7dc6e744-c6ff-4412-b04d-ad44808e4de2",
   "metadata": {},
   "outputs": [
    {
     "name": "stdout",
     "output_type": "stream",
     "text": [
      "the index of p is 0 \n",
      "the index of y is 1 \n",
      "the index of t is 2 \n",
      "the index of h is 3 \n",
      "the index of o is 4 \n",
      "the index of n is 5 \n"
     ]
    }
   ],
   "source": [
    "#for i in string1:   # i means each letter\n",
    "   # print(i,end=' ')\n",
    "\n",
    "for i in range(len(string1)):  # i means numbers from 0\n",
    "    print('the index of {} is {} '.format(string1[i],i))\n",
    "\n",
    "# if you want to get the letters using index operator. so above is method to do it."
   ]
  },
  {
   "cell_type": "code",
   "execution_count": 11,
   "id": "10d78f51-fe31-447f-be44-1efd8b3413a5",
   "metadata": {},
   "outputs": [
    {
     "data": {
      "text/plain": [
       "'y'"
      ]
     },
     "execution_count": 11,
     "metadata": {},
     "output_type": "execute_result"
    }
   ],
   "source": [
    "string1[1]"
   ]
  },
  {
   "cell_type": "code",
   "execution_count": null,
   "id": "e87efdea-de2c-455c-b7c6-e282c033a2b4",
   "metadata": {},
   "outputs": [],
   "source": [
    "-6 -5 -4 -3 -2 -1  === negative indexing\n",
    "p  y  t  h  o  n\n",
    "0  1  2  3  4  5  === positive indexing"
   ]
  },
  {
   "cell_type": "code",
   "execution_count": 35,
   "id": "494d2419-0712-498e-a554-967b9cce7704",
   "metadata": {},
   "outputs": [
    {
     "name": "stdout",
     "output_type": "stream",
     "text": [
      "the negative index of p is -13\n",
      "the negative index of y is -12\n",
      "the negative index of t is -11\n",
      "the negative index of h is -10\n",
      "the negative index of o is -9\n",
      "the negative index of n is -8\n",
      "the negative index of   is -7\n",
      "the negative index of p is -6\n",
      "the negative index of y is -5\n",
      "the negative index of t is -4\n",
      "the negative index of h is -3\n",
      "the negative index of o is -2\n",
      "the negative index of n is -1\n"
     ]
    }
   ],
   "source": [
    "# iterate the for loop on string1\n",
    "# print the letters using negative index\n",
    "# the idea is first you need to print the numbers btw -6 to -1 using for loop\n",
    "\n",
    "string1='python python'\n",
    "for i in range(-len(string1),0):\n",
    "    print('the negative index of {} is {}'.format(string1[i],i))"
   ]
  },
  {
   "cell_type": "code",
   "execution_count": 37,
   "id": "a787af8c-b431-421f-a3e9-5189b46758ab",
   "metadata": {},
   "outputs": [
    {
     "name": "stdout",
     "output_type": "stream",
     "text": [
      "-6 -5 -4 -3 -2 -1 "
     ]
    }
   ],
   "source": [
    "#in how many ways you can get -6 to -1 ?\n",
    "\n",
    "#for i in range(-6,0): print(i,end=' ')\n",
    "\n",
    "for i in range(0,6): print(i-6,end=' ')   # 0 ----------  -6  i-6\n",
    "                                          # 1 ----------  -5"
   ]
  },
  {
   "cell_type": "code",
   "execution_count": 55,
   "id": "0f745f1e-d897-4ad4-bd75-c8a8eb6ed074",
   "metadata": {},
   "outputs": [
    {
     "name": "stdout",
     "output_type": "stream",
     "text": [
      "the positive index is 0 and negative index is p of letter -6\n",
      "the positive index is 1 and negative index is y of letter -5\n",
      "the positive index is 2 and negative index is t of letter -4\n",
      "the positive index is 3 and negative index is h of letter -3\n",
      "the positive index is 4 and negative index is o of letter -2\n",
      "the positive index is 5 and negative index is n of letter -1\n"
     ]
    }
   ],
   "source": [
    "string1='python'\n",
    "for i in range(len(string1)):\n",
    "    print('the positive index is {} and negative index is {} of letter {}'.format(i,string1[i],i-6))"
   ]
  },
  {
   "cell_type": "code",
   "execution_count": 61,
   "id": "48491f2b-d14a-4281-8022-0d0347fa6dc2",
   "metadata": {},
   "outputs": [
    {
     "name": "stdout",
     "output_type": "stream",
     "text": [
      "the positive index of p is 0\n",
      "the positive index of y is 1\n",
      "the positive index of t is 2\n",
      "the positive index of h is 3\n",
      "the positive index of o is 4\n",
      "the positive index of n is 5\n",
      "the negative index of p is -6\n",
      "the negative index of y is -5\n",
      "the negative index of t is -4\n",
      "the negative index of h is -3\n",
      "the negative index of o is -2\n",
      "the negative index of n is -1\n",
      "the positive index is 0 and negative index is p of letter -6\n",
      "the positive index is 1 and negative index is y of letter -5\n",
      "the positive index is 2 and negative index is t of letter -4\n",
      "the positive index is 3 and negative index is h of letter -3\n",
      "the positive index is 4 and negative index is o of letter -2\n",
      "the positive index is 5 and negative index is n of letter -1\n"
     ]
    }
   ],
   "source": [
    "for i in range(-len(string1),0):\n",
    "    print('the positive index of {} is {}'.format(string1[i],i+6))\n",
    "\n",
    "for i in range(-len(string1),0):\n",
    "    print('the negative index of {} is {}'.format(string1[i],i))\n",
    "\n",
    "for i in range(-len(string1),0):\n",
    "    print('the positive index is {} and negative index is {} of letter {}'.format(i+6,string1[i],i))"
   ]
  },
  {
   "cell_type": "code",
   "execution_count": 71,
   "id": "9442aa44-d487-4b14-a703-17957ffc1087",
   "metadata": {},
   "outputs": [
    {
     "name": "stdout",
     "output_type": "stream",
     "text": [
      "the positive index of p is 0\n",
      "the positive index of y is 1\n",
      "the positive index of t is 2\n",
      "the positive index of h is 3\n",
      "the positive index of o is 4\n",
      "the positive index of n is 5\n",
      "the positive index of p is -6\n",
      "the positive index of y is -5\n",
      "the positive index of t is -4\n",
      "the positive index of h is -3\n",
      "the positive index of o is -2\n",
      "the positive index of n is -1\n",
      "the positive index is -6 and negative index is 0 of letter p\n",
      "the positive index is -5 and negative index is 1 of letter y\n",
      "the positive index is -4 and negative index is 2 of letter t\n",
      "the positive index is -3 and negative index is 3 of letter h\n",
      "the positive index is -2 and negative index is 4 of letter o\n",
      "the positive index is -1 and negative index is 5 of letter n\n"
     ]
    }
   ],
   "source": [
    "i=0\n",
    "while i<(len(string1)):\n",
    "    print('the positive index of {} is {}'.format(string1[i],i))\n",
    "    i+=1\n",
    "\n",
    "i=0\n",
    "while i<(len(string1)):\n",
    "    print('the positive index of {} is {}'.format(string1[i],i-6))\n",
    "    i+=1\n",
    "\n",
    "i=0\n",
    "while i<(len(string1)):\n",
    "    print('the positive index is {} and negative index is {} of letter {}'.format(i-6,i,string1[i]))\n",
    "    i+=1"
   ]
  },
  {
   "cell_type": "code",
   "execution_count": 79,
   "id": "cd31f3a4-86ba-4e0a-bad6-37be1662092f",
   "metadata": {},
   "outputs": [
    {
     "name": "stdout",
     "output_type": "stream",
     "text": [
      "2\n"
     ]
    }
   ],
   "source": [
    "string1='hai how are you'\n",
    "count=0\n",
    "for i in range(len(string1)):\n",
    "    if string1[i]=='a':\n",
    "        count+=1\n",
    "print(count)"
   ]
  },
  {
   "cell_type": "markdown",
   "id": "b9dff9c7-a18c-494d-a6ab-ade04e2301f8",
   "metadata": {},
   "source": [
    "**Mutable and Immutable concept**\n",
    "\n",
    "mutable ==== we can change\n",
    "\n",
    "immutable ==== we can not change the value by using index operations\n",
    "\n",
    "**strings are immutable**"
   ]
  },
  {
   "cell_type": "code",
   "execution_count": 87,
   "id": "ee027b66-45fb-4d46-9705-58e3d5faebfc",
   "metadata": {},
   "outputs": [
    {
     "ename": "TypeError",
     "evalue": "'str' object does not support item assignment",
     "output_type": "error",
     "traceback": [
      "\u001b[1;31m---------------------------------------------------------------------------\u001b[0m",
      "\u001b[1;31mTypeError\u001b[0m                                 Traceback (most recent call last)",
      "Cell \u001b[1;32mIn[87], line 4\u001b[0m\n\u001b[0;32m      1\u001b[0m string1\u001b[38;5;241m=\u001b[39m\u001b[38;5;124m'\u001b[39m\u001b[38;5;124mpython\u001b[39m\u001b[38;5;124m'\u001b[39m\n\u001b[0;32m      2\u001b[0m \u001b[38;5;66;03m# i want to change 'p' === 'P'\u001b[39;00m\n\u001b[0;32m      3\u001b[0m \u001b[38;5;66;03m# o/p: 'Python'\u001b[39;00m\n\u001b[1;32m----> 4\u001b[0m string1[\u001b[38;5;241m0\u001b[39m]\u001b[38;5;241m=\u001b[39m\u001b[38;5;124m'\u001b[39m\u001b[38;5;124mP\u001b[39m\u001b[38;5;124m'\u001b[39m\n",
      "\u001b[1;31mTypeError\u001b[0m: 'str' object does not support item assignment"
     ]
    }
   ],
   "source": [
    "string1='python'\n",
    "# i want to change 'p' === 'P'\n",
    "# o/p: 'Python'\n",
    "string1[0]='P'\n",
    "\n",
    "# that means string is immutable. because we cannot change the values using index operations."
   ]
  },
  {
   "cell_type": "markdown",
   "id": "df64c695-6bca-4e74-a204-746261bdc3be",
   "metadata": {},
   "source": [
    "$slice$"
   ]
  },
  {
   "cell_type": "code",
   "execution_count": 1,
   "id": "da74f239-5830-4b1c-b82e-79c597d9bc36",
   "metadata": {},
   "outputs": [
    {
     "data": {
      "text/plain": [
       "[1000, 200, 300]"
      ]
     },
     "execution_count": 1,
     "metadata": {},
     "output_type": "execute_result"
    }
   ],
   "source": [
    "list1=[100,200,300] # 100 ==== 1000\n",
    "list1[0]=1000\n",
    "list1"
   ]
  },
  {
   "cell_type": "code",
   "execution_count": null,
   "id": "a5474d4f-a4fa-4b12-8c0b-07774ec3da6d",
   "metadata": {},
   "outputs": [],
   "source": [
    "h  a  i     h  o  w     a  r  e       y   o  u\n",
    "0  1  2  3  4  5  6  7  8  9  10  11 12  13 14 "
   ]
  },
  {
   "cell_type": "code",
   "execution_count": 1,
   "id": "cc9f9550-6320-4707-9a98-e7b9febbee19",
   "metadata": {},
   "outputs": [
    {
     "data": {
      "text/plain": [
       "'i how are'"
      ]
     },
     "execution_count": 1,
     "metadata": {},
     "output_type": "execute_result"
    }
   ],
   "source": [
    "string1='hai how are you'\n",
    "string1[2:11]\n",
    "# start=2\n",
    "# stop=10-1=9\n",
    "# postive"
   ]
  },
  {
   "cell_type": "code",
   "execution_count": 92,
   "id": "d86216fd-c744-4bf9-9418-101d62b000fb",
   "metadata": {},
   "outputs": [
    {
     "data": {
      "text/plain": [
       "'ioa'"
      ]
     },
     "execution_count": 92,
     "metadata": {},
     "output_type": "execute_result"
    }
   ],
   "source": [
    "string1='hai how are you'\n",
    "string1[2:10:3]\n",
    "# start=2\n",
    "# dire=+  step=3\n",
    "# stop=10-1=9\n",
    "# 2  5  8  "
   ]
  },
  {
   "cell_type": "code",
   "execution_count": 94,
   "id": "452647e4-1661-4038-a1c5-078fb5a5b8c9",
   "metadata": {},
   "outputs": [
    {
     "data": {
      "text/plain": [
       "'hai how are you'"
      ]
     },
     "execution_count": 94,
     "metadata": {},
     "output_type": "execute_result"
    }
   ],
   "source": [
    "string1[:]\n",
    "\n",
    "# nothing mentioned means take start and last letter"
   ]
  },
  {
   "cell_type": "code",
   "execution_count": 96,
   "id": "081d3c7b-ae83-4716-94ba-a923b4afd09f",
   "metadata": {},
   "outputs": [
    {
     "data": {
      "text/plain": [
       "'hai how are you'"
      ]
     },
     "execution_count": 96,
     "metadata": {},
     "output_type": "execute_result"
    }
   ],
   "source": [
    "string1[::]\n",
    "# start= 0\n",
    "# stop= last letter len(string1)\n",
    "# step= +1"
   ]
  },
  {
   "cell_type": "code",
   "execution_count": 9,
   "id": "f88410cf-8881-4af8-8b33-c680259db89c",
   "metadata": {},
   "outputs": [
    {
     "data": {
      "text/plain": [
       "'hai how are you'"
      ]
     },
     "execution_count": 9,
     "metadata": {},
     "output_type": "execute_result"
    }
   ],
   "source": [
    "string1='hai how are you'\n",
    "string1[2:10]\n",
    "string1[2:10:3]\n",
    "string1[:]\n",
    "string1[::]"
   ]
  },
  {
   "cell_type": "code",
   "execution_count": 11,
   "id": "66f2720c-b7a3-4b0a-9fac-cdd41923fed4",
   "metadata": {},
   "outputs": [
    {
     "data": {
      "text/plain": [
       "''"
      ]
     },
     "execution_count": 11,
     "metadata": {},
     "output_type": "execute_result"
    }
   ],
   "source": [
    "string1[2:10:-3]  #Nothing will print here but no error "
   ]
  },
  {
   "cell_type": "code",
   "execution_count": 13,
   "id": "864e2712-68e1-4ce2-a827-cc0ea35394eb",
   "metadata": {},
   "outputs": [],
   "source": [
    "for i in range(2,10,-3):print(i)"
   ]
  },
  {
   "cell_type": "code",
   "execution_count": 15,
   "id": "c82ae0b0-ed69-4de1-808e-416d1211441c",
   "metadata": {},
   "outputs": [
    {
     "data": {
      "text/plain": [
       "15"
      ]
     },
     "execution_count": 15,
     "metadata": {},
     "output_type": "execute_result"
    }
   ],
   "source": [
    "len(string1)"
   ]
  },
  {
   "cell_type": "code",
   "execution_count": null,
   "id": "3df4a3b5-5515-4bd8-b7f7-07b988d504f8",
   "metadata": {},
   "outputs": [],
   "source": [
    "-15  -14  -13  -12  -11  -10  -9  -8  -7  -6  -5  -4  -3  -2  -1\n",
    "h     a    i          h   o   w        a   r   e       y   o  u\n",
    "0     1    2    3     4   5   6    7   8   9  10  11   12  13 14 "
   ]
  },
  {
   "cell_type": "code",
   "execution_count": 17,
   "id": "6f93d810-7720-420e-adb9-260362c2ec54",
   "metadata": {},
   "outputs": [
    {
     "data": {
      "text/plain": [
       "'awhi'"
      ]
     },
     "execution_count": 17,
     "metadata": {},
     "output_type": "execute_result"
    }
   ],
   "source": [
    "string1[8:-15:-2]  # start=8  stop =-15+1=-14  step=2"
   ]
  },
  {
   "cell_type": "code",
   "execution_count": 21,
   "id": "c9d8fd63-0a17-4408-b79a-d2a90b37f696",
   "metadata": {},
   "outputs": [
    {
     "data": {
      "text/plain": [
       "'i'"
      ]
     },
     "execution_count": 21,
     "metadata": {},
     "output_type": "execute_result"
    }
   ],
   "source": [
    "string1[2:-14:-2]   # empty   i \n",
    "\n",
    "# start=2\n",
    "# stop=-14+1=-13\n",
    "# \n",
    "# ' '"
   ]
  },
  {
   "cell_type": "code",
   "execution_count": null,
   "id": "9fa68aca-7681-4fe7-9b79-5d5e3d081790",
   "metadata": {},
   "outputs": [],
   "source": [
    "string1[2:14:2] ## P\n",
    "string1[2:14:-2] # Np\n",
    "string1[2:-14:2] # np\n",
    "string1[2:-14:-2] # \n",
    "string1[-2:14:2] # p\n",
    "string1[-2:-14:2] # np\n",
    "string1[-2:-14:-2] # p"
   ]
  },
  {
   "cell_type": "markdown",
   "id": "57e50197-ca98-4212-9663-742882a8e380",
   "metadata": {},
   "source": [
    "**So far what we have learned in Strings**\n",
    "\n",
    "- reading mehtods\n",
    "- single/double/triple(doc string)\n",
    "- type\n",
    "- len\n",
    "- max\n",
    "- min\n",
    "- concatenation\n",
    "  - subtraction/multiplication/division.\n",
    "- in\n",
    "- index\n",
    "- mutable/immutable\n",
    "- slice"
   ]
  },
  {
   "cell_type": "markdown",
   "id": "9e3d5a26-d18f-4651-828b-cfc0cd4da8b7",
   "metadata": {},
   "source": [
    "**String Methods**"
   ]
  },
  {
   "cell_type": "code",
   "execution_count": null,
   "id": "ef03fdac-6734-4e91-927b-aeb9b0d12dc3",
   "metadata": {},
   "outputs": [],
   "source": [
    "import <package_name>\n",
    "dir(<package_name>)\n",
    "help(<package_name>.<method_name>)"
   ]
  },
  {
   "cell_type": "code",
   "execution_count": 29,
   "id": "f20942b4-ada6-4643-a720-5cb2944c0d4c",
   "metadata": {},
   "outputs": [
    {
     "data": {
      "text/plain": [
       "['__add__',\n",
       " '__class__',\n",
       " '__contains__',\n",
       " '__delattr__',\n",
       " '__dir__',\n",
       " '__doc__',\n",
       " '__eq__',\n",
       " '__format__',\n",
       " '__ge__',\n",
       " '__getattribute__',\n",
       " '__getitem__',\n",
       " '__getnewargs__',\n",
       " '__getstate__',\n",
       " '__gt__',\n",
       " '__hash__',\n",
       " '__init__',\n",
       " '__init_subclass__',\n",
       " '__iter__',\n",
       " '__le__',\n",
       " '__len__',\n",
       " '__lt__',\n",
       " '__mod__',\n",
       " '__mul__',\n",
       " '__ne__',\n",
       " '__new__',\n",
       " '__reduce__',\n",
       " '__reduce_ex__',\n",
       " '__repr__',\n",
       " '__rmod__',\n",
       " '__rmul__',\n",
       " '__setattr__',\n",
       " '__sizeof__',\n",
       " '__str__',\n",
       " '__subclasshook__',\n",
       " 'capitalize',\n",
       " 'casefold',\n",
       " 'center',\n",
       " 'count',\n",
       " 'encode',\n",
       " 'endswith',\n",
       " 'expandtabs',\n",
       " 'find',\n",
       " 'format',\n",
       " 'format_map',\n",
       " 'index',\n",
       " 'isalnum',\n",
       " 'isalpha',\n",
       " 'isascii',\n",
       " 'isdecimal',\n",
       " 'isdigit',\n",
       " 'isidentifier',\n",
       " 'islower',\n",
       " 'isnumeric',\n",
       " 'isprintable',\n",
       " 'isspace',\n",
       " 'istitle',\n",
       " 'isupper',\n",
       " 'join',\n",
       " 'ljust',\n",
       " 'lower',\n",
       " 'lstrip',\n",
       " 'maketrans',\n",
       " 'partition',\n",
       " 'removeprefix',\n",
       " 'removesuffix',\n",
       " 'replace',\n",
       " 'rfind',\n",
       " 'rindex',\n",
       " 'rjust',\n",
       " 'rpartition',\n",
       " 'rsplit',\n",
       " 'rstrip',\n",
       " 'split',\n",
       " 'splitlines',\n",
       " 'startswith',\n",
       " 'strip',\n",
       " 'swapcase',\n",
       " 'title',\n",
       " 'translate',\n",
       " 'upper',\n",
       " 'zfill']"
      ]
     },
     "execution_count": 29,
     "metadata": {},
     "output_type": "execute_result"
    }
   ],
   "source": [
    "dir('')"
   ]
  },
  {
   "cell_type": "markdown",
   "id": "930ef39c-79f7-4a74-b6af-07064a13cbfa",
   "metadata": {},
   "source": [
    "$capatalize$"
   ]
  },
  {
   "cell_type": "code",
   "execution_count": 32,
   "id": "77d1b971-b674-4f3f-9608-2bce8b9e1aac",
   "metadata": {},
   "outputs": [
    {
     "name": "stdout",
     "output_type": "stream",
     "text": [
      "Help on built-in function capitalize:\n",
      "\n",
      "capitalize() method of builtins.str instance\n",
      "    Return a capitalized version of the string.\n",
      "\n",
      "    More specifically, make the first character have upper case and the rest lower\n",
      "    case.\n",
      "\n"
     ]
    }
   ],
   "source": [
    "st1='welcome'\n",
    "help(st1.capitalize)"
   ]
  },
  {
   "cell_type": "code",
   "execution_count": 34,
   "id": "75c5694b-8606-4525-aa8a-0880f39d0f91",
   "metadata": {},
   "outputs": [
    {
     "data": {
      "text/plain": [
       "'Welcome'"
      ]
     },
     "execution_count": 34,
     "metadata": {},
     "output_type": "execute_result"
    }
   ],
   "source": [
    "st1.capitalize()"
   ]
  },
  {
   "cell_type": "markdown",
   "id": "956dda44-1e6b-471e-bd38-60c4021b7e47",
   "metadata": {},
   "source": [
    "$upper$"
   ]
  },
  {
   "cell_type": "code",
   "execution_count": 39,
   "id": "0697352d-bce0-4352-b515-63591d2eca64",
   "metadata": {},
   "outputs": [
    {
     "name": "stdout",
     "output_type": "stream",
     "text": [
      "Help on built-in function upper:\n",
      "\n",
      "upper() method of builtins.str instance\n",
      "    Return a copy of the string converted to uppercase.\n",
      "\n"
     ]
    }
   ],
   "source": [
    "st2='thankyou'\n",
    "help(st2.upper)"
   ]
  },
  {
   "cell_type": "code",
   "execution_count": 41,
   "id": "4f469fa5-db7f-4d87-9c92-f60013c29ab6",
   "metadata": {},
   "outputs": [
    {
     "data": {
      "text/plain": [
       "'THANKYOU'"
      ]
     },
     "execution_count": 41,
     "metadata": {},
     "output_type": "execute_result"
    }
   ],
   "source": [
    "st2.upper()"
   ]
  },
  {
   "cell_type": "markdown",
   "id": "c3793c11-c4e2-4bcc-8b5e-5a8c8724756f",
   "metadata": {},
   "source": [
    "$lower$"
   ]
  },
  {
   "cell_type": "code",
   "execution_count": 44,
   "id": "ae863ef0-f109-4fd2-addf-89dcb70a7f7b",
   "metadata": {},
   "outputs": [
    {
     "name": "stdout",
     "output_type": "stream",
     "text": [
      "Welcome\n",
      "WELCOME\n",
      "welcome\n"
     ]
    }
   ],
   "source": [
    "st3='WeLcOme'\n",
    "print(st3.capitalize())\n",
    "print(st3.upper())\n",
    "print(st3.lower())"
   ]
  },
  {
   "cell_type": "markdown",
   "id": "8c7cfa42-30a2-49c7-9e9b-5a6d064806dc",
   "metadata": {},
   "source": [
    "**Remember**\n",
    "- methods are dumb it's very easier but reduces your thinking power.\n",
    "- and your logic will be gone. so try to use minimum as possible the strings methods."
   ]
  },
  {
   "cell_type": "code",
   "execution_count": 47,
   "id": "1f435b12-43b1-4623-a948-f4011218f857",
   "metadata": {},
   "outputs": [],
   "source": [
    "# Example\n",
    "string1='hai how are you'\n",
    "# count how many 'a' s are there"
   ]
  },
  {
   "cell_type": "code",
   "execution_count": 51,
   "id": "b2c52f0a-ef11-46c3-9dad-47b3807ce482",
   "metadata": {},
   "outputs": [
    {
     "data": {
      "text/plain": [
       "2"
      ]
     },
     "execution_count": 51,
     "metadata": {},
     "output_type": "execute_result"
    }
   ],
   "source": [
    "string1.count('a')  #earlier we did this type of question with using loops and if else concept but here we did it in one line. and it's dangerous."
   ]
  },
  {
   "cell_type": "code",
   "execution_count": 55,
   "id": "6bc25793-86e0-4cd2-83e9-88321a6afe2d",
   "metadata": {},
   "outputs": [
    {
     "name": "stdout",
     "output_type": "stream",
     "text": [
      "2\n"
     ]
    }
   ],
   "source": [
    "count=0\n",
    "for i in string1:\n",
    "    if i=='a':\n",
    "        count+=1\n",
    "print(count)\n",
    "\n",
    "# the above count method is nothing but a python code just like this created by someone else."
   ]
  },
  {
   "cell_type": "code",
   "execution_count": 79,
   "id": "37a7fa6d-23ce-47e7-956f-39d0a0a5a5e6",
   "metadata": {},
   "outputs": [
    {
     "name": "stdout",
     "output_type": "stream",
     "text": [
      "weLcome\n"
     ]
    }
   ],
   "source": [
    "st1='welcome'\n",
    "s2=st1[2]  # this is my method i used here a string method. but i have to create it without using any str method.\n",
    "s=s2.upper()\n",
    "s3=st1[:2]\n",
    "s4=st1[3:]\n",
    "s5=s3+s+s4\n",
    "print(s5)"
   ]
  },
  {
   "cell_type": "code",
   "execution_count": 83,
   "id": "d809579a-a566-4bc2-800d-78fe15396e4c",
   "metadata": {},
   "outputs": [
    {
     "name": "stdout",
     "output_type": "stream",
     "text": [
      "thanKyou\n"
     ]
    }
   ],
   "source": [
    "str1='thankyou'\n",
    "# output: 'thanKyou'\n",
    "str2=str1[:4]\n",
    "str3=str1[5:]\n",
    "str4=str2+'K'+str3\n",
    "print(str4)"
   ]
  },
  {
   "cell_type": "code",
   "execution_count": 85,
   "id": "ad696720-d0a4-4ee4-a520-f252d358688d",
   "metadata": {},
   "outputs": [
    {
     "data": {
      "text/plain": [
       "'thanKyou'"
      ]
     },
     "execution_count": 85,
     "metadata": {},
     "output_type": "execute_result"
    }
   ],
   "source": [
    "# there is one more bakwas operator is there\n",
    "\n",
    "str1.replace('k','K')"
   ]
  },
  {
   "cell_type": "markdown",
   "id": "1a44c8d7-630f-431e-829b-f56895d5dbaa",
   "metadata": {},
   "source": [
    "##### omkar sir says: if you want to be a good developer then you need to be perfect till while loop."
   ]
  },
  {
   "cell_type": "markdown",
   "id": "9dddfc2c-4566-4ae4-8e23-79974ee342e1",
   "metadata": {},
   "source": [
    "## Lecture 3\n",
    "#### Strings"
   ]
  },
  {
   "cell_type": "markdown",
   "id": "cf5bb91e-c834-4fda-93b4-4abb9c8143f2",
   "metadata": {},
   "source": [
    "**casefold**"
   ]
  },
  {
   "cell_type": "code",
   "execution_count": 92,
   "id": "a907879f-63d8-4dc3-acf4-be5aa063fdd3",
   "metadata": {},
   "outputs": [
    {
     "name": "stdout",
     "output_type": "stream",
     "text": [
      "Help on built-in function casefold:\n",
      "\n",
      "casefold() method of builtins.str instance\n",
      "    Return a version of the string suitable for caseless comparisons.\n",
      "\n"
     ]
    }
   ],
   "source": [
    "str1='WelCome'\n",
    "help(str1.casefold)"
   ]
  },
  {
   "cell_type": "code",
   "execution_count": 94,
   "id": "47986077-d0ba-4c35-9bda-9a312aa8517d",
   "metadata": {},
   "outputs": [
    {
     "data": {
      "text/plain": [
       "'welcome'"
      ]
     },
     "execution_count": 94,
     "metadata": {},
     "output_type": "execute_result"
    }
   ],
   "source": [
    "str1.casefold()  # casefold works like a lowercase. lowercase and casefold works same."
   ]
  },
  {
   "cell_type": "markdown",
   "id": "8a55c2fa-0845-4eb3-870b-00f57d0aaff5",
   "metadata": {},
   "source": [
    "- capaitalize: first letter as capital\n",
    "- upper : ALL letters are in upper case\n",
    "- lower : All letters are in lower case\n",
    "- casefold : case less comparision( all lower case )"
   ]
  },
  {
   "cell_type": "markdown",
   "id": "cdd11426-6d5f-45d0-987b-5846696b9ce5",
   "metadata": {},
   "source": [
    "$Count$"
   ]
  },
  {
   "cell_type": "code",
   "execution_count": 98,
   "id": "186353ee-697d-426f-a3ae-c72b24d4a9ca",
   "metadata": {},
   "outputs": [
    {
     "data": {
      "text/plain": [
       "2"
      ]
     },
     "execution_count": 98,
     "metadata": {},
     "output_type": "execute_result"
    }
   ],
   "source": [
    "st1='hai how are you'\n",
    "# how many 'h' s are there\n",
    "st1.count('h')"
   ]
  },
  {
   "cell_type": "code",
   "execution_count": 100,
   "id": "d4ca3036-6a51-4f3a-95b0-8b20e0e95685",
   "metadata": {},
   "outputs": [
    {
     "data": {
      "text/plain": [
       "1"
      ]
     },
     "execution_count": 100,
     "metadata": {},
     "output_type": "execute_result"
    }
   ],
   "source": [
    "st1.count('hai')  #we can count not only single letters we can count multiple letters/words also.\n"
   ]
  },
  {
   "cell_type": "code",
   "execution_count": 102,
   "id": "572d2ca4-df1e-480a-a968-50e9e5baa0e0",
   "metadata": {},
   "outputs": [
    {
     "data": {
      "text/plain": [
       "3"
      ]
     },
     "execution_count": 102,
     "metadata": {},
     "output_type": "execute_result"
    }
   ],
   "source": [
    "st1='ola ola ola'\n",
    "st1.count('ola')"
   ]
  },
  {
   "cell_type": "code",
   "execution_count": 106,
   "id": "17a9073b-80c4-4d72-b39e-ae925db56e6f",
   "metadata": {},
   "outputs": [
    {
     "name": "stdout",
     "output_type": "stream",
     "text": [
      "2\n",
      "3\n",
      "0\n"
     ]
    }
   ],
   "source": [
    "print(st1.count('ola ')) #3\n",
    "print(st1.count('ol'))  #2\n",
    "print(st1.count('oa'))  # check 'o' after 'a' is there ?"
   ]
  },
  {
   "cell_type": "code",
   "execution_count": 120,
   "id": "57a0c1db-9bc2-489a-9312-073ddb1c043e",
   "metadata": {},
   "outputs": [
    {
     "name": "stdout",
     "output_type": "stream",
     "text": [
      "2\n",
      "2\n",
      "0\n",
      "1\n",
      "0\n",
      "2\n",
      "0\n"
     ]
    }
   ],
   "source": [
    "st1='ola ola ola'\n",
    "# ola   ola    ola\n",
    "# 012 3 456 7 8910\n",
    "# we are counting the number of 'a' from index 4\n",
    "\n",
    "print(st1.count('a',4))\n",
    "print(st1.count('a',6))\n",
    "print(st1.count('a',4,6))  # 4 and 5\n",
    "print(st1.count('a',4,7))  # 4 5 6\n",
    "print(st1.count('A',4))    # 0\n",
    "print(st1.count('A'.lower(),4))      # 'A' is here a string with a method so it will works\n",
    "print(st1.count('a'.upper(),4,7))"
   ]
  },
  {
   "cell_type": "code",
   "execution_count": 126,
   "id": "243102b3-2284-45bd-b1bd-c02460d7285b",
   "metadata": {},
   "outputs": [
    {
     "name": "stdout",
     "output_type": "stream",
     "text": [
      "3\n"
     ]
    }
   ],
   "source": [
    "st1='ola ola ola'\n",
    "count=0\n",
    "for i in st1:\n",
    "    if i=='a':\n",
    "        count+=1\n",
    "print(count)"
   ]
  },
  {
   "cell_type": "code",
   "execution_count": 134,
   "id": "47c2e5bd-f05a-4f22-bafc-09fba2e3d8e7",
   "metadata": {},
   "outputs": [
    {
     "name": "stdout",
     "output_type": "stream",
     "text": [
      "3\n"
     ]
    }
   ],
   "source": [
    "# how many 'ola' are there\n",
    "# do till now what we are completed use that only except count method.\n",
    "\n",
    "str1='ola ola ola'\n",
    "count=0\n",
    "for i in range(len(str1)):\n",
    "    if str1[i:i+3]=='ola':\n",
    "        count+=1\n",
    "print(count)"
   ]
  },
  {
   "cell_type": "code",
   "execution_count": null,
   "id": "2db3cd81-3b82-4bbb-926b-28d464906e46",
   "metadata": {},
   "outputs": [],
   "source": [
    "# in Interview you'll be asked this below method without using method.\n",
    "str1.count('ola') #as developer mode"
   ]
  },
  {
   "cell_type": "markdown",
   "id": "0a425a98-73c7-4dd5-a95f-9c17a1839aaf",
   "metadata": {},
   "source": [
    "**always focus on thing how can i become a good developer. if you become a good dev then data scientist is very easy**"
   ]
  },
  {
   "cell_type": "markdown",
   "id": "247a25a5-f41d-4c5f-a066-8e51cce23212",
   "metadata": {},
   "source": [
    "**always think like that programming language is reduced your manual efford. how you are reducing my efford.**"
   ]
  },
  {
   "cell_type": "markdown",
   "id": "fd016548-3de4-40f6-805c-371e2511dda2",
   "metadata": {},
   "source": [
    "$replace$"
   ]
  },
  {
   "cell_type": "code",
   "execution_count": 141,
   "id": "600dc9a0-ec83-487a-9c3e-c2f04fd43f3d",
   "metadata": {},
   "outputs": [
    {
     "data": {
      "text/plain": [
       "'resTTarTT'"
      ]
     },
     "execution_count": 141,
     "metadata": {},
     "output_type": "execute_result"
    }
   ],
   "source": [
    "str1='restart'\n",
    "# replace 't' with 'T'\n",
    "str1.replace('t','TT')"
   ]
  },
  {
   "cell_type": "code",
   "execution_count": 151,
   "id": "883d67de-3344-4e5e-b8c6-8ad6c2db6a72",
   "metadata": {},
   "outputs": [
    {
     "data": {
      "text/plain": [
       "'$estart'"
      ]
     },
     "execution_count": 151,
     "metadata": {},
     "output_type": "execute_result"
    }
   ],
   "source": [
    "str1='restart'\n",
    "str1.replace('r','$',1)  # 1 here means you need to change only one occurance.\n",
    "\n",
    "# if you dont understood it then take help().\n",
    "# help(str1.replace)\n",
    "# -1 means all the occurances will change."
   ]
  },
  {
   "cell_type": "code",
   "execution_count": 177,
   "id": "b8565c84-e063-44fa-92ba-650038f647ac",
   "metadata": {},
   "outputs": [
    {
     "name": "stdout",
     "output_type": "stream",
     "text": [
      "resta$t\n"
     ]
    }
   ],
   "source": [
    "str1='restart'\n",
    "str2=str1[:5]\n",
    "str3=str1[6:]\n",
    "str4=str2+'$'+str3\n",
    "print(str4)"
   ]
  },
  {
   "cell_type": "code",
   "execution_count": 181,
   "id": "54e9484b-d9e6-4e21-9bc3-660b00c8873b",
   "metadata": {},
   "outputs": [
    {
     "data": {
      "text/plain": [
       "'resta$t'"
      ]
     },
     "execution_count": 181,
     "metadata": {},
     "output_type": "execute_result"
    }
   ],
   "source": [
    "s1=str1[0]\n",
    "s2=str1[1:].replace('r','$')\n",
    "s1+s2"
   ]
  },
  {
   "cell_type": "code",
   "execution_count": 183,
   "id": "06b01cba-35ab-4e3e-8403-2949f1b2b8ab",
   "metadata": {},
   "outputs": [
    {
     "data": {
      "text/plain": [
       "'resta$t'"
      ]
     },
     "execution_count": 183,
     "metadata": {},
     "output_type": "execute_result"
    }
   ],
   "source": [
    "str1[::-1].replace('r','$',1)[::-1]"
   ]
  },
  {
   "cell_type": "markdown",
   "id": "f3cbd91e-3c49-4f5e-a14c-a6374b2a859f",
   "metadata": {},
   "source": [
    "$index$"
   ]
  },
  {
   "cell_type": "code",
   "execution_count": 190,
   "id": "559b2bf6-8020-472f-bd6d-df2761b02787",
   "metadata": {},
   "outputs": [
    {
     "data": {
      "text/plain": [
       "3"
      ]
     },
     "execution_count": 190,
     "metadata": {},
     "output_type": "execute_result"
    }
   ],
   "source": [
    "str1='welcome python'\n",
    "str1.index('c')\n",
    "#help(str1.index)"
   ]
  },
  {
   "cell_type": "code",
   "execution_count": 192,
   "id": "5ca3fef0-aa95-4b88-80a7-940fe39ecc75",
   "metadata": {},
   "outputs": [
    {
     "ename": "ValueError",
     "evalue": "substring not found",
     "output_type": "error",
     "traceback": [
      "\u001b[1;31m---------------------------------------------------------------------------\u001b[0m",
      "\u001b[1;31mValueError\u001b[0m                                Traceback (most recent call last)",
      "Cell \u001b[1;32mIn[192], line 1\u001b[0m\n\u001b[1;32m----> 1\u001b[0m str1\u001b[38;5;241m.\u001b[39mindex(\u001b[38;5;124m'\u001b[39m\u001b[38;5;124mz\u001b[39m\u001b[38;5;124m'\u001b[39m)\n",
      "\u001b[1;31mValueError\u001b[0m: substring not found"
     ]
    }
   ],
   "source": [
    "str1.index('z')  # sub string not found"
   ]
  },
  {
   "cell_type": "code",
   "execution_count": 194,
   "id": "3157468b-d1af-43c9-8be7-e47c4b445da0",
   "metadata": {},
   "outputs": [
    {
     "name": "stdout",
     "output_type": "stream",
     "text": [
      "3\n"
     ]
    },
    {
     "data": {
      "text/plain": [
       "3"
      ]
     },
     "execution_count": 194,
     "metadata": {},
     "output_type": "execute_result"
    }
   ],
   "source": [
    "str2='hai how are you and'\n",
    "# how many 'a' s are there\n",
    "# what are the indexes of 'a'\n",
    "count=0\n",
    "for i in str2:\n",
    "    if i=='a':\n",
    "        count+=1\n",
    "print(count)\n",
    "\n",
    "str2.count('a')"
   ]
  },
  {
   "cell_type": "code",
   "execution_count": 196,
   "id": "46cd87c2-6f69-4128-8c81-0e2578efad2a",
   "metadata": {},
   "outputs": [
    {
     "name": "stdout",
     "output_type": "stream",
     "text": [
      "1\n",
      "8\n",
      "16\n"
     ]
    }
   ],
   "source": [
    "for i in range(len(str2)):\n",
    "    if str2[i]=='a':\n",
    "        print(i)"
   ]
  },
  {
   "cell_type": "code",
   "execution_count": 198,
   "id": "34a96238-371c-42a8-bdfe-f38827362fe2",
   "metadata": {},
   "outputs": [
    {
     "name": "stdout",
     "output_type": "stream",
     "text": [
      "1 5 9 13 17\n"
     ]
    }
   ],
   "source": [
    "string1='hai hai hai hai hai'\n",
    "i1=string1.index('a') # 1\n",
    "i2=string1.index('a',i1+1) \n",
    "i3=string1.index('a',i2+1) \n",
    "i4=string1.index('a',i3+1) \n",
    "i5=string1.index('a',i4+1)\n",
    "print(i1,i2,i3,i4,i5)"
   ]
  },
  {
   "cell_type": "code",
   "execution_count": 200,
   "id": "756fc1fb-0cdf-489f-86da-62428de53788",
   "metadata": {},
   "outputs": [
    {
     "data": {
      "text/plain": [
       "5"
      ]
     },
     "execution_count": 200,
     "metadata": {},
     "output_type": "execute_result"
    }
   ],
   "source": [
    "string1.index('a',string1.index('a')+1)"
   ]
  },
  {
   "cell_type": "code",
   "execution_count": 202,
   "id": "a4783d36-06f5-4474-b448-9412d4e59786",
   "metadata": {},
   "outputs": [
    {
     "data": {
      "text/plain": [
       "17"
      ]
     },
     "execution_count": 202,
     "metadata": {},
     "output_type": "execute_result"
    }
   ],
   "source": [
    "string1.index('a',string1.index('a',string1.index('a',string1.index('a')+1)+1)+1)+1\n",
    "#string1.index('a',string1.index('a',string1.index('a')+1)+1)+1\n",
    "string1.index('a',string1.index('a',string1.index('a',string1.index('a',string1.index('a')+1)+1)+1)+1)"
   ]
  },
  {
   "cell_type": "code",
   "execution_count": 204,
   "id": "578160a3-22bb-42ca-a130-ba12f1c2cbae",
   "metadata": {},
   "outputs": [
    {
     "data": {
      "text/plain": [
       "9"
      ]
     },
     "execution_count": 204,
     "metadata": {},
     "output_type": "execute_result"
    }
   ],
   "source": [
    "string1='hai hai hai hai hai'\n",
    "# i want to first occurence of 'a'\n",
    "i1=string1.index('a')\n",
    "# second occurence of 'a'\n",
    "i2=string1.index('a',i1+1) # 5\n",
    "string1.index('a',i2+1)\n",
    "\n",
    "string1.index('a',string1.index('a')+1)\n",
    "string1.index('a',string1.index('a',string1.index('a')+1)+1)"
   ]
  },
  {
   "cell_type": "code",
   "execution_count": 206,
   "id": "59971871-c172-45c8-b494-e6c26b70559c",
   "metadata": {},
   "outputs": [
    {
     "data": {
      "text/plain": [
       "15"
      ]
     },
     "execution_count": 206,
     "metadata": {},
     "output_type": "execute_result"
    }
   ],
   "source": [
    "string1='welcome helo hello'\n",
    "string1.index('l')\n",
    "string1.index('l',string1.index('l')+1)\n",
    "string1.index('l',string1.index('l',string1.index('l')+1)+1)\n",
    "#string1.index('l',string1.index('l',string1.index('l')+1)+1)"
   ]
  },
  {
   "cell_type": "markdown",
   "id": "f7491ac6-0982-4f2f-8032-883f1679c021",
   "metadata": {},
   "source": [
    "$find$"
   ]
  },
  {
   "cell_type": "code",
   "execution_count": 209,
   "id": "6639a6c8-acd5-47a1-b7e2-eb8bbd58419a",
   "metadata": {},
   "outputs": [
    {
     "data": {
      "text/plain": [
       "1"
      ]
     },
     "execution_count": 209,
     "metadata": {},
     "output_type": "execute_result"
    }
   ],
   "source": [
    "# take one string1\n",
    "# string1.find()   \n",
    "# apply shift+tab\n",
    "# read waht it is says\n",
    "# implement that\n",
    "\n",
    "str1='hanuman'\n",
    "str1.find('a')"
   ]
  },
  {
   "cell_type": "code",
   "execution_count": 211,
   "id": "fd1c5a22-2afb-46fe-9557-02dbf917dc14",
   "metadata": {},
   "outputs": [
    {
     "ename": "ValueError",
     "evalue": "substring not found",
     "output_type": "error",
     "traceback": [
      "\u001b[1;31m---------------------------------------------------------------------------\u001b[0m",
      "\u001b[1;31mValueError\u001b[0m                                Traceback (most recent call last)",
      "Cell \u001b[1;32mIn[211], line 5\u001b[0m\n\u001b[0;32m      2\u001b[0m string1\u001b[38;5;241m.\u001b[39mfind(\u001b[38;5;124m'\u001b[39m\u001b[38;5;124mz\u001b[39m\u001b[38;5;124m'\u001b[39m)  \u001b[38;5;66;03m# No error\u001b[39;00m\n\u001b[0;32m      3\u001b[0m \u001b[38;5;66;03m# if substring not found it returns -1\u001b[39;00m\n\u001b[1;32m----> 5\u001b[0m string1\u001b[38;5;241m.\u001b[39mindex(\u001b[38;5;124m'\u001b[39m\u001b[38;5;124mz\u001b[39m\u001b[38;5;124m'\u001b[39m)\n\u001b[0;32m      6\u001b[0m \u001b[38;5;66;03m# ValueError: substring not found\u001b[39;00m\n\u001b[0;32m      8\u001b[0m string1\u001b[38;5;241m.\u001b[39mcount(\u001b[38;5;124m'\u001b[39m\u001b[38;5;124mz\u001b[39m\u001b[38;5;124m'\u001b[39m)\n",
      "\u001b[1;31mValueError\u001b[0m: substring not found"
     ]
    }
   ],
   "source": [
    "string1='hai hai'\n",
    "string1.find('z')  # No error\n",
    "# if substring not found it returns -1\n",
    "\n",
    "string1.index('z')\n",
    "# ValueError: substring not found\n",
    "\n",
    "string1.count('z')  # No error\n",
    "# returns zero"
   ]
  },
  {
   "cell_type": "markdown",
   "id": "3cd71f23-abaa-44d5-b08f-89d2c20a69b5",
   "metadata": {},
   "source": [
    "**you have to learn like this below**\n",
    "- capitalize/upper/lower/casefold\n",
    "- index/find\n",
    "- count\n",
    "- replace"
   ]
  },
  {
   "cell_type": "markdown",
   "id": "81b1643b-7e59-41ed-acf4-b7efe28fc802",
   "metadata": {},
   "source": [
    "$strip$-$lstrip$-$rstrip$"
   ]
  },
  {
   "cell_type": "code",
   "execution_count": 2,
   "id": "42a04e0e-90a1-40ee-8fea-2fe710ef54c9",
   "metadata": {},
   "outputs": [],
   "source": [
    "str1=' hello how are you '\n",
    "str2=\" hello how are you\"\n",
    "str3=\"hello how are you \"\n",
    "\n",
    "# I want remove the spaces\n",
    "# If you want to remove the spaces both side use strip method\n",
    "# If you want to remove the spaces only left side then use lstrip: left strip\n",
    "# If you want to remove the spaces only right side then use rstrip: Right strip"
   ]
  },
  {
   "cell_type": "code",
   "execution_count": 4,
   "id": "4e2acae3-c75a-4c93-a188-005687920c61",
   "metadata": {},
   "outputs": [
    {
     "name": "stdout",
     "output_type": "stream",
     "text": [
      "hello how are you\n",
      "hello how are you \n",
      " hello how are you\n"
     ]
    }
   ],
   "source": [
    "print(str1.strip())\n",
    "print(str1.lstrip())\n",
    "print(str1.rstrip())"
   ]
  },
  {
   "cell_type": "code",
   "execution_count": 6,
   "id": "15a4ce54-d4b1-4698-90c4-46b390bd2fa2",
   "metadata": {},
   "outputs": [
    {
     "name": "stdout",
     "output_type": "stream",
     "text": [
      "hello how are you\n",
      "hello how are you\n",
      "hello how are you\n"
     ]
    }
   ],
   "source": [
    "print(str1.strip())\n",
    "print(str2.lstrip())\n",
    "print(str3.rstrip())"
   ]
  },
  {
   "cell_type": "code",
   "execution_count": 8,
   "id": "059e49e7-304b-47d8-a664-59906dce5b04",
   "metadata": {},
   "outputs": [
    {
     "name": "stdout",
     "output_type": "stream",
     "text": [
      "hello how are you \n"
     ]
    }
   ],
   "source": [
    "print(str3)"
   ]
  },
  {
   "cell_type": "code",
   "execution_count": 10,
   "id": "55fb16ad-6d59-4caf-a036-51df1bc76073",
   "metadata": {},
   "outputs": [
    {
     "data": {
      "text/plain": [
       "'hello how are you '"
      ]
     },
     "execution_count": 10,
     "metadata": {},
     "output_type": "execute_result"
    }
   ],
   "source": [
    "str3"
   ]
  },
  {
   "cell_type": "code",
   "execution_count": 5,
   "id": "c297da27-7dfc-4b6e-be02-e6a31aae32cd",
   "metadata": {},
   "outputs": [
    {
     "name": "stdout",
     "output_type": "stream",
     "text": [
      "11\n",
      "24\n",
      "18\n",
      "--------------------------------------------------\n",
      "First Name :  dnyaneshwar\n",
      "Second Name :  rokade\n",
      "Compnay Name :  wipro\n"
     ]
    }
   ],
   "source": [
    "#Wap to extract\n",
    "\n",
    "#str1='python.anaconda@nareshit.com'\n",
    "#str2='omkar.nallagoni@cognizant.com'\n",
    "#str3='virat.kohli@bcci.com'\n",
    "\n",
    "# Extract first name: python\n",
    "# Extract second name: anaconda\n",
    "# Extract company name: nareshit\n",
    "\n",
    "# Do not count it\n",
    "# Use methods find/index\n",
    "\n",
    "str1 = 'dnyaneshwar.rokade@wipro.com'\n",
    "\n",
    "first_dot = str1.index('.')\n",
    "print(first_dot)\n",
    "\n",
    "second_dot = str1.index('.', first_dot+1)\n",
    "print(second_dot)\n",
    "\n",
    "at_symbol = str1.index('@')\n",
    "print(at_symbol)\n",
    "\n",
    "print( '-' * 50 )\n",
    "\n",
    "print ( \"First Name : \", str1 [ : first_dot ] )\n",
    "print ( \"Second Name : \", str1 [ first_dot+1 : at_symbol ] )\n",
    "print ( \"Compnay Name : \", str1 [ at_symbol+1 : second_dot ] )"
   ]
  },
  {
   "cell_type": "code",
   "execution_count": 14,
   "id": "b3eeff12-5cf9-478e-8e8a-a70ddb122bd4",
   "metadata": {},
   "outputs": [
    {
     "data": {
      "text/plain": [
       "6"
      ]
     },
     "execution_count": 14,
     "metadata": {},
     "output_type": "execute_result"
    }
   ],
   "source": [
    "str1[0:6],str1[7:15],str1[16:24]\n",
    "str1.find('.')"
   ]
  },
  {
   "cell_type": "code",
   "execution_count": 16,
   "id": "2dc191d8-c061-44aa-bc33-49f70424573e",
   "metadata": {},
   "outputs": [
    {
     "data": {
      "text/plain": [
       "'anaconda'"
      ]
     },
     "execution_count": 16,
     "metadata": {},
     "output_type": "execute_result"
    }
   ],
   "source": [
    "str1[0:str1.find('.')]\n",
    "\n",
    "str1[7:15]"
   ]
  },
  {
   "cell_type": "code",
   "execution_count": 18,
   "id": "6c8ab269-5de0-4424-b1c2-30ba3c3c6131",
   "metadata": {},
   "outputs": [
    {
     "name": "stdout",
     "output_type": "stream",
     "text": [
      "First Name: omkar\n",
      "Second Name: nallagoni\n",
      "Second Name: cognizant\n"
     ]
    }
   ],
   "source": [
    "str1 ='omkar.nallagoni@cognizant.com'\n",
    "print(\"First Name:\",str1[:str1.find('.')])\n",
    "print(\"Second Name:\",str1[str1.find('.')+1:str1.find('@')])\n",
    "print(\"Second Name:\",str1[str1.find('@')+1:str1.find('.',str1.find('.')+1)])"
   ]
  },
  {
   "cell_type": "code",
   "execution_count": 20,
   "id": "cc9d2e0f-3d07-4515-8bc8-85799aa7658d",
   "metadata": {},
   "outputs": [
    {
     "name": "stdout",
     "output_type": "stream",
     "text": [
      "omkar\n",
      "nallagoni\n",
      "cognizant\n"
     ]
    }
   ],
   "source": [
    "str1='omkar.nallagoni@cognizant.com'\n",
    "num1=str1.find('.')\n",
    "f_name=str1[:num1]\n",
    "print(f_name)\n",
    "num2=str1.find('@')\n",
    "s_name=str1[num1+1:num2]\n",
    "print(s_name)\n",
    "num3=str1.find('.',str1.find('.')+1)\n",
    "c_name=str1[num2+1:num3]\n",
    "print(c_name)"
   ]
  },
  {
   "cell_type": "code",
   "execution_count": 22,
   "id": "17836420-bce8-4ac3-aefb-e4b1f980e409",
   "metadata": {},
   "outputs": [
    {
     "data": {
      "text/plain": [
       "'c'"
      ]
     },
     "execution_count": 22,
     "metadata": {},
     "output_type": "execute_result"
    }
   ],
   "source": [
    "str1='a.b@c.com'\n",
    "first_dot=str1.index('.')\n",
    "\n",
    "second_dot=str1.index('.',first_dot+1) # after completion of first dot\n",
    "\n",
    "str1[str1.find('@')+1:second_dot]"
   ]
  },
  {
   "cell_type": "code",
   "execution_count": 24,
   "id": "1195105d-b811-461a-b338-5071b07bb74b",
   "metadata": {},
   "outputs": [
    {
     "data": {
      "text/plain": [
       "'1489'"
      ]
     },
     "execution_count": 24,
     "metadata": {},
     "output_type": "execute_result"
    }
   ],
   "source": [
    "str1='3.1489'\n",
    "# Extract 3\n",
    "# Extract 1489\n",
    "\n",
    "str1[str1.index('.')-1]\n",
    "str1[str1.index('.')+1:]  # str1[<first>:<last>]"
   ]
  },
  {
   "cell_type": "code",
   "execution_count": 26,
   "id": "d5a1ec04-b314-4082-bb36-7c2893a63e43",
   "metadata": {},
   "outputs": [
    {
     "data": {
      "text/plain": [
       "2"
      ]
     },
     "execution_count": 26,
     "metadata": {},
     "output_type": "execute_result"
    }
   ],
   "source": [
    "str1.index('.')+1"
   ]
  },
  {
   "cell_type": "code",
   "execution_count": null,
   "id": "1cbc0bc9-dd26-46dc-9244-7480150cd2e2",
   "metadata": {},
   "outputs": [],
   "source": []
  },
  {
   "cell_type": "code",
   "execution_count": null,
   "id": "6fcc79c5-76b9-4f03-b88e-cee1b6808eb2",
   "metadata": {},
   "outputs": [],
   "source": []
  },
  {
   "cell_type": "code",
   "execution_count": null,
   "id": "90ed65e5-74ee-4e65-9f62-1c600ee4e1e4",
   "metadata": {},
   "outputs": [],
   "source": []
  },
  {
   "cell_type": "code",
   "execution_count": null,
   "id": "7d2442cc-454e-45d1-b7a5-3ac43f91e03a",
   "metadata": {},
   "outputs": [],
   "source": []
  },
  {
   "cell_type": "code",
   "execution_count": null,
   "id": "81cdf494-3505-4703-8723-4ec155dea4cd",
   "metadata": {},
   "outputs": [],
   "source": []
  }
 ],
 "metadata": {
  "kernelspec": {
   "display_name": "Python 3 (ipykernel)",
   "language": "python",
   "name": "python3"
  },
  "language_info": {
   "codemirror_mode": {
    "name": "ipython",
    "version": 3
   },
   "file_extension": ".py",
   "mimetype": "text/x-python",
   "name": "python",
   "nbconvert_exporter": "python",
   "pygments_lexer": "ipython3",
   "version": "3.12.7"
  }
 },
 "nbformat": 4,
 "nbformat_minor": 5
}
