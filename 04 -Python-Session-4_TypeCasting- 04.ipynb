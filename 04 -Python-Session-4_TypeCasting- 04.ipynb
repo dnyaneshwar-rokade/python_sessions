{
 "cells": [
  {
   "cell_type": "markdown",
   "id": "457f9e13-2870-4c20-a221-90b239477b53",
   "metadata": {},
   "source": [
    "# Type Casting:"
   ]
  },
  {
   "cell_type": "code",
   "execution_count": null,
   "id": "a907065b-7c93-4bf6-97ec-813a06d6037e",
   "metadata": {},
   "outputs": [],
   "source": [
    "- change one data type to another data type\n",
    "\n",
    "- int ---> float\n",
    "- int ---> string\n",
    "- int ---> boolean\n",
    "- int ---> complex\n",
    "\n",
    "- float ---> int\n",
    "- float ---> string\n",
    "- float ---> boolean\n",
    "- float ---> complex\n",
    "\n",
    "# will be doing all the data types like above mentioned"
   ]
  },
  {
   "cell_type": "markdown",
   "id": "97c12bfb-807b-4404-802c-ba2507cfbe75",
   "metadata": {},
   "source": [
    "# Integer to other data types"
   ]
  },
  {
   "cell_type": "code",
   "execution_count": 12,
   "id": "ebc03d13-9e3b-4982-a929-453ac20e7ba1",
   "metadata": {},
   "outputs": [
    {
     "name": "stdout",
     "output_type": "stream",
     "text": [
      "100\n"
     ]
    },
    {
     "data": {
      "text/plain": [
       "int"
      ]
     },
     "execution_count": 12,
     "metadata": {},
     "output_type": "execute_result"
    }
   ],
   "source": [
    "num1=100\n",
    "print(num1)\n",
    "type(num1)"
   ]
  },
  {
   "cell_type": "code",
   "execution_count": 16,
   "id": "bca682aa-2db7-4219-ba23-fec2d7b58df9",
   "metadata": {},
   "outputs": [
    {
     "name": "stdout",
     "output_type": "stream",
     "text": [
      "100.0\n"
     ]
    },
    {
     "data": {
      "text/plain": [
       "float"
      ]
     },
     "execution_count": 16,
     "metadata": {},
     "output_type": "execute_result"
    }
   ],
   "source": [
    "#case-1 int===> float\n",
    "float_num=float(num1) #num1 to float type 100 --> 100.0\n",
    "print(float_num)\n",
    "type(float_num)"
   ]
  },
  {
   "cell_type": "code",
   "execution_count": 18,
   "id": "8a9365d2-9691-4c92-8a34-92157f409207",
   "metadata": {},
   "outputs": [
    {
     "name": "stdout",
     "output_type": "stream",
     "text": [
      "100\n"
     ]
    },
    {
     "data": {
      "text/plain": [
       "str"
      ]
     },
     "execution_count": 18,
     "metadata": {},
     "output_type": "execute_result"
    }
   ],
   "source": [
    "#case-2 int===> string\n",
    "str_num=str(num1)\n",
    "print(str_num)\n",
    "type(str_num)"
   ]
  },
  {
   "cell_type": "code",
   "execution_count": 20,
   "id": "cbd9c770-4c03-416c-9a21-b955680e6a92",
   "metadata": {},
   "outputs": [
    {
     "name": "stdout",
     "output_type": "stream",
     "text": [
      "True\n"
     ]
    },
    {
     "data": {
      "text/plain": [
       "bool"
      ]
     },
     "execution_count": 20,
     "metadata": {},
     "output_type": "execute_result"
    }
   ],
   "source": [
    "#case-3 int==> boolean\n",
    "bool_num=bool(num1)\n",
    "print(bool_num)\n",
    "type(bool_num)  "
   ]
  },
  {
   "cell_type": "markdown",
   "id": "a0f926af-e038-495f-aa68-7d58a9a2dd21",
   "metadata": {},
   "source": [
    "**Note**\n",
    "Other than Zero, everything is True in boolean\n",
    "bool(0) only False"
   ]
  },
  {
   "cell_type": "code",
   "execution_count": 25,
   "id": "43c71e08-3e6c-4b46-8779-79b790e0a945",
   "metadata": {},
   "outputs": [
    {
     "name": "stdout",
     "output_type": "stream",
     "text": [
      "(100+0j)\n"
     ]
    },
    {
     "data": {
      "text/plain": [
       "complex"
      ]
     },
     "execution_count": 25,
     "metadata": {},
     "output_type": "execute_result"
    }
   ],
   "source": [
    "#case-4 int ==> complex\n",
    "complex_num=complex(num1)\n",
    "print(complex_num)\n",
    "type(complex_num)"
   ]
  },
  {
   "cell_type": "code",
   "execution_count": null,
   "id": "44c22102-928d-4860-b915-fe57c8b11c8d",
   "metadata": {},
   "outputs": [],
   "source": [
    "num=100\n",
    "float_num=float(num) #100.0\n",
    "str_num=str(num) #'100'\n",
    "bool_num=bool(num) #True\n",
    "comp_num=complex(num) #100+0j"
   ]
  },
  {
   "cell_type": "markdown",
   "id": "67d53e8b-4220-4169-932a-0f5e89789cf2",
   "metadata": {},
   "source": [
    "# Home Work\n",
    "## Cast other remaining data types at home"
   ]
  },
  {
   "cell_type": "markdown",
   "id": "f46b7dec-d53c-4d98-83b7-02c6906091db",
   "metadata": {},
   "source": [
    "### String to Other Data Types"
   ]
  },
  {
   "cell_type": "code",
   "execution_count": 34,
   "id": "93365201-657e-4451-b92e-a2337f2f6b5b",
   "metadata": {},
   "outputs": [
    {
     "name": "stdout",
     "output_type": "stream",
     "text": [
      "krishna\n"
     ]
    },
    {
     "data": {
      "text/plain": [
       "str"
      ]
     },
     "execution_count": 34,
     "metadata": {},
     "output_type": "execute_result"
    }
   ],
   "source": [
    "nm=\"krishna\"\n",
    "print(nm)\n",
    "type(nm)"
   ]
  },
  {
   "cell_type": "code",
   "execution_count": 36,
   "id": "83b0a1ec-1319-4481-a18a-c829257cae3d",
   "metadata": {},
   "outputs": [
    {
     "ename": "ValueError",
     "evalue": "invalid literal for int() with base 10: 'krishna'",
     "output_type": "error",
     "traceback": [
      "\u001b[1;31m---------------------------------------------------------------------------\u001b[0m",
      "\u001b[1;31mValueError\u001b[0m                                Traceback (most recent call last)",
      "Cell \u001b[1;32mIn[36], line 1\u001b[0m\n\u001b[1;32m----> 1\u001b[0m int_nm\u001b[38;5;241m=\u001b[39m\u001b[38;5;28mint\u001b[39m(nm)\n\u001b[0;32m      2\u001b[0m \u001b[38;5;28mprint\u001b[39m(int_nm)\n\u001b[0;32m      3\u001b[0m \u001b[38;5;28mtype\u001b[39m(int_nm)\n",
      "\u001b[1;31mValueError\u001b[0m: invalid literal for int() with base 10: 'krishna'"
     ]
    }
   ],
   "source": [
    "int_nm=int(nm)\n",
    "print(int_nm)\n",
    "type(int_nm)"
   ]
  },
  {
   "cell_type": "code",
   "execution_count": 38,
   "id": "e5d7db1e-a31e-4b02-af43-4d29e7d96276",
   "metadata": {},
   "outputs": [
    {
     "ename": "ValueError",
     "evalue": "could not convert string to float: 'krishna'",
     "output_type": "error",
     "traceback": [
      "\u001b[1;31m---------------------------------------------------------------------------\u001b[0m",
      "\u001b[1;31mValueError\u001b[0m                                Traceback (most recent call last)",
      "Cell \u001b[1;32mIn[38], line 1\u001b[0m\n\u001b[1;32m----> 1\u001b[0m float_nm\u001b[38;5;241m=\u001b[39m\u001b[38;5;28mfloat\u001b[39m(nm)\n\u001b[0;32m      2\u001b[0m \u001b[38;5;28mprint\u001b[39m(int_nm)\n",
      "\u001b[1;31mValueError\u001b[0m: could not convert string to float: 'krishna'"
     ]
    }
   ],
   "source": [
    "float_nm=float(nm)\n",
    "print(int_nm)"
   ]
  },
  {
   "cell_type": "code",
   "execution_count": 40,
   "id": "7d99d9f3-5d22-405a-b0f4-de42e429097e",
   "metadata": {},
   "outputs": [
    {
     "name": "stdout",
     "output_type": "stream",
     "text": [
      "True\n"
     ]
    }
   ],
   "source": [
    "bool_nm=bool(nm)\n",
    "print(bool_nm)"
   ]
  },
  {
   "cell_type": "code",
   "execution_count": 44,
   "id": "6f76bac5-7611-4b10-b5ef-9b7e9e7edc31",
   "metadata": {},
   "outputs": [
    {
     "data": {
      "text/plain": [
       "False"
      ]
     },
     "execution_count": 44,
     "metadata": {},
     "output_type": "execute_result"
    }
   ],
   "source": [
    "bool_nm1=''\n",
    "bool(bool_nm1)"
   ]
  },
  {
   "cell_type": "code",
   "execution_count": null,
   "id": "14f754bd-a698-4fc7-9271-7a9fcfe811c6",
   "metadata": {},
   "outputs": [],
   "source": [
    "**Note**:\n",
    "    Empty string boolean conversion given as False"
   ]
  },
  {
   "cell_type": "code",
   "execution_count": 46,
   "id": "6cf4e59b-c0d6-479f-936c-da49e44a4b94",
   "metadata": {},
   "outputs": [
    {
     "ename": "ValueError",
     "evalue": "complex() arg is a malformed string",
     "output_type": "error",
     "traceback": [
      "\u001b[1;31m---------------------------------------------------------------------------\u001b[0m",
      "\u001b[1;31mValueError\u001b[0m                                Traceback (most recent call last)",
      "Cell \u001b[1;32mIn[46], line 2\u001b[0m\n\u001b[0;32m      1\u001b[0m nm\u001b[38;5;241m=\u001b[39m\u001b[38;5;124m\"\u001b[39m\u001b[38;5;124mkrishna\u001b[39m\u001b[38;5;124m\"\u001b[39m\n\u001b[1;32m----> 2\u001b[0m \u001b[38;5;28mcomplex\u001b[39m(nm)\n",
      "\u001b[1;31mValueError\u001b[0m: complex() arg is a malformed string"
     ]
    }
   ],
   "source": [
    "nm=\"krishna\"\n",
    "complex(nm)"
   ]
  },
  {
   "cell_type": "code",
   "execution_count": 58,
   "id": "af4aea0b-fdb0-4966-b935-81cf6c012bde",
   "metadata": {},
   "outputs": [
    {
     "data": {
      "text/plain": [
       "(1+0j)"
      ]
     },
     "execution_count": 58,
     "metadata": {},
     "output_type": "execute_result"
    }
   ],
   "source": [
    "# Boolean Conversion to other\n",
    "v1=True\n",
    "#int(v1)  #works\n",
    "#float(v1) #works\n",
    "#str(v1)  #works\n",
    "complex(v1) #works"
   ]
  },
  {
   "cell_type": "code",
   "execution_count": 68,
   "id": "5c25c602-adc8-4b07-aacd-b1dcdeb7b447",
   "metadata": {},
   "outputs": [
    {
     "data": {
      "text/plain": [
       "True"
      ]
     },
     "execution_count": 68,
     "metadata": {},
     "output_type": "execute_result"
    }
   ],
   "source": [
    "# Complex to other\n",
    "v2=100+200j\n",
    "#int(v2) #not work\n",
    "#float(v2) #not work\n",
    "#str(v2)  #works\n",
    "bool(v2)  #works"
   ]
  },
  {
   "cell_type": "code",
   "execution_count": 80,
   "id": "7ea4c88a-a28d-4723-9744-99697d126e8d",
   "metadata": {},
   "outputs": [
    {
     "data": {
      "text/plain": [
       "True"
      ]
     },
     "execution_count": 80,
     "metadata": {},
     "output_type": "execute_result"
    }
   ],
   "source": [
    "# Complex to other\n",
    "v2=100+0j\n",
    "#int(v2) #not work\n",
    "#float(v2) #not work\n",
    "#str(v2)  #works\n",
    "bool(v2)  #works"
   ]
  },
  {
   "cell_type": "code",
   "execution_count": 82,
   "id": "622baf49-4b4c-4000-95b3-58586c8208a3",
   "metadata": {},
   "outputs": [
    {
     "data": {
      "text/plain": [
       "False"
      ]
     },
     "execution_count": 82,
     "metadata": {},
     "output_type": "execute_result"
    }
   ],
   "source": [
    "bool(0j)"
   ]
  },
  {
   "cell_type": "code",
   "execution_count": null,
   "id": "8774892b-ee38-4a7e-8074-458f59ea510d",
   "metadata": {},
   "outputs": [],
   "source": []
  }
 ],
 "metadata": {
  "kernelspec": {
   "display_name": "Python 3 (ipykernel)",
   "language": "python",
   "name": "python3"
  },
  "language_info": {
   "codemirror_mode": {
    "name": "ipython",
    "version": 3
   },
   "file_extension": ".py",
   "mimetype": "text/x-python",
   "name": "python",
   "nbconvert_exporter": "python",
   "pygments_lexer": "ipython3",
   "version": "3.12.4"
  }
 },
 "nbformat": 4,
 "nbformat_minor": 5
}
