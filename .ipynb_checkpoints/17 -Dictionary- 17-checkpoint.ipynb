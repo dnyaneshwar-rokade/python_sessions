{
 "cells": [
  {
   "cell_type": "code",
   "execution_count": null,
   "id": "fe77a9d2-f75b-4f31-bca0-d41b6a6ed2e7",
   "metadata": {},
   "outputs": [],
   "source": [
    "# i am modifying the code"
   ]
  },
  {
   "cell_type": "code",
   "execution_count": 3,
   "id": "d5c64f28-4fc7-48a8-b492-1ddd0675deac",
   "metadata": {},
   "outputs": [],
   "source": [
    "list1=['Ram','Raheem','Robert']\n",
    "\n",
    "list2=[25,30,35]"
   ]
  },
  {
   "cell_type": "code",
   "execution_count": 5,
   "id": "e96b60c8-d0b2-4474-a13b-5cf048b77984",
   "metadata": {},
   "outputs": [
    {
     "data": {
      "text/plain": [
       "'Robert has age 35'"
      ]
     },
     "execution_count": 5,
     "metadata": {},
     "output_type": "execute_result"
    }
   ],
   "source": [
    "'Ram has age 25'\n",
    "'Raheem has age 30'\n",
    "'Robert has age 35'"
   ]
  },
  {
   "cell_type": "code",
   "execution_count": 7,
   "id": "73220cc7-d466-4688-ac5d-33ccfddd509a",
   "metadata": {},
   "outputs": [
    {
     "name": "stdout",
     "output_type": "stream",
     "text": [
      "Ram 25\n",
      "Raheem 30\n",
      "Robert 35\n"
     ]
    }
   ],
   "source": [
    "for i,j in zip(list1,list2):\n",
    "    print(i,j)"
   ]
  },
  {
   "cell_type": "code",
   "execution_count": 9,
   "id": "73dbf411-1824-48d6-b810-58175e816d2f",
   "metadata": {},
   "outputs": [],
   "source": [
    "#{key:value}"
   ]
  },
  {
   "cell_type": "code",
   "execution_count": 11,
   "id": "120beda6-dd57-436e-9f7f-b85a80ba4cf4",
   "metadata": {},
   "outputs": [
    {
     "data": {
      "text/plain": [
       "{'Ram': 25, 'Raheem': 30, 'Robert': 35}"
      ]
     },
     "execution_count": 11,
     "metadata": {},
     "output_type": "execute_result"
    }
   ],
   "source": [
    "d1={'Ram':25,\n",
    " 'Raheem':30,\n",
    " 'Robert':35}\n",
    "\n",
    "d1\n",
    "\n",
    "#keys= 'Ram','Raheem','Robert'\n",
    "#values=25,30,35"
   ]
  },
  {
   "cell_type": "code",
   "execution_count": 13,
   "id": "c56712d7-a6d0-4c90-87f2-1351501232c0",
   "metadata": {},
   "outputs": [
    {
     "data": {
      "text/plain": [
       "{25: 'Ram', 30: 'Raheem', 35: 'Robert'}"
      ]
     },
     "execution_count": 13,
     "metadata": {},
     "output_type": "execute_result"
    }
   ],
   "source": [
    "d2={25:'Ram',30:'Raheem',35:'Robert'}\n",
    "d2\n",
    "\n",
    "#keys: 25,30,35\n",
    "#values: 'Ram','Raheem','Robert'"
   ]
  },
  {
   "cell_type": "code",
   "execution_count": 15,
   "id": "18c02b66-3d87-4668-88a2-6a34c3940a52",
   "metadata": {},
   "outputs": [
    {
     "data": {
      "text/plain": [
       "{'even': [2, 4, 6], 'odd': [3, 5, 7]}"
      ]
     },
     "execution_count": 15,
     "metadata": {},
     "output_type": "execute_result"
    }
   ],
   "source": [
    "d3={'even':[2,4,6],\n",
    "   'odd':[3,5,7]}\n",
    "\n",
    "d3"
   ]
  },
  {
   "cell_type": "code",
   "execution_count": 17,
   "id": "2c70f711-7f72-4118-b836-91b799772ec8",
   "metadata": {},
   "outputs": [
    {
     "ename": "TypeError",
     "evalue": "unhashable type: 'list'",
     "output_type": "error",
     "traceback": [
      "\u001b[1;31m---------------------------------------------------------------------------\u001b[0m",
      "\u001b[1;31mTypeError\u001b[0m                                 Traceback (most recent call last)",
      "Cell \u001b[1;32mIn[17], line 1\u001b[0m\n\u001b[1;32m----> 1\u001b[0m d4\u001b[38;5;241m=\u001b[39m{[\u001b[38;5;241m2\u001b[39m,\u001b[38;5;241m4\u001b[39m,\u001b[38;5;241m6\u001b[39m]:\u001b[38;5;124m'\u001b[39m\u001b[38;5;124meven\u001b[39m\u001b[38;5;124m'\u001b[39m,\n\u001b[0;32m      2\u001b[0m    [\u001b[38;5;241m3\u001b[39m,\u001b[38;5;241m5\u001b[39m,\u001b[38;5;241m7\u001b[39m]:\u001b[38;5;124m'\u001b[39m\u001b[38;5;124modd\u001b[39m\u001b[38;5;124m'\u001b[39m}\n",
      "\u001b[1;31mTypeError\u001b[0m: unhashable type: 'list'"
     ]
    }
   ],
   "source": [
    "d4={[2,4,6]:'even',\n",
    "   [3,5,7]:'odd'}      # fail"
   ]
  },
  {
   "cell_type": "code",
   "execution_count": 19,
   "id": "c205a80a-5674-49aa-a66b-d9f7bf312239",
   "metadata": {},
   "outputs": [
    {
     "data": {
      "text/plain": [
       "{(2, 4, 6): 'even', (3, 5, 7): 'odd'}"
      ]
     },
     "execution_count": 19,
     "metadata": {},
     "output_type": "execute_result"
    }
   ],
   "source": [
    "d4={(2,4,6):'even',\n",
    "   (3,5,7):'odd'}\n",
    "\n",
    "d4"
   ]
  },
  {
   "cell_type": "code",
   "execution_count": 21,
   "id": "080a94d3-099e-4c59-a460-3f6fcdf88909",
   "metadata": {},
   "outputs": [
    {
     "data": {
      "text/plain": [
       "{'item_list': {'fruiits': 'Apple'}}"
      ]
     },
     "execution_count": 21,
     "metadata": {},
     "output_type": "execute_result"
    }
   ],
   "source": [
    "# {'key':<{}>}\n",
    "d5={'item_list':{'fruiits':'Apple'}}\n",
    "d5"
   ]
  },
  {
   "cell_type": "code",
   "execution_count": 23,
   "id": "d4192cf5-a893-45d9-8e19-2cd16be3b919",
   "metadata": {},
   "outputs": [
    {
     "ename": "TypeError",
     "evalue": "unhashable type: 'dict'",
     "output_type": "error",
     "traceback": [
      "\u001b[1;31m---------------------------------------------------------------------------\u001b[0m",
      "\u001b[1;31mTypeError\u001b[0m                                 Traceback (most recent call last)",
      "Cell \u001b[1;32mIn[23], line 1\u001b[0m\n\u001b[1;32m----> 1\u001b[0m d6\u001b[38;5;241m=\u001b[39m{{\u001b[38;5;124m'\u001b[39m\u001b[38;5;124mfruiits\u001b[39m\u001b[38;5;124m'\u001b[39m:\u001b[38;5;124m'\u001b[39m\u001b[38;5;124mApple\u001b[39m\u001b[38;5;124m'\u001b[39m}:\u001b[38;5;124m'\u001b[39m\u001b[38;5;124mitem_list\u001b[39m\u001b[38;5;124m'\u001b[39m}\n\u001b[0;32m      2\u001b[0m d6\n",
      "\u001b[1;31mTypeError\u001b[0m: unhashable type: 'dict'"
     ]
    }
   ],
   "source": [
    "d6={{'fruiits':'Apple'}:'item_list'}\n",
    "d6"
   ]
  },
  {
   "cell_type": "code",
   "execution_count": 25,
   "id": "b642247e-853a-4947-b5f6-6da4fd62568a",
   "metadata": {},
   "outputs": [],
   "source": [
    "a=[1,2]\n",
    "b=(1,2)"
   ]
  },
  {
   "cell_type": "code",
   "execution_count": 27,
   "id": "09fe98ca-a7cb-4e8a-a484-7c62765dd940",
   "metadata": {},
   "outputs": [
    {
     "data": {
      "text/plain": [
       "2"
      ]
     },
     "execution_count": 27,
     "metadata": {},
     "output_type": "execute_result"
    }
   ],
   "source": [
    "a,b=[1,2]\n",
    "c,d=(1,2)\n",
    "d"
   ]
  },
  {
   "cell_type": "code",
   "execution_count": 29,
   "id": "5b864f5d-1e32-4e15-9709-1cc2cdb24dc1",
   "metadata": {},
   "outputs": [
    {
     "data": {
      "text/plain": [
       "(1, 2)"
      ]
     },
     "execution_count": 29,
     "metadata": {},
     "output_type": "execute_result"
    }
   ],
   "source": [
    "a=1,2\n",
    "a"
   ]
  },
  {
   "cell_type": "code",
   "execution_count": 31,
   "id": "8c3cff7a-d024-496c-bd1c-031344887ed2",
   "metadata": {},
   "outputs": [
    {
     "data": {
      "text/plain": [
       "{'A': 1, 'B': 2}"
      ]
     },
     "execution_count": 31,
     "metadata": {},
     "output_type": "execute_result"
    }
   ],
   "source": [
    "d1={'A':1,'B':2,'A':1}\n",
    "d1"
   ]
  },
  {
   "cell_type": "code",
   "execution_count": 33,
   "id": "6f6d94af-cfbf-483d-a06d-e6fff4b362b0",
   "metadata": {},
   "outputs": [
    {
     "data": {
      "text/plain": [
       "{'A': 3, 'B': 2}"
      ]
     },
     "execution_count": 33,
     "metadata": {},
     "output_type": "execute_result"
    }
   ],
   "source": [
    "d1={'A':1,'B':2,'A':3}\n",
    "d1"
   ]
  },
  {
   "cell_type": "markdown",
   "id": "2e43e0ed-da6c-45ec-8d59-3a777f997bd2",
   "metadata": {},
   "source": [
    "- Dictionary is a key:value pair \n",
    "\n",
    "- at values postition you can take any data type\n",
    "\n",
    "- at keys postion list and dictionary will fail\n",
    "\n",
    "- Duplicates are not allowed\n",
    "\n",
    "- If you will update a key value, latest value it will take"
   ]
  },
  {
   "cell_type": "markdown",
   "id": "c9b52d7e-5b8f-4b77-a4b9-23208198bc5f",
   "metadata": {},
   "source": [
    "**type**"
   ]
  },
  {
   "cell_type": "code",
   "execution_count": 36,
   "id": "6df84618-dec9-46ca-990a-bc63ad9ccb34",
   "metadata": {},
   "outputs": [
    {
     "data": {
      "text/plain": [
       "dict"
      ]
     },
     "execution_count": 36,
     "metadata": {},
     "output_type": "execute_result"
    }
   ],
   "source": [
    "type(d1)"
   ]
  },
  {
   "cell_type": "markdown",
   "id": "5d2c3f08-cad6-4bba-84cd-ba6ce602e135",
   "metadata": {},
   "source": [
    "- str\n",
    "\n",
    "- list\n",
    "\n",
    "- dict\n",
    "\n",
    "- int\n",
    "\n",
    "- float\n",
    "\n",
    "- bool\n",
    "\n",
    "- complex\n",
    "\n",
    "- tuple\n",
    "\n",
    "- set"
   ]
  },
  {
   "cell_type": "code",
   "execution_count": 39,
   "id": "17572ee2-27d9-41a6-814c-613a456e8d36",
   "metadata": {},
   "outputs": [
    {
     "data": {
      "text/plain": [
       "'Robert'"
      ]
     },
     "execution_count": 39,
     "metadata": {},
     "output_type": "execute_result"
    }
   ],
   "source": [
    "d1={'Ram':25,\n",
    " 'Raheem':30,\n",
    " 'Robert':35}\n",
    "\n",
    "max(d1)\n",
    "\n",
    "# this maximum we are getting based on key or value"
   ]
  },
  {
   "cell_type": "code",
   "execution_count": 41,
   "id": "7af034da-7722-4cf3-a45b-c2f551ff596b",
   "metadata": {},
   "outputs": [
    {
     "data": {
      "text/plain": [
       "'Robert'"
      ]
     },
     "execution_count": 41,
     "metadata": {},
     "output_type": "execute_result"
    }
   ],
   "source": [
    "d1={'Ram':25,\n",
    " 'Raheem':30,\n",
    " 'Robert':3}\n",
    "\n",
    "max(d1)"
   ]
  },
  {
   "cell_type": "markdown",
   "id": "a803d4f1-d11f-429e-9bcc-c88742f28c53",
   "metadata": {},
   "source": [
    "- Maximum and minimum value based on key only"
   ]
  },
  {
   "cell_type": "code",
   "execution_count": 44,
   "id": "d1793751-2e74-41cc-b08f-6f4043cbb4ad",
   "metadata": {},
   "outputs": [
    {
     "data": {
      "text/plain": [
       "'Robert'"
      ]
     },
     "execution_count": 44,
     "metadata": {},
     "output_type": "execute_result"
    }
   ],
   "source": [
    "min(d1)\n",
    "\n",
    "'Ram',     ord('m')\n",
    "'Raheem',  ord('h')\n",
    "'Robert'"
   ]
  },
  {
   "cell_type": "code",
   "execution_count": 46,
   "id": "f20ffae9-1328-416e-a860-cde4bf3b3ee0",
   "metadata": {},
   "outputs": [
    {
     "data": {
      "text/plain": [
       "3"
      ]
     },
     "execution_count": 46,
     "metadata": {},
     "output_type": "execute_result"
    }
   ],
   "source": [
    "len(d1)"
   ]
  },
  {
   "cell_type": "code",
   "execution_count": 48,
   "id": "ec33b6d6-9a21-43b3-8ef5-351a5cf2cb0f",
   "metadata": {},
   "outputs": [
    {
     "data": {
      "text/plain": [
       "{'Ram': 25, 'Raheem': 30, 'Robert': 3}"
      ]
     },
     "execution_count": 48,
     "metadata": {},
     "output_type": "execute_result"
    }
   ],
   "source": [
    "d1"
   ]
  },
  {
   "cell_type": "code",
   "execution_count": 50,
   "id": "76ff38a1-0eac-481a-ad5a-6ea7aaa133d6",
   "metadata": {},
   "outputs": [
    {
     "ename": "TypeError",
     "evalue": "unsupported operand type(s) for +: 'int' and 'str'",
     "output_type": "error",
     "traceback": [
      "\u001b[1;31m---------------------------------------------------------------------------\u001b[0m",
      "\u001b[1;31mTypeError\u001b[0m                                 Traceback (most recent call last)",
      "Cell \u001b[1;32mIn[50], line 1\u001b[0m\n\u001b[1;32m----> 1\u001b[0m \u001b[38;5;28msum\u001b[39m(d1)\n",
      "\u001b[1;31mTypeError\u001b[0m: unsupported operand type(s) for +: 'int' and 'str'"
     ]
    }
   ],
   "source": [
    "sum(d1)"
   ]
  },
  {
   "cell_type": "code",
   "execution_count": 52,
   "id": "a4d75b06-f264-4343-9951-eeee2fad5012",
   "metadata": {},
   "outputs": [
    {
     "data": {
      "text/plain": [
       "400"
      ]
     },
     "execution_count": 52,
     "metadata": {},
     "output_type": "execute_result"
    }
   ],
   "source": [
    "d2={100:'2',300:'4'}\n",
    "sum(d2)"
   ]
  },
  {
   "cell_type": "code",
   "execution_count": 54,
   "id": "54529224-3c61-4fde-b4e7-a2248770a8ac",
   "metadata": {},
   "outputs": [
    {
     "ename": "TypeError",
     "evalue": "can't multiply sequence by non-int of type 'str'",
     "output_type": "error",
     "traceback": [
      "\u001b[1;31m---------------------------------------------------------------------------\u001b[0m",
      "\u001b[1;31mTypeError\u001b[0m                                 Traceback (most recent call last)",
      "Cell \u001b[1;32mIn[54], line 1\u001b[0m\n\u001b[1;32m----> 1\u001b[0m \u001b[38;5;124m'\u001b[39m\u001b[38;5;124ma\u001b[39m\u001b[38;5;124m'\u001b[39m\u001b[38;5;241m*\u001b[39m\u001b[38;5;124m'\u001b[39m\u001b[38;5;124mb\u001b[39m\u001b[38;5;124m'\u001b[39m\n",
      "\u001b[1;31mTypeError\u001b[0m: can't multiply sequence by non-int of type 'str'"
     ]
    }
   ],
   "source": [
    "'a'*'b'"
   ]
  },
  {
   "cell_type": "markdown",
   "id": "19424e05-51fa-4dfd-a9d3-5fa38b64547d",
   "metadata": {},
   "source": [
    "- type\n",
    "\n",
    "- len\n",
    "\n",
    "- max\n",
    "\n",
    "- min\n",
    "\n",
    "- sum"
   ]
  },
  {
   "cell_type": "markdown",
   "id": "0b2a4ab1-5711-4174-bc24-fcd96e0366b7",
   "metadata": {},
   "source": [
    "**in**"
   ]
  },
  {
   "cell_type": "code",
   "execution_count": 58,
   "id": "98c0d9f2-8ada-47d6-8159-a32f83aef0b4",
   "metadata": {},
   "outputs": [
    {
     "data": {
      "text/plain": [
       "True"
      ]
     },
     "execution_count": 58,
     "metadata": {},
     "output_type": "execute_result"
    }
   ],
   "source": [
    "d1={'Ram':25,\n",
    " 'Raheem':30,\n",
    " 'Robert':35}\n",
    "\n",
    "\n",
    "#'Ram':25  in d1  #fail\n",
    "    \n",
    "'Ram'  in d1   # works\n",
    "\n",
    "#25  in d1    # Fails"
   ]
  },
  {
   "cell_type": "code",
   "execution_count": 60,
   "id": "ac95d898-8e47-4917-9997-6a293514df5d",
   "metadata": {},
   "outputs": [
    {
     "name": "stdout",
     "output_type": "stream",
     "text": [
      "Ram\n",
      "Raheem\n",
      "Robert\n"
     ]
    }
   ],
   "source": [
    "for i in d1:\n",
    "    print(i)"
   ]
  },
  {
   "cell_type": "code",
   "execution_count": 62,
   "id": "21fdca8c-79cc-49d2-a618-604c4a460d59",
   "metadata": {},
   "outputs": [
    {
     "name": "stdout",
     "output_type": "stream",
     "text": [
      "1\n",
      "2\n",
      "3\n"
     ]
    }
   ],
   "source": [
    "str1='apple'\n",
    "'a' in str1\n",
    "\n",
    "l1=[1,2,3]\n",
    "1 in l1\n",
    "\n",
    "for i in l1:\n",
    "    print(i)"
   ]
  },
  {
   "cell_type": "markdown",
   "id": "960f52ef-3e6e-4c50-a572-aab943a1836d",
   "metadata": {},
   "source": [
    "**index**"
   ]
  },
  {
   "cell_type": "code",
   "execution_count": 65,
   "id": "ca266a85-7949-421b-94aa-773c78e5b250",
   "metadata": {},
   "outputs": [
    {
     "data": {
      "text/plain": [
       "'a'"
      ]
     },
     "execution_count": 65,
     "metadata": {},
     "output_type": "execute_result"
    }
   ],
   "source": [
    "l1=[10,20,30,40]\n",
    "l1[0]\n",
    "\n",
    "str1='apple'\n",
    "str1[0]"
   ]
  },
  {
   "cell_type": "code",
   "execution_count": 67,
   "id": "3b554b04-4a1b-4844-9c21-fed207a59aa7",
   "metadata": {},
   "outputs": [
    {
     "data": {
      "text/plain": [
       "25"
      ]
     },
     "execution_count": 67,
     "metadata": {},
     "output_type": "execute_result"
    }
   ],
   "source": [
    "d1={'Ram':25,\n",
    " 'Raheem':30,\n",
    " 'Robert':35}\n",
    "\n",
    "d1['Ram']\n",
    "\n",
    "# can we get values using for loop"
   ]
  },
  {
   "cell_type": "code",
   "execution_count": 70,
   "id": "3b9c7d9d-9b68-40b9-bd2a-2afce1ab7165",
   "metadata": {},
   "outputs": [
    {
     "name": "stdout",
     "output_type": "stream",
     "text": [
      "The age of Ram is 25\n",
      "The age of Raheem is 30\n",
      "The age of Robert is 35\n"
     ]
    }
   ],
   "source": [
    "for key in d1:\n",
    "    print(\"The age of {} is {}\".format(key,d1[key]))"
   ]
  },
  {
   "cell_type": "code",
   "execution_count": 72,
   "id": "482a4715-8529-4e65-9806-194a71194018",
   "metadata": {},
   "outputs": [
    {
     "name": "stdout",
     "output_type": "stream",
     "text": [
      "0 10\n",
      "1 20\n",
      "2 30\n",
      "3 40\n"
     ]
    }
   ],
   "source": [
    "for i in range(len(l1)):\n",
    "    print(i,l1[i])"
   ]
  },
  {
   "cell_type": "code",
   "execution_count": 74,
   "id": "4a4e4730-7bff-42c7-a262-a2f181a55083",
   "metadata": {},
   "outputs": [
    {
     "name": "stdout",
     "output_type": "stream",
     "text": [
      "0\n",
      "1\n",
      "2\n"
     ]
    }
   ],
   "source": [
    "for key in range(len(d1)):\n",
    "    print(key)\n",
    "    #print(\"The age of {} is {}\".format(key,d1[key]))  # possibile / not possible"
   ]
  },
  {
   "cell_type": "markdown",
   "id": "47ee77a9-c376-4079-9c87-8a6f2ce44aa3",
   "metadata": {},
   "source": [
    "**Creating a empty dictionary and update**"
   ]
  },
  {
   "cell_type": "code",
   "execution_count": 77,
   "id": "3f6bb202-7558-4034-9827-1c6f2d57a980",
   "metadata": {},
   "outputs": [
    {
     "name": "stdout",
     "output_type": "stream",
     "text": [
      "apple\n"
     ]
    }
   ],
   "source": [
    "s=''\n",
    "\n",
    "for i in 'apple':\n",
    "    s=s+i\n",
    "    \n",
    "print(s)"
   ]
  },
  {
   "cell_type": "code",
   "execution_count": 79,
   "id": "c4f5b4cb-a1be-4128-b0df-6c6ce622e2e6",
   "metadata": {},
   "outputs": [
    {
     "data": {
      "text/plain": [
       "[0, 1, 2, 3, 4, 5, 6, 7, 8, 9]"
      ]
     },
     "execution_count": 79,
     "metadata": {},
     "output_type": "execute_result"
    }
   ],
   "source": [
    "l=[i for i in range(10)]\n",
    "\n",
    "l=[]\n",
    "for i in range(10):\n",
    "    l.append(i)\n",
    "    \n",
    "l"
   ]
  },
  {
   "cell_type": "code",
   "execution_count": 81,
   "id": "4f396793-69df-4f92-a5a1-f08c8710becf",
   "metadata": {},
   "outputs": [
    {
     "data": {
      "text/plain": [
       "{'fruite': 'Apple'}"
      ]
     },
     "execution_count": 81,
     "metadata": {},
     "output_type": "execute_result"
    }
   ],
   "source": [
    "d1={}\n",
    "d1['fruite']='Apple'\n",
    "d1"
   ]
  },
  {
   "cell_type": "code",
   "execution_count": 85,
   "id": "5f88814a-b374-4ac2-847b-0c9f45b3cdc9",
   "metadata": {},
   "outputs": [
    {
     "data": {
      "text/plain": [
       "{'name': 'Dnyaneshwar',\n",
       " 'last_name': 'Rokade',\n",
       " 'age': 25,\n",
       " 'city': 'Akot',\n",
       " 'state': 'Maharashtra',\n",
       " 'job': 'Data Scientist',\n",
       " 'education': 'M.Com',\n",
       " 'company': 'Google',\n",
       " 'salary': 410000,\n",
       " 'email': 'dbrokade007@gmail.com'}"
      ]
     },
     "execution_count": 85,
     "metadata": {},
     "output_type": "execute_result"
    }
   ],
   "source": [
    "# wap create a database your own database.\n",
    "\n",
    "db={}\n",
    "db['name']='Dnyaneshwar'\n",
    "db['last_name']='Rokade'\n",
    "db['age']=25\n",
    "db['city']='Akot'\n",
    "db['state']='Maharashtra'\n",
    "db['job']='Data Scientist'\n",
    "db['education']='M.Com'\n",
    "db['company']='Google'\n",
    "db['salary']=410000\n",
    "db['email']='dbrokade007@gmail.com'\n",
    "db"
   ]
  },
  {
   "cell_type": "code",
   "execution_count": 117,
   "id": "b82d1901-7db3-4c37-b816-c8158a053688",
   "metadata": {},
   "outputs": [
    {
     "name": "stdout",
     "output_type": "stream",
     "text": [
      "{'Ram': 25, 'Raheem': 30, 'Robert': 35}\n"
     ]
    },
    {
     "data": {
      "text/plain": [
       "{'Ram': 25, 'Raheem': 30, 'Robert': 35}"
      ]
     },
     "execution_count": 117,
     "metadata": {},
     "output_type": "execute_result"
    }
   ],
   "source": [
    "#wap create a dictionary based on two lists.\n",
    "\n",
    "names=['Ram','Raheem','Robert']\n",
    "ages=[25,30,35]\n",
    "\n",
    "dt={}\n",
    "for n,a in zip(names,ages):\n",
    "    dt[n]=a\n",
    "print(dt)\n",
    "\n",
    "########################################################\n",
    "dt1={names:ages for names,ages in zip(names,ages)}\n",
    "dt1"
   ]
  },
  {
   "cell_type": "code",
   "execution_count": 121,
   "id": "61fa7342-52bd-4c79-9b21-d3a108e8fc5a",
   "metadata": {},
   "outputs": [
    {
     "data": {
      "text/plain": [
       "{'Ram': 25, 'Raheem': 30, 'Robert': 35}"
      ]
     },
     "execution_count": 121,
     "metadata": {},
     "output_type": "execute_result"
    }
   ],
   "source": [
    "dt1={}\n",
    "for i in range(len(names)):        # code like this.. and focus on coding like this. \n",
    "    dt1[names[i]]=ages[i]\n",
    "\n",
    "#######################################################\n",
    "dt1={names[i]:ages[i] for i in range(len(names))} # this is done using index opreations # dictionary comprehension \n",
    "dt1"
   ]
  },
  {
   "cell_type": "code",
   "execution_count": 186,
   "id": "41c3143a-b18c-42e5-a22d-e2b8fc1c6ca5",
   "metadata": {},
   "outputs": [
    {
     "name": "stdout",
     "output_type": "stream",
     "text": [
      "{'even': [36, 44], 'odd': [41, 33, 1]}\n"
     ]
    }
   ],
   "source": [
    "#WAP take 5 random numbers\n",
    "# and create a dictionary with even and odd\n",
    "\n",
    "# Output: {'even':[20,22],'odd':[19,21,23]}\n",
    "\n",
    "# step-1: take empty dictionary\n",
    "# step-2: take two even and odd list\n",
    "# step-3: import random\n",
    "# step-4: for i in range(5):\n",
    "# step-5:     num=random.randint(a,b)\n",
    "# step-6:     if <even>:\n",
    "# step-7:        append the values in even list\n",
    "# step-8:    else:\n",
    "# step-9:        append the values in odd list\n",
    "# step-10: create dictinary\n",
    "\n",
    "import random\n",
    "evenn=[]\n",
    "oddd=[]\n",
    "for i in range(5):\n",
    "    num=random.randint(1,50)\n",
    "    if num%2==0:\n",
    "        evenn.append(num)\n",
    "    else:\n",
    "        oddd.append(num)\n",
    "        \n",
    "dict0={}\n",
    "dict0['even']=evenn\n",
    "dict0['odd']=oddd\n",
    "\n",
    "print(dict0)"
   ]
  },
  {
   "cell_type": "code",
   "execution_count": 2,
   "id": "6e3bc6dc-3542-4ac5-84e3-d473bb83dec7",
   "metadata": {},
   "outputs": [],
   "source": [
    "import os   #to know file path"
   ]
  },
  {
   "cell_type": "code",
   "execution_count": 4,
   "id": "42091441-0126-41ea-9109-dc8ba8643756",
   "metadata": {},
   "outputs": [
    {
     "data": {
      "text/plain": [
       "'C:\\\\Users\\\\DBRok\\\\OneDrive\\\\D S N-IT'"
      ]
     },
     "execution_count": 4,
     "metadata": {},
     "output_type": "execute_result"
    }
   ],
   "source": [
    "os.getcwd() #cmd to know exact file path"
   ]
  },
  {
   "cell_type": "code",
   "execution_count": 6,
   "id": "57bc414a-0957-48a5-8b1b-f0f99be218d4",
   "metadata": {},
   "outputs": [
    {
     "data": {
      "text/plain": [
       "['__class__',\n",
       " '__class_getitem__',\n",
       " '__contains__',\n",
       " '__delattr__',\n",
       " '__delitem__',\n",
       " '__dir__',\n",
       " '__doc__',\n",
       " '__eq__',\n",
       " '__format__',\n",
       " '__ge__',\n",
       " '__getattribute__',\n",
       " '__getitem__',\n",
       " '__getstate__',\n",
       " '__gt__',\n",
       " '__hash__',\n",
       " '__init__',\n",
       " '__init_subclass__',\n",
       " '__ior__',\n",
       " '__iter__',\n",
       " '__le__',\n",
       " '__len__',\n",
       " '__lt__',\n",
       " '__ne__',\n",
       " '__new__',\n",
       " '__or__',\n",
       " '__reduce__',\n",
       " '__reduce_ex__',\n",
       " '__repr__',\n",
       " '__reversed__',\n",
       " '__ror__',\n",
       " '__setattr__',\n",
       " '__setitem__',\n",
       " '__sizeof__',\n",
       " '__str__',\n",
       " '__subclasshook__',\n",
       " 'clear',\n",
       " 'copy',\n",
       " 'fromkeys',\n",
       " 'get',\n",
       " 'items',\n",
       " 'keys',\n",
       " 'pop',\n",
       " 'popitem',\n",
       " 'setdefault',\n",
       " 'update',\n",
       " 'values']"
      ]
     },
     "execution_count": 6,
     "metadata": {},
     "output_type": "execute_result"
    }
   ],
   "source": [
    "dir({})\n",
    "\n",
    "# str=''\n",
    "# list=[]\n",
    "# dict={}"
   ]
  },
  {
   "cell_type": "code",
   "execution_count": 8,
   "id": "11288122-7810-40db-bc0a-cd267f62475d",
   "metadata": {},
   "outputs": [
    {
     "data": {
      "text/plain": [
       "{'Ram': 25, 'Raheem': 30, 'Robert': 35}"
      ]
     },
     "execution_count": 8,
     "metadata": {},
     "output_type": "execute_result"
    }
   ],
   "source": [
    "d1={'Ram':25,\n",
    " 'Raheem':30,\n",
    " 'Robert':35}\n",
    "\n",
    "d1"
   ]
  },
  {
   "cell_type": "code",
   "execution_count": 10,
   "id": "2ad8ec6e-de73-4fa7-9b87-d1d42d55d74e",
   "metadata": {},
   "outputs": [
    {
     "data": {
      "text/plain": [
       "dict_items([('Ram', 25), ('Raheem', 30), ('Robert', 35)])"
      ]
     },
     "execution_count": 10,
     "metadata": {},
     "output_type": "execute_result"
    }
   ],
   "source": [
    "#items\n",
    "items=d1.items()\n",
    "items"
   ]
  },
  {
   "cell_type": "code",
   "execution_count": 12,
   "id": "e5c1a775-37e9-4427-9604-c4cd2445bd33",
   "metadata": {},
   "outputs": [
    {
     "data": {
      "text/plain": [
       "dict_items"
      ]
     },
     "execution_count": 12,
     "metadata": {},
     "output_type": "execute_result"
    }
   ],
   "source": [
    "type(items) "
   ]
  },
  {
   "cell_type": "code",
   "execution_count": 14,
   "id": "84d7b579-2606-4f25-97af-e99d8cfac1a6",
   "metadata": {},
   "outputs": [
    {
     "data": {
      "text/plain": [
       "dict_keys(['Ram', 'Raheem', 'Robert'])"
      ]
     },
     "execution_count": 14,
     "metadata": {},
     "output_type": "execute_result"
    }
   ],
   "source": [
    "#keys\n",
    "keys=d1.keys()\n",
    "keys"
   ]
  },
  {
   "cell_type": "code",
   "execution_count": 16,
   "id": "9e1a79b1-207e-4cfe-9694-0f9ba20e241d",
   "metadata": {},
   "outputs": [
    {
     "data": {
      "text/plain": [
       "dict_keys"
      ]
     },
     "execution_count": 16,
     "metadata": {},
     "output_type": "execute_result"
    }
   ],
   "source": [
    "type(keys)"
   ]
  },
  {
   "cell_type": "code",
   "execution_count": 18,
   "id": "40b1c676-ba9b-4dbc-b787-b20c3c4ae21e",
   "metadata": {},
   "outputs": [
    {
     "data": {
      "text/plain": [
       "dict_values([25, 30, 35])"
      ]
     },
     "execution_count": 18,
     "metadata": {},
     "output_type": "execute_result"
    }
   ],
   "source": [
    "# values\n",
    "values=d1.values()\n",
    "values"
   ]
  },
  {
   "cell_type": "code",
   "execution_count": 20,
   "id": "4f4e144a-398b-43b6-9024-411cb3a08689",
   "metadata": {},
   "outputs": [
    {
     "data": {
      "text/plain": [
       "dict_values"
      ]
     },
     "execution_count": 20,
     "metadata": {},
     "output_type": "execute_result"
    }
   ],
   "source": [
    "type(values)"
   ]
  },
  {
   "cell_type": "code",
   "execution_count": 22,
   "id": "c35b81a8-e069-4e67-963e-30a1557b04e3",
   "metadata": {},
   "outputs": [
    {
     "data": {
      "text/plain": [
       "[25, 30, 35, 400]"
      ]
     },
     "execution_count": 22,
     "metadata": {},
     "output_type": "execute_result"
    }
   ],
   "source": [
    "l1=[25,30,35]\n",
    "l1.append(400)\n",
    "l1"
   ]
  },
  {
   "cell_type": "code",
   "execution_count": 24,
   "id": "22fa07ec-2423-4242-be69-7e2407fe9db3",
   "metadata": {},
   "outputs": [
    {
     "data": {
      "text/plain": [
       "[25, 30, 35]"
      ]
     },
     "execution_count": 24,
     "metadata": {},
     "output_type": "execute_result"
    }
   ],
   "source": [
    "values    # I want to convert into a list\n",
    "values_list=list(values) # then you can apply list methods\n",
    "values_list"
   ]
  },
  {
   "cell_type": "code",
   "execution_count": 26,
   "id": "cf3a547f-7c2a-469e-8435-cd8032c1394e",
   "metadata": {},
   "outputs": [
    {
     "data": {
      "text/plain": [
       "['Ram', 'Raheem', 'Robert']"
      ]
     },
     "execution_count": 26,
     "metadata": {},
     "output_type": "execute_result"
    }
   ],
   "source": [
    "keys_list=list(keys)\n",
    "keys_list"
   ]
  },
  {
   "cell_type": "code",
   "execution_count": 28,
   "id": "d30a9653-6dad-4d6c-ad34-45add66d2007",
   "metadata": {},
   "outputs": [],
   "source": [
    "# I will give the dictionary\n",
    "# can you extract keys ans values in a list\n",
    "\n",
    "\n",
    "\n",
    "# I will give two list  keys and values\n",
    "# can you create a dictionary"
   ]
  },
  {
   "cell_type": "code",
   "execution_count": 30,
   "id": "ce6af1e2-2f03-4de6-9bb6-0f73afd08841",
   "metadata": {},
   "outputs": [],
   "source": [
    "d1={'Ram':25,\n",
    " 'Raheem':30,\n",
    " 'Robert':35}\n",
    "\n",
    "keys=list(d1.keys())\n",
    "values=list(d1.values())"
   ]
  },
  {
   "cell_type": "code",
   "execution_count": 32,
   "id": "efab5923-bf62-462d-b266-d5c201ffb68b",
   "metadata": {},
   "outputs": [
    {
     "data": {
      "text/plain": [
       "(['Ram', 'Raheem', 'Robert'], [25, 30, 35])"
      ]
     },
     "execution_count": 32,
     "metadata": {},
     "output_type": "execute_result"
    }
   ],
   "source": [
    "keys,values"
   ]
  },
  {
   "cell_type": "code",
   "execution_count": 34,
   "id": "8e11b5ad-2500-409a-a768-07ee22da7f03",
   "metadata": {},
   "outputs": [
    {
     "data": {
      "text/plain": [
       "{'Ram': 25, 'Raheem': 30, 'Robert': 35}"
      ]
     },
     "execution_count": 34,
     "metadata": {},
     "output_type": "execute_result"
    }
   ],
   "source": [
    "{i:j for i,j in zip(keys,values)}"
   ]
  },
  {
   "cell_type": "code",
   "execution_count": 36,
   "id": "a1487fd1-8b5c-4ae7-ab3d-c34627c9abb7",
   "metadata": {},
   "outputs": [
    {
     "data": {
      "text/plain": [
       "{'Ram': 25, 'Raheem': 30, 'Robert': 35}"
      ]
     },
     "execution_count": 36,
     "metadata": {},
     "output_type": "execute_result"
    }
   ],
   "source": [
    "d1={}\n",
    "for i in range(len(keys)):\n",
    "    d1[keys[i]]=values[i]   # d1[keys[0]]=values[0]   d1['Ram']=25\n",
    "    \n",
    "d1"
   ]
  },
  {
   "cell_type": "code",
   "execution_count": 38,
   "id": "8f6c0858-9b2b-4ed3-bbb4-d0ac92fe1371",
   "metadata": {},
   "outputs": [
    {
     "data": {
      "text/plain": [
       "{'Ram': 25, 'Raheem': 30, 'Robert': 35}"
      ]
     },
     "execution_count": 38,
     "metadata": {},
     "output_type": "execute_result"
    }
   ],
   "source": [
    "dict(zip(keys,values))"
   ]
  },
  {
   "cell_type": "code",
   "execution_count": 40,
   "id": "a47fb9cd-1352-43b3-91b0-f4eb94766fbc",
   "metadata": {},
   "outputs": [],
   "source": [
    "s1='virat.kohli@blr.com,Rohit.sharma@mumbai.com,kl.rahul@lucknow.com'\n",
    "\n",
    "# {'first_name':['virat','Rohit','KL'],\n",
    "#   'second_name':['kohli','sharma','rahul'],\n",
    "#   'company':['blr','mumbai','lucknow']}"
   ]
  },
  {
   "cell_type": "code",
   "execution_count": 42,
   "id": "9b548240-ccc8-49bd-ae01-c2718225bf24",
   "metadata": {},
   "outputs": [
    {
     "data": {
      "text/plain": [
       "['virat.kohli@blr.com', 'Rohit.sharma@mumbai.com', 'kl.rahul@lucknow.com']"
      ]
     },
     "execution_count": 42,
     "metadata": {},
     "output_type": "execute_result"
    }
   ],
   "source": [
    "s1.split(',')"
   ]
  },
  {
   "cell_type": "code",
   "execution_count": 44,
   "id": "69971f8b-250e-47b6-944d-a256a10f4b55",
   "metadata": {},
   "outputs": [
    {
     "data": {
      "text/plain": [
       "{'first_name': ['virat', 'Rohit', 'kl'],\n",
       " 'second_name': ['kohli', 'sharma', 'rahul'],\n",
       " 'company_name': ['blr', 'mumbai', 'lucknow']}"
      ]
     },
     "execution_count": 44,
     "metadata": {},
     "output_type": "execute_result"
    }
   ],
   "source": [
    "str1='virat.kohli@blr.com'\n",
    "d1={}\n",
    "f_name=[str1[:str1.find('.')] for str1 in s1.split(',')]\n",
    "s_name=[str1[str1.find('.')+1:str1.find('@')] for str1 in s1.split(',')]\n",
    "c_name=[str1[str1.find('@')+1:str1.find('.',str1.find('.')+1)] for str1 in s1.split(',')]\n",
    "f_name,s_name,c_name\n",
    "\n",
    "d1['first_name']=f_name\n",
    "d1['second_name']=s_name\n",
    "d1['company_name']=c_name\n",
    "\n",
    "d1"
   ]
  },
  {
   "cell_type": "code",
   "execution_count": 46,
   "id": "6109c3c0-4ae4-4279-b24e-fb35a4c5c112",
   "metadata": {},
   "outputs": [
    {
     "data": {
      "text/plain": [
       "{'first_name': ['virat', 'rohit', 'kl'],\n",
       " 'second_name': ['kohli', 'sharma', 'rahul'],\n",
       " 'company': ['blr', 'mumbai', 'lucknow']}"
      ]
     },
     "execution_count": 46,
     "metadata": {},
     "output_type": "execute_result"
    }
   ],
   "source": [
    "s1='virat.kohli@blr.com,rohit.sharma@mumbai.com,kl.rahul@lucknow.com'\n",
    "l1=s1.split(',')\n",
    "first_name=[]\n",
    "second_name=[]\n",
    "company=[]\n",
    "d2={}\n",
    "for i in l1:\n",
    "    #print(i)\n",
    "    first_name.append(i[0:i.find('.')])\n",
    "    second_name.append(i[i.find('.')+1:i.find('@')])\n",
    "    company.append(i[i.find('@')+1:i.find('.',i.find('.')+1)])\n",
    "    \n",
    "d2['first_name']=first_name\n",
    "d2['second_name']=second_name\n",
    "d2['company']=company\n",
    "d2"
   ]
  },
  {
   "cell_type": "markdown",
   "id": "b652b5e7-ceb1-4f50-8692-7050ebe15647",
   "metadata": {},
   "source": [
    "**word-frequency**"
   ]
  },
  {
   "cell_type": "code",
   "execution_count": 49,
   "id": "7a2c3f20-86cc-4579-aa7a-63abbec80d99",
   "metadata": {},
   "outputs": [],
   "source": [
    "str1='can can you canner can you able to can canner'\n",
    "\n",
    "#{'can':4,'you':2,'canner':2,'able':1,'to':1}\n",
    "\n",
    "# d={}\n",
    "# step-1: split the str1 ======= > you will get a list\n",
    "# step-2: iterate through loop ==== > each word will print\n",
    "# step-3: list1.count(<word>): number\n",
    "# step-4: make the dictionary"
   ]
  },
  {
   "cell_type": "code",
   "execution_count": 51,
   "id": "21c74245-ccf4-40c7-a178-bc0c215383e0",
   "metadata": {},
   "outputs": [
    {
     "data": {
      "text/plain": [
       "{'can': 4, 'you': 2, 'canner': 1, 'able': 1, 'to': 1, 'canner.': 1}"
      ]
     },
     "execution_count": 51,
     "metadata": {},
     "output_type": "execute_result"
    }
   ],
   "source": [
    "str1='can can you canner can you able to can canner.'\n",
    "l1=str1.split(' ')  # step-1\n",
    "d1={}\n",
    "\n",
    "for i in l1:       # step-2\n",
    "    d1[i]=l1.count(i) # step-3\n",
    "    \n",
    "    \n",
    "d1"
   ]
  },
  {
   "cell_type": "code",
   "execution_count": 53,
   "id": "157a263e-2cc1-4bf6-93ed-e350e6386b85",
   "metadata": {},
   "outputs": [
    {
     "data": {
      "text/plain": [
       "['can', 'can', 'you', 'canner', 'can', 'you', 'able', 'to', 'can', 'canner.']"
      ]
     },
     "execution_count": 53,
     "metadata": {},
     "output_type": "execute_result"
    }
   ],
   "source": [
    "str1='can can you canner can you able to can canner.'\n",
    "str1.split()"
   ]
  },
  {
   "cell_type": "code",
   "execution_count": 55,
   "id": "9460f783-f404-4cf6-9f4b-1d296a7bd4c0",
   "metadata": {},
   "outputs": [],
   "source": [
    "keys=list(d1.keys())"
   ]
  },
  {
   "cell_type": "code",
   "execution_count": 57,
   "id": "8481fb6e-6746-4c88-b978-283ead541c7b",
   "metadata": {},
   "outputs": [],
   "source": [
    "values=list(d1.values())"
   ]
  },
  {
   "cell_type": "code",
   "execution_count": 59,
   "id": "810bf775-0755-4a41-96a2-1f796158952e",
   "metadata": {},
   "outputs": [
    {
     "data": {
      "text/plain": [
       "(['can', 'you', 'canner', 'able', 'to', 'canner.'], [4, 2, 1, 1, 1, 1])"
      ]
     },
     "execution_count": 59,
     "metadata": {},
     "output_type": "execute_result"
    }
   ],
   "source": [
    "keys,values"
   ]
  },
  {
   "cell_type": "code",
   "execution_count": 61,
   "id": "1ca67a5f-00fb-4dad-b290-c81ba44b4a75",
   "metadata": {},
   "outputs": [],
   "source": [
    "i=max(values)"
   ]
  },
  {
   "cell_type": "code",
   "execution_count": 63,
   "id": "c0963181-f5bd-4dc5-a320-c9067b8e5c9c",
   "metadata": {},
   "outputs": [
    {
     "data": {
      "text/plain": [
       "0"
      ]
     },
     "execution_count": 63,
     "metadata": {},
     "output_type": "execute_result"
    }
   ],
   "source": [
    "values.index(i)"
   ]
  },
  {
   "cell_type": "code",
   "execution_count": 65,
   "id": "1fc54574-4794-499d-be27-fa33311ad927",
   "metadata": {},
   "outputs": [
    {
     "data": {
      "text/plain": [
       "'can'"
      ]
     },
     "execution_count": 65,
     "metadata": {},
     "output_type": "execute_result"
    }
   ],
   "source": [
    "keys[values.index(max(values))]"
   ]
  },
  {
   "cell_type": "code",
   "execution_count": 67,
   "id": "6a45064c-fed6-4a59-9fb4-8e5b03b40aed",
   "metadata": {},
   "outputs": [],
   "source": [
    "d1={'a':20,'b':30,'c':40}\n",
    "d2={'a':50,'b':100,'c':200}\n",
    "\n",
    "# o/p={'a':70,'b':130,'c':240}"
   ]
  },
  {
   "cell_type": "code",
   "execution_count": 69,
   "id": "9810a8c4-2c29-4ac9-b77d-ec3934c7ea00",
   "metadata": {},
   "outputs": [
    {
     "data": {
      "text/plain": [
       "{'a': 70, 'b': 130, 'c': 240}"
      ]
     },
     "execution_count": 69,
     "metadata": {},
     "output_type": "execute_result"
    }
   ],
   "source": [
    "for i in d2:\n",
    "    d1[i]+=d2[i]\n",
    "d1"
   ]
  },
  {
   "cell_type": "code",
   "execution_count": 73,
   "id": "8ff467ce-b0c2-42d5-9f93-6424f913f950",
   "metadata": {},
   "outputs": [
    {
     "data": {
      "text/plain": [
       "{'a': 70, 'b': 130, 'c': 240, 'd': 500}"
      ]
     },
     "execution_count": 73,
     "metadata": {},
     "output_type": "execute_result"
    }
   ],
   "source": [
    "d1 = {'a':20,'b':30,'c':40,'d':500}\n",
    "d2 = {'a':50,'b':100,'c':200}\n",
    "for i in d2:\n",
    "    d1[i]+=d2[i]\n",
    "d1"
   ]
  },
  {
   "cell_type": "code",
   "execution_count": 77,
   "id": "eda62de4-0dbd-4283-87fc-0d0dd0443bd4",
   "metadata": {},
   "outputs": [
    {
     "data": {
      "text/plain": [
       "{'a': 70, 'b': 130, 'c': 240}"
      ]
     },
     "execution_count": 77,
     "metadata": {},
     "output_type": "execute_result"
    }
   ],
   "source": [
    "d1={'a':20,'b':30,'c':40}\n",
    "d2={'a':50,'b':100,'c':200}\n",
    "\n",
    "d3={}\n",
    "if len(d1)==len(d2):\n",
    "    for i in d1:\n",
    "        d3[i]=d1[i]+d2[i]    # d3['a']=d1['a']+d2['a']\n",
    "        \n",
    "d3\n",
    "# which ever is max length iterate through that dictionary"
   ]
  },
  {
   "cell_type": "code",
   "execution_count": 79,
   "id": "3b573b14-a3ec-4267-83ac-09855a96cb34",
   "metadata": {},
   "outputs": [
    {
     "data": {
      "text/plain": [
       "{'a': 70, 'b': 130, 'c': 240}"
      ]
     },
     "execution_count": 79,
     "metadata": {},
     "output_type": "execute_result"
    }
   ],
   "source": [
    "for i in range(min(len(d1),len(d2))):\n",
    "    d1[list(d1.keys())[i]]+=d2[list(d2.keys())[i]]\n",
    "d1"
   ]
  },
  {
   "cell_type": "code",
   "execution_count": 81,
   "id": "3f2a5c54-3570-4b75-b3d8-35f8e0da1b7b",
   "metadata": {},
   "outputs": [
    {
     "data": {
      "text/plain": [
       "{'a': 70, 'b': 130, 'c': 240, 'd': 500}"
      ]
     },
     "execution_count": 81,
     "metadata": {},
     "output_type": "execute_result"
    }
   ],
   "source": [
    "d1 = {'a':20,'b':30,'c':40,'d':500}\n",
    "d2 = {'a':50,'b':100,'c':200}\n",
    "for i in range(min(len(d1),len(d2))):\n",
    "    d1[list(d1.keys())[i]]+=d2[list(d2.keys())[i]]\n",
    "d1"
   ]
  },
  {
   "cell_type": "code",
   "execution_count": null,
   "id": "4d60bfb8-9def-4263-9be9-8e67cad3a1ea",
   "metadata": {},
   "outputs": [],
   "source": [
    "# strings /list/dictionary is important for Python Developer\n",
    "# also imp for data scientist"
   ]
  },
  {
   "cell_type": "code",
   "execution_count": null,
   "id": "256066d8-e88a-43aa-83d6-ddd084e4c25d",
   "metadata": {},
   "outputs": [],
   "source": []
  },
  {
   "cell_type": "code",
   "execution_count": null,
   "id": "763f5bdb-c103-4b2f-a05a-2c95971f597a",
   "metadata": {},
   "outputs": [],
   "source": []
  },
  {
   "cell_type": "code",
   "execution_count": null,
   "id": "66f920e9-eb35-44ff-8524-714a02c8c1f5",
   "metadata": {},
   "outputs": [],
   "source": []
  }
 ],
 "metadata": {
  "kernelspec": {
   "display_name": "Python 3 (ipykernel)",
   "language": "python",
   "name": "python3"
  },
  "language_info": {
   "codemirror_mode": {
    "name": "ipython",
    "version": 3
   },
   "file_extension": ".py",
   "mimetype": "text/x-python",
   "name": "python",
   "nbconvert_exporter": "python",
   "pygments_lexer": "ipython3",
   "version": "3.12.7"
  }
 },
 "nbformat": 4,
 "nbformat_minor": 5
}
