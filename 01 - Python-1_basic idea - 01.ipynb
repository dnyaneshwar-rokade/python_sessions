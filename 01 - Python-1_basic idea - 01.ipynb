{
 "cells": [
  {
   "cell_type": "markdown",
   "id": "ec177001-b0d8-48b3-a8c5-7d634f17b105",
   "metadata": {},
   "source": [
    "#python notebook will works by using python kernal\n",
    "\n",
    "- python kernal dot, if dot is white color ===> idle state, ready to execute to code.\n",
    "- python kernal black color ===> it is busy\n",
    "- python kernal will run the codes step by step\n",
    "- if you see kernal black color, do not run any codes\n",
    "- if your python kernal is red ===> kernal is dead\n",
    "\n",
    "to add bullet points use ( - space yourcontent and esc+m then shift+enter )\n",
    "\n",
    "esc+m at a time is shortcut to switch to markdown mode\n"
   ]
  },
  {
   "cell_type": "markdown",
   "id": "b93ccbd4-6897-430a-b7fa-892d09327460",
   "metadata": {},
   "source": [
    "plus sign\n",
    "\n",
    "click on plus sign ==== it will create new cells\n",
    "\n",
    "new cell is used to provide some input\n",
    "\n",
    "input means write some code\n",
    "when you run it will provide output"
   ]
  },
  {
   "cell_type": "markdown",
   "id": "0f361f7f-2057-4bf8-9b26-da2a17fbe360",
   "metadata": {},
   "source": [
    "whenever if you seeing IN\n",
    "which means the cell is in code mode\n",
    "\n",
    "code mode ====== In at cell both are same\n",
    "\n",
    "if you want to write any story change the code mode to markdown mode"
   ]
  },
  {
   "cell_type": "code",
   "execution_count": null,
   "id": "38b6bec0-cdab-4a58-8ee5-30c17fcb7690",
   "metadata": {},
   "outputs": [],
   "source": [
    "a=20\n",
    "a\n",
    "# shift+enter at a time to run code\n",
    "# esc + y to return to the code mode"
   ]
  },
  {
   "cell_type": "markdown",
   "id": "55268f90-0239-41e1-983c-02c6e61525fe",
   "metadata": {},
   "source": [
    "# python"
   ]
  },
  {
   "cell_type": "markdown",
   "id": "565c664f-ab5f-49f5-80c7-a2537d6e927d",
   "metadata": {},
   "source": [
    "#### python"
   ]
  },
  {
   "cell_type": "markdown",
   "id": "92410c5c-599c-412e-b010-af0ddc19f4db",
   "metadata": {},
   "source": [
    "to give heading like above python type # <space> then <your heading> and esc + m and shift + enter "
   ]
  },
  {
   "cell_type": "markdown",
   "id": "99e88b21-07db-4cd5-a151-e992c8bd1354",
   "metadata": {},
   "source": [
    "you can change font size by giving more than one ## at time + esc+m and shift+enter "
   ]
  },
  {
   "cell_type": "markdown",
   "id": "59183bf5-cce2-45fe-a6f8-863ff580e86e",
   "metadata": {},
   "source": [
    "- python is easy\n",
    "    - hello\n",
    "    - hi\n",
    "- python is used DS and AI "
   ]
  },
  {
   "cell_type": "markdown",
   "id": "9c1e505f-5b5b-4f0b-a14a-9e1bc0c59c76",
   "metadata": {},
   "source": [
    "#packages\n",
    "\n",
    "#package name : Random\n",
    "\n",
    "#import <package_name>\n",
    "\n",
    "#dir(<package_name>) #it will return methods\n",
    "\n",
    "#help(<package_name>.<method_name>)\n"
   ]
  },
  {
   "cell_type": "code",
   "execution_count": 11,
   "id": "6a908ca8-2d9c-495b-8556-0ff5940cf0af",
   "metadata": {},
   "outputs": [],
   "source": [
    "import random"
   ]
  },
  {
   "cell_type": "code",
   "execution_count": 16,
   "id": "e391a0d1-3510-4e48-b97e-db92a662ac82",
   "metadata": {},
   "outputs": [
    {
     "data": {
      "text/plain": [
       "37"
      ]
     },
     "execution_count": 16,
     "metadata": {},
     "output_type": "execute_result"
    }
   ],
   "source": [
    "random.randint(1,100) #to get help shift+tab cursor should be inside the brackets "
   ]
  },
  {
   "cell_type": "markdown",
   "id": "893f5e2b-be9d-48d1-aa31-7f73f32bd537",
   "metadata": {},
   "source": [
    "basic brackets understanding \n",
    "\n",
    "[1,100] =====> both 1 and 100 will include\n",
    "\n",
    "[1,100) =====> 1 included but 100 not included\n",
    "\n",
    "(1,100] =====> 1 is not included, but 100 included\n",
    "\n",
    "(1,100) =====> both 1 and 100 not included"
   ]
  },
  {
   "cell_type": "code",
   "execution_count": 30,
   "id": "a851c7d5-8239-4482-b8f1-0ffccce38127",
   "metadata": {},
   "outputs": [
    {
     "data": {
      "text/plain": [
       "27"
      ]
     },
     "execution_count": 30,
     "metadata": {},
     "output_type": "execute_result"
    }
   ],
   "source": [
    "import random\n",
    "random.randint(1,100) #to get spelling of an attribute enter tab after entering one or two letters"
   ]
  },
  {
   "cell_type": "code",
   "execution_count": 22,
   "id": "e51c5d8c-9cf1-4987-9d5c-005ed77f2384",
   "metadata": {},
   "outputs": [
    {
     "data": {
      "text/plain": [
       "0.8939966636005579"
      ]
     },
     "execution_count": 22,
     "metadata": {},
     "output_type": "execute_result"
    }
   ],
   "source": [
    "import math\n",
    "math.sin(90)"
   ]
  },
  {
   "cell_type": "code",
   "execution_count": 24,
   "id": "cab9e7eb-1b12-44eb-8c9d-d08469693de2",
   "metadata": {},
   "outputs": [
    {
     "data": {
      "text/plain": [
       "<module 'math' (built-in)>"
      ]
     },
     "execution_count": 24,
     "metadata": {},
     "output_type": "execute_result"
    }
   ],
   "source": [
    "import math\n",
    "math"
   ]
  },
  {
   "cell_type": "code",
   "execution_count": 26,
   "id": "e00324bb-c7c0-482e-a32c-d2e40597ca17",
   "metadata": {},
   "outputs": [
    {
     "data": {
      "text/plain": [
       "<module 'random' from 'C:\\\\Users\\\\DBRok\\\\anaconda3\\\\Lib\\\\random.py'>"
      ]
     },
     "execution_count": 26,
     "metadata": {},
     "output_type": "execute_result"
    }
   ],
   "source": [
    "import random\n",
    "random"
   ]
  },
  {
   "cell_type": "code",
   "execution_count": 32,
   "id": "42ef57fb-91c0-4275-bd37-451ccb030286",
   "metadata": {},
   "outputs": [
    {
     "data": {
      "text/plain": [
       "['BPF',\n",
       " 'LOG4',\n",
       " 'NV_MAGICCONST',\n",
       " 'RECIP_BPF',\n",
       " 'Random',\n",
       " 'SG_MAGICCONST',\n",
       " 'SystemRandom',\n",
       " 'TWOPI',\n",
       " '_ONE',\n",
       " '_Sequence',\n",
       " '__all__',\n",
       " '__builtins__',\n",
       " '__cached__',\n",
       " '__doc__',\n",
       " '__file__',\n",
       " '__loader__',\n",
       " '__name__',\n",
       " '__package__',\n",
       " '__spec__',\n",
       " '_accumulate',\n",
       " '_acos',\n",
       " '_bisect',\n",
       " '_ceil',\n",
       " '_cos',\n",
       " '_e',\n",
       " '_exp',\n",
       " '_fabs',\n",
       " '_floor',\n",
       " '_index',\n",
       " '_inst',\n",
       " '_isfinite',\n",
       " '_lgamma',\n",
       " '_log',\n",
       " '_log2',\n",
       " '_os',\n",
       " '_pi',\n",
       " '_random',\n",
       " '_repeat',\n",
       " '_sha512',\n",
       " '_sin',\n",
       " '_sqrt',\n",
       " '_test',\n",
       " '_test_generator',\n",
       " '_urandom',\n",
       " '_warn',\n",
       " 'betavariate',\n",
       " 'binomialvariate',\n",
       " 'choice',\n",
       " 'choices',\n",
       " 'expovariate',\n",
       " 'gammavariate',\n",
       " 'gauss',\n",
       " 'getrandbits',\n",
       " 'getstate',\n",
       " 'lognormvariate',\n",
       " 'normalvariate',\n",
       " 'paretovariate',\n",
       " 'randbytes',\n",
       " 'randint',\n",
       " 'random',\n",
       " 'randrange',\n",
       " 'sample',\n",
       " 'seed',\n",
       " 'setstate',\n",
       " 'shuffle',\n",
       " 'triangular',\n",
       " 'uniform',\n",
       " 'vonmisesvariate',\n",
       " 'weibullvariate']"
      ]
     },
     "execution_count": 32,
     "metadata": {},
     "output_type": "execute_result"
    }
   ],
   "source": [
    "dir(random)"
   ]
  },
  {
   "cell_type": "code",
   "execution_count": 34,
   "id": "760e74d9-ac4d-48d6-a3cb-d107f5a315f8",
   "metadata": {},
   "outputs": [],
   "source": [
    "#package name: keyword\n",
    "import keyword"
   ]
  },
  {
   "cell_type": "code",
   "execution_count": 36,
   "id": "cbc9051e-92a5-47bc-997a-ff2d3481255a",
   "metadata": {},
   "outputs": [
    {
     "data": {
      "text/plain": [
       "['__all__',\n",
       " '__builtins__',\n",
       " '__cached__',\n",
       " '__doc__',\n",
       " '__file__',\n",
       " '__loader__',\n",
       " '__name__',\n",
       " '__package__',\n",
       " '__spec__',\n",
       " 'iskeyword',\n",
       " 'issoftkeyword',\n",
       " 'kwlist',\n",
       " 'softkwlist']"
      ]
     },
     "execution_count": 36,
     "metadata": {},
     "output_type": "execute_result"
    }
   ],
   "source": [
    "dir(keyword)"
   ]
  },
  {
   "cell_type": "code",
   "execution_count": 38,
   "id": "ff6717ed-62a5-4ec5-b966-5864b6937cae",
   "metadata": {},
   "outputs": [
    {
     "data": {
      "text/plain": [
       "['False',\n",
       " 'None',\n",
       " 'True',\n",
       " 'and',\n",
       " 'as',\n",
       " 'assert',\n",
       " 'async',\n",
       " 'await',\n",
       " 'break',\n",
       " 'class',\n",
       " 'continue',\n",
       " 'def',\n",
       " 'del',\n",
       " 'elif',\n",
       " 'else',\n",
       " 'except',\n",
       " 'finally',\n",
       " 'for',\n",
       " 'from',\n",
       " 'global',\n",
       " 'if',\n",
       " 'import',\n",
       " 'in',\n",
       " 'is',\n",
       " 'lambda',\n",
       " 'nonlocal',\n",
       " 'not',\n",
       " 'or',\n",
       " 'pass',\n",
       " 'raise',\n",
       " 'return',\n",
       " 'try',\n",
       " 'while',\n",
       " 'with',\n",
       " 'yield']"
      ]
     },
     "execution_count": 38,
     "metadata": {},
     "output_type": "execute_result"
    }
   ],
   "source": [
    "#read the kwlist\n",
    "\n",
    "#<p_name>.<method_name>\n",
    "keyword.kwlist"
   ]
  },
  {
   "cell_type": "code",
   "execution_count": 40,
   "id": "b531c118-61a7-44b4-9c5e-b916b11a3377",
   "metadata": {},
   "outputs": [
    {
     "ename": "ModuleNotFoundError",
     "evalue": "No module named 'cv2'",
     "output_type": "error",
     "traceback": [
      "\u001b[1;31m---------------------------------------------------------------------------\u001b[0m",
      "\u001b[1;31mModuleNotFoundError\u001b[0m                       Traceback (most recent call last)",
      "Cell \u001b[1;32mIn[40], line 3\u001b[0m\n\u001b[0;32m      1\u001b[0m \u001b[38;5;66;03m#package name : cv2\u001b[39;00m\n\u001b[0;32m      2\u001b[0m \u001b[38;5;66;03m#cv2= computer vision\u001b[39;00m\n\u001b[1;32m----> 3\u001b[0m \u001b[38;5;28;01mimport\u001b[39;00m \u001b[38;5;21;01mcv2\u001b[39;00m\n",
      "\u001b[1;31mModuleNotFoundError\u001b[0m: No module named 'cv2'"
     ]
    }
   ],
   "source": [
    "#package name : cv2\n",
    "#cv2= computer vision\n",
    "import cv2"
   ]
  },
  {
   "cell_type": "code",
   "execution_count": null,
   "id": "63c343f3-57f9-49be-9668-7217dfac6358",
   "metadata": {},
   "outputs": [],
   "source": [
    "module not found error\n",
    "because the package is not there in our pc\n",
    "we need to install the package\n",
    "we need to take the help of google\n",
    "1) search in google cv2  not found \n",
    "2) search for python orgnization pypi.org and copy pip code from there\n",
    "\n",
    "pip install opencv-python\n",
    "\n",
    "where to install this ===== use anaconda command prompt"
   ]
  },
  {
   "cell_type": "code",
   "execution_count": 42,
   "id": "782d1356-d7a0-443d-bf08-f4559a8448e9",
   "metadata": {},
   "outputs": [],
   "source": [
    "import cv2"
   ]
  },
  {
   "cell_type": "code",
   "execution_count": 44,
   "id": "9b4e60c0-abf2-45f4-8b59-003c8ca4d975",
   "metadata": {},
   "outputs": [
    {
     "name": "stdout",
     "output_type": "stream",
     "text": [
      "Requirement already satisfied: opencv-python in c:\\users\\dbrok\\anaconda3\\lib\\site-packages (4.10.0.84)\n",
      "Requirement already satisfied: numpy>=1.21.2 in c:\\users\\dbrok\\anaconda3\\lib\\site-packages (from opencv-python) (1.26.4)\n"
     ]
    }
   ],
   "source": [
    "#you can also install from notebook also just follow below syntax.\n",
    "!pip install opencv-python"
   ]
  },
  {
   "cell_type": "code",
   "execution_count": null,
   "id": "4817de69-817d-4bbc-b09d-7a6b6590f2d3",
   "metadata": {},
   "outputs": [],
   "source": [
    "#if you want to run through notebook use exlametory mark !\n",
    "#if you want to run through cmd prompt then anaconda cmd prompt"
   ]
  },
  {
   "cell_type": "code",
   "execution_count": null,
   "id": "41d83a1b-7ef2-43dd-9ec6-ed97e3b3f8b7",
   "metadata": {},
   "outputs": [],
   "source": [
    "#to see how many packages are there in your pc run this ( pip freeze ) cmd in anaconda."
   ]
  },
  {
   "cell_type": "code",
   "execution_count": null,
   "id": "9cbd4733-6595-41c7-aa38-310a1ac58385",
   "metadata": {},
   "outputs": [],
   "source": []
  }
 ],
 "metadata": {
  "kernelspec": {
   "display_name": "Python 3 (ipykernel)",
   "language": "python",
   "name": "python3"
  },
  "language_info": {
   "codemirror_mode": {
    "name": "ipython",
    "version": 3
   },
   "file_extension": ".py",
   "mimetype": "text/x-python",
   "name": "python",
   "nbconvert_exporter": "python",
   "pygments_lexer": "ipython3",
   "version": "3.12.4"
  }
 },
 "nbformat": 4,
 "nbformat_minor": 5
}
