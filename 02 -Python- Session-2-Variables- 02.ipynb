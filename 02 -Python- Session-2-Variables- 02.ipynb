{
 "cells": [
  {
   "cell_type": "markdown",
   "id": "7f007ed9-ac2f-49fb-a0c8-cb712fed3828",
   "metadata": {},
   "source": [
    "# Variables"
   ]
  },
  {
   "cell_type": "markdown",
   "id": "bc801a7e-fb98-4730-b08f-083b5ce7ba1a",
   "metadata": {},
   "source": [
    "- variable term vary\n",
    "- you want to save some values at some place, tht place is called variables\n",
    "- variables and constant"
   ]
  },
  {
   "cell_type": "code",
   "execution_count": 2,
   "id": "51929d4a-b0cf-4f9f-aeba-996456e0bf7f",
   "metadata": {},
   "outputs": [
    {
     "name": "stdout",
     "output_type": "stream",
     "text": [
      "100\n"
     ]
    }
   ],
   "source": [
    "number=100 #100 values is stored in variable called number\n",
    "print(number)  #so here number is a variable"
   ]
  },
  {
   "cell_type": "code",
   "execution_count": 4,
   "id": "ecbad022-7dde-47c1-a217-595a2260bbbe",
   "metadata": {},
   "outputs": [
    {
     "name": "stdout",
     "output_type": "stream",
     "text": [
      "200\n"
     ]
    }
   ],
   "source": [
    "number=200\n",
    "print(number)"
   ]
  },
  {
   "cell_type": "code",
   "execution_count": null,
   "id": "b08b45f2-2a21-4276-bb13-b658c362f298",
   "metadata": {},
   "outputs": [],
   "source": [
    "#so here first number has 100\n",
    "# second has 200\n",
    "# number is changing its value\n",
    "# thats why we are calling number as variable"
   ]
  },
  {
   "cell_type": "markdown",
   "id": "c83266ee-25c9-41e0-88c8-9e88ba0a18c0",
   "metadata": {},
   "source": [
    "# Rules to define variables"
   ]
  },
  {
   "cell_type": "code",
   "execution_count": 7,
   "id": "959b428d-aeee-40c1-bc85-0e69406efbfa",
   "metadata": {},
   "outputs": [
    {
     "data": {
      "text/plain": [
       "300"
      ]
     },
     "execution_count": 7,
     "metadata": {},
     "output_type": "execute_result"
    }
   ],
   "source": [
    "# Upper Case\n",
    "NUMBER=300\n",
    "NUMBER"
   ]
  },
  {
   "cell_type": "code",
   "execution_count": 9,
   "id": "b878a42e-7fe5-4aef-a441-a8fec5292129",
   "metadata": {},
   "outputs": [
    {
     "data": {
      "text/plain": [
       "400"
      ]
     },
     "execution_count": 9,
     "metadata": {},
     "output_type": "execute_result"
    }
   ],
   "source": [
    "# lower Case\n",
    "number=400\n",
    "number"
   ]
  },
  {
   "cell_type": "code",
   "execution_count": 11,
   "id": "0a6853ed-ff39-47ed-9f1c-545f46e0825a",
   "metadata": {},
   "outputs": [
    {
     "data": {
      "text/plain": [
       "500"
      ]
     },
     "execution_count": 11,
     "metadata": {},
     "output_type": "execute_result"
    }
   ],
   "source": [
    "# Combination of upper case and lower case\n",
    "NUMber=500\n",
    "NUMber"
   ]
  },
  {
   "cell_type": "code",
   "execution_count": 15,
   "id": "fc727cbc-de32-4c4a-a9a6-9bba935d34f5",
   "metadata": {},
   "outputs": [
    {
     "data": {
      "text/plain": [
       "600"
      ]
     },
     "execution_count": 15,
     "metadata": {},
     "output_type": "execute_result"
    }
   ],
   "source": [
    "# combination of letters and numbers, numbers as suffix #suffix means at the end\n",
    "num123=600\n",
    "num123"
   ]
  },
  {
   "cell_type": "code",
   "execution_count": 17,
   "id": "30ab90d1-9878-437b-b964-5303bfa6d657",
   "metadata": {},
   "outputs": [
    {
     "ename": "SyntaxError",
     "evalue": "invalid decimal literal (1591467205.py, line 2)",
     "output_type": "error",
     "traceback": [
      "\u001b[1;36m  Cell \u001b[1;32mIn[17], line 2\u001b[1;36m\u001b[0m\n\u001b[1;33m    123num=700\u001b[0m\n\u001b[1;37m      ^\u001b[0m\n\u001b[1;31mSyntaxError\u001b[0m\u001b[1;31m:\u001b[0m invalid decimal literal\n"
     ]
    }
   ],
   "source": [
    "# combination of letters and numbers, numbers as prefix\n",
    "123num=700\n",
    "123num"
   ]
  },
  {
   "cell_type": "code",
   "execution_count": 19,
   "id": "831aa000-59dd-4518-82ac-f39ae2a8a54d",
   "metadata": {},
   "outputs": [
    {
     "ename": "SyntaxError",
     "evalue": "invalid syntax (2777743871.py, line 3)",
     "output_type": "error",
     "traceback": [
      "\u001b[1;36m  Cell \u001b[1;32mIn[19], line 3\u001b[1;36m\u001b[0m\n\u001b[1;33m    number%\u001b[0m\n\u001b[1;37m           ^\u001b[0m\n\u001b[1;31mSyntaxError\u001b[0m\u001b[1;31m:\u001b[0m invalid syntax\n"
     ]
    }
   ],
   "source": [
    "# special characters\n",
    "number%=800\n",
    "number%"
   ]
  },
  {
   "cell_type": "code",
   "execution_count": 21,
   "id": "c8eb2253-2864-4bcc-b69c-e5957f0edcc1",
   "metadata": {},
   "outputs": [
    {
     "data": {
      "text/plain": [
       "900"
      ]
     },
     "execution_count": 21,
     "metadata": {},
     "output_type": "execute_result"
    }
   ],
   "source": [
    "# underscore \n",
    "number_=900\n",
    "number_"
   ]
  },
  {
   "cell_type": "code",
   "execution_count": 23,
   "id": "2d1f9229-5ff6-4c26-8af1-d3119d02c189",
   "metadata": {},
   "outputs": [
    {
     "ename": "SyntaxError",
     "evalue": "invalid syntax (163203028.py, line 2)",
     "output_type": "error",
     "traceback": [
      "\u001b[1;36m  Cell \u001b[1;32mIn[23], line 2\u001b[1;36m\u001b[0m\n\u001b[1;33m    if=500\u001b[0m\n\u001b[1;37m      ^\u001b[0m\n\u001b[1;31mSyntaxError\u001b[0m\u001b[1;31m:\u001b[0m invalid syntax\n"
     ]
    }
   ],
   "source": [
    "# keywords\n",
    "if=500\n",
    "if"
   ]
  },
  {
   "cell_type": "markdown",
   "id": "9edeae49-4b46-4320-8cca-b832843fb95d",
   "metadata": {},
   "source": [
    "there are 35 keywords available we have seen the list of keywords in last lecture."
   ]
  },
  {
   "cell_type": "code",
   "execution_count": 27,
   "id": "1bc86527-8f26-474c-85f8-4570bb21dcab",
   "metadata": {},
   "outputs": [
    {
     "data": {
      "text/plain": [
       "700"
      ]
     },
     "execution_count": 27,
     "metadata": {},
     "output_type": "execute_result"
    }
   ],
   "source": [
    "sum=700\n",
    "sum"
   ]
  },
  {
   "cell_type": "markdown",
   "id": "a9802a5a-4736-4c44-9ef2-9700f092978d",
   "metadata": {},
   "source": [
    "**Note**:\n",
    "    sum is a math operation it will works\n",
    "    but do not use as variable. it will confuse python sometime."
   ]
  },
  {
   "cell_type": "code",
   "execution_count": 30,
   "id": "14302e9c-37a0-413e-8e09-ec0797dbd887",
   "metadata": {},
   "outputs": [
    {
     "ename": "SyntaxError",
     "evalue": "invalid syntax (3644189462.py, line 2)",
     "output_type": "error",
     "traceback": [
      "\u001b[1;36m  Cell \u001b[1;32mIn[30], line 2\u001b[1;36m\u001b[0m\n\u001b[1;33m    num one=100\u001b[0m\n\u001b[1;37m        ^\u001b[0m\n\u001b[1;31mSyntaxError\u001b[0m\u001b[1;31m:\u001b[0m invalid syntax\n"
     ]
    }
   ],
   "source": [
    "# spaces will not allowed\n",
    "num one=100\n",
    "num one"
   ]
  },
  {
   "cell_type": "code",
   "execution_count": 32,
   "id": "759f35e8-d2d3-4c18-b348-983cfcad956c",
   "metadata": {},
   "outputs": [
    {
     "data": {
      "text/plain": [
       "100"
      ]
     },
     "execution_count": 32,
     "metadata": {},
     "output_type": "execute_result"
    }
   ],
   "source": [
    "num_one=100\n",
    "num_one"
   ]
  },
  {
   "cell_type": "code",
   "execution_count": 34,
   "id": "fffe4427-b74a-4949-b80b-934dfe75cb12",
   "metadata": {},
   "outputs": [
    {
     "data": {
      "text/plain": [
       "200"
      ]
     },
     "execution_count": 34,
     "metadata": {},
     "output_type": "execute_result"
    }
   ],
   "source": [
    "_=200\n",
    "_"
   ]
  },
  {
   "cell_type": "markdown",
   "id": "4d8c0942-3b04-461e-a360-76c3c0f3a5e4",
   "metadata": {},
   "source": [
    "################################## Python Basics Level-1 ###################################\n",
    "1) Basic Syntax\n",
    "2) variables\n",
    "3) python packages information\n",
    "4) basic python code\n",
    "5) conditinal statements\n",
    "6) functions\n",
    "7) loop\n",
    "\n",
    "############################## Level -2 #########################################\n",
    "1) strings\n",
    "2) list\n",
    "3) dicitionary\n",
    "4) tuples ============ write up\n",
    "5) sets\n",
    "6) file handling sessions\n",
    "\n",
    "===================== 2 weeks gap ================= statistics theory\n",
    "\n",
    "EDA: python\n",
    "\n",
    "######################### level -3 ########################################\n",
    "1) OOPS concept in python\n",
    "2) how to create your own packages\n",
    "3) FLASK APPS"
   ]
  },
  {
   "cell_type": "code",
   "execution_count": null,
   "id": "65a697c7-92b6-495b-a9a0-1fcc11747a4c",
   "metadata": {},
   "outputs": [],
   "source": []
  }
 ],
 "metadata": {
  "kernelspec": {
   "display_name": "Python 3 (ipykernel)",
   "language": "python",
   "name": "python3"
  },
  "language_info": {
   "codemirror_mode": {
    "name": "ipython",
    "version": 3
   },
   "file_extension": ".py",
   "mimetype": "text/x-python",
   "name": "python",
   "nbconvert_exporter": "python",
   "pygments_lexer": "ipython3",
   "version": "3.12.4"
  }
 },
 "nbformat": 4,
 "nbformat_minor": 5
}
