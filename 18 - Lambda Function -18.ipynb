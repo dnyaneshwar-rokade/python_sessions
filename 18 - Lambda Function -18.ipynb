{
 "cells": [
  {
   "cell_type": "code",
   "execution_count": 2,
   "id": "f81d02f2-97b5-4cad-8490-9291b7b5d1eb",
   "metadata": {},
   "outputs": [],
   "source": [
    "# Create Basic Function"
   ]
  },
  {
   "cell_type": "markdown",
   "id": "9fe2be33-d525-428f-921b-ee2d667d419e",
   "metadata": {},
   "source": [
    "**One Argument**"
   ]
  },
  {
   "cell_type": "code",
   "execution_count": 30,
   "id": "df11d898-f270-4d9f-b6b7-f6ede25bbb81",
   "metadata": {},
   "outputs": [
    {
     "data": {
      "text/plain": [
       "700"
      ]
     },
     "execution_count": 30,
     "metadata": {},
     "output_type": "execute_result"
    }
   ],
   "source": [
    "def mul(a):       # a is argument\n",
    "    return(a*20)\n",
    "\n",
    "mul(35)"
   ]
  },
  {
   "cell_type": "code",
   "execution_count": 8,
   "id": "f5981b77-6edb-4222-9920-19a3d883d553",
   "metadata": {},
   "outputs": [
    {
     "data": {
      "text/plain": [
       "900"
      ]
     },
     "execution_count": 8,
     "metadata": {},
     "output_type": "execute_result"
    }
   ],
   "source": [
    "# same thing you can save in a variable and return it\n",
    "\n",
    "def mul(a):\n",
    "    mull=a*20\n",
    "    return(mull)\n",
    "\n",
    "mul(45)"
   ]
  },
  {
   "cell_type": "markdown",
   "id": "c16cf6aa-e540-4719-9630-56081f24adce",
   "metadata": {},
   "source": [
    "### This Below 2 Questions you need to ask yourself whenever you create a function \n",
    "- how many arguments are present ?  :  a\n",
    "- what you are returning ?  :  a*45"
   ]
  },
  {
   "cell_type": "code",
   "execution_count": null,
   "id": "7dd3ec5b-b2a6-4900-b15b-144fd9f61b60",
   "metadata": {},
   "outputs": [],
   "source": [
    "# format for lambda\n",
    "\n",
    "lambda <argument_name>:<output>\n"
   ]
  },
  {
   "cell_type": "code",
   "execution_count": 16,
   "id": "41a06d4e-d3fe-4398-a29d-0f913f31fd66",
   "metadata": {},
   "outputs": [
    {
     "data": {
      "text/plain": [
       "25"
      ]
     },
     "execution_count": 16,
     "metadata": {},
     "output_type": "execute_result"
    }
   ],
   "source": [
    "mull=lambda a:a*5\n",
    "mull(5)"
   ]
  },
  {
   "cell_type": "code",
   "execution_count": 18,
   "id": "6b50a312-410d-428d-831f-091f43abf960",
   "metadata": {},
   "outputs": [
    {
     "data": {
      "text/plain": [
       "225"
      ]
     },
     "execution_count": 18,
     "metadata": {},
     "output_type": "execute_result"
    }
   ],
   "source": [
    "def sqr(a):\n",
    "    return(a*a)\n",
    "\n",
    "sqr(15)"
   ]
  },
  {
   "cell_type": "code",
   "execution_count": 24,
   "id": "3180bc46-7bda-498f-8ebb-8a301b88b749",
   "metadata": {},
   "outputs": [
    {
     "data": {
      "text/plain": [
       "625"
      ]
     },
     "execution_count": 24,
     "metadata": {},
     "output_type": "execute_result"
    }
   ],
   "source": [
    "# implementing above question using lambda \n",
    "\n",
    "sqr=lambda a:a*a\n",
    "sqr(25)"
   ]
  },
  {
   "cell_type": "code",
   "execution_count": 26,
   "id": "8f8b930f-779c-4ea5-a533-09716b4f0013",
   "metadata": {},
   "outputs": [
    {
     "data": {
      "text/plain": [
       "729"
      ]
     },
     "execution_count": 26,
     "metadata": {},
     "output_type": "execute_result"
    }
   ],
   "source": [
    "def cube(c):\n",
    "    return(c*c*c)\n",
    "\n",
    "cube(9)"
   ]
  },
  {
   "cell_type": "code",
   "execution_count": 28,
   "id": "60cc99b0-9075-4fd4-97d9-aa3397214d3d",
   "metadata": {},
   "outputs": [
    {
     "data": {
      "text/plain": [
       "343"
      ]
     },
     "execution_count": 28,
     "metadata": {},
     "output_type": "execute_result"
    }
   ],
   "source": [
    "# implementing above question using lambda\n",
    "\n",
    "cube=lambda c:c*c*c\n",
    "cube(7)"
   ]
  },
  {
   "cell_type": "markdown",
   "id": "8b42c145-35fb-4664-b639-2ce67d9d8f3f",
   "metadata": {},
   "source": [
    "**Two Arguement**"
   ]
  },
  {
   "cell_type": "code",
   "execution_count": 47,
   "id": "80f6f9b4-eedc-42a7-b528-b590213028d6",
   "metadata": {},
   "outputs": [
    {
     "data": {
      "text/plain": [
       "55"
      ]
     },
     "execution_count": 47,
     "metadata": {},
     "output_type": "execute_result"
    }
   ],
   "source": [
    "def add(a,b):\n",
    "    return(a+b)\n",
    "\n",
    "add(45,10)\n",
    "\n",
    "# how many arguments are present ? : a,b\n",
    "# what are you returning ? : a+b\n",
    "\n",
    "# format : lambda <arg1>,<arg2>:<output>"
   ]
  },
  {
   "cell_type": "code",
   "execution_count": 49,
   "id": "f702b94b-2975-4595-9677-ff04f8041308",
   "metadata": {},
   "outputs": [
    {
     "data": {
      "text/plain": [
       "45"
      ]
     },
     "execution_count": 49,
     "metadata": {},
     "output_type": "execute_result"
    }
   ],
   "source": [
    "add=lambda a,b:a+b\n",
    "add(40,5)"
   ]
  },
  {
   "cell_type": "code",
   "execution_count": 63,
   "id": "e8bf01b6-41c2-41da-ad31-fdf2fd74ff1b",
   "metadata": {},
   "outputs": [
    {
     "data": {
      "text/plain": [
       "30.0"
      ]
     },
     "execution_count": 63,
     "metadata": {},
     "output_type": "execute_result"
    }
   ],
   "source": [
    "# implement average of 3 numbers using lambda\n",
    "avrg=lambda a,b,c:(a+b+c)/3\n",
    "avrg(10,20,60)"
   ]
  },
  {
   "cell_type": "code",
   "execution_count": 71,
   "id": "9a6708fa-f6d2-4c3e-b35d-2a8288217a60",
   "metadata": {},
   "outputs": [
    {
     "data": {
      "text/plain": [
       "13.33"
      ]
     },
     "execution_count": 71,
     "metadata": {},
     "output_type": "execute_result"
    }
   ],
   "source": [
    "# implement average make c as default parameter\n",
    "\n",
    "avrg1=lambda a,b,c=10:round((a+b+c)/3,2)    # we have rounded the value with only 2 digits after the point.\n",
    "avrg1(10,20)\n"
   ]
  },
  {
   "cell_type": "markdown",
   "id": "9ef2fe7e-746b-406e-9ec3-5e4b1e83561b",
   "metadata": {},
   "source": [
    "**if-else**"
   ]
  },
  {
   "cell_type": "code",
   "execution_count": 92,
   "id": "9e15df3b-e1f8-4d2e-a812-919a6e4bddd0",
   "metadata": {},
   "outputs": [
    {
     "data": {
      "text/plain": [
       "40"
      ]
     },
     "execution_count": 92,
     "metadata": {},
     "output_type": "execute_result"
    }
   ],
   "source": [
    "# create a function for finding greater number between two numbers\n",
    "\n",
    "def gnum(a,b):\n",
    "    if a>b:\n",
    "        return(a)\n",
    "    else:\n",
    "        return(b)\n",
    "gnum(40,30)"
   ]
  },
  {
   "cell_type": "code",
   "execution_count": 2,
   "id": "eaccf7a7-7051-446d-9150-c2397ad1f9da",
   "metadata": {},
   "outputs": [
    {
     "data": {
      "text/plain": [
       "12"
      ]
     },
     "execution_count": 2,
     "metadata": {},
     "output_type": "execute_result"
    }
   ],
   "source": [
    "gnumm=lambda a,b: (a if a>b else b)\n",
    "gnumm(10,12)"
   ]
  },
  {
   "cell_type": "code",
   "execution_count": null,
   "id": "3256cc64-d013-465a-842e-ae89431ac8ae",
   "metadata": {},
   "outputs": [],
   "source": [
    "gnumm=[<if_output> <if_con> else <else_op> <loop>]"
   ]
  },
  {
   "cell_type": "code",
   "execution_count": null,
   "id": "c32879f9-c410-4230-982f-b27725579fc8",
   "metadata": {},
   "outputs": [],
   "source": [
    "def greater(n1,n2):\n",
    "    if n1>n2:\n",
    "        return(n1)\n",
    "    else:\n",
    "        return(n2)\n",
    "    \n",
    "greater(100,200)\n",
    "\n",
    "# format :\n",
    "# lambda <arg1>,<arg2>: <if_output> <if_con> else <else_op>"
   ]
  },
  {
   "cell_type": "code",
   "execution_count": null,
   "id": "260fb4c6-2783-4ee4-b625-df4156941baa",
   "metadata": {},
   "outputs": [],
   "source": [
    "greater=lambda a,b: (a if a>b else b)\n",
    "greater(8,3)"
   ]
  },
  {
   "cell_type": "markdown",
   "id": "418f0e8b-42a7-47e1-8f28-6c54b8ec17b2",
   "metadata": {},
   "source": [
    "- lambda function is nothing but create a function\n",
    "\n",
    "- one argument\n",
    "\n",
    "- multiple arguments\n",
    "\n",
    "- if else conditions\n",
    "\n",
    "- if else conditions same like list compehenshion"
   ]
  },
  {
   "cell_type": "code",
   "execution_count": null,
   "id": "25bb11d7-a4d0-4c3b-aa91-04d075b62660",
   "metadata": {},
   "outputs": [],
   "source": [
    "list1=['hyd','mumbai','chennai']\n",
    "\n",
    "#output: ['Hyd','Mumbai','Chennai']\n",
    "\n",
    "# M-1: use append method\n",
    "\n",
    "list2=[]\n",
    "\n",
    "for i in list1:\n",
    "    list2.append(i.capitalize())\n",
    "    \n",
    "print(list2)\n",
    "\n",
    "# M-2: use list comprhenshion\n",
    "[i.capitalize() for i in list1]\n",
    "\n",
    "# M-3: make a lambda function"
   ]
  },
  {
   "cell_type": "code",
   "execution_count": null,
   "id": "bfc73efc-3a40-408f-a87d-9cb4916e1d0d",
   "metadata": {},
   "outputs": [],
   "source": [
    "lambda <arguments>: <output>"
   ]
  },
  {
   "cell_type": "code",
   "execution_count": null,
   "id": "0797e099-fe19-4705-841b-8d81b94a880b",
   "metadata": {},
   "outputs": [],
   "source": [
    "# whenever you use iterations \n",
    "\n",
    "# iterator: some thing can be iterbale/ you can print using for loop\n",
    "\n",
    "# list ,string, tuple, dictionary"
   ]
  },
  {
   "cell_type": "code",
   "execution_count": null,
   "id": "117d7b43",
   "metadata": {},
   "outputs": [],
   "source": [
    "lambda <arguments>: <output>,<iterator>\n",
    "\n",
    "[i.capitalize() for i in list1]"
   ]
  },
  {
   "cell_type": "code",
   "execution_count": null,
   "id": "66330628",
   "metadata": {},
   "outputs": [],
   "source": [
    "list1=['hyd','chennai','mumbai']\n",
    "lambda i:i.capitalize(),list1"
   ]
  },
  {
   "cell_type": "code",
   "execution_count": null,
   "id": "74993f0a",
   "metadata": {},
   "outputs": [],
   "source": [
    "lambda <arg>:<output>"
   ]
  },
  {
   "cell_type": "markdown",
   "id": "17dde090",
   "metadata": {},
   "source": [
    "- next thing is map input and output"
   ]
  },
  {
   "cell_type": "code",
   "execution_count": null,
   "id": "463fd2d8",
   "metadata": {},
   "outputs": [],
   "source": [
    "list1=['hyd','chennai','mumbai']\n",
    "map(lambda i:i.capitalize(),list1)"
   ]
  },
  {
   "cell_type": "markdown",
   "id": "3a832260",
   "metadata": {},
   "source": [
    "- store the output"
   ]
  },
  {
   "cell_type": "code",
   "execution_count": null,
   "id": "a4fae1f1",
   "metadata": {},
   "outputs": [],
   "source": [
    "list(map(lambda i:i.capitalize(),list1))"
   ]
  },
  {
   "cell_type": "markdown",
   "id": "fad6f02a",
   "metadata": {},
   "source": [
    "- first make a lambda function\n",
    "\n",
    "- second add your iterator\n",
    "\n",
    "- map both function and iterator\n",
    "\n",
    "- save the result in a list"
   ]
  },
  {
   "cell_type": "code",
   "execution_count": null,
   "id": "9e785213",
   "metadata": {},
   "outputs": [],
   "source": [
    "list1=['hyd','chennai','mumbai']\n",
    "lambda i:i.capitalize(),list1\n",
    "map(lambda i:i.capitalize(),list1)\n",
    "list(map(lambda i:i.capitalize(),list1))"
   ]
  },
  {
   "cell_type": "code",
   "execution_count": null,
   "id": "63570e70",
   "metadata": {},
   "outputs": [],
   "source": [
    "list1=[1,2,3,4,5]\n",
    "# [1,4,9,16,25]\n",
    "\n",
    "\n",
    "list(map(lambda i:i*i,list1))\n",
    "\n",
    "for i in map(lambda i:i*i,list1):\n",
    "    print(i)"
   ]
  },
  {
   "cell_type": "code",
   "execution_count": null,
   "id": "44a0a29d",
   "metadata": {},
   "outputs": [],
   "source": [
    "list1=[1,2,3]\n",
    "list2=[11,22,33]\n",
    "\n",
    "# [12,24,36]\n",
    "\n",
    "for i,j in zip(list1,list2):\n",
    "    print(i+j)"
   ]
  },
  {
   "cell_type": "code",
   "execution_count": null,
   "id": "53d2a1a0",
   "metadata": {},
   "outputs": [],
   "source": [
    "str(map(lambda i,j:i+j, list1,list2))"
   ]
  },
  {
   "cell_type": "code",
   "execution_count": null,
   "id": "268c9617",
   "metadata": {},
   "outputs": [],
   "source": [
    "map(lambda i,j:i+j, list1,list2)"
   ]
  },
  {
   "cell_type": "code",
   "execution_count": null,
   "id": "f330bc30",
   "metadata": {},
   "outputs": [],
   "source": [
    "str([])"
   ]
  },
  {
   "cell_type": "code",
   "execution_count": null,
   "id": "66d6b1fb",
   "metadata": {},
   "outputs": [],
   "source": [
    "i.capitalize()\n",
    "i*i\n",
    "i+j"
   ]
  },
  {
   "cell_type": "code",
   "execution_count": null,
   "id": "a3de4d04",
   "metadata": {},
   "outputs": [],
   "source": [
    "list1=['h#d','mum#bai','chennai']\n",
    "#['h#d','mum#bai']\n",
    "\n",
    "list1=['h#d','mum#bai','chennai']\n",
    "list2=[]\n",
    "for i in list1:\n",
    "    if '#' in i:\n",
    "        list2.append(i)\n",
    "print(list2)\n",
    "\n",
    "\n",
    "[i for i in list1 if '#' in i]"
   ]
  },
  {
   "cell_type": "code",
   "execution_count": null,
   "id": "e10c4a40",
   "metadata": {},
   "outputs": [],
   "source": [
    "#lambda <argument>:<condition>,<iterator>"
   ]
  },
  {
   "cell_type": "code",
   "execution_count": null,
   "id": "3db19915",
   "metadata": {},
   "outputs": [],
   "source": [
    "list1=['h#d','mum#bai','chennai']\n",
    "list(map(lambda i: '#' in i,list1))\n",
    "\n",
    "# condition mapping to list of items"
   ]
  },
  {
   "cell_type": "code",
   "execution_count": null,
   "id": "5ef53789",
   "metadata": {},
   "outputs": [],
   "source": [
    "list1=['h#d','mum#bai','chennai']\n",
    "list(filter(lambda i: '#' in i,list1))"
   ]
  },
  {
   "cell_type": "code",
   "execution_count": null,
   "id": "91f84080",
   "metadata": {},
   "outputs": [],
   "source": [
    "list1=['h#d','mum#bai','chennai']\n",
    "'#' in 'h#d'\n",
    "'#' in 'mum#bai' "
   ]
  },
  {
   "cell_type": "code",
   "execution_count": null,
   "id": "332b269d",
   "metadata": {},
   "outputs": [],
   "source": []
  }
 ],
 "metadata": {
  "kernelspec": {
   "display_name": "Python 3 (ipykernel)",
   "language": "python",
   "name": "python3"
  },
  "language_info": {
   "codemirror_mode": {
    "name": "ipython",
    "version": 3
   },
   "file_extension": ".py",
   "mimetype": "text/x-python",
   "name": "python",
   "nbconvert_exporter": "python",
   "pygments_lexer": "ipython3",
   "version": "3.12.1"
  }
 },
 "nbformat": 4,
 "nbformat_minor": 5
}
