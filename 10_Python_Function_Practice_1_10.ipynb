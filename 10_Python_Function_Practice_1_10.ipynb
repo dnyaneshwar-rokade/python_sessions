{
 "cells": [
  {
   "cell_type": "markdown",
   "metadata": {
    "id": "07k81HCbgmqf"
   },
   "source": [
    "## **With Argument and without argument function practice of earlier excercises.**\n",
    "\n"
   ]
  },
  {
   "cell_type": "code",
   "execution_count": null,
   "metadata": {
    "colab": {
     "base_uri": "https://localhost:8080/"
    },
    "id": "JKEj98MOgw8T",
    "outputId": "9f68aedb-9a3f-4d04-9d95-ecf512403952"
   },
   "outputs": [
    {
     "name": "stdout",
     "output_type": "stream",
     "text": [
      "Please Enter Your Basic Salary : 50000\n",
      "Dear User Your Gross Salary is :  60000.0\n"
     ]
    }
   ],
   "source": [
    "#without argument function\n",
    "def gross_sal():\n",
    "  try:\n",
    "    salary=eval(input(\"Please Enter Your Basic Salary : \"))\n",
    "    dear_allow=salary*40/100\n",
    "    rent=salary*20/100\n",
    "    gross_salary=salary+dear_allow-rent\n",
    "    print('Dear User Your Gross Salary is : ',gross_salary)\n",
    "  except Exception as e:\n",
    "    print(e)\n",
    "\n",
    "gross_sal()"
   ]
  },
  {
   "cell_type": "code",
   "execution_count": null,
   "metadata": {
    "colab": {
     "base_uri": "https://localhost:8080/"
    },
    "id": "KuekJ0pehhVw",
    "outputId": "3616cb49-d93e-4bef-e08a-c51b96dba81a"
   },
   "outputs": [
    {
     "name": "stdout",
     "output_type": "stream",
     "text": [
      "Dear User Your Gross Salary is :  60000.0\n"
     ]
    }
   ],
   "source": [
    "#with argument function\n",
    "\n",
    "def gross_sal(salary):\n",
    "  try:\n",
    "    dear_allow=salary*40/100\n",
    "    rent=salary*20/100\n",
    "    gross_salary=salary+dear_allow-rent\n",
    "    print('Dear User Your Gross Salary is : ',gross_salary)\n",
    "  except Exception as e:\n",
    "    print(e)\n",
    "\n",
    "gross_sal(50000)"
   ]
  },
  {
   "cell_type": "code",
   "execution_count": null,
   "metadata": {
    "colab": {
     "base_uri": "https://localhost:8080/"
    },
    "id": "yDv0V4cOpZXZ",
    "outputId": "11e70b4c-b343-40d0-8212-2c09ffe4a2bf"
   },
   "outputs": [
    {
     "name": "stdout",
     "output_type": "stream",
     "text": [
      "Please Enter Distance Between Two Cities in Km : 24\n",
      "Distance Between two cities is : 24.00 Km \n",
      "Conversion of 24.00 Km in Meters is : 24000.00\n",
      "Conversion of 24.00 Km in Feet is : 78740.16\n",
      "Conversion of 24.00 Km in Centimeters : 2400000.00\n"
     ]
    }
   ],
   "source": [
    "#without argument function\n",
    "\n",
    "def distance():\n",
    "  try:\n",
    "    distance=eval(input('Please Enter Distance Between Two Cities in Km : '))\n",
    "    meters=distance*1000\n",
    "    feet=distance*3280.84\n",
    "    centi=distance*100000\n",
    "    print(\"Distance Between two cities is : %.2f Km \" %distance)\n",
    "    print(\"Conversion of %.2f Km in Meters is : %.2f\" %(distance,meters))\n",
    "    print(\"Conversion of %.2f Km in Feet is : %.2f\" %(distance,feet))\n",
    "    print(\"Conversion of %.2f Km in Centimeters : %.2f\" %(distance,centi))\n",
    "  except Exception as e:\n",
    "    print(e)\n",
    "\n",
    "distance()"
   ]
  },
  {
   "cell_type": "code",
   "execution_count": null,
   "metadata": {
    "colab": {
     "base_uri": "https://localhost:8080/"
    },
    "id": "BqA8UswqpaZz",
    "outputId": "f8506086-ef61-43f9-a651-a8ca15f015f4"
   },
   "outputs": [
    {
     "name": "stdout",
     "output_type": "stream",
     "text": [
      "Distance Between two cities is : 20.00 Km \n",
      "Conversion of 20.00 Km in Meters is : 20000.00\n",
      "Conversion of 20.00 Km in Feet is : 65616.80\n",
      "Conversion of 20.00 Km in Centimeters : 2000000.00\n"
     ]
    }
   ],
   "source": [
    "# with argument function\n",
    "\n",
    "def distance(distance):\n",
    "  try:\n",
    "    meters=distance*1000\n",
    "    feet=distance*3280.84\n",
    "    centi=distance*100000\n",
    "    print(\"Distance Between two cities is : %.2f Km \" %distance)\n",
    "    print(\"Conversion of %.2f Km in Meters is : %.2f\" %(distance,meters))\n",
    "    print(\"Conversion of %.2f Km in Feet is : %.2f\" %(distance,feet))\n",
    "    print(\"Conversion of %.2f Km in Centimeters : %.2f\" %(distance,centi))\n",
    "  except Exception as e:\n",
    "    print(e)\n",
    "\n",
    "distance(20)"
   ]
  },
  {
   "cell_type": "code",
   "execution_count": null,
   "metadata": {
    "colab": {
     "base_uri": "https://localhost:8080/"
    },
    "id": "zlGT9TQtpace",
    "outputId": "d36a4d52-c887-4428-bc72-8faf0e014305"
   },
   "outputs": [
    {
     "name": "stdout",
     "output_type": "stream",
     "text": [
      "enter marks of subject 1 : 50\n",
      "enter marks of subject 2 : 68\n",
      "enter marks of subject 3 : 78\n",
      "enter marks of subject 4 : 96\n",
      "enter marks of subject 5 : 81\n",
      "Your Aggregate Marks are 373.00 out of 500\n",
      "Your Percentage Marks are 74.60\n"
     ]
    }
   ],
   "source": [
    "#without argument function\n",
    "\n",
    "def agr_mrks():\n",
    "  try:\n",
    "    sub1=eval(input('enter marks of subject 1 : '))\n",
    "    sub2=eval(input('enter marks of subject 2 : '))\n",
    "    sub3=eval(input('enter marks of subject 3 : '))\n",
    "    sub4=eval(input('enter marks of subject 4 : '))\n",
    "    sub5=eval(input('enter marks of subject 5 : '))\n",
    "    if (sub1<100) and (sub2<100) and (sub3<100) and (sub4<100) and (sub5<100):\n",
    "      aggr_marks=(sub1+sub2+sub3+sub4+sub5)\n",
    "      prcnt=(aggr_marks/500)*100\n",
    "      print(\"Your Aggregate Marks are %.2f out of 500\" %aggr_marks)\n",
    "      print(\"Your Percentage Marks are %.2f\" %prcnt)\n",
    "    else:\n",
    "      print(\"Please Enter Correct Marks.. Enter Between 1 to 100 : \")\n",
    "  except Exception as e:\n",
    "    print(e)\n",
    "\n",
    "agr_mrks()"
   ]
  },
  {
   "cell_type": "code",
   "execution_count": null,
   "metadata": {
    "colab": {
     "base_uri": "https://localhost:8080/"
    },
    "id": "uTabtGFlpagj",
    "outputId": "57a81056-193b-476f-c02f-5700e923cd4d"
   },
   "outputs": [
    {
     "name": "stdout",
     "output_type": "stream",
     "text": [
      "Your Aggregate Marks are 350.00 out of 500\n",
      "Your Percentage Marks are 70.00\n"
     ]
    }
   ],
   "source": [
    "# with argument function\n",
    "\n",
    "def agr_mrks(sub1,sub2,sub3,sub4,sub5):\n",
    "  try:\n",
    "    if (sub1<100) and (sub2<100) and (sub3<100) and (sub4<100) and (sub5<100):\n",
    "      aggr_marks=(sub1+sub2+sub3+sub4+sub5)\n",
    "      prcnt=(aggr_marks/500)*100\n",
    "      print(\"Your Aggregate Marks are %.2f out of 500\" %aggr_marks)\n",
    "      print(\"Your Percentage Marks are %.2f\" %prcnt)\n",
    "    else:\n",
    "      print(\"Please Enter Correct Marks.. Enter Between 1 to 100 : \")\n",
    "  except Exception as e:\n",
    "    print(e)\n",
    "\n",
    "agr_mrks(50,60,70,80,90)"
   ]
  },
  {
   "cell_type": "code",
   "execution_count": null,
   "metadata": {
    "colab": {
     "base_uri": "https://localhost:8080/"
    },
    "id": "Q5huEajwpZji",
    "outputId": "a4bd0712-de2b-4be1-9572-94e2983d3fec"
   },
   "outputs": [
    {
     "name": "stdout",
     "output_type": "stream",
     "text": [
      "Please enter temprature of your city : 108\n",
      "Conversion of 108.00 °F Fehrenheit into Centigrade degrees is 42.22 °C\n"
     ]
    }
   ],
   "source": [
    "#without argument function\n",
    "\n",
    "def temp():\n",
    "  try:\n",
    "    fehren=eval(input(\"Please enter temprature of your city : \"))\n",
    "    conv=(fehren-32)*5/9\n",
    "    print(\"Conversion of %.2f °F Fehrenheit into Centigrade degrees is %.2f °C\" %(fehren,conv))\n",
    "  except Exception as e:\n",
    "    print(e)\n",
    "\n",
    "temp()"
   ]
  },
  {
   "cell_type": "code",
   "execution_count": null,
   "metadata": {
    "colab": {
     "base_uri": "https://localhost:8080/"
    },
    "id": "LPRQsNn5pZmM",
    "outputId": "f74d2be6-c9e7-4537-fe3e-3388415858e4"
   },
   "outputs": [
    {
     "name": "stdout",
     "output_type": "stream",
     "text": [
      "Conversion of 105.00 °F Fehrenheit into Centigrade degrees is 40.56 °C\n"
     ]
    }
   ],
   "source": [
    "# with argument function\n",
    "\n",
    "def temp(fehren):\n",
    "  try:\n",
    "    conv=(fehren-32)*5/9\n",
    "    print(\"Conversion of %.2f °F Fehrenheit into Centigrade degrees is %.2f °C\" %(fehren,conv))\n",
    "  except Exception as e:\n",
    "    print(e)\n",
    "temp(105)"
   ]
  },
  {
   "cell_type": "code",
   "execution_count": null,
   "metadata": {
    "colab": {
     "base_uri": "https://localhost:8080/"
    },
    "id": "-I4ULD0npZpe",
    "outputId": "8ab59846-eb86-46f2-dce2-b866e3a11701"
   },
   "outputs": [
    {
     "name": "stdout",
     "output_type": "stream",
     "text": [
      "enter length of rectangle : 5\n",
      "enter breadth of rectangle : 7\n",
      "enter radius of circle : 5\n",
      "Area of Rectangle is 35.00 and Perimeter of Rectangle is 24.00\n",
      "Area of Circle is 78.54 and Circumference of Circle is 31.42\n"
     ]
    }
   ],
   "source": [
    "# without argument function\n",
    "\n",
    "def area():\n",
    "  try:\n",
    "    pi=3.14159\n",
    "    len=eval(input(\"enter length of rectangle : \"))\n",
    "    bred=eval(input(\"enter breadth of rectangle : \"))\n",
    "    rad=eval(input(\"enter radius of circle : \"))\n",
    "\n",
    "    #Calculations for rectangle\n",
    "    area_rec=len*bred\n",
    "    peri=2*(len+bred)\n",
    "\n",
    "    #Calculations for circle\n",
    "    circum=2*pi*rad\n",
    "    area_cir=pi*rad*rad\n",
    "\n",
    "    #Output results\n",
    "    print(\"Area of Rectangle is %.2f and Perimeter of Rectangle is %.2f\" %(area_rec,peri))\n",
    "    print(\"Area of Circle is %.2f and Circumference of Circle is %.2f\" %(area_cir,circum))\n",
    "  except Exception as e:\n",
    "    print(e)\n",
    "\n",
    "area()"
   ]
  },
  {
   "cell_type": "code",
   "execution_count": null,
   "metadata": {
    "colab": {
     "base_uri": "https://localhost:8080/"
    },
    "id": "hg9YHF5UpZsi",
    "outputId": "849b96af-7d24-409d-b986-30d1fdc09475"
   },
   "outputs": [
    {
     "name": "stdout",
     "output_type": "stream",
     "text": [
      "Area of Rectangle is 35.00 and Perimeter of Rectangle is 24.00\n",
      "Area of Circle is 254.47 and Circumference of Circle is 56.55\n"
     ]
    }
   ],
   "source": [
    "# with argument function\n",
    "\n",
    "def area(len,bred,rad):\n",
    "  try:\n",
    "    pi=3.14159\n",
    "    #Calculations for rectangle\n",
    "    area_rec=len*bred\n",
    "    peri=2*(len+bred)\n",
    "\n",
    "    #Calculations for circle\n",
    "    circum=2*pi*rad\n",
    "    area_cir=pi*rad*rad\n",
    "\n",
    "    #Output results\n",
    "    print(\"Area of Rectangle is %.2f and Perimeter of Rectangle is %.2f\" %(area_rec,peri))\n",
    "    print(\"Area of Circle is %.2f and Circumference of Circle is %.2f\" %(area_cir,circum))\n",
    "  except Exception as e:\n",
    "    print(e)\n",
    "\n",
    "area(5,7,9)"
   ]
  },
  {
   "cell_type": "code",
   "execution_count": null,
   "metadata": {
    "colab": {
     "base_uri": "https://localhost:8080/"
    },
    "id": "4k7jEnzK11Fz",
    "outputId": "847a970f-d6ac-4d6f-ea54-897f358bb73c"
   },
   "outputs": [
    {
     "name": "stdout",
     "output_type": "stream",
     "text": [
      "Enter a number for location C : 5\n",
      "Enter a number for location D : 9\n",
      "The interchange contents of C is 9 and D is 5\n"
     ]
    }
   ],
   "source": [
    "# without argument\n",
    "\n",
    "def interchange():\n",
    "  try:\n",
    "    c=eval(input(\"Enter a number for location C : \"))\n",
    "    d=eval(input(\"Enter a number for location D : \"))\n",
    "\n",
    "    temp=c   #temp is a temporary storage used to hold the value of one of the variables.\n",
    "    c=d\n",
    "    d=temp\n",
    "    print(\"The interchange contents of C is {} and D is {}\".format(c,d))\n",
    "  except Exception as e:\n",
    "    print(e)\n",
    "\n",
    "interchange()"
   ]
  },
  {
   "cell_type": "code",
   "execution_count": null,
   "metadata": {
    "colab": {
     "base_uri": "https://localhost:8080/"
    },
    "id": "bRpJYx5W11IU",
    "outputId": "16ddef20-3129-4528-eb14-0f2d6ea94068"
   },
   "outputs": [
    {
     "name": "stdout",
     "output_type": "stream",
     "text": [
      "The interchange contents of C is 40 and D is 25\n"
     ]
    }
   ],
   "source": [
    "# with argument\n",
    "\n",
    "def interchange(c,d):\n",
    "  try:\n",
    "    temp=c   #temp is a temporary storage used to hold the value of one of the variables.\n",
    "    c=d\n",
    "    d=temp\n",
    "    print(\"The interchange contents of C is {} and D is {}\".format(c,d))\n",
    "  except Exception as e:\n",
    "    print(e)\n",
    "\n",
    "interchange(25,40)"
   ]
  },
  {
   "cell_type": "code",
   "execution_count": null,
   "metadata": {
    "colab": {
     "base_uri": "https://localhost:8080/"
    },
    "id": "2pPacHH_11LD",
    "outputId": "fe530bdb-0799-4e66-f4d8-09ba963b1386"
   },
   "outputs": [
    {
     "name": "stdout",
     "output_type": "stream",
     "text": [
      "enter a number here : 45678\n",
      "The Reversed Number is :  87654\n"
     ]
    }
   ],
   "source": [
    "# without argument\n",
    "\n",
    "def reverse():\n",
    "  try:\n",
    "    num=input(\"enter a number here : \")\n",
    "    if len(num)==5 and num.isdigit():\n",
    "      rev_num=num[::-1]\n",
    "      print(\"The Reversed Number is : \",rev_num)\n",
    "    else:\n",
    "      print(\"Cannot Reversed the number only 5 digit number is allowed : \",num)\n",
    "  except Exception as e:\n",
    "    print(e)\n",
    "\n",
    "reverse()"
   ]
  },
  {
   "cell_type": "code",
   "execution_count": null,
   "metadata": {
    "colab": {
     "base_uri": "https://localhost:8080/"
    },
    "id": "hRKWnAz611Nw",
    "outputId": "69a683ff-4702-4beb-d380-76e9e1dc522b"
   },
   "outputs": [
    {
     "name": "stdout",
     "output_type": "stream",
     "text": [
      "The Reversed Number is :  54321\n"
     ]
    }
   ],
   "source": [
    "# with argument\n",
    "\n",
    "def reverse(num):\n",
    "  try:\n",
    "    if len(num)==5 and num.isdigit():\n",
    "      rev_num=num[::-1]\n",
    "      print(\"The Reversed Number is : \",rev_num)\n",
    "    else:\n",
    "      print(\"Cannot Reversed the number only 5 digit number is allowed : \",num)\n",
    "  except Exception as e:\n",
    "    print(e)\n",
    "\n",
    "reverse('12345')"
   ]
  },
  {
   "cell_type": "code",
   "execution_count": null,
   "metadata": {
    "colab": {
     "base_uri": "https://localhost:8080/"
    },
    "id": "Zgg1WzVY1z4Q",
    "outputId": "a029119a-f5fb-43de-8f12-cd6cf5651e38"
   },
   "outputs": [
    {
     "name": "stdout",
     "output_type": "stream",
     "text": [
      "enter a 4 digit number here: 4567\n",
      "Sum of First digit 4 and last digit 7 is : 11\n"
     ]
    }
   ],
   "source": [
    "# without argument\n",
    "\n",
    "def sum_digit():\n",
    "  try:\n",
    "    num=input(\"enter a 4 digit number here: \")\n",
    "    if len(num)==4 and num.isdigit():\n",
    "      num1=int(num[0])\n",
    "      num4=int(num[-1])\n",
    "      ad=num1+num4\n",
    "      print(\"Sum of First digit {} and last digit {} is : {}\".format(num1,num4,ad))\n",
    "    else:\n",
    "      print(\"The Entered Number is not four digit number..\")\n",
    "  except Exception as e:\n",
    "    print(e)\n",
    "\n",
    "sum_digit()"
   ]
  },
  {
   "cell_type": "code",
   "execution_count": null,
   "metadata": {
    "colab": {
     "base_uri": "https://localhost:8080/"
    },
    "id": "V-AICi0B1z8E",
    "outputId": "edd466e1-2113-43fd-92dc-c60ee140b5be"
   },
   "outputs": [
    {
     "name": "stdout",
     "output_type": "stream",
     "text": [
      "Sum of First digit 1 and last digit 4 is : 5\n"
     ]
    }
   ],
   "source": [
    "# with argument\n",
    "\n",
    "def sum_digit(num):\n",
    "  try:\n",
    "    if len(num)==4 and num.isdigit():\n",
    "      num1=int(num[0])\n",
    "      num4=int(num[-1])\n",
    "      ad=num1+num4\n",
    "      print(\"Sum of First digit {} and last digit {} is : {}\".format(num1,num4,ad))\n",
    "    else:\n",
    "      print(\"The Entered Number is not four digit number..\")\n",
    "  except Exception as e:\n",
    "    print(e)\n",
    "sum_digit('1234')"
   ]
  },
  {
   "cell_type": "code",
   "execution_count": null,
   "metadata": {
    "colab": {
     "base_uri": "https://localhost:8080/"
    },
    "id": "Nm1q_SoA6teJ",
    "outputId": "8b91de17-b59a-438d-eaed-056d13ce3ce0"
   },
   "outputs": [
    {
     "name": "stdout",
     "output_type": "stream",
     "text": [
      "Total Number of illiterate men:  13600.0\n",
      "Total Number of illiterate women:  28000.0\n"
     ]
    }
   ],
   "source": [
    "# without argument\n",
    "\n",
    "def literate():\n",
    "  try:\n",
    "    tot_pop=80000\n",
    "    men_per=52\n",
    "    tot_lit_per=48\n",
    "    lit_men_per=35\n",
    "\n",
    "    tot_men=(men_per/100)*tot_pop\n",
    "    tot_wmen=tot_pop-tot_men\n",
    "\n",
    "    tot_lit_pop=(tot_lit_per/100)*tot_pop\n",
    "    lit_men=(lit_men_per/100)*tot_pop\n",
    "    lit_wmen=tot_lit_pop-lit_men\n",
    "\n",
    "    ilit_men=tot_men-lit_men\n",
    "    ilit_wmen=tot_wmen-lit_wmen\n",
    "\n",
    "    print(\"Total Number of illiterate men: \",ilit_men)\n",
    "    print(\"Total Number of illiterate women: \",ilit_wmen)\n",
    "  except Exception as e:\n",
    "    print(e)\n",
    "literate()"
   ]
  },
  {
   "cell_type": "code",
   "execution_count": null,
   "metadata": {
    "colab": {
     "base_uri": "https://localhost:8080/"
    },
    "id": "nExl3vnf7HYH",
    "outputId": "62190609-8771-44ef-fe4d-2fc7f2e95395"
   },
   "outputs": [
    {
     "name": "stdout",
     "output_type": "stream",
     "text": [
      "Total Number of illiterate men:  13600.0\n",
      "Total Number of illiterate women:  28000.0\n"
     ]
    }
   ],
   "source": [
    "# with argument\n",
    "\n",
    "def literate(tot_pop,men_per,tot_lit_per,lit_men_per):\n",
    "  try:\n",
    "    #tot_pop=80000\n",
    "    #men_per=52\n",
    "    #tot_lit_per=48\n",
    "    #lit_men_per=35\n",
    "\n",
    "    tot_men=(men_per/100)*tot_pop\n",
    "    tot_wmen=tot_pop-tot_men\n",
    "\n",
    "    tot_lit_pop=(tot_lit_per/100)*tot_pop\n",
    "    lit_men=(lit_men_per/100)*tot_pop\n",
    "    lit_wmen=tot_lit_pop-lit_men\n",
    "\n",
    "    ilit_men=tot_men-lit_men\n",
    "    ilit_wmen=tot_wmen-lit_wmen\n",
    "\n",
    "    print(\"Total Number of illiterate men: \",ilit_men)\n",
    "    print(\"Total Number of illiterate women: \",ilit_wmen)\n",
    "  except Exception as e:\n",
    "    print(e)\n",
    "\n",
    "literate(80000,52,48,35)"
   ]
  },
  {
   "cell_type": "code",
   "execution_count": null,
   "metadata": {
    "colab": {
     "base_uri": "https://localhost:8080/"
    },
    "id": "cEfaxYvf7fav",
    "outputId": "1dd58ab1-a530-4d88-dbaa-14a7aa2942d9"
   },
   "outputs": [
    {
     "name": "stdout",
     "output_type": "stream",
     "text": [
      "Please Enter A Amount to be Withdrawn : 850\n",
      "100 denomination notes: 8\n",
      "50 denomination notes: 17\n",
      "10 denomination notes: 85\n"
     ]
    }
   ],
   "source": [
    "# without argument\n",
    "\n",
    "def notes():\n",
    "  try:\n",
    "    amt=eval(input(\"Please Enter A Amount to be Withdrawn : \"))\n",
    "\n",
    "    num_100=0\n",
    "    num_50=0\n",
    "    num_10=0\n",
    "\n",
    "    if amt>=100:\n",
    "      num_100=amt//100\n",
    "      #amt=amt%100\n",
    "\n",
    "    if amt>=50:\n",
    "      num_50=amt//50\n",
    "      #amt=amt%50\n",
    "\n",
    "    if amt>=10:\n",
    "      num_10=amt//10\n",
    "      #amt=amt%10\n",
    "\n",
    "    print(f\"100 denomination notes: {num_100}\")\n",
    "    print(f\"50 denomination notes: {num_50}\")\n",
    "    print(f\"10 denomination notes: {num_10}\")\n",
    "  except Exception as e:\n",
    "    print(e)\n",
    "\n",
    "notes()"
   ]
  },
  {
   "cell_type": "code",
   "execution_count": null,
   "metadata": {
    "colab": {
     "base_uri": "https://localhost:8080/"
    },
    "id": "PCFBWvMH7hnn",
    "outputId": "092579e7-7e86-4731-98df-799cc8b2e019"
   },
   "outputs": [
    {
     "name": "stdout",
     "output_type": "stream",
     "text": [
      "100 denomination notes: 8\n",
      "50 denomination notes: 17\n",
      "10 denomination notes: 87\n"
     ]
    }
   ],
   "source": [
    "# with argument\n",
    "\n",
    "def notes(amt):\n",
    "  try:\n",
    "    num_100=0\n",
    "    num_50=0\n",
    "    num_10=0\n",
    "\n",
    "    if amt>=100:\n",
    "      num_100=amt//100\n",
    "      #amt=amt%100\n",
    "\n",
    "    if amt>=50:\n",
    "      num_50=amt//50\n",
    "      #amt=amt%50\n",
    "\n",
    "    if amt>=10:\n",
    "      num_10=amt//10\n",
    "      #amt=amt%10\n",
    "\n",
    "    print(f\"100 denomination notes: {num_100}\")\n",
    "    print(f\"50 denomination notes: {num_50}\")\n",
    "    print(f\"10 denomination notes: {num_10}\")\n",
    "  except Exception as e:\n",
    "    print(e)\n",
    "\n",
    "notes(870)"
   ]
  },
  {
   "cell_type": "code",
   "execution_count": null,
   "metadata": {
    "id": "bKxXKLD37hsC"
   },
   "outputs": [],
   "source": []
  },
  {
   "cell_type": "markdown",
   "metadata": {
    "id": "eFCGq49kZcGO"
   },
   "source": [
    "# **Home Work : Practice all the basic questions using function with argument and without argument and with default parameter.**"
   ]
  },
  {
   "cell_type": "code",
   "execution_count": null,
   "metadata": {
    "colab": {
     "base_uri": "https://localhost:8080/"
    },
    "id": "gpduzDm57hyI",
    "outputId": "3f7a33c6-de42-4eff-8881-004f3f22effe"
   },
   "outputs": [
    {
     "name": "stdout",
     "output_type": "stream",
     "text": [
      "the addition of 10 and 20 is 30\n"
     ]
    }
   ],
   "source": [
    "#01\n",
    "\n",
    "def addition():   #without argument\n",
    "    n1=10\n",
    "    n2=20\n",
    "    add=n1+n2\n",
    "    print('the addition of {} and {} is {}'.format(n1,n2,add))\n",
    "addition()"
   ]
  },
  {
   "cell_type": "code",
   "execution_count": null,
   "metadata": {
    "colab": {
     "base_uri": "https://localhost:8080/"
    },
    "id": "IUMhyzNZZqp9",
    "outputId": "2fbe7056-30b7-4f47-e17e-00b240888b07"
   },
   "outputs": [
    {
     "name": "stdout",
     "output_type": "stream",
     "text": [
      "the addition of 10 and 20 is 30\n"
     ]
    }
   ],
   "source": [
    "#01\n",
    "\n",
    "def addition(n1,n2):   #with argument\n",
    "    #n1=10\n",
    "    #n2=20\n",
    "    add=n1+n2\n",
    "    print('the addition of {} and {} is {}'.format(n1,n2,add))\n",
    "addition(10,20)"
   ]
  },
  {
   "cell_type": "code",
   "execution_count": null,
   "metadata": {
    "colab": {
     "base_uri": "https://localhost:8080/"
    },
    "id": "p_NOX8jaZqsp",
    "outputId": "8a878c18-16b3-4af1-fdf3-25fcea5afc81"
   },
   "outputs": [
    {
     "name": "stdout",
     "output_type": "stream",
     "text": [
      "the addition of 10 and 30 is 40\n"
     ]
    }
   ],
   "source": [
    "#01\n",
    "\n",
    "def addition(n1,n2=30):  #default parameter\n",
    "    #n1=10\n",
    "    #n2=20\n",
    "    add=n1+n2\n",
    "    print('the addition of {} and {} is {}'.format(n1,n2,add))\n",
    "addition(10)"
   ]
  },
  {
   "cell_type": "code",
   "execution_count": null,
   "metadata": {
    "colab": {
     "base_uri": "https://localhost:8080/"
    },
    "id": "Kvfy-7ECZqvh",
    "outputId": "ffba12c3-4c53-4493-bdfb-836142d7c7b8"
   },
   "outputs": [
    {
     "name": "stdout",
     "output_type": "stream",
     "text": [
      "enter a num : 10\n",
      "enter a num : 40\n",
      "enter a num : 10\n",
      "average of 10,40 and 10 is 20.0\n"
     ]
    }
   ],
   "source": [
    "#02\n",
    "\n",
    "def avg():      #without argument\n",
    "    try:\n",
    "        n1=eval(input('enter a num : '))\n",
    "        n2=eval(input('enter a num : '))\n",
    "        n3=eval(input('enter a num : '))\n",
    "        avrg=(n1+n2+n3)/3\n",
    "        print('average of {},{} and {} is {}'.format(n1,n2,n3,avrg))\n",
    "    except Exception as e:\n",
    "        print(e)\n",
    "avg()"
   ]
  },
  {
   "cell_type": "code",
   "execution_count": null,
   "metadata": {
    "colab": {
     "base_uri": "https://localhost:8080/"
    },
    "id": "-kNH9wRyZqyA",
    "outputId": "b35f8eab-630e-4967-e8c5-ee8d9424140d"
   },
   "outputs": [
    {
     "name": "stdout",
     "output_type": "stream",
     "text": [
      "average of 10,50 and 700 is 253.33333333333334\n"
     ]
    }
   ],
   "source": [
    "#02\n",
    "\n",
    "def avg(n1,n2,n3):      #with argument\n",
    "    try:\n",
    "        avrg=(n1+n2+n3)/3\n",
    "        print('average of {},{} and {} is {}'.format(n1,n2,n3,avrg))\n",
    "    except Exception as e:\n",
    "        print(e)\n",
    "avg(10,50,700)"
   ]
  },
  {
   "cell_type": "code",
   "execution_count": null,
   "metadata": {
    "colab": {
     "base_uri": "https://localhost:8080/"
    },
    "id": "bMVOrS1YZq0k",
    "outputId": "bc5aff97-1757-48f1-d727-eb56b0d08170"
   },
   "outputs": [
    {
     "name": "stdout",
     "output_type": "stream",
     "text": [
      "average of 20,90 and 55 is 55.0\n"
     ]
    }
   ],
   "source": [
    "#02\n",
    "\n",
    "def avg(n1,n2,n3):      #with argument\n",
    "    try:\n",
    "        avrg=(n1+n2+n3)/3\n",
    "        print('average of {},{} and {} is {}'.format(n1,n2,n3,avrg))\n",
    "    except Exception as e:\n",
    "        print(e)\n",
    "n1=20\n",
    "n2=90\n",
    "n3=55\n",
    "avg(n1,n2,n3)"
   ]
  },
  {
   "cell_type": "code",
   "execution_count": null,
   "metadata": {
    "colab": {
     "base_uri": "https://localhost:8080/"
    },
    "id": "utJw4SevZq28",
    "outputId": "8cce1ad4-2e10-4cd0-ed81-7f9f761dacd7"
   },
   "outputs": [
    {
     "name": "stdout",
     "output_type": "stream",
     "text": [
      "enter a num : 22\n",
      "enter a num : 58\n",
      "enter a num : 79\n",
      "average of 22,58 and 79 is 53.0\n"
     ]
    }
   ],
   "source": [
    "#02\n",
    "\n",
    "def avg(n1,n2,n3):      #with argument\n",
    "    try:\n",
    "        avrg=(n1+n2+n3)/3\n",
    "        print('average of {},{} and {} is {}'.format(n1,n2,n3,avrg))\n",
    "    except Exception as e:\n",
    "        print(e)\n",
    "avg(eval(input('enter a num : ')),eval(input('enter a num : ')),eval(input('enter a num : ')))"
   ]
  },
  {
   "cell_type": "code",
   "execution_count": null,
   "metadata": {
    "id": "oJFj8YzEZq54"
   },
   "outputs": [],
   "source": [
    "#02\n",
    "\n",
    "def avg(n1,n2,n3):      #with argument\n",
    "    try:\n",
    "        avrg=(n1+n2+n3)/3\n",
    "        print('average of {},{} and {} is {}'.format(n1,n2,n3,avrg))\n",
    "    except Exception as e:\n",
    "        print(e)\n",
    "n1=20\n",
    "n2=90\n",
    "n3=55\n",
    "avg(n1,n2,n3)"
   ]
  },
  {
   "cell_type": "code",
   "execution_count": null,
   "metadata": {
    "colab": {
     "base_uri": "https://localhost:8080/"
    },
    "id": "33TLjNPkZq8B",
    "outputId": "6f1dcdfa-b4a5-4313-c06d-5e658d3d9a98"
   },
   "outputs": [
    {
     "name": "stdout",
     "output_type": "stream",
     "text": [
      "average of 100,0 and 10 is 36.666666666666664\n"
     ]
    }
   ],
   "source": [
    "#02\n",
    "\n",
    "def avg(n1,n2=0,n3=10):      #default parameter\n",
    "    try:\n",
    "        avrg=(n1+n2+n3)/3\n",
    "        print('average of {},{} and {} is {}'.format(n1,n2,n3,avrg))\n",
    "    except Exception as e:\n",
    "        print(e)\n",
    "\n",
    "avg(100)"
   ]
  },
  {
   "cell_type": "code",
   "execution_count": null,
   "metadata": {
    "colab": {
     "base_uri": "https://localhost:8080/"
    },
    "id": "xcWzSjvwZq-w",
    "outputId": "af6eb536-6342-4d4f-a414-27d9b6804cec"
   },
   "outputs": [
    {
     "name": "stdout",
     "output_type": "stream",
     "text": [
      "please enter your bill amount: 5000\n",
      "enter tip amount if you want to give other wise enter 0 : 150\n",
      "Your Total Bill with Tip Amount is 5150 Rs.\n"
     ]
    }
   ],
   "source": [
    "#03\n",
    "\n",
    "def bill():    #without parameter\n",
    "    try:\n",
    "        amt=eval(input('please enter your bill amount: '))\n",
    "        tip=eval(input('enter tip amount if you want to give other wise enter 0 : '))\n",
    "        tot_bill=amt+tip\n",
    "        print('Your Total Bill with Tip Amount is {} Rs.'.format(tot_bill))\n",
    "    except Exception as e:\n",
    "        print(e)\n",
    "bill()"
   ]
  },
  {
   "cell_type": "code",
   "execution_count": null,
   "metadata": {
    "colab": {
     "base_uri": "https://localhost:8080/"
    },
    "id": "4W6iGE9YZrBI",
    "outputId": "31e61dbf-b149-4352-d683-ab4758d4c069"
   },
   "outputs": [
    {
     "name": "stdout",
     "output_type": "stream",
     "text": [
      "Your Total Bill with Tip Amount is 1300 Rs.\n"
     ]
    }
   ],
   "source": [
    "#03\n",
    "\n",
    "def bill(amt,tip):    #with parameter\n",
    "    try:\n",
    "        tot_bill=amt+tip\n",
    "        print('Your Total Bill with Tip Amount is {} Rs.'.format(tot_bill))\n",
    "    except Exception as e:\n",
    "        print(e)\n",
    "bill(1250,50)"
   ]
  },
  {
   "cell_type": "code",
   "execution_count": null,
   "metadata": {
    "colab": {
     "base_uri": "https://localhost:8080/"
    },
    "id": "7lwmeuy4ZrDx",
    "outputId": "ecfc9ae7-05ef-476c-8236-4a73ec3278de"
   },
   "outputs": [
    {
     "name": "stdout",
     "output_type": "stream",
     "text": [
      "Your Total Bill with Tip Amount is 1400 Rs.\n"
     ]
    }
   ],
   "source": [
    "#03\n",
    "\n",
    "amount=1370    #remember how python compiler works === step by step\n",
    "tp=30\n",
    "def bill(amt,tip):    #with parameter\n",
    "    try:\n",
    "        tot_bill=amt+tip\n",
    "        print('Your Total Bill with Tip Amount is {} Rs.'.format(tot_bill))\n",
    "    except Exception as e:\n",
    "        print(e)\n",
    "\n",
    "bill(amount,tp)         #amount=amt  #tp=tip"
   ]
  },
  {
   "cell_type": "code",
   "execution_count": null,
   "metadata": {
    "colab": {
     "base_uri": "https://localhost:8080/"
    },
    "id": "KJvxIr9cZrGS",
    "outputId": "712e6f60-85a6-4b50-caf2-3c3564686fe2"
   },
   "outputs": [
    {
     "name": "stdout",
     "output_type": "stream",
     "text": [
      "please enter your bill amount: 1750\n",
      "enter tip amount if you want to give other wise enter 0 : 10\n",
      "Your Total Bill with Tip Amount is 1760 Rs.\n"
     ]
    }
   ],
   "source": [
    "#03\n",
    "\n",
    "def bill(amt,tip):    #with parameter\n",
    "    try:\n",
    "        tot_bill=amt+tip\n",
    "        print('Your Total Bill with Tip Amount is {} Rs.'.format(tot_bill))\n",
    "    except Exception as e:\n",
    "        print(e)\n",
    "\n",
    "bill(eval(input('please enter your bill amount: ')),eval(input('enter tip amount if you want to give other wise enter 0 : ')))"
   ]
  },
  {
   "cell_type": "code",
   "execution_count": null,
   "metadata": {
    "colab": {
     "base_uri": "https://localhost:8080/"
    },
    "id": "LCMOqLw8ZrIQ",
    "outputId": "041f290a-eb93-44b4-df21-7c884c48bb6a"
   },
   "outputs": [
    {
     "name": "stdout",
     "output_type": "stream",
     "text": [
      "Your Total Bill with Tip Amount is 2200 Rs.\n"
     ]
    }
   ],
   "source": [
    "#03\n",
    "\n",
    "def bill(amt,tip=0):    #default parameter\n",
    "    try:\n",
    "        tot_bill=amt+tip\n",
    "        print('Your Total Bill with Tip Amount is {} Rs.'.format(tot_bill))\n",
    "    except Exception as e:\n",
    "        print(e)\n",
    "bill(2200)"
   ]
  },
  {
   "cell_type": "code",
   "execution_count": null,
   "metadata": {
    "colab": {
     "base_uri": "https://localhost:8080/"
    },
    "id": "BEMmRSm4ZrK4",
    "outputId": "cf2eff11-5427-412f-ca2d-92046d97e34e"
   },
   "outputs": [
    {
     "name": "stdout",
     "output_type": "stream",
     "text": [
      "we are implementing even odd function\n",
      "take one number to perform the operation\n",
      "88 is Even Number\n"
     ]
    }
   ],
   "source": [
    "#04\n",
    "\n",
    "import random\n",
    "def even_odd():          #without argument\n",
    "  try:\n",
    "    print('we are implementing even odd function')\n",
    "    print('take one number to perform the operation')\n",
    "    num=random.randint(1,100)\n",
    "    if (num%2)==0:\n",
    "      print('{} is Even Number'.format(num))\n",
    "    else:\n",
    "      print('{} is Odd Number'.format(num))\n",
    "  except Exception as e:\n",
    "    print(e)\n",
    "\n",
    "even_odd()"
   ]
  },
  {
   "cell_type": "code",
   "execution_count": null,
   "metadata": {
    "colab": {
     "base_uri": "https://localhost:8080/"
    },
    "id": "yyutFmudZrNw",
    "outputId": "50b795c2-752f-4ed1-bef3-2e484846d7bc"
   },
   "outputs": [
    {
     "name": "stdout",
     "output_type": "stream",
     "text": [
      "we are implementing even odd function\n",
      "take one number to perform the operation\n",
      "47 is Odd Number\n"
     ]
    }
   ],
   "source": [
    "#04\n",
    "\n",
    "import random\n",
    "def even_odd(num):          #with argument\n",
    "  try:\n",
    "    print('we are implementing even odd function')\n",
    "    print('take one number to perform the operation')\n",
    "\n",
    "    if (num%2)==0:\n",
    "      print('{} is Even Number'.format(num))\n",
    "    else:\n",
    "      print('{} is Odd Number'.format(num))\n",
    "  except Exception as e:\n",
    "    print(e)\n",
    "rand=random.randint(1,100)\n",
    "even_odd(rand)"
   ]
  },
  {
   "cell_type": "code",
   "execution_count": null,
   "metadata": {
    "colab": {
     "base_uri": "https://localhost:8080/"
    },
    "id": "eJ0MkMyGZrQZ",
    "outputId": "9b646db5-21cd-42a1-dc52-fcb83f8abf9e"
   },
   "outputs": [
    {
     "name": "stdout",
     "output_type": "stream",
     "text": [
      "we are implementing even odd function\n",
      "take one number to perform the operation\n",
      "15 is Odd Number\n"
     ]
    }
   ],
   "source": [
    "#04\n",
    "\n",
    "import random\n",
    "def even_odd(num=5):          #default parameter\n",
    "  try:\n",
    "    print('we are implementing even odd function')\n",
    "    print('take one number to perform the operation')\n",
    "\n",
    "    if (num%2)==0:\n",
    "      print('{} is Even Number'.format(num))\n",
    "    else:\n",
    "      print('{} is Odd Number'.format(num))\n",
    "  except Exception as e:\n",
    "    print(e)\n",
    "rand=random.randint(1,100)\n",
    "even_odd(rand)"
   ]
  },
  {
   "cell_type": "code",
   "execution_count": null,
   "metadata": {
    "colab": {
     "base_uri": "https://localhost:8080/"
    },
    "id": "gmBEaY3bZrS4",
    "outputId": "a29f2aa0-91e6-4d17-d400-b09453b13347"
   },
   "outputs": [
    {
     "name": "stdout",
     "output_type": "stream",
     "text": [
      "mul function starts\n",
      "subtraction function starts\n",
      "anything remains\n",
      "no\n",
      "then call the function\n",
      "sub:  -10\n",
      "mul:  600\n",
      "addition:  50\n"
     ]
    }
   ],
   "source": [
    "#05\n",
    "\n",
    "def addition():     #without argument\n",
    "    n1=20\n",
    "    n2=30\n",
    "    print('addition: ',n1+n2)\n",
    "print('mul function starts')\n",
    "def mul():\n",
    "    n1=20\n",
    "    n2=30\n",
    "    print('mul: ',n1*n2)\n",
    "print('subtraction function starts')\n",
    "def sub():\n",
    "    n1=20\n",
    "    n2=30\n",
    "    print('sub: ',n1-n2)\n",
    "print('anything remains')\n",
    "print('no')\n",
    "print('then call the function')\n",
    "\n",
    "sub()\n",
    "mul()\n",
    "addition()"
   ]
  },
  {
   "cell_type": "code",
   "execution_count": null,
   "metadata": {
    "colab": {
     "base_uri": "https://localhost:8080/"
    },
    "id": "QpOGiQ6pZrVu",
    "outputId": "344fc8b9-c815-4fbf-9979-f17e84fa692e"
   },
   "outputs": [
    {
     "name": "stdout",
     "output_type": "stream",
     "text": [
      "mul function starts\n",
      "subtraction function starts\n",
      "anything remains\n",
      "no\n",
      "then call the function\n",
      "sub:  25\n",
      "mul:  150\n",
      "addition:  65\n"
     ]
    }
   ],
   "source": [
    "#05\n",
    "\n",
    "def addition(n1,n2):     #with argument\n",
    "    print('addition: ',n1+n2)\n",
    "print('mul function starts')\n",
    "\n",
    "def mul(n3,n4):\n",
    "    print('mul: ',n3*n4)\n",
    "print('subtraction function starts')\n",
    "\n",
    "def sub(n5,n6):\n",
    "    print('sub: ',n5-n6)\n",
    "print('anything remains')\n",
    "print('no')\n",
    "print('then call the function')\n",
    "\n",
    "sub(55,30)\n",
    "mul(15,10)\n",
    "addition(55,10)"
   ]
  },
  {
   "cell_type": "code",
   "execution_count": null,
   "metadata": {
    "colab": {
     "base_uri": "https://localhost:8080/"
    },
    "id": "rX9ZaVWIZrYW",
    "outputId": "8f0d9cc4-9bae-4695-8228-e7d57f9f56f9"
   },
   "outputs": [
    {
     "name": "stdout",
     "output_type": "stream",
     "text": [
      "mul function starts\n",
      "subtraction function starts\n",
      "anything remains\n",
      "no\n",
      "then call the function\n",
      "enter a num: 12\n",
      "enter a num: 14\n",
      "enter a num: 65\n",
      "enter a num: 45\n",
      "enter a num: 41\n",
      "enter a num: 55\n",
      "sub:  -14\n",
      "mul:  2925\n",
      "addition:  26\n"
     ]
    }
   ],
   "source": [
    "#05\n",
    "\n",
    "def addition(n1,n2):     #with argument\n",
    "    print('addition: ',n1+n2)\n",
    "print('mul function starts')\n",
    "\n",
    "def mul(n3,n4):\n",
    "    print('mul: ',n3*n4)\n",
    "print('subtraction function starts')\n",
    "\n",
    "def sub(n5,n6):\n",
    "    print('sub: ',n5-n6)\n",
    "print('anything remains')\n",
    "print('no')\n",
    "print('then call the function')\n",
    "\n",
    "add1=eval(input('enter a num: '))\n",
    "add2=eval(input('enter a num: '))\n",
    "\n",
    "mul1=eval(input('enter a num: '))\n",
    "mul2=eval(input('enter a num: '))\n",
    "\n",
    "sub1=eval(input('enter a num: '))\n",
    "sub2=eval(input('enter a num: '))\n",
    "\n",
    "sub(sub1,sub2)\n",
    "mul(mul1,mul2)\n",
    "addition(add1,add2)"
   ]
  },
  {
   "cell_type": "code",
   "execution_count": null,
   "metadata": {
    "colab": {
     "base_uri": "https://localhost:8080/"
    },
    "id": "C5YPA7MU7h1R",
    "outputId": "f9382428-7530-45d8-c8a5-4f204557c694"
   },
   "outputs": [
    {
     "name": "stdout",
     "output_type": "stream",
     "text": [
      "mul function starts\n",
      "subtraction function starts\n",
      "anything remains\n",
      "no\n",
      "then call the function\n",
      "sub:  15\n",
      "mul:  70\n",
      "addition:  15\n"
     ]
    }
   ],
   "source": [
    "from re import A\n",
    "#05\n",
    "\n",
    "def addition(n1,n2):     #with argument\n",
    "    print('addition: ',n1+n2)\n",
    "print('mul function starts')\n",
    "\n",
    "def mul(n3,n4):\n",
    "    print('mul: ',n3*n4)\n",
    "print('subtraction function starts')\n",
    "\n",
    "def sub(n5,n6):\n",
    "    print('sub: ',n5-n6)\n",
    "print('anything remains')\n",
    "print('no')\n",
    "print('then call the function')\n",
    "\n",
    "a1=10\n",
    "a2=5\n",
    "\n",
    "m1=7\n",
    "m2=10\n",
    "\n",
    "s1=25\n",
    "s2=10\n",
    "\n",
    "sub(s1,s2)\n",
    "mul(m1,m2)\n",
    "addition(a1,a2)\n"
   ]
  },
  {
   "cell_type": "code",
   "execution_count": null,
   "metadata": {
    "colab": {
     "base_uri": "https://localhost:8080/"
    },
    "id": "p7oKJXtWhjQo",
    "outputId": "0a1b96c0-5e36-47d3-b99a-54d55eccd9a8"
   },
   "outputs": [
    {
     "name": "stdout",
     "output_type": "stream",
     "text": [
      "mul function starts\n",
      "subtraction function starts\n",
      "anything remains\n",
      "no\n",
      "then call the function\n",
      "sub:  50\n",
      "mul:  225\n",
      "addition:  21\n"
     ]
    }
   ],
   "source": [
    "#05\n",
    "\n",
    "def addition(n1,n2=11):     #default parameter\n",
    "    print('addition: ',n1+n2)\n",
    "print('mul function starts')\n",
    "\n",
    "def mul(n3,n4=10):\n",
    "    print('mul: ',n3*n4)\n",
    "print('subtraction function starts')\n",
    "\n",
    "def sub(n5,n6=5):\n",
    "    print('sub: ',n5-n6)\n",
    "print('anything remains')\n",
    "print('no')\n",
    "print('then call the function')\n",
    "\n",
    "sub(55)\n",
    "mul(15,15)\n",
    "addition(10)"
   ]
  },
  {
   "cell_type": "code",
   "execution_count": null,
   "metadata": {
    "colab": {
     "base_uri": "https://localhost:8080/"
    },
    "id": "cLcRGXs4iKm9",
    "outputId": "aebb963c-f2bc-41e3-ff9c-9e5c9cc174a7"
   },
   "outputs": [
    {
     "name": "stdout",
     "output_type": "stream",
     "text": [
      "enter a num1: 5\n",
      "enter a num2: 10\n",
      "the addition of 5 and 10 is 15\n"
     ]
    }
   ],
   "source": [
    "#06\n",
    "\n",
    "def addition():      #without arguments\n",
    "    n1=eval(input('enter a num1: '))\n",
    "    n2=eval(input('enter a num2: '))\n",
    "    add=n1+n2\n",
    "    print('the addition of {} and {} is {}'.format(n1,n2,add))\n",
    "\n",
    "addition()"
   ]
  },
  {
   "cell_type": "code",
   "execution_count": null,
   "metadata": {
    "colab": {
     "base_uri": "https://localhost:8080/"
    },
    "id": "fNofB3H4iuYp",
    "outputId": "c1d54e3a-8d5c-4aa8-ed77-8efe91eb3ee0"
   },
   "outputs": [
    {
     "name": "stdout",
     "output_type": "stream",
     "text": [
      "the addition of 10 and 50 is 60\n"
     ]
    }
   ],
   "source": [
    "#06\n",
    "\n",
    "def addition(n1,n2):      #with arguments\n",
    "    add=n1+n2\n",
    "    print('the addition of {} and {} is {}'.format(n1,n2,add))\n",
    "\n",
    "a1=10\n",
    "a2=50\n",
    "addition(a1,a2)"
   ]
  },
  {
   "cell_type": "code",
   "execution_count": null,
   "metadata": {
    "colab": {
     "base_uri": "https://localhost:8080/"
    },
    "id": "MFZdQFChi6B4",
    "outputId": "ae181e44-89fe-45f0-f1ff-3d5e261e05e5"
   },
   "outputs": [
    {
     "name": "stdout",
     "output_type": "stream",
     "text": [
      "enter a num1:5\n",
      "enter num2:6\n",
      "the addition of 5 and 6 is 11\n"
     ]
    }
   ],
   "source": [
    "#06\n",
    "\n",
    "def addition(n1,n2):      #with arguments\n",
    "    add=n1+n2\n",
    "    print('the addition of {} and {} is {}'.format(n1,n2,add))\n",
    "\n",
    "addition(eval(input('enter a num1:')),eval(input('enter num2:')))\n"
   ]
  },
  {
   "cell_type": "code",
   "execution_count": null,
   "metadata": {
    "colab": {
     "base_uri": "https://localhost:8080/"
    },
    "id": "jWYbO9lYjJ36",
    "outputId": "00edb9a5-a484-47b5-b6a7-ce6bc9bbeb3e"
   },
   "outputs": [
    {
     "name": "stdout",
     "output_type": "stream",
     "text": [
      "the addition of 10 and 10 is 20\n"
     ]
    }
   ],
   "source": [
    "#06\n",
    "\n",
    "def addition(n1,n2=10):      #default parameter\n",
    "    add=n1+n2\n",
    "    print('the addition of {} and {} is {}'.format(n1,n2,add))\n",
    "\n",
    "\n",
    "addition(10)"
   ]
  },
  {
   "cell_type": "code",
   "execution_count": null,
   "metadata": {
    "colab": {
     "base_uri": "https://localhost:8080/"
    },
    "id": "1SG4hZnvjYd2",
    "outputId": "9df1a66a-b5af-40db-e73a-14f9bcdf59dd"
   },
   "outputs": [
    {
     "name": "stdout",
     "output_type": "stream",
     "text": [
      "average of 20,50 and 500 is 190.0\n"
     ]
    }
   ],
   "source": [
    "#07\n",
    "\n",
    "def avg():      #without arguments\n",
    "    try:\n",
    "        n1=20\n",
    "        n2=50\n",
    "        n3=500\n",
    "        avrg=(n1+n2+n3)/3\n",
    "        print('average of {},{} and {} is {}'.format(n1,n2,n3,avrg))\n",
    "    except Exception as e:\n",
    "        print(e)\n",
    "avg()"
   ]
  },
  {
   "cell_type": "code",
   "execution_count": null,
   "metadata": {
    "colab": {
     "base_uri": "https://localhost:8080/"
    },
    "id": "C4frXnVZjYbR",
    "outputId": "58ecdd08-2545-4675-9e10-c5ad5a86e269"
   },
   "outputs": [
    {
     "name": "stdout",
     "output_type": "stream",
     "text": [
      "average of 10,15 and 30 is 18.333333333333332\n"
     ]
    }
   ],
   "source": [
    "#07\n",
    "\n",
    "def avg(n1,n2,n3):      #with arguments\n",
    "    try:\n",
    "        avrg=(n1+n2+n3)/3\n",
    "        print('average of {},{} and {} is {}'.format(n1,n2,n3,avrg))\n",
    "    except Exception as e:\n",
    "        print(e)\n",
    "\n",
    "a=10\n",
    "b=15\n",
    "c=30\n",
    "avg(a,b,c)"
   ]
  },
  {
   "cell_type": "code",
   "execution_count": null,
   "metadata": {
    "colab": {
     "base_uri": "https://localhost:8080/"
    },
    "id": "C6oulveDjYYQ",
    "outputId": "d6ef5009-c0a4-442d-c6ac-58d7a8e6106b"
   },
   "outputs": [
    {
     "name": "stdout",
     "output_type": "stream",
     "text": [
      "average of 7,12 and 18 is 12.333333333333334\n"
     ]
    }
   ],
   "source": [
    "#07\n",
    "from random import randint\n",
    "def avg(n1,n2,n3):      #with arguments\n",
    "    try:\n",
    "        avrg=(n1+n2+n3)/3\n",
    "        print('average of {},{} and {} is {}'.format(n1,n2,n3,avrg))\n",
    "    except Exception as e:\n",
    "        print(e)\n",
    "\n",
    "avg(randint(1,20),randint(1,20),randint(1,30))"
   ]
  },
  {
   "cell_type": "code",
   "execution_count": null,
   "metadata": {
    "colab": {
     "base_uri": "https://localhost:8080/"
    },
    "id": "Xtcsx2BRjYVE",
    "outputId": "427ee7d0-3e0d-48d2-e0a6-c51ec6c38e83"
   },
   "outputs": [
    {
     "name": "stdout",
     "output_type": "stream",
     "text": [
      "average of 100,300 and 45 is 148.33333333333334\n"
     ]
    }
   ],
   "source": [
    "#07\n",
    "\n",
    "def avg(n1,n2=5,n3=45):      #default parameter\n",
    "    try:\n",
    "        avrg=(n1+n2+n3)/3\n",
    "        print('average of {},{} and {} is {}'.format(n1,n2,n3,avrg))\n",
    "    except Exception as e:\n",
    "        print(e)\n",
    "avg(100,300)"
   ]
  },
  {
   "cell_type": "code",
   "execution_count": null,
   "metadata": {
    "colab": {
     "base_uri": "https://localhost:8080/"
    },
    "id": "T01tFzs5kxHL",
    "outputId": "2a0e98b1-518d-4315-b4ba-49f83748071e"
   },
   "outputs": [
    {
     "name": "stdout",
     "output_type": "stream",
     "text": [
      "please enter your salary here: 75000\n",
      "enter your tax percentage here: 5\n",
      "Total Taxable Amount is : 3750.0 Rs.\n"
     ]
    }
   ],
   "source": [
    "#08\n",
    "\n",
    "def tax():      #without argument\n",
    "    try:\n",
    "        sal=eval(input('please enter your salary here: '))\n",
    "        tax_per=eval(input('enter your tax percentage here: '))\n",
    "        total_tax=(sal*tax_per)/100\n",
    "        print('Total Taxable Amount is : {} Rs.'.format(total_tax))\n",
    "    except Exception as e:\n",
    "        print(e)\n",
    "tax()"
   ]
  },
  {
   "cell_type": "code",
   "execution_count": null,
   "metadata": {
    "colab": {
     "base_uri": "https://localhost:8080/"
    },
    "id": "kR1Vh3TcjYQ0",
    "outputId": "d21df9f1-9c4f-4f2c-fd41-5f8d12d56272"
   },
   "outputs": [
    {
     "name": "stdout",
     "output_type": "stream",
     "text": [
      "Total Taxable Amount is : 5775.0 Rs.\n"
     ]
    }
   ],
   "source": [
    "#08\n",
    "\n",
    "def tax(sal,tax_per):      #with argument\n",
    "    try:\n",
    "        total_tax=(sal*tax_per)/100\n",
    "        print('Total Taxable Amount is : {} Rs.'.format(total_tax))\n",
    "    except Exception as e:\n",
    "        print(e)\n",
    "tax(77000,7.5)"
   ]
  },
  {
   "cell_type": "code",
   "execution_count": null,
   "metadata": {
    "colab": {
     "base_uri": "https://localhost:8080/"
    },
    "id": "XVmrmBi5jYMA",
    "outputId": "e0a61bb6-829e-4e27-d9f5-ebb2280d439f"
   },
   "outputs": [
    {
     "name": "stdout",
     "output_type": "stream",
     "text": [
      "Total Taxable Amount is : 6375.0 Rs.\n"
     ]
    }
   ],
   "source": [
    "#08\n",
    "\n",
    "def tax(sal,tax_per=7.5):      #default parameter\n",
    "    try:\n",
    "        total_tax=(sal*tax_per)/100\n",
    "        print('Total Taxable Amount is : {} Rs.'.format(total_tax))\n",
    "    except Exception as e:\n",
    "        print(e)\n",
    "\n",
    "tax(85000)"
   ]
  },
  {
   "cell_type": "code",
   "execution_count": 2,
   "metadata": {
    "colab": {
     "base_uri": "https://localhost:8080/"
    },
    "id": "8rHjuZJ_jYJi",
    "outputId": "c2b03dd1-542e-4dd4-c7a0-ac42a821af37"
   },
   "outputs": [
    {
     "name": "stdout",
     "output_type": "stream",
     "text": [
      "enter a num1: 5\n",
      "enter a num2: 5\n",
      "this is true case\n",
      "we are doing addtion operation\n",
      "the addition of 5 and 5 is: 10\n",
      "happy ending\n",
      "subtraction: 0\n",
      "great!\n"
     ]
    }
   ],
   "source": [
    "#09\n",
    "\n",
    "def add_mul():                 #without argument\n",
    "  try:\n",
    "    num1=eval(input('enter a num1: '))\n",
    "    num2=eval(input('enter a num2: '))\n",
    "    if num1==num2:\n",
    "        print('this is true case')\n",
    "        print('we are doing addtion operation')\n",
    "        print(\"the addition of {} and {} is: {}\".format(num1,num2,num1+num2))\n",
    "        print('happy ending')\n",
    "    else:\n",
    "        print('this is false case')\n",
    "        print('we are doing multiplication')\n",
    "        print('the multiplication of {} and {} is: {}'.format(num1,num2,num1*num2))\n",
    "    subtraction=num1-num2\n",
    "    print('subtraction:',subtraction)\n",
    "    print('great!')\n",
    "  except Exception as e:\n",
    "    print(e)\n",
    "\n",
    "add_mul()"
   ]
  },
  {
   "cell_type": "code",
   "execution_count": 3,
   "metadata": {
    "colab": {
     "base_uri": "https://localhost:8080/"
    },
    "id": "RkwnQww0jYHS",
    "outputId": "c95d62b1-4805-4055-a637-bc4eb2d23955"
   },
   "outputs": [
    {
     "name": "stdout",
     "output_type": "stream",
     "text": [
      "enter a num1: 10\n",
      "enter a num2: 15\n",
      "this is false case\n",
      "we are doing multiplication\n",
      "the multiplication of 10 and 15 is: 150\n",
      "subtraction: -5\n",
      "great!\n"
     ]
    }
   ],
   "source": [
    "#09\n",
    "\n",
    "def add_mul(num1,num2):                 #with argument\n",
    "  try:\n",
    "    if num1==num2:\n",
    "        print('this is true case')\n",
    "        print('we are doing addtion operation')\n",
    "        print(\"the addition of {} and {} is: {}\".format(num1,num2,num1+num2))\n",
    "        print('happy ending')\n",
    "    else:\n",
    "        print('this is false case')\n",
    "        print('we are doing multiplication')\n",
    "        print('the multiplication of {} and {} is: {}'.format(num1,num2,num1*num2))\n",
    "    subtraction=num1-num2\n",
    "    print('subtraction:',subtraction)\n",
    "    print('great!')\n",
    "  except Exception as e:\n",
    "    print(e)\n",
    "\n",
    "add_mul(eval(input('enter a num1: ')),eval(input('enter a num2: ')))  #keyboard pass"
   ]
  },
  {
   "cell_type": "code",
   "execution_count": 4,
   "metadata": {
    "colab": {
     "base_uri": "https://localhost:8080/"
    },
    "id": "Hg9oyS2DjYEl",
    "outputId": "8a10a8fd-f823-4cb5-ae63-f92be54364f5"
   },
   "outputs": [
    {
     "name": "stdout",
     "output_type": "stream",
     "text": [
      "this is false case\n",
      "we are doing multiplication\n",
      "the multiplication of 100 and 10 is: 1000\n",
      "subtraction: 90\n",
      "great!\n"
     ]
    }
   ],
   "source": [
    "#09\n",
    "\n",
    "def add_mul(num1,num2=10):                 #default parameter\n",
    "  try:\n",
    "    if num1==num2:\n",
    "        print('this is true case')\n",
    "        print('we are doing addtion operation')\n",
    "        print(\"the addition of {} and {} is: {}\".format(num1,num2,num1+num2))\n",
    "        print('happy ending')\n",
    "    else:\n",
    "        print('this is false case')\n",
    "        print('we are doing multiplication')\n",
    "        print('the multiplication of {} and {} is: {}'.format(num1,num2,num1*num2))\n",
    "    subtraction=num1-num2\n",
    "    print('subtraction:',subtraction)\n",
    "    print('great!')\n",
    "  except Exception as e:\n",
    "    print(e)\n",
    "\n",
    "add_mul(100)"
   ]
  },
  {
   "cell_type": "code",
   "execution_count": 6,
   "metadata": {
    "colab": {
     "base_uri": "https://localhost:8080/"
    },
    "id": "TSxV6_CNjYBw",
    "outputId": "7ccefe7b-204f-460f-a2f5-2b26ed816c70"
   },
   "outputs": [
    {
     "name": "stdout",
     "output_type": "stream",
     "text": [
      "please enter a number : 175\n",
      "Number is Odd\n"
     ]
    }
   ],
   "source": [
    "#10\n",
    "\n",
    "def even_odd():             #without argument\n",
    "  try:\n",
    "    num=eval(input('please enter a number : '))\n",
    "    if (num<=0):\n",
    "        print('Number is Zero')\n",
    "    elif (num%2==1):\n",
    "        print('Number is Odd')\n",
    "    else:\n",
    "        print('Number is Even')\n",
    "  except Exception as e:\n",
    "    print(e)\n",
    "\n",
    "even_odd()"
   ]
  },
  {
   "cell_type": "code",
   "execution_count": 7,
   "metadata": {
    "colab": {
     "base_uri": "https://localhost:8080/"
    },
    "id": "5QJmfTZYjX_M",
    "outputId": "aabd0f50-ac0a-4894-c886-f219a983d3e4"
   },
   "outputs": [
    {
     "name": "stdout",
     "output_type": "stream",
     "text": [
      "please enter a number : 47\n",
      "Number is Odd\n"
     ]
    }
   ],
   "source": [
    "#10\n",
    "\n",
    "def even_odd(num):        #with argument\n",
    "  try:\n",
    "    if (num<=0):\n",
    "        print('Number is Zero')\n",
    "    elif (num%2==1):\n",
    "        print('Number is Odd')\n",
    "    else:\n",
    "        print('Number is Even')\n",
    "  except Exception as e:\n",
    "    print(e)\n",
    "\n",
    "number=eval(input('please enter a number : '))\n",
    "even_odd(number)"
   ]
  },
  {
   "cell_type": "code",
   "execution_count": 8,
   "metadata": {
    "colab": {
     "base_uri": "https://localhost:8080/"
    },
    "id": "tU4p8kUBjX6w",
    "outputId": "5e8b0602-d7f4-4547-816d-8d6c95501dfb"
   },
   "outputs": [
    {
     "name": "stdout",
     "output_type": "stream",
     "text": [
      "Number is Zero\n"
     ]
    }
   ],
   "source": [
    "#10\n",
    "\n",
    "def even_odd(num=0):             #default parameter\n",
    "  try:\n",
    "    if (num<=0):\n",
    "        print('Number is Zero')\n",
    "    elif (num%2==1):\n",
    "        print('Number is Odd')\n",
    "    else:\n",
    "        print('Number is Even')\n",
    "  except Exception as e:\n",
    "    print(e)\n",
    "\n",
    "even_odd()"
   ]
  },
  {
   "cell_type": "code",
   "execution_count": 9,
   "metadata": {
    "colab": {
     "base_uri": "https://localhost:8080/"
    },
    "id": "WHqj_ijMjX3Z",
    "outputId": "43074327-f374-44ec-f453-c6229744ac66"
   },
   "outputs": [
    {
     "name": "stdout",
     "output_type": "stream",
     "text": [
      "you won.. number is 64\n"
     ]
    }
   ],
   "source": [
    "#11\n",
    "\n",
    "import random\n",
    "def game():                    #without parameter\n",
    "  try:\n",
    "    num=random.randint(1,200)\n",
    "    if (num>=10) and (num<=99):\n",
    "        print('you won.. number is {}'.format(num))\n",
    "    else:\n",
    "        print('you lost.. number is {}'.format(num))\n",
    "  except Exception as e:\n",
    "    print(e)\n",
    "\n",
    "game()"
   ]
  },
  {
   "cell_type": "code",
   "execution_count": 10,
   "metadata": {
    "colab": {
     "base_uri": "https://localhost:8080/"
    },
    "id": "xQSSw6JGjXv4",
    "outputId": "5c60eca7-24ce-4665-b7fd-c84b31ab9011"
   },
   "outputs": [
    {
     "name": "stdout",
     "output_type": "stream",
     "text": [
      "you lost.. number is 147\n"
     ]
    }
   ],
   "source": [
    "#11\n",
    "\n",
    "import random\n",
    "def game(num):                    #with parameter\n",
    "  try:\n",
    "    if (num>=10) and (num<=99):\n",
    "        print('you won.. number is {}'.format(num))\n",
    "    else:\n",
    "        print('you lost.. number is {}'.format(num))\n",
    "  except Exception as e:\n",
    "    print(e)\n",
    "\n",
    "game(random.randint(1,200))"
   ]
  },
  {
   "cell_type": "code",
   "execution_count": 12,
   "metadata": {
    "colab": {
     "base_uri": "https://localhost:8080/"
    },
    "id": "JPsKCLKojXhZ",
    "outputId": "4bbe3f5d-4f05-4bd6-e4f4-a1ec132f54c0"
   },
   "outputs": [
    {
     "name": "stdout",
     "output_type": "stream",
     "text": [
      "you won.. number is 15\n"
     ]
    }
   ],
   "source": [
    "#11\n",
    "\n",
    "import random\n",
    "def game(num=0):                    #default parameter\n",
    "  try:\n",
    "    if (num>=10) and (num<=99):\n",
    "        print('you won.. number is {}'.format(num))\n",
    "    else:\n",
    "        print('you lost.. number is {}'.format(num))\n",
    "  except Exception as e:\n",
    "    print(e)\n",
    "\n",
    "random=random.randint(1,200)\n",
    "game(random)"
   ]
  },
  {
   "cell_type": "code",
   "execution_count": 13,
   "metadata": {
    "colab": {
     "base_uri": "https://localhost:8080/"
    },
    "id": "lw0Y-XJHjT9C",
    "outputId": "3789f045-824c-4611-b92c-7814ed6ff037"
   },
   "outputs": [
    {
     "name": "stdout",
     "output_type": "stream",
     "text": [
      "enter a number : 5\n",
      "number is postive 5\n"
     ]
    }
   ],
   "source": [
    "#12\n",
    "\n",
    "def pos_neg():\n",
    "  try:\n",
    "    num=eval(input('enter a number : '))\n",
    "    if (num==0):\n",
    "        print('number is zero')\n",
    "    elif (num>0):\n",
    "        print('number is postive %d' %num)\n",
    "    else:\n",
    "        print('number is negative %d' %num)\n",
    "  except Exception as e:\n",
    "    print(e)\n",
    "\n",
    "pos_neg()"
   ]
  },
  {
   "cell_type": "code",
   "execution_count": 14,
   "metadata": {
    "colab": {
     "base_uri": "https://localhost:8080/"
    },
    "id": "Hrv_iAwOrIsM",
    "outputId": "ebcb58e3-d709-48b8-a4c7-0f465682517b"
   },
   "outputs": [
    {
     "name": "stdout",
     "output_type": "stream",
     "text": [
      "number is negative -55\n"
     ]
    }
   ],
   "source": [
    "#12\n",
    "\n",
    "def pos_neg(num):\n",
    "  try:\n",
    "    if (num==0):\n",
    "        print('number is zero')\n",
    "    elif (num>0):\n",
    "        print('number is postive %d' %num)\n",
    "    else:\n",
    "        print('number is negative %d' %num)\n",
    "  except Exception as e:\n",
    "    print(e)\n",
    "\n",
    "pos_neg(-55)"
   ]
  },
  {
   "cell_type": "code",
   "execution_count": 15,
   "metadata": {
    "colab": {
     "base_uri": "https://localhost:8080/"
    },
    "id": "xUF0yM4RrJbb",
    "outputId": "81819fa3-7ff8-417d-a337-cf574e0a85b4"
   },
   "outputs": [
    {
     "name": "stdout",
     "output_type": "stream",
     "text": [
      "number is zero\n"
     ]
    }
   ],
   "source": [
    "#12\n",
    "\n",
    "def pos_neg(num=0):\n",
    "  try:\n",
    "    if (num==0):\n",
    "        print('number is zero')\n",
    "    elif (num>0):\n",
    "        print('number is postive %d' %num)\n",
    "    else:\n",
    "        print('number is negative %d' %num)\n",
    "  except Exception as e:\n",
    "    print(e)\n",
    "\n",
    "pos_neg()"
   ]
  },
  {
   "cell_type": "code",
   "execution_count": 16,
   "metadata": {
    "colab": {
     "base_uri": "https://localhost:8080/"
    },
    "id": "gy_9Osbir7fr",
    "outputId": "50784f9a-104c-4ceb-c743-d2b05e193c47"
   },
   "outputs": [
    {
     "name": "stdout",
     "output_type": "stream",
     "text": [
      "enter your percentage marks here: 85\n",
      "B grade\n"
     ]
    }
   ],
   "source": [
    "#13\n",
    "\n",
    "def grade():\n",
    "  try:\n",
    "    per=eval(input('enter your percentage marks here: '))\n",
    "    if (per>=90):\n",
    "        print('A grade')\n",
    "    elif (70<=per<90):\n",
    "        print('B grade')\n",
    "    elif (50<=per<70):\n",
    "        print('C grade')\n",
    "    else:\n",
    "        print('D grade')\n",
    "  except Exception as e:\n",
    "    print(e)\n",
    "\n",
    "grade()"
   ]
  },
  {
   "cell_type": "code",
   "execution_count": 17,
   "metadata": {
    "colab": {
     "base_uri": "https://localhost:8080/"
    },
    "id": "wdwJ6gTDrJtT",
    "outputId": "2b3c9a05-6bb6-4fdf-827d-5919d09683fe"
   },
   "outputs": [
    {
     "name": "stdout",
     "output_type": "stream",
     "text": [
      "A grade\n"
     ]
    }
   ],
   "source": [
    "#13\n",
    "\n",
    "def grade(per):\n",
    "  try:\n",
    "    if (per>=90):\n",
    "        print('A grade')\n",
    "    elif (70<=per<90):\n",
    "        print('B grade')\n",
    "    elif (50<=per<70):\n",
    "        print('C grade')\n",
    "    else:\n",
    "        print('D grade')\n",
    "  except Exception as e:\n",
    "    print(e)\n",
    "percentage=91\n",
    "grade(percentage)"
   ]
  },
  {
   "cell_type": "code",
   "execution_count": 18,
   "metadata": {
    "colab": {
     "base_uri": "https://localhost:8080/"
    },
    "id": "_z9K9TG6rJ4j",
    "outputId": "fe760066-d305-4355-b69e-9032557bd8a1"
   },
   "outputs": [
    {
     "name": "stdout",
     "output_type": "stream",
     "text": [
      "D grade\n"
     ]
    }
   ],
   "source": [
    "#13\n",
    "\n",
    "def grade(per=40):\n",
    "  try:\n",
    "    if (per>=90):\n",
    "        print('A grade')\n",
    "    elif (70<=per<90):\n",
    "        print('B grade')\n",
    "    elif (50<=per<70):\n",
    "        print('C grade')\n",
    "    else:\n",
    "        print('D grade')\n",
    "  except Exception as e:\n",
    "    print(e)\n",
    "\n",
    "grade()"
   ]
  },
  {
   "cell_type": "code",
   "execution_count": 19,
   "metadata": {
    "colab": {
     "base_uri": "https://localhost:8080/"
    },
    "id": "BjyaAlvRrKCL",
    "outputId": "d46c8189-5725-45e9-bb20-97563a38ff35"
   },
   "outputs": [
    {
     "name": "stdout",
     "output_type": "stream",
     "text": [
      "please enter your age : 85\n",
      "senior citizen\n"
     ]
    }
   ],
   "source": [
    "#14\n",
    "\n",
    "def age():\n",
    "  try:\n",
    "    age=eval(input('please enter your age : '))\n",
    "    if (age>300):\n",
    "        print('God')\n",
    "    elif (age>150):\n",
    "        print('Not Possible')\n",
    "    elif (age>100):\n",
    "        print('Bapre')\n",
    "    elif (age>=60):                                 #this is good aprroch to minimize your code length cause when cond. is true then code stops.\n",
    "        print('senior citizen')                   # so no need to add extra code to satisfy condtion\n",
    "    elif (age>=45):\n",
    "        print('middle aged person')\n",
    "    elif (age>=30):\n",
    "        print('aged person')\n",
    "    elif (age>=20):\n",
    "        print('young person')\n",
    "    elif (age>=13):\n",
    "        print('teenager')\n",
    "    else:\n",
    "        print('child')\n",
    "  except Exception as e:\n",
    "    print(e)\n",
    "\n",
    "age()"
   ]
  },
  {
   "cell_type": "code",
   "execution_count": 20,
   "metadata": {
    "colab": {
     "base_uri": "https://localhost:8080/"
    },
    "id": "IzS3pu71rKLr",
    "outputId": "5700b068-760e-496f-d8b3-6fcf3bb98c10"
   },
   "outputs": [
    {
     "name": "stdout",
     "output_type": "stream",
     "text": [
      "Not Possible\n"
     ]
    }
   ],
   "source": [
    "#14\n",
    "\n",
    "def age(age):\n",
    "  try:\n",
    "    if (age>300):\n",
    "        print('God')\n",
    "    elif (age>150):\n",
    "        print('Not Possible')\n",
    "    elif (age>100):\n",
    "        print('Bapre')\n",
    "    elif (age>=60):                                 #this is good aprroch to minimize your code length cause when cond. is true then code stops.\n",
    "        print('senior citizen')                   # so no need to add extra code to satisfy condtion\n",
    "    elif (age>=45):\n",
    "        print('middle aged person')\n",
    "    elif (age>=30):\n",
    "        print('aged person')\n",
    "    elif (age>=20):\n",
    "        print('young person')\n",
    "    elif (age>=13):\n",
    "        print('teenager')\n",
    "    else:\n",
    "        print('child')\n",
    "  except Exception as e:\n",
    "    print(e)\n",
    "\n",
    "age(155)"
   ]
  },
  {
   "cell_type": "code",
   "execution_count": 21,
   "metadata": {
    "colab": {
     "base_uri": "https://localhost:8080/"
    },
    "id": "UVnKjLN8rKTz",
    "outputId": "701f7af8-17a1-462d-91fd-ed3c8e9c381e"
   },
   "outputs": [
    {
     "name": "stdout",
     "output_type": "stream",
     "text": [
      "God\n"
     ]
    }
   ],
   "source": [
    "#14\n",
    "\n",
    "def age(age=450):\n",
    "  try:\n",
    "    if (age>300):\n",
    "        print('God')\n",
    "    elif (age>150):\n",
    "        print('Not Possible')\n",
    "    elif (age>100):\n",
    "        print('Bapre')\n",
    "    elif (age>=60):                                 #this is good aprroch to minimize your code length cause when cond. is true then code stops.\n",
    "        print('senior citizen')                   # so no need to add extra code to satisfy condtion\n",
    "    elif (age>=45):\n",
    "        print('middle aged person')\n",
    "    elif (age>=30):\n",
    "        print('aged person')\n",
    "    elif (age>=20):\n",
    "        print('young person')\n",
    "    elif (age>=13):\n",
    "        print('teenager')\n",
    "    else:\n",
    "        print('child')\n",
    "  except Exception as e:\n",
    "    print(e)\n",
    "\n",
    "age()"
   ]
  },
  {
   "cell_type": "code",
   "execution_count": 22,
   "metadata": {
    "colab": {
     "base_uri": "https://localhost:8080/"
    },
    "id": "CQafX8JprKbL",
    "outputId": "75a73004-8e35-487d-b11d-1ef8ad54faa4"
   },
   "outputs": [
    {
     "name": "stdout",
     "output_type": "stream",
     "text": [
      "Enter distance in km: 52\n",
      "charge is 100rs\n"
     ]
    }
   ],
   "source": [
    "#15\n",
    "\n",
    "def distance():\n",
    "  try:\n",
    "      dist=eval(input(\"Enter distance in km: \"))\n",
    "      if dist>=10:\n",
    "          print(\"charge is 100rs\")     # 11>=10 True   #as we know that python code will stop after the condition gets true. so use this kind of methods.\n",
    "      elif dist>=7:\n",
    "          print(\"charge is 70rs\")\n",
    "      elif dist>=4:\n",
    "          print(\"charge is 40rs\")\n",
    "      else:\n",
    "          print(\"charge is 30rs\")\n",
    "  except Exception as e:\n",
    "      print(e)\n",
    "\n",
    "distance()"
   ]
  },
  {
   "cell_type": "code",
   "execution_count": 23,
   "metadata": {
    "colab": {
     "base_uri": "https://localhost:8080/"
    },
    "id": "1MEfB8cyrKiK",
    "outputId": "482c4a2e-37b9-4d02-b7e1-e8dd0e989fc7"
   },
   "outputs": [
    {
     "name": "stdout",
     "output_type": "stream",
     "text": [
      "Enter distance in km: 12\n",
      "charge is 100rs\n"
     ]
    }
   ],
   "source": [
    "#15\n",
    "\n",
    "def distance(dist):\n",
    "  try:\n",
    "      if dist>=10:\n",
    "          print(\"charge is 100rs\")     # 11>=10 True   #as we know that python code will stop after the condition gets true. so use this kind of methods.\n",
    "      elif dist>=7:\n",
    "          print(\"charge is 70rs\")\n",
    "      elif dist>=4:\n",
    "          print(\"charge is 40rs\")\n",
    "      else:\n",
    "          print(\"charge is 30rs\")\n",
    "  except Exception as e:\n",
    "      print(e)\n",
    "\n",
    "km=eval(input(\"Enter distance in km: \"))\n",
    "distance(km)"
   ]
  },
  {
   "cell_type": "code",
   "execution_count": 24,
   "metadata": {
    "colab": {
     "base_uri": "https://localhost:8080/"
    },
    "id": "SHAH1DigrKol",
    "outputId": "7d771c89-e83a-4169-878b-fed4d5ca42e1"
   },
   "outputs": [
    {
     "name": "stdout",
     "output_type": "stream",
     "text": [
      "charge is 30rs\n"
     ]
    }
   ],
   "source": [
    "#15\n",
    "\n",
    "def distance(dist=2):\n",
    "  try:\n",
    "      if dist>=10:\n",
    "          print(\"charge is 100rs\")     # 11>=10 True   #as we know that python code will stop after the condition gets true. so use this kind of methods.\n",
    "      elif dist>=7:\n",
    "          print(\"charge is 70rs\")\n",
    "      elif dist>=4:\n",
    "          print(\"charge is 40rs\")\n",
    "      else:\n",
    "          print(\"charge is 30rs\")\n",
    "  except Exception as e:\n",
    "      print(e)\n",
    "\n",
    "\n",
    "distance(3)"
   ]
  },
  {
   "cell_type": "code",
   "execution_count": 26,
   "metadata": {
    "colab": {
     "base_uri": "https://localhost:8080/"
    },
    "id": "su_9joeUrKvC",
    "outputId": "cfe66b63-73ed-4aa5-81d8-77692952251d"
   },
   "outputs": [
    {
     "name": "stdout",
     "output_type": "stream",
     "text": [
      "Enter Your Annual Salary Amount: 7500000\n",
      "Enter Tax Percentage Here: 15\n",
      "Your Tax Paid Amount is : 1125000.0\n"
     ]
    }
   ],
   "source": [
    "#16\n",
    "\n",
    "def tax():\n",
    "  try:\n",
    "    sal=eval(input(\"Enter Your Annual Salary Amount: \"))\n",
    "    if sal>=1000000:\n",
    "        tax=eval(input(\"Enter Tax Percentage Here: \"))\n",
    "        print(\"Your Tax Paid Amount is : {}\".format((sal*tax)/100))  #tax percentage is for above 10lacks is 15%\n",
    "    elif sal>=700000:\n",
    "        tax=eval(input(\"Enter Tax Percentage Here: \"))\n",
    "        print(\"Your Tax Paid Amount is : {}\".format((sal*tax)/100))  #tax percentage is for above 7lacks is 10%\n",
    "    elif sal>=400000:\n",
    "        tax=eval(input(\"Enter Tax Percentage Here: \"))\n",
    "        print(\"Your Tax Paid Amount is : {}\".format((sal*tax)/100))  #tax percentage is for above 4lacks is 5%\n",
    "    else:\n",
    "        print(\"No Tax is Required\")\n",
    "  except Exception as e:\n",
    "    print(e)\n",
    "\n",
    "tax()"
   ]
  },
  {
   "cell_type": "code",
   "execution_count": 30,
   "metadata": {
    "colab": {
     "base_uri": "https://localhost:8080/"
    },
    "id": "PDGx057dtjGL",
    "outputId": "0c9031b6-99dc-415d-bd7b-07fe49693f90"
   },
   "outputs": [
    {
     "name": "stdout",
     "output_type": "stream",
     "text": [
      "Your Tax Paid Amount is : 22500.0\n"
     ]
    }
   ],
   "source": [
    "#16\n",
    "\n",
    "def tax(sal,tax):      #with parameter\n",
    "  try:\n",
    "    if sal>=1000000:\n",
    "        print(\"Your Tax Paid Amount is : {}\".format((sal*tax)/100))  #tax percentage is for above 10lacks is 15%\n",
    "    elif sal>=700000:\n",
    "        print(\"Your Tax Paid Amount is : {}\".format((sal*tax)/100))  #tax percentage is for above 7lacks is 10%\n",
    "    elif sal>=400000:\n",
    "        print(\"Your Tax Paid Amount is : {}\".format((sal*tax)/100))  #tax percentage is for above 4lacks is 5%\n",
    "    else:\n",
    "        print(\"No Tax is Required\")\n",
    "  except Exception as e:\n",
    "    print(e)\n",
    "\n",
    "min_sal=450000\n",
    "taxed=5\n",
    "tax(min_sal,taxed)"
   ]
  },
  {
   "cell_type": "code",
   "execution_count": 34,
   "metadata": {
    "colab": {
     "base_uri": "https://localhost:8080/"
    },
    "id": "BYtlNq4RrK0S",
    "outputId": "56862c5a-1251-4985-bb2f-e0b28ca3bbb7"
   },
   "outputs": [
    {
     "name": "stdout",
     "output_type": "stream",
     "text": [
      "Your Tax Paid Amount is : 75000.0\n"
     ]
    }
   ],
   "source": [
    "#16\n",
    "\n",
    "def tax(sal,tax=0):     #default parameter\n",
    "  try:\n",
    "    if sal>=1000000:\n",
    "        print(\"Your Tax Paid Amount is : {}\".format((sal*tax)/100))  #tax percentage is for above 10lacks is 15%\n",
    "    elif sal>=700000:\n",
    "        print(\"Your Tax Paid Amount is : {}\".format((sal*tax)/100))  #tax percentage is for above 7lacks is 10%\n",
    "    elif sal>=400000:\n",
    "        print(\"Your Tax Paid Amount is : {}\".format((sal*tax)/100))  #tax percentage is for above 4lacks is 5%\n",
    "    else:\n",
    "        print(\"No Tax is Required\")\n",
    "  except Exception as e:\n",
    "    print(e)\n",
    "\n",
    "tax(750000,10)"
   ]
  },
  {
   "cell_type": "code",
   "execution_count": 35,
   "metadata": {
    "colab": {
     "base_uri": "https://localhost:8080/"
    },
    "id": "ngPmVxtirK5s",
    "outputId": "1bdb731c-ccad-4c02-c004-a8aa031cd70a"
   },
   "outputs": [
    {
     "name": "stdout",
     "output_type": "stream",
     "text": [
      "============================================================\n",
      "This is a Python Calculator\n",
      "============================================================\n",
      "Please Select Any One of Below Operations to Get Started..\n",
      "============================================================\n",
      "A) Addition\n",
      "B) Multiplication\n",
      "C) Subtraction\n",
      "D) Division\n",
      "Please enter the operation you need to perform (A/B/C/D): b\n",
      "Please Enter a Number1 Here: 12\n",
      "Please Enter a Number2 Here: 5\n",
      "============================================================\n",
      "we are doing multipication operation\n",
      "============================================================\n",
      "The multiplication of number1 12 and number2 5 is: 60 \n"
     ]
    }
   ],
   "source": [
    "#17\n",
    "\n",
    "def calculator():\n",
    "  try:\n",
    "    print(\"=\"*60)\n",
    "    print(\"This is a Python Calculator\")\n",
    "    print(\"=\"*60)\n",
    "    print(\"Please Select Any One of Below Operations to Get Started..\")\n",
    "    print(\"=\"*60)\n",
    "    print(\"A) Addition\")\n",
    "    print(\"B) Multiplication\")\n",
    "    print(\"C) Subtraction\")\n",
    "    print(\"D) Division\")\n",
    "\n",
    "    ops=input(\"Please enter the operation you need to perform (A/B/C/D): \")\n",
    "\n",
    "    if (ops==\"A\") or (ops==\"a\") or (ops==\"Addition\") or (ops==\"addition\"):\n",
    "        num1=eval(input(\"Please Enter a Number1 Here: \"))\n",
    "        num2=eval(input(\"Please Enter a Number2 Here: \"))\n",
    "        print(\"=\"*60)\n",
    "        print(\"we are doing addition operation\")\n",
    "        print(\"=\"*60)\n",
    "        print(\"The addition of number1 {} and number2 {} is: {}\".format(num1,num2,num1+num2))\n",
    "    elif (ops=='B') or (ops=='b') or (ops=='Multiplication') or (ops=='multiplication'):\n",
    "        num1=eval(input(\"Please Enter a Number1 Here: \"))\n",
    "        num2=eval(input(\"Please Enter a Number2 Here: \"))\n",
    "        print(\"=\"*60)\n",
    "        print(\"we are doing multipication operation\")\n",
    "        print(\"=\"*60)\n",
    "        print(\"The multiplication of number1 {} and number2 {} is: {} \".format(num1,num2,num1*num2))\n",
    "    elif (ops=='C') or (ops=='c') or (ops=='Subtraction') or (ops=='subtraction'):\n",
    "        num1=eval(input(\"Please Enter a Number1 Here: \"))\n",
    "        num2=eval(input(\"Please Enter a Number2 Here: \"))\n",
    "        print(\"=\"*60)\n",
    "        print(\"we are doing subtraction operation\")\n",
    "        print(\"=\"*60)\n",
    "        print(\"The subtraction of number1 {} and number2 {} is: {}\".format(num1,num2,num1-num2))\n",
    "    elif (ops=='D') or (ops=='d') or (ops=='Division') or (ops=='division'):\n",
    "        num1=eval(input(\"Please Enter a Number1 Here: \"))\n",
    "        num2=eval(input(\"Please Enter a Number2 Here: \"))\n",
    "        print(\"=\"*60)\n",
    "        print(\"we are doing divison operation\")\n",
    "        print(\"=\"*60)\n",
    "        print(\"The division of number1 {} and number2 {} is: {}\".format(num1,num2,num1/num2))\n",
    "    else:\n",
    "        print(\"Please Provide a Suitable Operation\")\n",
    "  except Exception as e:\n",
    "    print(e)\n",
    "\n",
    "calculator()"
   ]
  },
  {
   "cell_type": "code",
   "execution_count": 36,
   "metadata": {
    "colab": {
     "base_uri": "https://localhost:8080/"
    },
    "id": "PiIPK9ZVrK-m",
    "outputId": "31fed0b0-4695-42af-ea75-049abc7c8990"
   },
   "outputs": [
    {
     "name": "stdout",
     "output_type": "stream",
     "text": [
      "Please enter the operation you need to perform (A/B/C/D): c\n",
      "Please Enter a Number1 Here: 15\n",
      "Please Enter a Number2 Here: 30\n",
      "============================================================\n",
      "This is a Python Calculator\n",
      "============================================================\n",
      "Please Select Any One of Below Operations to Get Started..\n",
      "============================================================\n",
      "A) Addition\n",
      "B) Multiplication\n",
      "C) Subtraction\n",
      "D) Division\n",
      "============================================================\n",
      "we are doing subtraction operation\n",
      "============================================================\n",
      "The subtraction of number1 15 and number2 30 is: -15\n"
     ]
    }
   ],
   "source": [
    "#17\n",
    "\n",
    "def calculator(ops,num1,num2):\n",
    "  try:\n",
    "    print(\"=\"*60)\n",
    "    print(\"This is a Python Calculator\")\n",
    "    print(\"=\"*60)\n",
    "    print(\"Please Select Any One of Below Operations to Get Started..\")\n",
    "    print(\"=\"*60)\n",
    "    print(\"A) Addition\")\n",
    "    print(\"B) Multiplication\")\n",
    "    print(\"C) Subtraction\")\n",
    "    print(\"D) Division\")\n",
    "\n",
    "    if (ops==\"A\") or (ops==\"a\") or (ops==\"Addition\") or (ops==\"addition\"):\n",
    "        print(\"=\"*60)\n",
    "        print(\"we are doing addition operation\")\n",
    "        print(\"=\"*60)\n",
    "        print(\"The addition of number1 {} and number2 {} is: {}\".format(num1,num2,num1+num2))\n",
    "\n",
    "    elif (ops=='B') or (ops=='b') or (ops=='Multiplication') or (ops=='multiplication'):\n",
    "        print(\"=\"*60)\n",
    "        print(\"we are doing multipication operation\")\n",
    "        print(\"=\"*60)\n",
    "        print(\"The multiplication of number1 {} and number2 {} is: {} \".format(num1,num2,num1*num2))\n",
    "\n",
    "    elif (ops=='C') or (ops=='c') or (ops=='Subtraction') or (ops=='subtraction'):\n",
    "        print(\"=\"*60)\n",
    "        print(\"we are doing subtraction operation\")\n",
    "        print(\"=\"*60)\n",
    "        print(\"The subtraction of number1 {} and number2 {} is: {}\".format(num1,num2,num1-num2))\n",
    "\n",
    "    elif (ops=='D') or (ops=='d') or (ops=='Division') or (ops=='division'):\n",
    "        print(\"=\"*60)\n",
    "        print(\"we are doing divison operation\")\n",
    "        print(\"=\"*60)\n",
    "        print(\"The division of number1 {} and number2 {} is: {}\".format(num1,num2,num1/num2))\n",
    "\n",
    "    else:\n",
    "        print(\"Please Provide a Suitable Operation\")\n",
    "  except Exception as e:\n",
    "    print(e)\n",
    "\n",
    "operations=input(\"Please enter the operation you need to perform (A/B/C/D): \")\n",
    "number1=eval(input(\"Please Enter a Number1 Here: \"))\n",
    "number2=eval(input(\"Please Enter a Number2 Here: \"))\n",
    "calculator(operations,number1,number2)"
   ]
  },
  {
   "cell_type": "code",
   "execution_count": 39,
   "metadata": {
    "colab": {
     "base_uri": "https://localhost:8080/"
    },
    "id": "II7Ulw5UrLDz",
    "outputId": "3a6c7ced-c7f4-476a-8bf4-81b46340c765"
   },
   "outputs": [
    {
     "name": "stdout",
     "output_type": "stream",
     "text": [
      "Please enter the operation you need to perform (A/B/C/D): d\n",
      "Please Enter a Number1 Here: 50\n",
      "============================================================\n",
      "This is a Python Calculator\n",
      "============================================================\n",
      "Please Select Any One of Below Operations to Get Started..\n",
      "============================================================\n",
      "A) Addition\n",
      "B) Multiplication\n",
      "C) Subtraction\n",
      "D) Division\n",
      "============================================================\n",
      "we are doing divison operation\n",
      "============================================================\n",
      "The division of number1 50 and number2 1 is: 50.0\n"
     ]
    }
   ],
   "source": [
    "#17\n",
    "\n",
    "def calculator(ops,num1,num2=1):\n",
    "  try:\n",
    "    print(\"=\"*60)\n",
    "    print(\"This is a Python Calculator\")\n",
    "    print(\"=\"*60)\n",
    "    print(\"Please Select Any One of Below Operations to Get Started..\")\n",
    "    print(\"=\"*60)\n",
    "    print(\"A) Addition\")\n",
    "    print(\"B) Multiplication\")\n",
    "    print(\"C) Subtraction\")\n",
    "    print(\"D) Division\")\n",
    "\n",
    "    if (ops==\"A\") or (ops==\"a\") or (ops==\"Addition\") or (ops==\"addition\"):\n",
    "        print(\"=\"*60)\n",
    "        print(\"we are doing addition operation\")\n",
    "        print(\"=\"*60)\n",
    "        print(\"The addition of number1 {} and number2 {} is: {}\".format(num1,num2,num1+num2))\n",
    "\n",
    "    elif (ops=='B') or (ops=='b') or (ops=='Multiplication') or (ops=='multiplication'):\n",
    "        print(\"=\"*60)\n",
    "        print(\"we are doing multipication operation\")\n",
    "        print(\"=\"*60)\n",
    "        print(\"The multiplication of number1 {} and number2 {} is: {} \".format(num1,num2,num1*num2))\n",
    "\n",
    "    elif (ops=='C') or (ops=='c') or (ops=='Subtraction') or (ops=='subtraction'):\n",
    "        print(\"=\"*60)\n",
    "        print(\"we are doing subtraction operation\")\n",
    "        print(\"=\"*60)\n",
    "        print(\"The subtraction of number1 {} and number2 {} is: {}\".format(num1,num2,num1-num2))\n",
    "\n",
    "    elif (ops=='D') or (ops=='d') or (ops=='Division') or (ops=='division'):\n",
    "        print(\"=\"*60)\n",
    "        print(\"we are doing divison operation\")\n",
    "        print(\"=\"*60)\n",
    "        print(\"The division of number1 {} and number2 {} is: {}\".format(num1,num2,num1/num2))\n",
    "\n",
    "    else:\n",
    "        print(\"Please Provide a Suitable Operation\")\n",
    "  except Exception as e:\n",
    "    print(e)\n",
    "\n",
    "operations=input(\"Please enter the operation you need to perform (A/B/C/D): \")\n",
    "number1=eval(input(\"Please Enter a Number1 Here: \"))\n",
    "calculator(operations,number1)"
   ]
  },
  {
   "cell_type": "code",
   "execution_count": 40,
   "metadata": {
    "colab": {
     "base_uri": "https://localhost:8080/"
    },
    "id": "XI59DO2yrLIi",
    "outputId": "009bfe28-e27c-461a-d224-5c13e64761dd"
   },
   "outputs": [
    {
     "name": "stdout",
     "output_type": "stream",
     "text": [
      "enter a number here: 1\n",
      "it is a positive number\n"
     ]
    }
   ],
   "source": [
    "#18\n",
    "\n",
    "def pos():\n",
    "  try:\n",
    "    num=eval(input(\"enter a number here: \"))\n",
    "    if num>=0:\n",
    "        if num==0:\n",
    "            print('it is a zero number')\n",
    "        else:\n",
    "            print('it is a positive number')\n",
    "    else:\n",
    "        print('it is a negative number')\n",
    "  except Exception as e:\n",
    "      print(e)\n",
    "\n",
    "pos()"
   ]
  },
  {
   "cell_type": "code",
   "execution_count": 41,
   "metadata": {
    "colab": {
     "base_uri": "https://localhost:8080/"
    },
    "id": "tg-NhjWFrLNv",
    "outputId": "bf0e55bc-2d6e-4a1c-8eb1-edd1d6c42063"
   },
   "outputs": [
    {
     "name": "stdout",
     "output_type": "stream",
     "text": [
      "it is a negative number\n"
     ]
    }
   ],
   "source": [
    "#18\n",
    "\n",
    "def pos(num):\n",
    "  try:\n",
    "    if num>=0:\n",
    "        if num==0:\n",
    "            print('it is a zero number')\n",
    "        else:\n",
    "            print('it is a positive number')\n",
    "    else:\n",
    "        print('it is a negative number')\n",
    "  except Exception as e:\n",
    "      print(e)\n",
    "number=-5\n",
    "pos(number)"
   ]
  },
  {
   "cell_type": "code",
   "execution_count": 43,
   "metadata": {
    "colab": {
     "base_uri": "https://localhost:8080/"
    },
    "id": "uJSTiV9KrLSi",
    "outputId": "60abd3a4-517b-4b92-f455-1dfc4a9ae687"
   },
   "outputs": [
    {
     "name": "stdout",
     "output_type": "stream",
     "text": [
      "it is a zero number\n"
     ]
    }
   ],
   "source": [
    "#18\n",
    "\n",
    "def pos(num=0):\n",
    "  try:\n",
    "    if num>=0:\n",
    "        if num==0:\n",
    "            print('it is a zero number')\n",
    "        else:\n",
    "            print('it is a positive number')\n",
    "    else:\n",
    "        print('it is a negative number')\n",
    "  except Exception as e:\n",
    "      print(e)\n",
    "\n",
    "pos()"
   ]
  },
  {
   "cell_type": "code",
   "execution_count": 44,
   "metadata": {
    "colab": {
     "base_uri": "https://localhost:8080/"
    },
    "id": "N_xNRrtkrLXi",
    "outputId": "26034d2b-38a6-42cf-a2db-2f553edbe322"
   },
   "outputs": [
    {
     "name": "stdout",
     "output_type": "stream",
     "text": [
      "please enter your gender (male/female) : female\n",
      "please enter your age : 92\n",
      "senior citizen\n"
     ]
    }
   ],
   "source": [
    "#19\n",
    "\n",
    "def gender():\n",
    "  try:\n",
    "    gender=(input(\"please enter your gender (male/female) : \"))\n",
    "    if gender=='male':\n",
    "        age=eval(input(\"please enter your age : \"))\n",
    "        if age>=60:\n",
    "            print('senior citizen')\n",
    "            if age>150:\n",
    "                print('gunnis book')\n",
    "        elif age>=30:\n",
    "            print('middle aged man')\n",
    "        elif age>=20:\n",
    "            print('young boy')\n",
    "        elif age>=13:\n",
    "            print('teenage boy')\n",
    "        else:\n",
    "            print('boy')\n",
    "    elif gender=='female':\n",
    "        age=eval(input(\"please enter your age : \"))\n",
    "        if age>=60:\n",
    "            print('senior citizen')\n",
    "        elif age>=30:\n",
    "            print('middle aged women')\n",
    "        elif age>=20:\n",
    "            print('young girl')\n",
    "        elif age>=13:\n",
    "            print('teenage girl')\n",
    "        else:\n",
    "            print('girl')\n",
    "    else:\n",
    "        print('please provide proper gender')\n",
    "  except Exception as e:\n",
    "      print(e)\n",
    "\n",
    "gender()"
   ]
  },
  {
   "cell_type": "code",
   "execution_count": 49,
   "metadata": {
    "colab": {
     "base_uri": "https://localhost:8080/"
    },
    "id": "oWbUnR5grLb6",
    "outputId": "07d17a5b-4e6c-4285-c712-46ede5b1007b"
   },
   "outputs": [
    {
     "name": "stdout",
     "output_type": "stream",
     "text": [
      "middle aged man\n"
     ]
    }
   ],
   "source": [
    "#19\n",
    "\n",
    "def gender(gender,age):\n",
    "  try:\n",
    "    if gender=='male':\n",
    "        if age>=60:\n",
    "            print('senior citizen')\n",
    "            if age>150:\n",
    "                print('gunnis book')\n",
    "        elif age>=30:\n",
    "            print('middle aged man')\n",
    "        elif age>=20:\n",
    "            print('young boy')\n",
    "        elif age>=13:\n",
    "            print('teenage boy')\n",
    "        else:\n",
    "            print('boy')\n",
    "    elif gender=='female':\n",
    "        if age>=60:\n",
    "            print('senior citizen')\n",
    "        elif age>=30:\n",
    "            print('middle aged women')\n",
    "        elif age>=20:\n",
    "            print('young girl')\n",
    "        elif age>=13:\n",
    "            print('teenage girl')\n",
    "        else:\n",
    "            print('girl')\n",
    "    else:\n",
    "        print('please provide proper gender')\n",
    "  except Exception as e:\n",
    "      print(e)\n",
    "\n",
    "gender(\"male\",52)"
   ]
  },
  {
   "cell_type": "code",
   "execution_count": 50,
   "metadata": {
    "colab": {
     "base_uri": "https://localhost:8080/"
    },
    "id": "_gaMDdikrLgk",
    "outputId": "f9b01876-1e5e-4159-8ca1-d04a6c7b617e"
   },
   "outputs": [
    {
     "name": "stdout",
     "output_type": "stream",
     "text": [
      "young boy\n"
     ]
    }
   ],
   "source": [
    "#19\n",
    "\n",
    "def gender(age,gender=\"male\"):\n",
    "  try:\n",
    "    if gender=='male':\n",
    "        if age>=60:\n",
    "            print('senior citizen')\n",
    "            if age>150:\n",
    "                print('gunnis book')\n",
    "        elif age>=30:\n",
    "            print('middle aged man')\n",
    "        elif age>=20:\n",
    "            print('young boy')\n",
    "        elif age>=13:\n",
    "            print('teenage boy')\n",
    "        else:\n",
    "            print('boy')\n",
    "    elif gender=='female':\n",
    "        if age>=60:\n",
    "            print('senior citizen')\n",
    "        elif age>=30:\n",
    "            print('middle aged women')\n",
    "        elif age>=20:\n",
    "            print('young girl')\n",
    "        elif age>=13:\n",
    "            print('teenage girl')\n",
    "        else:\n",
    "            print('girl')\n",
    "    else:\n",
    "        print('please provide proper gender')\n",
    "  except Exception as e:\n",
    "      print(e)\n",
    "\n",
    "gender(25)"
   ]
  },
  {
   "cell_type": "code",
   "execution_count": 53,
   "metadata": {
    "colab": {
     "base_uri": "https://localhost:8080/"
    },
    "id": "onsiayT0rLlK",
    "outputId": "ef5a0163-a678-4167-ce39-90835ab6e9bb"
   },
   "outputs": [
    {
     "name": "stdout",
     "output_type": "stream",
     "text": [
      "enter a num1: 12\n",
      "enter a num2: 10\n",
      "enter a num3: 10\n",
      "num 1 is greater 12\n"
     ]
    }
   ],
   "source": [
    "#20\n",
    "\n",
    "def greater():\n",
    "  try:\n",
    "    try:\n",
    "      num1=int(input('enter a num1: '))\n",
    "      num2=int(input('enter a num2: '))\n",
    "      num3=int(input('enter a num3: '))\n",
    "    except:\n",
    "      print('please enter a valid input')\n",
    "\n",
    "    if num1>=num2 and num1>=num3:\n",
    "        print('num 1 is greater',num1)\n",
    "\n",
    "    elif num2>=num1 and num2>=num3:\n",
    "      print('num 2 is greater',num2)\n",
    "\n",
    "    elif num3>=num2 and num3>=num1:\n",
    "        print('num 3 is greater',num3)\n",
    "\n",
    "    else:\n",
    "        print('enter a valid number')\n",
    "  except Exception as e:\n",
    "    print(e)\n",
    "\n",
    "greater()"
   ]
  },
  {
   "cell_type": "code",
   "execution_count": 54,
   "metadata": {
    "colab": {
     "base_uri": "https://localhost:8080/"
    },
    "id": "rtRhKRP0z1MS",
    "outputId": "ddd19ee3-2d80-4bc6-ac4a-c7a14ccd1b00"
   },
   "outputs": [
    {
     "name": "stdout",
     "output_type": "stream",
     "text": [
      "please enter a valid input\n",
      "num 3 is greater 40\n"
     ]
    }
   ],
   "source": [
    "#20\n",
    "\n",
    "def greater(num1,num2,num3):\n",
    "  try:\n",
    "    print('please enter a valid input')\n",
    "\n",
    "    if num1>=num2 and num1>=num3:\n",
    "        print('num 1 is greater',num1)\n",
    "\n",
    "    elif num2>=num1 and num2>=num3:\n",
    "      print('num 2 is greater',num2)\n",
    "\n",
    "    elif num3>=num2 and num3>=num1:\n",
    "        print('num 3 is greater',num3)\n",
    "\n",
    "    else:\n",
    "        print('enter a valid number')\n",
    "  except Exception as e:\n",
    "    print(e)\n",
    "\n",
    "greater(20,30,40)"
   ]
  },
  {
   "cell_type": "code",
   "execution_count": 55,
   "metadata": {
    "colab": {
     "base_uri": "https://localhost:8080/"
    },
    "id": "5Iy9XmJXrLqU",
    "outputId": "30dc46b2-51bb-47fb-a267-e3eff2e8cd33"
   },
   "outputs": [
    {
     "name": "stdout",
     "output_type": "stream",
     "text": [
      "please enter a valid input\n",
      "num 1 is greater 10\n"
     ]
    }
   ],
   "source": [
    "#20\n",
    "\n",
    "def greater(num1,num2=0,num3=0):\n",
    "  try:\n",
    "    print('please enter a valid input')\n",
    "\n",
    "    if num1>=num2 and num1>=num3:\n",
    "        print('num 1 is greater',num1)\n",
    "\n",
    "    elif num2>=num1 and num2>=num3:\n",
    "      print('num 2 is greater',num2)\n",
    "\n",
    "    elif num3>=num2 and num3>=num1:\n",
    "        print('num 3 is greater',num3)\n",
    "\n",
    "    else:\n",
    "        print('enter a valid number')\n",
    "  except Exception as e:\n",
    "    print(e)\n",
    "\n",
    "greater(10)"
   ]
  },
  {
   "cell_type": "code",
   "execution_count": null,
   "metadata": {
    "id": "1dE9XJPB0yUB"
   },
   "outputs": [],
   "source": []
  }
 ],
 "metadata": {
  "colab": {
   "provenance": []
  },
  "kernelspec": {
   "display_name": "Python 3 (ipykernel)",
   "language": "python",
   "name": "python3"
  },
  "language_info": {
   "codemirror_mode": {
    "name": "ipython",
    "version": 3
   },
   "file_extension": ".py",
   "mimetype": "text/x-python",
   "name": "python",
   "nbconvert_exporter": "python",
   "pygments_lexer": "ipython3",
   "version": "3.12.4"
  }
 },
 "nbformat": 4,
 "nbformat_minor": 4
}
