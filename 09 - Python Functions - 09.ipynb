{
 "cells": [
  {
   "cell_type": "markdown",
   "id": "9032271a-8e8e-4f85-9873-64d76f964af2",
   "metadata": {},
   "source": [
    "# Functions"
   ]
  },
  {
   "cell_type": "markdown",
   "id": "742cba45-9ec7-4dbe-be1b-bfbd2e5a9eea",
   "metadata": {},
   "source": [
    "- Reuse any part of code"
   ]
  },
  {
   "cell_type": "code",
   "execution_count": null,
   "id": "84e6b3da-f5bd-49f9-b343-5ae859ef3d72",
   "metadata": {},
   "outputs": [],
   "source": [
    "n1=10\n",
    "n2=20\n",
    "add=n1+n2\n",
    "print('the addition of {} and {} is {}'.format(n1,n2,add))"
   ]
  },
  {
   "cell_type": "code",
   "execution_count": null,
   "id": "545e06e8-57d8-4a80-aec8-08c7c1116c2c",
   "metadata": {},
   "outputs": [],
   "source": [
    "def <function_name>():\n",
    "    #write your code here"
   ]
  },
  {
   "cell_type": "markdown",
   "id": "61c897e9-847c-4943-88a6-5cd7606a2172",
   "metadata": {},
   "source": [
    "**With Out Arguments**"
   ]
  },
  {
   "cell_type": "code",
   "execution_count": 5,
   "id": "2f0277c9-9e13-4735-b131-4a5f77b843c9",
   "metadata": {},
   "outputs": [],
   "source": [
    "def addition():\n",
    "    n1=10\n",
    "    n2=20\n",
    "    add=n1+n2\n",
    "    print('the addition of {} and {} is {}'.format(n1,n2,add))"
   ]
  },
  {
   "cell_type": "code",
   "execution_count": null,
   "id": "6fdbbb2d-3c45-402b-9479-b450805b5ebd",
   "metadata": {},
   "outputs": [],
   "source": [
    "# the output will not be displayed untill unless you call the function"
   ]
  },
  {
   "cell_type": "code",
   "execution_count": 7,
   "id": "752a2a85-9ec0-4942-94c8-8e243a58844f",
   "metadata": {},
   "outputs": [
    {
     "name": "stdout",
     "output_type": "stream",
     "text": [
      "the addition of 10 and 20 is 30\n"
     ]
    }
   ],
   "source": [
    "addition()"
   ]
  },
  {
   "cell_type": "code",
   "execution_count": 9,
   "id": "47fb864a-ac25-4090-8743-8ebd065a68e7",
   "metadata": {},
   "outputs": [],
   "source": [
    "def addition():\n",
    "    print('hello')\n",
    "    print(\"i'm writing function\")"
   ]
  },
  {
   "cell_type": "code",
   "execution_count": 11,
   "id": "164064e0-1e4c-4e2e-beff-bad94892648a",
   "metadata": {},
   "outputs": [
    {
     "name": "stdout",
     "output_type": "stream",
     "text": [
      "hello\n",
      "i'm writing function\n"
     ]
    }
   ],
   "source": [
    "addition()"
   ]
  },
  {
   "cell_type": "code",
   "execution_count": 13,
   "id": "32bd6e04-90a0-4079-a0b5-e1d4f5dadaa3",
   "metadata": {},
   "outputs": [
    {
     "name": "stdout",
     "output_type": "stream",
     "text": [
      "200\n"
     ]
    }
   ],
   "source": [
    "a=100\n",
    "a=200\n",
    "#why a is not equal to 100\n",
    "print(a)"
   ]
  },
  {
   "cell_type": "code",
   "execution_count": null,
   "id": "57619b7a-c2bc-4c2c-83f1-a514936da560",
   "metadata": {},
   "outputs": [],
   "source": [
    "#python will take the latest value"
   ]
  },
  {
   "cell_type": "code",
   "execution_count": 15,
   "id": "c08f9676-36cd-45a0-83e1-00135c1f5f62",
   "metadata": {},
   "outputs": [
    {
     "name": "stdout",
     "output_type": "stream",
     "text": [
      "hello good morning\n"
     ]
    }
   ],
   "source": [
    "def hello_world():\n",
    "    print('hello good morning')\n",
    "hello_world()"
   ]
  },
  {
   "cell_type": "code",
   "execution_count": 19,
   "id": "6acd1957-407c-49d7-a5a5-cd757e3f997d",
   "metadata": {},
   "outputs": [
    {
     "name": "stdin",
     "output_type": "stream",
     "text": [
      "enter a num :  5\n",
      "enter a num :  6\n",
      "enter a num :  4\n"
     ]
    },
    {
     "name": "stdout",
     "output_type": "stream",
     "text": [
      "average of 5,6 and 4 is 5.0\n"
     ]
    }
   ],
   "source": [
    "# take three numbers find the average\n",
    "# wap ask the user enter 3 numbers\n",
    "# n1=eval(input())\n",
    "# n2=eval(input())\n",
    "# n3=eval(input())\n",
    "# avg=(n1+n2+n3)/3\n",
    "# First write normal code \n",
    "# then implement the function\n",
    "\n",
    "try:\n",
    "    n1=eval(input('enter a num : '))\n",
    "    n2=eval(input('enter a num : '))\n",
    "    n3=eval(input('enter a num : '))\n",
    "    avrg=(n1+n2+n3)/3\n",
    "    print('average of {},{} and {} is {}'.format(n1,n2,n3,avrg))\n",
    "except Exception as e:\n",
    "    print(e)"
   ]
  },
  {
   "cell_type": "code",
   "execution_count": 61,
   "id": "1b8a03b2-86cc-4bb5-be8c-f4fa939b0013",
   "metadata": {},
   "outputs": [
    {
     "name": "stdin",
     "output_type": "stream",
     "text": [
      "enter a num :  10\n",
      "enter a num :  20\n",
      "enter a num :  13\n"
     ]
    },
    {
     "name": "stdout",
     "output_type": "stream",
     "text": [
      "average of 10,20 and 13 is 14.333333333333334\n"
     ]
    }
   ],
   "source": [
    "#================================= defined================================\n",
    "def avg():\n",
    "    try:\n",
    "        n1=eval(input('enter a num : '))\n",
    "        n2=eval(input('enter a num : '))\n",
    "        n3=eval(input('enter a num : '))\n",
    "        avrg=(n1+n2+n3)/3\n",
    "        print('average of {},{} and {} is {}'.format(n1,n2,n3,avrg))\n",
    "    except Exception as e:\n",
    "        print(e)\n",
    "#============================== calling =================================\n",
    "avg()"
   ]
  },
  {
   "cell_type": "code",
   "execution_count": 27,
   "id": "c9bb6368-42a3-4e21-bf50-34bbfc4f03c8",
   "metadata": {},
   "outputs": [
    {
     "name": "stdin",
     "output_type": "stream",
     "text": [
      "enter a num :  100\n",
      "enter a num :  200\n",
      "enter a num :  300\n"
     ]
    },
    {
     "name": "stdout",
     "output_type": "stream",
     "text": [
      "name 'n3333' is not defined\n"
     ]
    }
   ],
   "source": [
    "def avg():\n",
    "    try:\n",
    "        n1=eval(input('enter a num : '))\n",
    "        n2=eval(input('enter a num : '))\n",
    "        n3=eval(input('enter a num : '))\n",
    "        avrg=(n1+n2+n3333)/3                # you doesnt know weather the function is correct defined or wrong defined untill unless you call func.\n",
    "        print('average of {},{} and {} is {}'.format(n1,n2,n3,avrg))\n",
    "    except Exception as e:\n",
    "        print(e)\n",
    "avg()"
   ]
  },
  {
   "cell_type": "markdown",
   "id": "25693be7-c40e-498b-8833-be7bc97e809f",
   "metadata": {},
   "source": [
    "**Note**:\n",
    "    we are not sure, the function is defined correct or wrong\n",
    "    untill unless we call the function."
   ]
  },
  {
   "cell_type": "code",
   "execution_count": 36,
   "id": "89c63472-a385-45d9-80aa-3bdfbe653968",
   "metadata": {},
   "outputs": [],
   "source": [
    "#wap ask the user enter bill amount\n",
    "# ask the user enter tip amount\n",
    "# calculate total bill\n",
    "\n",
    "def bill():\n",
    "    try:\n",
    "        amt=eval(input('please enter your bill amount: '))\n",
    "        tip=eval(input('enter tip amount if you want to give other wise enter 0 : '))\n",
    "        tot_bill=amt+tip\n",
    "        print('Your Total Bill with Tip Amount is {} Rs.'.format(tot_bill)) \n",
    "    except Exception as e:\n",
    "        print(e)\n"
   ]
  },
  {
   "cell_type": "code",
   "execution_count": 38,
   "id": "dc534898-cae4-4bca-aebe-384027524952",
   "metadata": {},
   "outputs": [
    {
     "name": "stdin",
     "output_type": "stream",
     "text": [
      "please enter your bill amount:  950\n",
      "enter tip amount if you want to give other wise enter 0 :  30\n"
     ]
    },
    {
     "name": "stdout",
     "output_type": "stream",
     "text": [
      "Your Total Bill with Tip Amount is 980 Rs.\n"
     ]
    }
   ],
   "source": [
    "bill()"
   ]
  },
  {
   "cell_type": "code",
   "execution_count": 50,
   "id": "8c0b03ea-2f50-4e98-8389-5ababa922e65",
   "metadata": {},
   "outputs": [
    {
     "name": "stdout",
     "output_type": "stream",
     "text": [
      "we are implementing even odd function\n",
      "take one number\n",
      "66 is Even Number\n"
     ]
    }
   ],
   "source": [
    "#WAP ask the user get a random number between 1 to 100\n",
    "#print it is a even or odd number\n",
    "#implement using function\n",
    "\n",
    "import random      # package should be always at the top while creating a function\n",
    "\n",
    "def odd_even():\n",
    "    try:\n",
    "        print('we are implementing even odd function')\n",
    "        print('take one number')\n",
    "        num=random.randint(1,100)\n",
    "        if (num%2)==0:\n",
    "            print('{} is Even Number'.format(num))\n",
    "        else:\n",
    "            print('{} is Odd Number'.format(num))\n",
    "    except Exception as e:\n",
    "        print(e)    \n",
    "odd_even()"
   ]
  },
  {
   "cell_type": "code",
   "execution_count": 52,
   "id": "7582ba2d-fb09-44df-a6ed-19128a5022e4",
   "metadata": {},
   "outputs": [
    {
     "name": "stdout",
     "output_type": "stream",
     "text": [
      "hi\n",
      "hello\n",
      "calling function\n",
      "we are implementing even odd function\n",
      "take one number\n",
      "35 is Odd Number\n",
      "done\n"
     ]
    }
   ],
   "source": [
    "import random\n",
    "print('hi')\n",
    "print('hello')\n",
    "def odd_even():\n",
    "    try:\n",
    "        print('we are implementing even odd function')\n",
    "        print('take one number')\n",
    "        num=random.randint(1,100)\n",
    "        if (num%2)==0:\n",
    "            print('{} is Even Number'.format(num))\n",
    "        else:\n",
    "            print('{} is Odd Number'.format(num))\n",
    "    except Exception as e:\n",
    "        print(e)  \n",
    "print('calling function')\n",
    "odd_even()\n",
    "print('done')"
   ]
  },
  {
   "cell_type": "code",
   "execution_count": 56,
   "id": "2879b7c2-39ab-4ee2-aa39-2c7697e06010",
   "metadata": {},
   "outputs": [
    {
     "name": "stdout",
     "output_type": "stream",
     "text": [
      "mul function starts\n",
      "subtraction function starts\n",
      "anything remains\n",
      "no\n",
      "then call the function\n",
      "sub:  -10\n",
      "mul:  600\n",
      "addition:  50\n"
     ]
    }
   ],
   "source": [
    "def addition():\n",
    "    n1=20\n",
    "    n2=30\n",
    "    print('addition: ',n1+n2)\n",
    "print('mul function starts')\n",
    "def mul():\n",
    "    n1=20\n",
    "    n2=30\n",
    "    print('mul: ',n1*n2)\n",
    "print('subtraction function starts')\n",
    "def sub():\n",
    "    n1=20\n",
    "    n2=30\n",
    "    print('sub: ',n1-n2)\n",
    "print('anything remains')\n",
    "print('no')\n",
    "print('then call the function')\n",
    "\n",
    "sub()\n",
    "mul()\n",
    "addition()"
   ]
  },
  {
   "cell_type": "markdown",
   "id": "5b6763cd-167e-4a8c-bcfc-56a6d78aff34",
   "metadata": {},
   "source": [
    "- if you are not mentioning any values inside the function bracket\n",
    "- with out arguments or with out parameters\n",
    "- arguments or parameters"
   ]
  },
  {
   "cell_type": "markdown",
   "id": "07aa9fb7-5c4a-42d5-9437-d7de83fcbd9f",
   "metadata": {},
   "source": [
    "## With Arguments"
   ]
  },
  {
   "cell_type": "code",
   "execution_count": null,
   "id": "a98d8c9e-ee41-43a8-945f-c81361a5dfb7",
   "metadata": {},
   "outputs": [],
   "source": [
    "def addition():\n",
    "    n1=10\n",
    "    n2=20\n",
    "    add=n1+n2\n",
    "    print('the addition of {} and {} is {}'.format(n1,n2,add))\n",
    "\n",
    "# Q.1) inside function how many variables are there ?\n",
    "#    ans - 3 variables are there\n",
    "# Q.2) how many user provided variables\n",
    "#    ans - 2 variables"
   ]
  },
  {
   "cell_type": "code",
   "execution_count": 64,
   "id": "814f336a-697a-4619-b6df-eb46ccf5d4a4",
   "metadata": {},
   "outputs": [
    {
     "name": "stdout",
     "output_type": "stream",
     "text": [
      "the addition of 20 and 30 is 50\n"
     ]
    }
   ],
   "source": [
    "def addition(n1,n2): #arguments\n",
    "    add=n1+n2\n",
    "    print('the addition of {} and {} is {}'.format(n1,n2,add))\n",
    "    \n",
    "addition(20,30)  #n1=20 n2=30"
   ]
  },
  {
   "cell_type": "markdown",
   "id": "64b94f8c-da45-4a4f-aee5-5c8ee6e0863d",
   "metadata": {},
   "source": [
    "### Errors in Function"
   ]
  },
  {
   "cell_type": "code",
   "execution_count": 66,
   "id": "dcabfe18-1ba3-4d3b-8316-267c5f0fc958",
   "metadata": {},
   "outputs": [
    {
     "ename": "TypeError",
     "evalue": "addition() missing 1 required positional argument: 'n2'",
     "output_type": "error",
     "traceback": [
      "\u001b[1;31m---------------------------------------------------------------------------\u001b[0m",
      "\u001b[1;31mTypeError\u001b[0m                                 Traceback (most recent call last)",
      "Cell \u001b[1;32mIn[66], line 5\u001b[0m\n\u001b[0;32m      2\u001b[0m     add\u001b[38;5;241m=\u001b[39mn1\u001b[38;5;241m+\u001b[39mn2\n\u001b[0;32m      3\u001b[0m     \u001b[38;5;28mprint\u001b[39m(\u001b[38;5;124m'\u001b[39m\u001b[38;5;124mthe addition of \u001b[39m\u001b[38;5;132;01m{}\u001b[39;00m\u001b[38;5;124m and \u001b[39m\u001b[38;5;132;01m{}\u001b[39;00m\u001b[38;5;124m is \u001b[39m\u001b[38;5;132;01m{}\u001b[39;00m\u001b[38;5;124m'\u001b[39m\u001b[38;5;241m.\u001b[39mformat(n1,n2,add))\n\u001b[1;32m----> 5\u001b[0m addition(\u001b[38;5;241m200\u001b[39m)\n",
      "\u001b[1;31mTypeError\u001b[0m: addition() missing 1 required positional argument: 'n2'"
     ]
    }
   ],
   "source": [
    "def addition(n1,n2): #arguments\n",
    "    add=n1+n2\n",
    "    print('the addition of {} and {} is {}'.format(n1,n2,add))\n",
    "    \n",
    "addition(200) # Understand the error "
   ]
  },
  {
   "cell_type": "code",
   "execution_count": 69,
   "id": "bb7e23b7-3a21-432a-9a01-73723ca928ec",
   "metadata": {},
   "outputs": [
    {
     "ename": "NameError",
     "evalue": "name 'n1111' is not defined",
     "output_type": "error",
     "traceback": [
      "\u001b[1;31m---------------------------------------------------------------------------\u001b[0m",
      "\u001b[1;31mNameError\u001b[0m                                 Traceback (most recent call last)",
      "Cell \u001b[1;32mIn[69], line 5\u001b[0m\n\u001b[0;32m      2\u001b[0m     add\u001b[38;5;241m=\u001b[39mn1111\u001b[38;5;241m+\u001b[39mn2222\n\u001b[0;32m      3\u001b[0m     \u001b[38;5;28mprint\u001b[39m(\u001b[38;5;124m'\u001b[39m\u001b[38;5;124mthe addition of \u001b[39m\u001b[38;5;132;01m{}\u001b[39;00m\u001b[38;5;124m and \u001b[39m\u001b[38;5;132;01m{}\u001b[39;00m\u001b[38;5;124m is \u001b[39m\u001b[38;5;132;01m{}\u001b[39;00m\u001b[38;5;124m'\u001b[39m\u001b[38;5;241m.\u001b[39mformat(n1,n2,add))\n\u001b[1;32m----> 5\u001b[0m addition()\n",
      "Cell \u001b[1;32mIn[69], line 2\u001b[0m, in \u001b[0;36maddition\u001b[1;34m()\u001b[0m\n\u001b[0;32m      1\u001b[0m \u001b[38;5;28;01mdef\u001b[39;00m \u001b[38;5;21maddition\u001b[39m(): \u001b[38;5;66;03m#arguments\u001b[39;00m\n\u001b[1;32m----> 2\u001b[0m     add\u001b[38;5;241m=\u001b[39mn1111\u001b[38;5;241m+\u001b[39mn2222\n\u001b[0;32m      3\u001b[0m     \u001b[38;5;28mprint\u001b[39m(\u001b[38;5;124m'\u001b[39m\u001b[38;5;124mthe addition of \u001b[39m\u001b[38;5;132;01m{}\u001b[39;00m\u001b[38;5;124m and \u001b[39m\u001b[38;5;132;01m{}\u001b[39;00m\u001b[38;5;124m is \u001b[39m\u001b[38;5;132;01m{}\u001b[39;00m\u001b[38;5;124m'\u001b[39m\u001b[38;5;241m.\u001b[39mformat(n1,n2,add))\n",
      "\u001b[1;31mNameError\u001b[0m: name 'n1111' is not defined"
     ]
    }
   ],
   "source": [
    "def addition(): #arguments\n",
    "    add=n1111+n2222\n",
    "    print('the addition of {} and {} is {}'.format(n1,n2,add))\n",
    "    \n",
    "addition() # Understand the error "
   ]
  },
  {
   "cell_type": "code",
   "execution_count": 71,
   "id": "d0c84631-22a7-4d41-ac42-f7da43afa7f5",
   "metadata": {},
   "outputs": [
    {
     "ename": "TypeError",
     "evalue": "addition() takes 0 positional arguments but 2 were given",
     "output_type": "error",
     "traceback": [
      "\u001b[1;31m---------------------------------------------------------------------------\u001b[0m",
      "\u001b[1;31mTypeError\u001b[0m                                 Traceback (most recent call last)",
      "Cell \u001b[1;32mIn[71], line 5\u001b[0m\n\u001b[0;32m      2\u001b[0m     add\u001b[38;5;241m=\u001b[39mn111\u001b[38;5;241m+\u001b[39mn222\n\u001b[0;32m      3\u001b[0m     \u001b[38;5;28mprint\u001b[39m(\u001b[38;5;124m'\u001b[39m\u001b[38;5;124mthe addition of \u001b[39m\u001b[38;5;132;01m{}\u001b[39;00m\u001b[38;5;124m and \u001b[39m\u001b[38;5;132;01m{}\u001b[39;00m\u001b[38;5;124m is \u001b[39m\u001b[38;5;132;01m{}\u001b[39;00m\u001b[38;5;124m'\u001b[39m\u001b[38;5;241m.\u001b[39mformat(n1,n2,add))\n\u001b[1;32m----> 5\u001b[0m addition(\u001b[38;5;241m200\u001b[39m,\u001b[38;5;241m300\u001b[39m)\n",
      "\u001b[1;31mTypeError\u001b[0m: addition() takes 0 positional arguments but 2 were given"
     ]
    }
   ],
   "source": [
    "def addition(): #arguments\n",
    "    add=n111+n222\n",
    "    print('the addition of {} and {} is {}'.format(n1,n2,add))\n",
    "    \n",
    "addition(200,300) # Understand the error "
   ]
  },
  {
   "cell_type": "code",
   "execution_count": 77,
   "id": "ebd97b4b-e3b5-4e52-9ccb-be70d89fda1e",
   "metadata": {},
   "outputs": [
    {
     "name": "stdout",
     "output_type": "stream",
     "text": [
      "average of 100,200 and 300 is 200.0\n"
     ]
    }
   ],
   "source": [
    "#implement below code using with arguments\n",
    "def avg(n1,n2,n3):\n",
    "    try:\n",
    "        avrg=(n1+n2+n3)/3\n",
    "        print('average of {},{} and {} is {}'.format(n1,n2,n3,avrg))\n",
    "    except Exception as e:\n",
    "        print(e)\n",
    "avg(100,200,300)"
   ]
  },
  {
   "cell_type": "code",
   "execution_count": 87,
   "id": "b64bbc72-5d4c-45a0-9d8d-d4ca16d2f73d",
   "metadata": {},
   "outputs": [
    {
     "name": "stdout",
     "output_type": "stream",
     "text": [
      "5\n",
      "4\n",
      "3\n"
     ]
    }
   ],
   "source": [
    "num=12345\n",
    "\n",
    "v1=num%10\n",
    "v11=num//10\n",
    "print(v1)\n",
    "\n",
    "v2=v11%10\n",
    "print(v2)\n",
    "\n",
    "v22=v11//10\n",
    "v3=v22%10\n",
    "print(v3)    #you can print reverse number like this without using any other python knowledge\n",
    "\n"
   ]
  },
  {
   "cell_type": "code",
   "execution_count": 89,
   "id": "7c958300-75ec-4c38-b789-b80f01c61f9c",
   "metadata": {},
   "outputs": [
    {
     "data": {
      "text/plain": [
       "5"
      ]
     },
     "execution_count": 89,
     "metadata": {},
     "output_type": "execute_result"
    }
   ],
   "source": [
    "12345%10"
   ]
  },
  {
   "cell_type": "code",
   "execution_count": null,
   "id": "f289b497-dc08-452c-90b1-66a14b1ddf0f",
   "metadata": {},
   "outputs": [],
   "source": [
    "12345=== 4?"
   ]
  },
  {
   "cell_type": "code",
   "execution_count": 91,
   "id": "6e172694-365b-49d5-8513-165391455792",
   "metadata": {},
   "outputs": [
    {
     "data": {
      "text/plain": [
       "4"
      ]
     },
     "execution_count": 91,
     "metadata": {},
     "output_type": "execute_result"
    }
   ],
   "source": [
    "1234%10"
   ]
  },
  {
   "cell_type": "code",
   "execution_count": 93,
   "id": "27ca2b46-302a-4d1e-80d2-0505e29c50e6",
   "metadata": {},
   "outputs": [
    {
     "name": "stdout",
     "output_type": "stream",
     "text": [
      "5 4\n"
     ]
    }
   ],
   "source": [
    "print(5,end=\" \")\n",
    "print(4)"
   ]
  },
  {
   "cell_type": "code",
   "execution_count": 3,
   "id": "3030370b-6086-447a-8775-5f7f92454a47",
   "metadata": {},
   "outputs": [
    {
     "name": "stdin",
     "output_type": "stream",
     "text": [
      "enter a number:  5\n"
     ]
    },
    {
     "name": "stdout",
     "output_type": "stream",
     "text": [
      "the square of 5 is 25\n"
     ]
    }
   ],
   "source": [
    "num=eval(input(\"enter a number: \"))\n",
    "print('the square of {} is {}'.format(num,num*num))"
   ]
  },
  {
   "cell_type": "code",
   "execution_count": 5,
   "id": "418a7549-08a0-4756-8868-346204754734",
   "metadata": {},
   "outputs": [
    {
     "name": "stdin",
     "output_type": "stream",
     "text": [
      "enter a number:  7\n"
     ]
    },
    {
     "name": "stdout",
     "output_type": "stream",
     "text": [
      "the square of 7 is 49\n"
     ]
    }
   ],
   "source": [
    "def square():    # in side the bracket No argument\n",
    "    num=eval(input(\"enter a number: \"))\n",
    "    print('the square of {} is {}'.format(num,num*num))\n",
    "square()"
   ]
  },
  {
   "cell_type": "code",
   "execution_count": 7,
   "id": "7bd2fad3-ed97-4e72-b1f8-2bcca8976550",
   "metadata": {},
   "outputs": [
    {
     "name": "stdout",
     "output_type": "stream",
     "text": [
      "the square of 9 is 81\n"
     ]
    }
   ],
   "source": [
    "def square(num):\n",
    "    print('the square of {} is {}'.format(num,num*num))\n",
    "square(9)"
   ]
  },
  {
   "cell_type": "code",
   "execution_count": 31,
   "id": "ebaa7cd3-4530-4ef1-81a7-f3b9c06d8da8",
   "metadata": {},
   "outputs": [
    {
     "name": "stdin",
     "output_type": "stream",
     "text": [
      "enter a number to guess:  2\n"
     ]
    },
    {
     "name": "stdout",
     "output_type": "stream",
     "text": [
      "you lost number is 14\n"
     ]
    }
   ],
   "source": [
    "#WAP ask the user\n",
    "#get one random number btw 1 to 20\n",
    "#enter a number\n",
    "#compare these two number\n",
    "#if both are same: print(\"you won\")\n",
    "#else: print('lost')\n",
    "\n",
    "#m-1: write in normal way\n",
    "#m-2: create a function without argument\n",
    "#m-3: create a function with argument\n",
    "\n",
    "\n",
    "# Normal Way Code\n",
    "import random\n",
    "try:\n",
    "    num=random.randint(1,20)\n",
    "    num2=eval(input('enter a number to guess: '))\n",
    "    if num==num2:print('you won')                     # You can write your code in single line also. python is flexible for it\n",
    "    else:print('you lost number is {}'.format(num))\n",
    "except Exception as e:\n",
    "    print(e)"
   ]
  },
  {
   "cell_type": "code",
   "execution_count": 33,
   "id": "51ea09c6-5489-4fa8-b636-34d249b7a320",
   "metadata": {},
   "outputs": [
    {
     "name": "stdin",
     "output_type": "stream",
     "text": [
      "enter a number to guess:  13\n"
     ]
    },
    {
     "name": "stdout",
     "output_type": "stream",
     "text": [
      "you lost number is 7\n"
     ]
    }
   ],
   "source": [
    "# function without argument\n",
    "import random\n",
    "def rand_num():\n",
    "    try:\n",
    "        num=random.randint(1,20)\n",
    "        num2=eval(input('enter a number to guess: '))\n",
    "        if num==num2:\n",
    "            print('you won')\n",
    "        else:\n",
    "            print('you lost number is {}'.format(num))\n",
    "    except Exception as e:\n",
    "        print(e)\n",
    "rand_num()"
   ]
  },
  {
   "cell_type": "code",
   "execution_count": 41,
   "id": "45bad914-475f-42c6-9113-c799532e9a03",
   "metadata": {},
   "outputs": [
    {
     "name": "stdin",
     "output_type": "stream",
     "text": [
      "enter a number to guess:  5\n"
     ]
    },
    {
     "name": "stdout",
     "output_type": "stream",
     "text": [
      "you lost number is 2\n"
     ]
    }
   ],
   "source": [
    "# function with argument\n",
    "import random\n",
    "def rand_num(num2):\n",
    "    try:\n",
    "        num=random.randint(1,20)\n",
    "        if num==num2:print('you won')\n",
    "        else:print('you lost number is {}'.format(num))\n",
    "    except Exception as e:\n",
    "        print(e)\n",
    "        \n",
    "rand_num(eval(input(\"enter a number to guess: \")))   # you can pass the argument through input also   # Keyboard Pass"
   ]
  },
  {
   "cell_type": "code",
   "execution_count": 45,
   "id": "d850c098-4d2d-4d4c-9777-b97bd3563ac9",
   "metadata": {},
   "outputs": [
    {
     "name": "stdout",
     "output_type": "stream",
     "text": [
      "you lost number is 4\n"
     ]
    }
   ],
   "source": [
    "# function with argument\n",
    "import random\n",
    "def rand_num(num2):\n",
    "    try:\n",
    "        num=random.randint(1,20)\n",
    "        if num==num2:print('you won')\n",
    "        else:print('you lost number is {}'.format(num))\n",
    "    except Exception as e:\n",
    "        print(e)\n",
    "        \n",
    "rand_num(10)  # Direct Pass"
   ]
  },
  {
   "cell_type": "code",
   "execution_count": 47,
   "id": "567d31d1-0872-428e-a130-dba00b8eced2",
   "metadata": {},
   "outputs": [
    {
     "name": "stdout",
     "output_type": "stream",
     "text": [
      "you lost number is 6\n"
     ]
    }
   ],
   "source": [
    "# function with argument\n",
    "import random\n",
    "def rand_num(num2):\n",
    "    try:\n",
    "        num=random.randint(1,20)\n",
    "        if num==num2:print('you won')\n",
    "        else:print('you lost number is {}'.format(num))\n",
    "    except Exception as e:\n",
    "        print(e)\n",
    "\n",
    "value=15\n",
    "rand_num(value)     # you can provide value through variable also. "
   ]
  },
  {
   "cell_type": "code",
   "execution_count": 53,
   "id": "06a75c5c-9cb4-43f1-8f96-cfac18d55146",
   "metadata": {},
   "outputs": [
    {
     "name": "stdin",
     "output_type": "stream",
     "text": [
      "enter number:  12\n"
     ]
    },
    {
     "name": "stdout",
     "output_type": "stream",
     "text": [
      "you lost number is 1\n"
     ]
    }
   ],
   "source": [
    "# function with argument\n",
    "\n",
    "import random\n",
    "def compare(random_num,num):\n",
    "    try:\n",
    "        #num=random.randint(1,20)\n",
    "        if random_num==num:print('you won')\n",
    "        else:print('you lost number is {}'.format(random_num))\n",
    "    except Exception as e:\n",
    "        print(e)\n",
    "\n",
    "value_random=random.randint(1,20)\n",
    "value=eval(input(\"enter number: \"))\n",
    "compare(value_random,value)          #value_random=random_num  #value=num  \n",
    "\n",
    "# step-1: import random\n",
    "# step-2: function will defin: not give\n",
    "# step-3: value_random\n",
    "# step-4: value\n",
    "# step-5: calling the function ========> step-2\n",
    "#                                       print won/lost"
   ]
  },
  {
   "cell_type": "code",
   "execution_count": 57,
   "id": "95ea8c70-b442-4559-9a43-a2910e828b0b",
   "metadata": {},
   "outputs": [
    {
     "name": "stdin",
     "output_type": "stream",
     "text": [
      "enter number:  13\n"
     ]
    },
    {
     "name": "stdout",
     "output_type": "stream",
     "text": [
      "you lost number is 6\n"
     ]
    }
   ],
   "source": [
    "# step-1: import random\n",
    "# step-3: value_random\n",
    "# step-4: value\n",
    "# step-2: function will defin: not give\n",
    "# step-5: calling the function ========> step-2\n",
    "#                                       print won/lost\n",
    "\n",
    "import random\n",
    "\n",
    "value_random=random.randint(1,20)\n",
    "value=eval(input(\"enter number: \"))\n",
    "\n",
    "def compare(random_num,num):\n",
    "    try:\n",
    "        #num=random.randint(1,20)\n",
    "        if random_num==num:print('you won')\n",
    "        else:print('you lost number is {}'.format(random_num))\n",
    "    except Exception as e:\n",
    "        print(e)\n",
    "        \n",
    "compare(value_random,value)          "
   ]
  },
  {
   "cell_type": "code",
   "execution_count": null,
   "id": "bffe1cd7-04c8-4dd2-bb6e-d41678855c64",
   "metadata": {},
   "outputs": [],
   "source": [
    "# step-1: import random\n",
    "# step-2: function will defin: not give\n",
    "# step-5: calling the function ========> step-2\n",
    "#                                       print won/lost\n",
    "# step-3: value_random\n",
    "# step-4: value\n",
    "\n",
    "# this code will fail cause we are calling the function earlier without any arguments"
   ]
  },
  {
   "cell_type": "code",
   "execution_count": 59,
   "id": "f4461c32-e075-46d3-9b49-700997613554",
   "metadata": {},
   "outputs": [
    {
     "name": "stdin",
     "output_type": "stream",
     "text": [
      "enter number:  8\n"
     ]
    },
    {
     "name": "stdout",
     "output_type": "stream",
     "text": [
      "you lost number is 12\n"
     ]
    }
   ],
   "source": [
    "import random\n",
    "\n",
    "def compare(random_num,num):\n",
    "    try:\n",
    "        #num=random.randint(1,20)\n",
    "        if random_num==num:print('you won')\n",
    "        else:print('you lost number is {}'.format(random_num))\n",
    "    except Exception as e:\n",
    "        print(e)\n",
    "        \n",
    "compare(random.randint(1,20),eval(input(\"enter number: \")))"
   ]
  },
  {
   "cell_type": "code",
   "execution_count": 77,
   "id": "6f4a078c-be48-4c27-8c3a-0eefb2eb06e9",
   "metadata": {},
   "outputs": [
    {
     "name": "stdin",
     "output_type": "stream",
     "text": [
      "please enter your salary here:  68000\n",
      "enter your tax percentage here:  5\n"
     ]
    },
    {
     "name": "stdout",
     "output_type": "stream",
     "text": [
      "Total Taxable Amount is : 3400.0 Rs.\n"
     ]
    }
   ],
   "source": [
    "#WAP ask the user enter salary\n",
    "#   ask the user enter tax percentage\n",
    "#   calculate total tax to pay\n",
    "\n",
    "def tax():\n",
    "    try:\n",
    "        sal=eval(input('please enter your salary here: '))\n",
    "        tax_per=eval(input('enter your tax percentage here: '))\n",
    "        total_tax=(sal*tax_per)/100\n",
    "        print('Total Taxable Amount is : {} Rs.'.format(total_tax))\n",
    "    except Exception as e:\n",
    "        print(e)\n",
    "tax()"
   ]
  },
  {
   "cell_type": "code",
   "execution_count": 71,
   "id": "54744b5a-082e-4ea3-af51-525e2f9852b4",
   "metadata": {},
   "outputs": [
    {
     "name": "stdout",
     "output_type": "stream",
     "text": [
      "Total Taxable Amount is : 2750.0 Rs.\n"
     ]
    }
   ],
   "source": [
    "# How do you pass the value\n",
    "def tax(sal,tax_per):\n",
    "    try:\n",
    "        total_tax=(sal*tax_per)/100\n",
    "        print('Total Taxable Amount is : {} Rs.'.format(total_tax))\n",
    "        \n",
    "    except Exception as e:\n",
    "        print(e)\n",
    "\n",
    "tax(55000,5)    # Direct pass"
   ]
  },
  {
   "cell_type": "code",
   "execution_count": 79,
   "id": "d1a81437-d14a-4d5e-aba5-dbc509969c9d",
   "metadata": {},
   "outputs": [
    {
     "name": "stdout",
     "output_type": "stream",
     "text": [
      "Total Taxable Amount is : 4500.0 Rs.\n"
     ]
    }
   ],
   "source": [
    "def tax(sal,tax_per):\n",
    "    try:\n",
    "        total_tax=(sal*tax_per)/100\n",
    "        print('Total Taxable Amount is : {} Rs.'.format(total_tax))\n",
    "        \n",
    "    except Exception as e:\n",
    "        print(e)\n",
    "\n",
    "salary=60000\n",
    "tax_percentage=7.5\n",
    "tax(salary,tax_percentage) #Direct pass"
   ]
  },
  {
   "cell_type": "code",
   "execution_count": 81,
   "id": "9bb70c53-3aa4-4179-bc37-33b287dc315f",
   "metadata": {},
   "outputs": [
    {
     "name": "stdin",
     "output_type": "stream",
     "text": [
      "please enter your salary here:  47000\n",
      "enter your tax percentage here:  2.5\n"
     ]
    },
    {
     "name": "stdout",
     "output_type": "stream",
     "text": [
      "Total Taxable Amount is : 1175.0 Rs.\n"
     ]
    }
   ],
   "source": [
    "def tax(sal,tax_per):\n",
    "    try:\n",
    "        total_tax=(sal*tax_per)/100\n",
    "        print('Total Taxable Amount is : {} Rs.'.format(total_tax))\n",
    "        \n",
    "    except Exception as e:\n",
    "        print(e)\n",
    "\n",
    "salary=eval(input('please enter your salary here: '))\n",
    "tax_percentage=eval(input('enter your tax percentage here: '))\n",
    "tax(salary,tax_percentage) #Keyboard pass"
   ]
  },
  {
   "cell_type": "code",
   "execution_count": 75,
   "id": "a44473de-c426-429a-aa52-a46c95f3a2dc",
   "metadata": {},
   "outputs": [
    {
     "name": "stdin",
     "output_type": "stream",
     "text": [
      "please enter your salary here:  125000\n",
      "enter your tax percentage here:  15\n"
     ]
    },
    {
     "name": "stdout",
     "output_type": "stream",
     "text": [
      "Total Taxable Amount is : 18750.0 Rs.\n"
     ]
    }
   ],
   "source": [
    "def tax(sal,tax_per):\n",
    "    try:\n",
    "        total_tax=(sal*tax_per)/100\n",
    "        print('Total Taxable Amount is : {} Rs.'.format(total_tax))\n",
    "        \n",
    "    except Exception as e:\n",
    "        print(e)\n",
    "\n",
    "tax(eval(input('please enter your salary here: ')),eval(input('enter your tax percentage here: ')))"
   ]
  },
  {
   "cell_type": "markdown",
   "id": "a3e844ac-179c-4a4a-8acf-677f688ab219",
   "metadata": {},
   "source": [
    "**Default Arguments**"
   ]
  },
  {
   "cell_type": "code",
   "execution_count": 83,
   "id": "a11cbc46-54c8-4020-a838-62063d9ee069",
   "metadata": {},
   "outputs": [
    {
     "name": "stdout",
     "output_type": "stream",
     "text": [
      "Total Taxable Amount is : 7800.0 Rs.\n"
     ]
    }
   ],
   "source": [
    "# when argument value is fixed then that is called default parameter\n",
    "\n",
    "def tax(sal,tax_per=10):   # Default Parameter\n",
    "    try:\n",
    "        total_tax=(sal*tax_per)/100\n",
    "        print('Total Taxable Amount is : {} Rs.'.format(total_tax))\n",
    "        \n",
    "    except Exception as e:\n",
    "        print(e)\n",
    "tax(78000)                  # when default is there. then you dont need to pass the argument"
   ]
  },
  {
   "cell_type": "code",
   "execution_count": 86,
   "id": "0cfcf07b-69b6-4b82-9612-54a639fd1727",
   "metadata": {},
   "outputs": [
    {
     "name": "stdout",
     "output_type": "stream",
     "text": [
      "num1: 30\n",
      "num2: 50\n",
      "num3: 70\n",
      "average is:  50.0\n"
     ]
    }
   ],
   "source": [
    "def avg(num1,num2,num3):\n",
    "    print('num1:',num1)\n",
    "    print('num2:',num2)\n",
    "    print('num3:',num3)\n",
    "    add=(num1+num2+num3)\n",
    "    avg=add/3\n",
    "    print('average is: ',avg)\n",
    "\n",
    "avg(30,50,70)"
   ]
  },
  {
   "cell_type": "code",
   "execution_count": 88,
   "id": "34d4b1b8-4142-442a-91a3-36dfad0fd22c",
   "metadata": {},
   "outputs": [
    {
     "name": "stdout",
     "output_type": "stream",
     "text": [
      "num1: 30\n",
      "num2: 50\n",
      "num3: 90\n",
      "average is:  56.666666666666664\n"
     ]
    }
   ],
   "source": [
    "def avg(num1,num2,num3=90):\n",
    "    print('num1:',num1)\n",
    "    print('num2:',num2)\n",
    "    print('num3:',num3)\n",
    "    add=(num1+num2+num3)\n",
    "    avg=add/3\n",
    "    print('average is: ',avg)\n",
    "\n",
    "avg(30,50)"
   ]
  },
  {
   "cell_type": "code",
   "execution_count": 90,
   "id": "f8978f0e-bb67-4909-8ae6-61caaf15b4e7",
   "metadata": {},
   "outputs": [
    {
     "name": "stdout",
     "output_type": "stream",
     "text": [
      "num1: 30\n",
      "num2: 50\n",
      "num3: 100\n",
      "average is:  60.0\n"
     ]
    }
   ],
   "source": [
    "def avg(num1,num2,num3=90):\n",
    "    print('num1:',num1)\n",
    "    print('num2:',num2)\n",
    "    print('num3:',num3)\n",
    "    add=(num1+num2+num3)\n",
    "    avg=add/3\n",
    "    print('average is: ',avg)\n",
    "\n",
    "avg(30,50,100)         #python will take the latest value... remember it"
   ]
  },
  {
   "cell_type": "code",
   "execution_count": 92,
   "id": "9dfc1555-16bb-4ca1-8312-f75bca719546",
   "metadata": {},
   "outputs": [
    {
     "ename": "SyntaxError",
     "evalue": "parameter without a default follows parameter with a default (725200257.py, line 1)",
     "output_type": "error",
     "traceback": [
      "\u001b[1;36m  Cell \u001b[1;32mIn[92], line 1\u001b[1;36m\u001b[0m\n\u001b[1;33m    def avg(num1,num2=80,num3):\u001b[0m\n\u001b[1;37m                         ^\u001b[0m\n\u001b[1;31mSyntaxError\u001b[0m\u001b[1;31m:\u001b[0m parameter without a default follows parameter with a default\n"
     ]
    }
   ],
   "source": [
    "def avg(num1,num2=80,num3):\n",
    "    print('num1:',num1)\n",
    "    print('num2:',num2)\n",
    "    print('num3:',num3)\n",
    "    add=(num1+num2+num3)\n",
    "    avg=add/3\n",
    "    print('average is: ',avg)\n",
    "\n",
    "avg(30,50)"
   ]
  },
  {
   "cell_type": "code",
   "execution_count": 96,
   "id": "89a7882c-a6c6-49f3-975b-229eeabe32f9",
   "metadata": {},
   "outputs": [
    {
     "name": "stdout",
     "output_type": "stream",
     "text": [
      "num1: 30\n",
      "num2: 80\n",
      "num3: 50\n",
      "average is:  53.333333333333336\n"
     ]
    }
   ],
   "source": [
    "def avg(num1,num3,num2=80):        #remember one thing, default parameter must be at the last position.\n",
    "    print('num1:',num1)\n",
    "    print('num2:',num2)\n",
    "    print('num3:',num3)\n",
    "    add=(num1+num2+num3)\n",
    "    avg=add/3\n",
    "    print('average is: ',avg)\n",
    "\n",
    "avg(30,50)"
   ]
  },
  {
   "cell_type": "code",
   "execution_count": null,
   "id": "c9595d09-64f8-46a9-9eed-032a1c3ed6af",
   "metadata": {},
   "outputs": [],
   "source": [
    "num1,num2,num3=300      ========= valid\n",
    "num1,num2=200,num3      ========= not valid\n",
    "num1=100,num2=200,num3  ========= not valid\n",
    "num1=100,num2,num3      ========= not valid\n",
    "num1,num2=200,num3=300  ========= valid"
   ]
  },
  {
   "cell_type": "code",
   "execution_count": 102,
   "id": "65fd48a0-2793-43db-aec4-c5703b96fb07",
   "metadata": {},
   "outputs": [
    {
     "name": "stdout",
     "output_type": "stream",
     "text": [
      "num1: 100\n",
      "num2: 500\n",
      "num3: 300\n",
      "average is:  300.0\n"
     ]
    }
   ],
   "source": [
    "def avg(num1,num2=200,num3=300):        \n",
    "    print('num1:',num1)\n",
    "    print('num2:',num2)\n",
    "    print('num3:',num3)\n",
    "    add=(num1+num2+num3)\n",
    "    avg=add/3\n",
    "    print('average is: ',avg)\n",
    "avg(100,500)"
   ]
  },
  {
   "cell_type": "code",
   "execution_count": 112,
   "id": "e6812650-b10b-47f1-a392-8c9ec4c6eb7c",
   "metadata": {},
   "outputs": [
    {
     "name": "stdout",
     "output_type": "stream",
     "text": [
      "num1: 100\n",
      "num2: 500\n",
      "num3: 800\n",
      "average is:  466.6666666666667\n"
     ]
    }
   ],
   "source": [
    "def avg(num1,num2,num3=50):        \n",
    "    print('num1:',num1)\n",
    "    print('num2:',num2)\n",
    "    #print('num3:',num3)\n",
    "    num3=800\n",
    "    print('num3:',num3)\n",
    "    add=(num1+num2+num3)\n",
    "    avg=add/3\n",
    "    print('average is: ',avg)\n",
    "    \n",
    "avg(100,500,600)\n",
    "\n",
    "# while defining function: num3=50\n",
    "# while you are calling function num3=600\n",
    "# after enter inside the function num3=800       # remember... PYTHON always take latest value of a variable."
   ]
  },
  {
   "cell_type": "markdown",
   "id": "5399a5ec-5067-4aa6-a1a1-92a108ec43ac",
   "metadata": {},
   "source": [
    "- without arguments\n",
    "- with arguments\n",
    "- default arguments"
   ]
  },
  {
   "cell_type": "code",
   "execution_count": 115,
   "id": "8bce11b2-0b5f-49d5-a305-98f0d1475227",
   "metadata": {},
   "outputs": [
    {
     "data": {
      "text/plain": [
       "<bound method Random.randint of <random.Random object at 0x00000254F918B2A0>>"
      ]
     },
     "execution_count": 115,
     "metadata": {},
     "output_type": "execute_result"
    }
   ],
   "source": [
    "import random\n",
    "random.randint()\n",
    "\n",
    "#(<expecting 2 arguments>)"
   ]
  },
  {
   "cell_type": "code",
   "execution_count": null,
   "id": "0c4eeea5-56fa-4ca3-800a-4d8fd3f8f326",
   "metadata": {},
   "outputs": [],
   "source": [
    "# function = method   #function is nothing but a method #run above package without () you'll se === <bound method>"
   ]
  },
  {
   "cell_type": "code",
   "execution_count": 119,
   "id": "dd248c9a-ebe0-42e9-82c7-1015e54bc343",
   "metadata": {},
   "outputs": [
    {
     "data": {
      "text/plain": [
       "0j"
      ]
     },
     "execution_count": 119,
     "metadata": {},
     "output_type": "execute_result"
    }
   ],
   "source": [
    "complex()   #not provide arguments still running : default arguments already there that's why it is running well"
   ]
  },
  {
   "cell_type": "markdown",
   "id": "63a56741-948f-4375-93c5-ef0cca0fcff6",
   "metadata": {},
   "source": [
    "### HomeWork : Practice all the basic question using function with argument without argument and with default parameter."
   ]
  },
  {
   "cell_type": "code",
   "execution_count": 15,
   "id": "faf4055e-b1c7-4a0b-85f7-62059243900c",
   "metadata": {},
   "outputs": [
    {
     "name": "stdin",
     "output_type": "stream",
     "text": [
      "enter a radius of cirle:  10\n"
     ]
    },
    {
     "name": "stdout",
     "output_type": "stream",
     "text": [
      "Area of Circle is :  314.16\n"
     ]
    }
   ],
   "source": [
    "#WAP ask the user to find area of circle\n",
    "# Formulae : pi*radius*radius\n",
    "# import math, math.pi\n",
    "# store it in varibale\n",
    "# basic method\n",
    "# with out arguement\n",
    "# with argument\n",
    "# default argument\n",
    "\n",
    "import math \n",
    "\n",
    "radius=eval(input('enter a radius of cirle: '))\n",
    "pi=math.pi\n",
    "area=round(pi*radius*radius,2)     # the 2 in last means you want two digits after round off\n",
    "print('Area of Circle is : ',area)"
   ]
  },
  {
   "cell_type": "code",
   "execution_count": 17,
   "id": "e5a21fae-ccfb-4dc3-b60a-6abe7fd8e901",
   "metadata": {},
   "outputs": [
    {
     "name": "stdin",
     "output_type": "stream",
     "text": [
      "enter a radius of cirle:  5\n"
     ]
    },
    {
     "name": "stdout",
     "output_type": "stream",
     "text": [
      "Area of Circle is :  78.54\n"
     ]
    }
   ],
   "source": [
    "from math import pi\n",
    "def circle():              #without argument\n",
    "    pi_value=pi\n",
    "    radius=eval(input('enter a radius of cirle: '))\n",
    "    area=round(pi*radius*radius,2)\n",
    "    print('Area of Circle is : ',area)\n",
    "\n",
    "circle()    "
   ]
  },
  {
   "cell_type": "code",
   "execution_count": 19,
   "id": "0115da0c-143c-4e03-afa3-14383233aa9a",
   "metadata": {},
   "outputs": [
    {
     "name": "stdin",
     "output_type": "stream",
     "text": [
      "enter a radius of cirle:  4\n"
     ]
    },
    {
     "name": "stdout",
     "output_type": "stream",
     "text": [
      "Area of Circle is :  50.27\n"
     ]
    }
   ],
   "source": [
    "from math import pi\n",
    "def circle(pi_value,radius):      #with argument\n",
    "    area=round(pi*radius*radius,2)\n",
    "    print('Area of Circle is : ',area)\n",
    "    \n",
    "pi_val=pi\n",
    "circle(pi_val,eval(input('enter a radius of cirle: ')))  "
   ]
  },
  {
   "cell_type": "code",
   "execution_count": 21,
   "id": "27f794f6-235a-4e36-a762-8a9c500d16c9",
   "metadata": {},
   "outputs": [
    {
     "name": "stdout",
     "output_type": "stream",
     "text": [
      "Area of Circle is :  12.57\n"
     ]
    }
   ],
   "source": [
    "from math import pi\n",
    "def circle(pi_value,radius=2):      #default parameter\n",
    "    area=round(pi*radius*radius,2) \n",
    "    print('Area of Circle is : ',area)\n",
    "    \n",
    "pi_val=pi\n",
    "circle(pi_val)"
   ]
  },
  {
   "cell_type": "code",
   "execution_count": null,
   "id": "7fa4a301-5eb2-4b10-8fb6-1f378b10f7dd",
   "metadata": {},
   "outputs": [],
   "source": [
    "from math import pi\n",
    "def circle():              #without argument\n",
    "    pi_value=pi\n",
    "    radius=eval(input('enter a radius of cirle: '))\n",
    "    area11=round(pi*radius*radius,2)\n",
    "    print('Area of Circle is : ',area11)\n",
    "\n",
    "circle()  "
   ]
  },
  {
   "cell_type": "code",
   "execution_count": 27,
   "id": "cda7b2c7-ef3a-4214-98e5-da610444445f",
   "metadata": {},
   "outputs": [
    {
     "data": {
      "text/plain": [
       "314.16"
      ]
     },
     "execution_count": 27,
     "metadata": {},
     "output_type": "execute_result"
    }
   ],
   "source": [
    "area"
   ]
  },
  {
   "cell_type": "code",
   "execution_count": 29,
   "id": "9d16f18f-329f-4b0d-af4e-e712bc59371a",
   "metadata": {},
   "outputs": [
    {
     "ename": "NameError",
     "evalue": "name 'area11' is not defined",
     "output_type": "error",
     "traceback": [
      "\u001b[1;31m---------------------------------------------------------------------------\u001b[0m",
      "\u001b[1;31mNameError\u001b[0m                                 Traceback (most recent call last)",
      "Cell \u001b[1;32mIn[29], line 1\u001b[0m\n\u001b[1;32m----> 1\u001b[0m area11\n",
      "\u001b[1;31mNameError\u001b[0m: name 'area11' is not defined"
     ]
    }
   ],
   "source": [
    "area11\n",
    "\n",
    "# function is calculating area value\n",
    "# not not providing(retrun) that value to you\n",
    "# when you want to use that value outside the function =====> error"
   ]
  },
  {
   "cell_type": "markdown",
   "id": "5af69d74-8cea-4a00-a0e2-6ce3d66397cb",
   "metadata": {},
   "source": [
    "**Return Concept**"
   ]
  },
  {
   "cell_type": "code",
   "execution_count": 34,
   "id": "da348df6-e480-4d45-b260-bdcbd3b97931",
   "metadata": {},
   "outputs": [],
   "source": [
    "from math import pi\n",
    "def circle():              \n",
    "    pi_value=pi\n",
    "    radius=eval(input('enter a radius of cirle: '))\n",
    "    area11=round(pi*radius*radius,2)\n",
    "    print('Area of Circle is : ',area11)\n",
    "    return(area11)\n",
    "    "
   ]
  },
  {
   "cell_type": "code",
   "execution_count": 36,
   "id": "358b7a28-14ce-4b29-9479-6f3da1f38a4b",
   "metadata": {},
   "outputs": [
    {
     "name": "stdin",
     "output_type": "stream",
     "text": [
      "enter a radius of cirle:  2\n"
     ]
    },
    {
     "name": "stdout",
     "output_type": "stream",
     "text": [
      "Area of Circle is :  12.57\n"
     ]
    }
   ],
   "source": [
    "Area=circle()"
   ]
  },
  {
   "cell_type": "code",
   "execution_count": 38,
   "id": "3e58132c-18fb-40e5-b951-246ee81501bd",
   "metadata": {},
   "outputs": [
    {
     "data": {
      "text/plain": [
       "12.57"
      ]
     },
     "execution_count": 38,
     "metadata": {},
     "output_type": "execute_result"
    }
   ],
   "source": [
    "Area"
   ]
  },
  {
   "cell_type": "code",
   "execution_count": 40,
   "id": "24f0e29d-6280-486d-9d9b-0e5d6c1bb3c3",
   "metadata": {},
   "outputs": [],
   "source": [
    "from math import pi\n",
    "def area_of_circle():              \n",
    "    pii=pi\n",
    "    radius=eval(input('enter a radius of cirle: '))\n",
    "    area11=round(pii*radius*radius,2)\n",
    "    print('Area of Circle is : ',area11)\n",
    "    return(area11,pii)\n",
    " "
   ]
  },
  {
   "cell_type": "code",
   "execution_count": 42,
   "id": "efd73888-2635-44f1-b5cf-45c05c0bf189",
   "metadata": {},
   "outputs": [
    {
     "name": "stdin",
     "output_type": "stream",
     "text": [
      "enter a radius of cirle:  3\n"
     ]
    },
    {
     "name": "stdout",
     "output_type": "stream",
     "text": [
      "Area of Circle is :  28.27\n"
     ]
    }
   ],
   "source": [
    "Area,Pi=area_of_circle()\n",
    "\n",
    "# area_of_cirlce() will return two values\n",
    "# area11,pii\n",
    "# area11 will store in a variable : Area\n",
    "# pii will store in a variable : Pi"
   ]
  },
  {
   "cell_type": "code",
   "execution_count": 44,
   "id": "0e0e4557-afcd-4c36-a1db-b52f898137b1",
   "metadata": {},
   "outputs": [
    {
     "data": {
      "text/plain": [
       "28.27"
      ]
     },
     "execution_count": 44,
     "metadata": {},
     "output_type": "execute_result"
    }
   ],
   "source": [
    "Area"
   ]
  },
  {
   "cell_type": "code",
   "execution_count": 46,
   "id": "fcaa71a8-d582-4324-978f-fd4d86875469",
   "metadata": {},
   "outputs": [
    {
     "data": {
      "text/plain": [
       "3.141592653589793"
      ]
     },
     "execution_count": 46,
     "metadata": {},
     "output_type": "execute_result"
    }
   ],
   "source": [
    "Pi"
   ]
  },
  {
   "cell_type": "code",
   "execution_count": 48,
   "id": "9c560cea-a6ec-4820-9135-9eb497853b7c",
   "metadata": {},
   "outputs": [
    {
     "name": "stdin",
     "output_type": "stream",
     "text": [
      "enter a radius of cirle:  6\n"
     ]
    },
    {
     "name": "stdout",
     "output_type": "stream",
     "text": [
      "Area of Circle is :  113.1\n",
      "113.1\n",
      "3.141592653589793\n"
     ]
    }
   ],
   "source": [
    "from math import pi\n",
    "def area_of_circle():              \n",
    "    pii=pi\n",
    "    radius=eval(input('enter a radius of cirle: '))\n",
    "    area11=round(pii*radius*radius,2)\n",
    "    print('Area of Circle is : ',area11)\n",
    "    return(area11,pii)\n",
    "\n",
    "Area,Pi=area_of_circle()\n",
    "print(Area)\n",
    "print(Pi)"
   ]
  },
  {
   "cell_type": "code",
   "execution_count": 54,
   "id": "3f8ba990-db6e-465c-9455-a9755b766dbe",
   "metadata": {},
   "outputs": [
    {
     "name": "stdin",
     "output_type": "stream",
     "text": [
      "enter a number1:  12\n",
      "enter a number2:  13\n",
      "enter a number3:  14\n"
     ]
    },
    {
     "name": "stdout",
     "output_type": "stream",
     "text": [
      "Average is:  13.0\n",
      "Sum is:  39\n"
     ]
    }
   ],
   "source": [
    "# wap ask the user enter 3 number\n",
    "# find the sum and average\n",
    "# Return the average value and sum, both\n",
    "\n",
    "def sum_avg():\n",
    "    num1=eval(input('enter a number1: '))\n",
    "    num2=eval(input('enter a number2: '))\n",
    "    num3=eval(input('enter a number3: '))\n",
    "    summ=num1+num2+num3\n",
    "    avg=summ/3\n",
    "    return(avg,summ)\n",
    "    \n",
    "average,addition=sum_avg()\n",
    "print('Average is: ',average)\n",
    "print('Sum is: ',addition)"
   ]
  },
  {
   "cell_type": "code",
   "execution_count": 58,
   "id": "439854b8-403c-45df-8d09-23ae29ec68c9",
   "metadata": {},
   "outputs": [
    {
     "name": "stdout",
     "output_type": "stream",
     "text": [
      "sum: 70\n",
      "avg: 23.333333333333332\n",
      "addition is: 70 average is: 23.333333333333332\n"
     ]
    }
   ],
   "source": [
    "def sum_avg(n1,n2,n3):\n",
    "    summ=n1+n2+n3\n",
    "    avg=summ/3\n",
    "    print('sum:',summ)\n",
    "    print('avg:',avg)\n",
    "    return(avg,summ)\n",
    "\n",
    "average,addition=sum_avg(20,10,40)\n",
    "\n",
    "# sum_avg(20,10,40) is returning two values\n",
    "# summ and avg\n",
    "# summ we are saving in a variable: addition\n",
    "# avg we are saving in a variable: average\n",
    "print('addition is:',addition,'average is:',average)"
   ]
  },
  {
   "cell_type": "code",
   "execution_count": 62,
   "id": "e6811be6-39be-44cf-a49e-8f819806f45e",
   "metadata": {},
   "outputs": [
    {
     "name": "stdin",
     "output_type": "stream",
     "text": [
      "enter number1:  10\n",
      "enter number2:  11\n",
      "enter number3:  12\n"
     ]
    },
    {
     "name": "stdout",
     "output_type": "stream",
     "text": [
      "Number 3 is Greater\n"
     ]
    }
   ],
   "source": [
    "# find the biggest number of 3 numbers\n",
    "# take three numbers\n",
    "# and find the biggest number\n",
    "# and return that number\n",
    "\n",
    "# if num1>num2 and num1>3:  greater is num1\n",
    "# elif num2>num3:  greater is num2\n",
    "# else :      greater is num3\n",
    "\n",
    "# first wrtie the normal code\n",
    "# then create the function\n",
    "# return the value\n",
    "\n",
    "num1=eval(input('enter number1: '))\n",
    "num2=eval(input('enter number2: '))\n",
    "num3=eval(input('enter number3: '))\n",
    "\n",
    "if num1>num2 and num1>3:\n",
    "    print('Number 1 is Greater')\n",
    "elif num2>num3:\n",
    "    print('Number 2 is Greater')\n",
    "else:\n",
    "    print('Number 3 is Greater')\n"
   ]
  },
  {
   "cell_type": "code",
   "execution_count": 70,
   "id": "a69b2323-aa76-425a-ba02-479f22af9e79",
   "metadata": {},
   "outputs": [
    {
     "name": "stdin",
     "output_type": "stream",
     "text": [
      "enter number1:  10\n",
      "enter number2:  5\n",
      "enter number3:  1\n"
     ]
    },
    {
     "name": "stdout",
     "output_type": "stream",
     "text": [
      "10 is Greater\n"
     ]
    }
   ],
   "source": [
    "def big_num():\n",
    "    try:\n",
    "        num1=eval(input('enter number1: '))\n",
    "        num2=eval(input('enter number2: '))\n",
    "        num3=eval(input('enter number3: '))\n",
    "        \n",
    "        if num1>num2 and num1>3:\n",
    "            print('{} is Greater'.format(num1))\n",
    "            return(num1)   #this will return only num1 value if condtion gets satisfied \n",
    "            \n",
    "        elif num2>num3:\n",
    "            print('{} is Greater'.format(num2))\n",
    "            return(num2)   #this will return only num2 value if condtion gets satisfied \n",
    "            \n",
    "        else:\n",
    "            print('{} is Greater'.format(num3))\n",
    "            return(num3)   #this will return only num3 value if condtion gets satisfied    \n",
    "            \n",
    "        #return(num1,num2,num3) :=====> this will return all the values    \n",
    "    except Exception as e:\n",
    "        print(e)\n",
    "        \n",
    "biggest=big_num()"
   ]
  },
  {
   "cell_type": "code",
   "execution_count": 72,
   "id": "a2a33a8e-52d2-4f6f-b331-0c0b820ecaa8",
   "metadata": {},
   "outputs": [
    {
     "name": "stdout",
     "output_type": "stream",
     "text": [
      "100 is Greater\n",
      "100\n"
     ]
    }
   ],
   "source": [
    "def greater(n1,n2,n3):\n",
    "    if n1>n2 and n1>3:\n",
    "        print('{} is Greater'.format(n1))\n",
    "        return(n1)\n",
    "    elif n2>3:\n",
    "        print('{} is Greater'.format(n2))\n",
    "        return(n2)\n",
    "    else:\n",
    "        print('{} is Greater'.format(n3))\n",
    "        return(n3)\n",
    "\n",
    "GREATER=greater(50,100,150)\n",
    "\n",
    "# it is returning only values\n",
    "# whenever condition satisfies\n",
    "print(GREATER)"
   ]
  },
  {
   "cell_type": "code",
   "execution_count": null,
   "id": "72156d17-237b-4741-9aa8-2f5b55e37e33",
   "metadata": {},
   "outputs": [],
   "source": [
    "def sum_avg(n1,n2,n3):\n",
    "    return(n1+n2+n3,(n1+n2+n3)/3)\n",
    "\n",
    "average,addition=sum_avg(20,10,40)\n"
   ]
  },
  {
   "cell_type": "code",
   "execution_count": 74,
   "id": "04a1e8ff-ebe0-4bae-aaaf-316a9c4a2ad0",
   "metadata": {},
   "outputs": [
    {
     "name": "stdout",
     "output_type": "stream",
     "text": [
      "60 800 -20 0.5\n"
     ]
    }
   ],
   "source": [
    "def add(a,b):\n",
    "    return(a+b)\n",
    "    \n",
    "def mul(a,b):\n",
    "    return(a*b)\n",
    "    \n",
    "def sub(a,b):\n",
    "    return(a-b)\n",
    "    \n",
    "def div(a,b):\n",
    "    return(a/b)\n",
    "\n",
    "val=add(20,40)\n",
    "val1=mul(20,40)\n",
    "val2=sub(20,40)\n",
    "val3=div(20,40)\n",
    "\n",
    "print(val,val1,val2,val3)"
   ]
  },
  {
   "cell_type": "code",
   "execution_count": 76,
   "id": "879d9f1a-b082-4a81-bfab-df998d3d6da0",
   "metadata": {},
   "outputs": [
    {
     "name": "stdout",
     "output_type": "stream",
     "text": [
      "40 20 300 3.0\n"
     ]
    }
   ],
   "source": [
    "def aggregation(a,b):\n",
    "    return(a+b,a-b,a*b,a/b)\n",
    "\n",
    "add,sub,mul,div=aggregation(30,10)\n",
    "print(add,sub,mul,round(div,2))"
   ]
  },
  {
   "cell_type": "markdown",
   "id": "4d7c9969-22a6-4f52-a215-db84b892742a",
   "metadata": {},
   "source": [
    "- with out arguments\n",
    "- with arguments\n",
    "- Default arguments\n",
    "- Retrun statements"
   ]
  },
  {
   "cell_type": "markdown",
   "id": "13c4d6d9-0c30-428a-a4a7-42b2b6ff63bb",
   "metadata": {},
   "source": [
    "**Local Variables**"
   ]
  },
  {
   "cell_type": "code",
   "execution_count": null,
   "id": "2a8c95a7-00af-477f-ac09-cb8033c405c2",
   "metadata": {},
   "outputs": [],
   "source": [
    "# this is a local variables example\n",
    "def addition():\n",
    "    n1=10      # local variables provided inside the function\n",
    "    n2=20      # local variables provided inside the function\n",
    "    add=n1+n2\n",
    "    print('the addition of {} and {} is {}'.format(n1,n2,add))"
   ]
  },
  {
   "cell_type": "code",
   "execution_count": null,
   "id": "1217918c-f445-4053-a93b-87615a18869e",
   "metadata": {},
   "outputs": [],
   "source": [
    "**local variables:**\n",
    "\n",
    "    - The variables provided inside the function\n",
    "\n",
    "**global variables:**\n",
    "\n",
    "    - The variables provided outside the function"
   ]
  },
  {
   "cell_type": "code",
   "execution_count": null,
   "id": "3ce25869-3e0f-4475-a581-2a9cf440bd95",
   "metadata": {},
   "outputs": [],
   "source": [
    "# this is a global variables example\n",
    "n1=10\n",
    "n2=20\n",
    "def addition():   # No need to mention/provide inside brackets also\n",
    "    # No need to mention/provide inside\n",
    "    add=n1+n2\n",
    "    print('the addition of {} and {} is {}'.format(n1,n2,add))"
   ]
  },
  {
   "cell_type": "code",
   "execution_count": 87,
   "id": "452df67a-14ac-495a-ba66-742b1e733448",
   "metadata": {},
   "outputs": [
    {
     "name": "stdout",
     "output_type": "stream",
     "text": [
      "average is:  37.0\n"
     ]
    }
   ],
   "source": [
    "def avg():\n",
    "    num11=70 #local variables\n",
    "    num22=80 #local variables\n",
    "    num3=90 #local variables\n",
    "    avg=(num1+num2+num3)/3\n",
    "    print('average is: ',avg)\n",
    "    return(num11,num22)\n",
    "val1,val2=avg()"
   ]
  },
  {
   "cell_type": "code",
   "execution_count": 89,
   "id": "f0cf73c4-7c96-44ad-a463-5b34187d4003",
   "metadata": {},
   "outputs": [
    {
     "data": {
      "text/plain": [
       "80"
      ]
     },
     "execution_count": 89,
     "metadata": {},
     "output_type": "execute_result"
    }
   ],
   "source": [
    "val2"
   ]
  },
  {
   "cell_type": "markdown",
   "id": "25b59bfc-4774-4f6b-aa60-53df976d439b",
   "metadata": {},
   "source": [
    "- local variables are inside the function\n",
    "- local variables values can not use outside the function\n",
    "- untill unless you return those values"
   ]
  },
  {
   "cell_type": "code",
   "execution_count": 94,
   "id": "b713c904-e0bc-4117-9ed3-2384cc25a6e2",
   "metadata": {},
   "outputs": [
    {
     "name": "stdout",
     "output_type": "stream",
     "text": [
      "average is:  80.0\n"
     ]
    }
   ],
   "source": [
    "num111=70 #global variables\n",
    "num222=80 #global variables\n",
    "num333=90 #global variables\n",
    "def avg():\n",
    "    avg=(num111+num222+num333)/3\n",
    "    print('average is: ',avg)\n",
    "avg()\n",
    "\n",
    "# anyone can use global variables"
   ]
  },
  {
   "cell_type": "code",
   "execution_count": 96,
   "id": "bed8a478-e820-40a8-a1f4-703d9eb71140",
   "metadata": {},
   "outputs": [
    {
     "data": {
      "text/plain": [
       "70"
      ]
     },
     "execution_count": 96,
     "metadata": {},
     "output_type": "execute_result"
    }
   ],
   "source": [
    "num111"
   ]
  },
  {
   "cell_type": "code",
   "execution_count": 98,
   "id": "b91d7d10-022f-47c7-ad2f-120487b51b9c",
   "metadata": {},
   "outputs": [
    {
     "name": "stdout",
     "output_type": "stream",
     "text": [
      "the addition of 500 and 300 is 800\n",
      "20\n"
     ]
    }
   ],
   "source": [
    "n1=20\n",
    "n2=30\n",
    "def addition(n1):\n",
    "    n2=300      \n",
    "    add=n1+n2\n",
    "    print('the addition of {} and {} is {}'.format(n1,n2,add))\n",
    "\n",
    "addition(500)  #800\n",
    "\n",
    "print(n1)  # 20"
   ]
  },
  {
   "cell_type": "code",
   "execution_count": 100,
   "id": "86bab7a2-92e7-416b-8753-a2d803aa16e1",
   "metadata": {},
   "outputs": [
    {
     "name": "stdout",
     "output_type": "stream",
     "text": [
      "the addition of 500 and 300 is 800\n",
      "20\n"
     ]
    }
   ],
   "source": [
    "n1=20\n",
    "n2=30\n",
    "def addition(n1=700):\n",
    "    n2=300      \n",
    "    add=n1+n2\n",
    "    print('the addition of {} and {} is {}'.format(n1,n2,add))\n",
    "\n",
    "addition(500)\n",
    "\n",
    "print(n1)\n",
    "\n",
    "#step-1: n1=20\n",
    "#step-2: n2=30\n",
    "#step-3: function defined n1:700\n",
    "#step-4: calling the function: n1=500 ===>\n",
    "#step-5:               n2=300\n",
    "#step-6:               800\n",
    "#step-7: n1=20"
   ]
  },
  {
   "cell_type": "markdown",
   "id": "55cc5a5c-54d1-49d1-98fb-3b1ab4ed7382",
   "metadata": {},
   "source": [
    "**Concept of global and local variables only comes when you create the function**"
   ]
  },
  {
   "cell_type": "code",
   "execution_count": null,
   "id": "96f73871-e5d8-458b-81b0-f0e1c7e14033",
   "metadata": {},
   "outputs": [],
   "source": [
    "# we can not use local variable values outside the function\n",
    "# untill unless without return statement\n",
    "# i want to use local variable outside the function, with out function return statement"
   ]
  },
  {
   "cell_type": "markdown",
   "id": "81bcdaf1-2107-449b-bdcc-5cdf0245f223",
   "metadata": {},
   "source": [
    "**IMP INTERVIEW Question**\n",
    "- i want to use local variable outside the function, with out function return statement"
   ]
  },
  {
   "cell_type": "code",
   "execution_count": 108,
   "id": "d81794b2-39fc-471f-820c-962b6e15d8e0",
   "metadata": {},
   "outputs": [
    {
     "name": "stdout",
     "output_type": "stream",
     "text": [
      "120\n",
      "10\n"
     ]
    }
   ],
   "source": [
    "n_=10\n",
    "def updated():     \n",
    "    n_=20\n",
    "    n_=n_+100\n",
    "    print(n_)\n",
    "\n",
    "updated()     #120\n",
    "print(n_) #10\n",
    "\n",
    "# with out return n1, we need to get the updated value\n",
    "# we need to use local variable outside the function, with out return"
   ]
  },
  {
   "cell_type": "code",
   "execution_count": 104,
   "id": "79a0af9b-9f32-4778-ab16-acb7ca36ea21",
   "metadata": {},
   "outputs": [
    {
     "name": "stdout",
     "output_type": "stream",
     "text": [
      "10\n",
      "10\n",
      "20\n"
     ]
    }
   ],
   "source": [
    "def value():\n",
    "    global number1,number2           # local variables can be use as global variables by using global keyword.\n",
    "    number1=10\n",
    "    number2=20\n",
    "    print(number1)\n",
    "\n",
    "value()\n",
    "print(number1)\n",
    "print(number2)"
   ]
  },
  {
   "cell_type": "code",
   "execution_count": 112,
   "id": "86257c41-90a1-439e-9d85-bc445c6aa073",
   "metadata": {},
   "outputs": [
    {
     "name": "stdout",
     "output_type": "stream",
     "text": [
      "120\n",
      "120\n"
     ]
    }
   ],
   "source": [
    "n_=10\n",
    "def updated(): \n",
    "    global n_\n",
    "    n_=20\n",
    "    n_=n_+100\n",
    "    print(n_)\n",
    "\n",
    "updated()     #120\n",
    "print(n_)  #120"
   ]
  },
  {
   "cell_type": "code",
   "execution_count": 118,
   "id": "3d2c5fb6-0666-4ff3-b67d-ba9d41351bdc",
   "metadata": {},
   "outputs": [
    {
     "name": "stdout",
     "output_type": "stream",
     "text": [
      "the addition of 500 and 300 is 800\n",
      "300\n",
      "800\n"
     ]
    }
   ],
   "source": [
    "# i need to get n2 value should be 300, instead of 30\n",
    "# i need to add value\n",
    "n1=20\n",
    "n2=30\n",
    "def addition(n1):\n",
    "    global n2,add\n",
    "    n2=300      \n",
    "    add=n1+n2\n",
    "    print('the addition of {} and {} is {}'.format(n1,n2,add))\n",
    "\n",
    "addition(500)\n",
    "print(n2)  #300\n",
    "print(add)"
   ]
  },
  {
   "cell_type": "markdown",
   "id": "650f9392-46d0-4e0d-a402-9ea8e00c31fa",
   "metadata": {},
   "source": [
    "### Function in function"
   ]
  },
  {
   "cell_type": "code",
   "execution_count": 121,
   "id": "0722185f-528d-45d7-8734-8312da4f3f94",
   "metadata": {},
   "outputs": [
    {
     "name": "stdout",
     "output_type": "stream",
     "text": [
      "hello\n",
      "python\n"
     ]
    }
   ],
   "source": [
    "def greet():\n",
    "    print(\"hello\")\n",
    "\n",
    "def name():\n",
    "    print(\"python\")\n",
    "    print('how do you do')\n",
    "\n",
    "greet()\n",
    "name()"
   ]
  },
  {
   "cell_type": "code",
   "execution_count": 123,
   "id": "ce7b58d4-ac39-4f45-a99a-8b2f602a6bd2",
   "metadata": {},
   "outputs": [
    {
     "name": "stdout",
     "output_type": "stream",
     "text": [
      "python\n",
      "hello\n"
     ]
    }
   ],
   "source": [
    "def greet():\n",
    "    print(\"hello\")\n",
    "\n",
    "def name():\n",
    "    print(\"python\")\n",
    "    greet()\n",
    "\n",
    "name()\n",
    "\n",
    "#step-1: define greet()\n",
    "#step-2: define name()\n",
    "#step-3: calling name()\n",
    "#step-4: python\n",
    "#step-5: calling greet()\n",
    "#step-6: hello"
   ]
  },
  {
   "cell_type": "code",
   "execution_count": 125,
   "id": "e0626f17-7a23-41fb-b3cd-77e106e6dec4",
   "metadata": {},
   "outputs": [
    {
     "name": "stdout",
     "output_type": "stream",
     "text": [
      "hello\n",
      "python\n"
     ]
    }
   ],
   "source": [
    "def greet():\n",
    "    print(\"hello\")\n",
    "    name()\n",
    "def name():\n",
    "    print(\"python\")\n",
    "   \n",
    "greet()"
   ]
  },
  {
   "cell_type": "code",
   "execution_count": 1,
   "id": "4427a337-1c3a-4d31-9e8e-43f93e68c9af",
   "metadata": {},
   "outputs": [
    {
     "name": "stdout",
     "output_type": "stream",
     "text": [
      "--------\n"
     ]
    }
   ],
   "source": [
    "def greet():\n",
    "    print(\"hello\")\n",
    "    name()\n",
    "\n",
    "def name():\n",
    "    print(\"python\")\n",
    "    greet()\n",
    "\n",
    "#greet()  #infinite loop\n",
    "print('--------')\n",
    "#name()   #name() this will not get execute"
   ]
  },
  {
   "cell_type": "code",
   "execution_count": null,
   "id": "41c743b5-d91b-4402-84b8-a65add425a55",
   "metadata": {},
   "outputs": [],
   "source": [
    "#########################################################\n",
    "def greet():\n",
    "    print(\"hello\")\n",
    "\n",
    "def name():\n",
    "    print(\"python\")\n",
    "    print('how do you do')\n",
    "\n",
    "greet()\n",
    "name()\n",
    "\n",
    "#########################################################\n",
    "def greet():\n",
    "    print(\"hello\")\n",
    "\n",
    "def name():\n",
    "    print(\"python\")\n",
    "    greet()\n",
    "\n",
    "name()\n",
    "\n",
    "#########################################################\n",
    "def greet():\n",
    "    print(\"hello\")\n",
    "    name()\n",
    "def name():\n",
    "    print(\"python\")\n",
    "   \n",
    "greet()\n",
    "\n",
    "#########################################################\n",
    "def greet():\n",
    "    print(\"hello\")\n",
    "    name()\n",
    "\n",
    "def name():\n",
    "    print(\"python\")\n",
    "    greet()\n",
    "\n",
    "greet()  #infinite loop\n",
    "print('--------')\n",
    "name()   #name() this will not get execute\n",
    "#########################################################\n"
   ]
  },
  {
   "cell_type": "code",
   "execution_count": 129,
   "id": "510cc6ec-5a83-4f65-86f1-833d54ee6092",
   "metadata": {},
   "outputs": [
    {
     "name": "stdout",
     "output_type": "stream",
     "text": [
      "3\n",
      "10+10\n",
      "20\n",
      "hello\n",
      "python\n",
      "3+5\n",
      "8\n",
      "hello\n",
      "python\n",
      "good\n"
     ]
    }
   ],
   "source": [
    "print(3)\n",
    "\n",
    "def fun1():\n",
    "    print('hello')\n",
    "    print('python')\n",
    "\n",
    "print('10+10')\n",
    "def fun2():\n",
    "    print('3+5')\n",
    "    print(3+5)\n",
    "    fun1()\n",
    "    print('good')\n",
    "\n",
    "print(10+10)\n",
    "def fun3():\n",
    "    fun1()\n",
    "    fun2()\n",
    "\n",
    "fun3()\n",
    "\n",
    "#3\n",
    "#'10+10'\n",
    "#20\n",
    "#'hello'\n",
    "#'python'\n",
    "#'3+5'\n",
    "#8\n",
    "#'hello'\n",
    "#'python'\n",
    "#'good'"
   ]
  },
  {
   "cell_type": "markdown",
   "id": "70ea1509-25a8-4a5c-b267-4a05f9392a09",
   "metadata": {},
   "source": [
    "**Remember** \n",
    "-whatever you want to write, write it. but dont execute that, first take a pen and paper and try to solve it.\n",
    "by using your mind.\n",
    "- and then execute that and validate the answer. and think your mind is thinking like compiler or not ?\n",
    "- if it is thinking then you're good."
   ]
  },
  {
   "cell_type": "code",
   "execution_count": 148,
   "id": "469879b8-dea2-4c36-9bc6-4e79b156aabc",
   "metadata": {},
   "outputs": [
    {
     "name": "stdout",
     "output_type": "stream",
     "text": [
      "if you enter 1 : addition operation will come\n",
      "if you enter 2 : multiplication operation will come\n",
      "if you enter 3 : subtraction operation will come\n",
      "if you enter 4 : division operation will come\n"
     ]
    },
    {
     "name": "stdin",
     "output_type": "stream",
     "text": [
      "enter a number:  5\n",
      "enter a number1:  10\n",
      "enter a number2:  10\n"
     ]
    },
    {
     "name": "stdout",
     "output_type": "stream",
     "text": [
      "invalid input\n"
     ]
    }
   ],
   "source": [
    "def add(a,b):\n",
    "    print(a+b)\n",
    "\n",
    "def mul(a,b):\n",
    "    print(a*b)\n",
    "\n",
    "def sub(a,b):\n",
    "    print(a-b)\n",
    "\n",
    "def div(a,b):\n",
    "    print(a/b)\n",
    "\n",
    "def main():\n",
    "    print('if you enter 1 : addition operation will come')\n",
    "    print('if you enter 2 : multiplication operation will come')\n",
    "    print('if you enter 3 : subtraction operation will come')\n",
    "    print('if you enter 4 : division operation will come')\n",
    "    operation=input('enter a number: ')\n",
    "    a=eval(input('enter a number1: '))\n",
    "    b=eval(input('enter a number2: '))\n",
    "\n",
    "    if operation=='1':\n",
    "        add(a,b)\n",
    "    elif operation=='2':\n",
    "        mul(a,b)\n",
    "    elif operation=='3':\n",
    "        sub(a,b)\n",
    "    elif operation=='4':\n",
    "        div(a,b)\n",
    "    else:\n",
    "        print('invalid input')\n",
    "\n",
    "main()"
   ]
  },
  {
   "cell_type": "code",
   "execution_count": null,
   "id": "fdaf7b62-c25e-4c9b-8f74-4a323eda25be",
   "metadata": {},
   "outputs": [],
   "source": []
  },
  {
   "cell_type": "code",
   "execution_count": null,
   "id": "1beae1d7-85d4-4cfb-a8bd-55f2015d4466",
   "metadata": {},
   "outputs": [],
   "source": []
  },
  {
   "cell_type": "code",
   "execution_count": null,
   "id": "4f716e53-a8d6-45c8-ac3a-483d043a25f6",
   "metadata": {},
   "outputs": [],
   "source": []
  },
  {
   "cell_type": "code",
   "execution_count": null,
   "id": "64a4cc5b-9026-4f3c-88c4-98e072a7d647",
   "metadata": {},
   "outputs": [],
   "source": []
  },
  {
   "cell_type": "code",
   "execution_count": null,
   "id": "64f0bc1a-3f6f-4e66-86f5-a0738caaf76d",
   "metadata": {},
   "outputs": [],
   "source": []
  },
  {
   "cell_type": "code",
   "execution_count": null,
   "id": "bd93b429-0f41-4f70-a1f1-b86516bbb4d7",
   "metadata": {},
   "outputs": [],
   "source": []
  }
 ],
 "metadata": {
  "kernelspec": {
   "display_name": "Python 3 (ipykernel)",
   "language": "python",
   "name": "python3"
  },
  "language_info": {
   "codemirror_mode": {
    "name": "ipython",
    "version": 3
   },
   "file_extension": ".py",
   "mimetype": "text/x-python",
   "name": "python",
   "nbconvert_exporter": "python",
   "pygments_lexer": "ipython3",
   "version": "3.12.4"
  }
 },
 "nbformat": 4,
 "nbformat_minor": 5
}
